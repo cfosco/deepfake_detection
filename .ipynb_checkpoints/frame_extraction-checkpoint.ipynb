{
 "cells": [
  {
   "cell_type": "markdown",
   "metadata": {},
   "source": [
    "# Notebook to parallelize frame extraction"
   ]
  },
  {
   "cell_type": "code",
   "execution_count": 2,
   "metadata": {},
   "outputs": [],
   "source": [
    "import os\n",
    "import sys\n",
    "import functools\n",
    "from multiprocessing import Pool\n",
    "import ffmpeg\n"
   ]
  },
  {
   "cell_type": "code",
   "execution_count": 8,
   "metadata": {},
   "outputs": [],
   "source": [
    "def videos_to_frames(video_root, frame_root, num_threads=100):\n",
    "    \"\"\"videos_to_frames.\"\"\"\n",
    "\n",
    "    videos = []\n",
    "    for r, d, f in os.walk(video_root):\n",
    "        for file in f:\n",
    "            if '.mp4' in file:\n",
    "                videos.append(os.path.join(r, file))\n",
    "#     print(videos)\n",
    "    \n",
    "    func = functools.partial(extract_frames, video_root=video_root, frame_root=frame_root)\n",
    "    pool = Pool(num_threads)\n",
    "    pool.map(func, videos)\n",
    "    \n",
    "    \n",
    "def extract_frames(video, video_root='', frame_root='', tmpl='%05d.jpg', fps=30):\n",
    "    name = os.path.basename(video)\n",
    "    in_filename = video\n",
    "    out_filename = os.path.join(frame_root, name, tmpl)\n",
    "    \n",
    "#     print(name,'\\n',in_filename,'\\n',out_filename)\n",
    "    os.makedirs(os.path.dirname(out_filename), exist_ok=True)\n",
    "    (\n",
    "        ffmpeg\n",
    "        .input(in_filename)\n",
    "        .filter('fps', fps=fps, round='up')\n",
    "        .output(out_filename)\n",
    "        .run()\n",
    "    )"
   ]
  },
  {
   "cell_type": "code",
   "execution_count": 9,
   "metadata": {},
   "outputs": [],
   "source": [
    "video_root = 'fb_dfd_release_0.1_final/method_A'\n",
    "frame_root = 'fb_dfd_release_0.1_final/method_A_frames2'\n",
    "\n",
    "videos_to_frames(video_root, frame_root)"
   ]
  }
 ],
 "metadata": {
  "kernelspec": {
   "display_name": "tf-python3",
   "language": "python",
   "name": "tf-python3"
  },
  "language_info": {
   "codemirror_mode": {
    "name": "ipython",
    "version": 3
   },
   "file_extension": ".py",
   "mimetype": "text/x-python",
   "name": "python",
   "nbconvert_exporter": "python",
   "pygments_lexer": "ipython3",
   "version": "3.5.2"
  }
 },
 "nbformat": 4,
 "nbformat_minor": 2
}
