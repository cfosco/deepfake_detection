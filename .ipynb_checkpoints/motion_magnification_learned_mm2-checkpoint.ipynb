{
 "cells": [
  {
   "cell_type": "markdown",
   "metadata": {},
   "source": [
    "# Notebook to motion magnify sets of videos\n",
    "\n",
    "Uses learned motion mag: https://people.csail.mit.edu/tiam/deepmag/deepmag.pdf"
   ]
  },
  {
   "cell_type": "code",
   "execution_count": 1,
   "metadata": {},
   "outputs": [
    {
     "name": "stderr",
     "output_type": "stream",
     "text": [
      "/afs/csail.mit.edu/u/c/cfosco/.local/lib/python3.5/site-packages/tensorflow/python/framework/dtypes.py:516: FutureWarning: Passing (type, 1) or '1type' as a synonym of type is deprecated; in a future version of numpy, it will be understood as (type, (1,)) / '(1,)type'.\n",
      "  _np_qint8 = np.dtype([(\"qint8\", np.int8, 1)])\n",
      "/afs/csail.mit.edu/u/c/cfosco/.local/lib/python3.5/site-packages/tensorflow/python/framework/dtypes.py:517: FutureWarning: Passing (type, 1) or '1type' as a synonym of type is deprecated; in a future version of numpy, it will be understood as (type, (1,)) / '(1,)type'.\n",
      "  _np_quint8 = np.dtype([(\"quint8\", np.uint8, 1)])\n",
      "/afs/csail.mit.edu/u/c/cfosco/.local/lib/python3.5/site-packages/tensorflow/python/framework/dtypes.py:518: FutureWarning: Passing (type, 1) or '1type' as a synonym of type is deprecated; in a future version of numpy, it will be understood as (type, (1,)) / '(1,)type'.\n",
      "  _np_qint16 = np.dtype([(\"qint16\", np.int16, 1)])\n",
      "/afs/csail.mit.edu/u/c/cfosco/.local/lib/python3.5/site-packages/tensorflow/python/framework/dtypes.py:519: FutureWarning: Passing (type, 1) or '1type' as a synonym of type is deprecated; in a future version of numpy, it will be understood as (type, (1,)) / '(1,)type'.\n",
      "  _np_quint16 = np.dtype([(\"quint16\", np.uint16, 1)])\n",
      "/afs/csail.mit.edu/u/c/cfosco/.local/lib/python3.5/site-packages/tensorflow/python/framework/dtypes.py:520: FutureWarning: Passing (type, 1) or '1type' as a synonym of type is deprecated; in a future version of numpy, it will be understood as (type, (1,)) / '(1,)type'.\n",
      "  _np_qint32 = np.dtype([(\"qint32\", np.int32, 1)])\n",
      "/afs/csail.mit.edu/u/c/cfosco/.local/lib/python3.5/site-packages/tensorflow/python/framework/dtypes.py:525: FutureWarning: Passing (type, 1) or '1type' as a synonym of type is deprecated; in a future version of numpy, it will be understood as (type, (1,)) / '(1,)type'.\n",
      "  np_resource = np.dtype([(\"resource\", np.ubyte, 1)])\n",
      "/afs/csail.mit.edu/u/c/cfosco/.local/lib/python3.5/site-packages/tensorboard/compat/tensorflow_stub/dtypes.py:541: FutureWarning: Passing (type, 1) or '1type' as a synonym of type is deprecated; in a future version of numpy, it will be understood as (type, (1,)) / '(1,)type'.\n",
      "  _np_qint8 = np.dtype([(\"qint8\", np.int8, 1)])\n",
      "/afs/csail.mit.edu/u/c/cfosco/.local/lib/python3.5/site-packages/tensorboard/compat/tensorflow_stub/dtypes.py:542: FutureWarning: Passing (type, 1) or '1type' as a synonym of type is deprecated; in a future version of numpy, it will be understood as (type, (1,)) / '(1,)type'.\n",
      "  _np_quint8 = np.dtype([(\"quint8\", np.uint8, 1)])\n",
      "/afs/csail.mit.edu/u/c/cfosco/.local/lib/python3.5/site-packages/tensorboard/compat/tensorflow_stub/dtypes.py:543: FutureWarning: Passing (type, 1) or '1type' as a synonym of type is deprecated; in a future version of numpy, it will be understood as (type, (1,)) / '(1,)type'.\n",
      "  _np_qint16 = np.dtype([(\"qint16\", np.int16, 1)])\n",
      "/afs/csail.mit.edu/u/c/cfosco/.local/lib/python3.5/site-packages/tensorboard/compat/tensorflow_stub/dtypes.py:544: FutureWarning: Passing (type, 1) or '1type' as a synonym of type is deprecated; in a future version of numpy, it will be understood as (type, (1,)) / '(1,)type'.\n",
      "  _np_quint16 = np.dtype([(\"quint16\", np.uint16, 1)])\n",
      "/afs/csail.mit.edu/u/c/cfosco/.local/lib/python3.5/site-packages/tensorboard/compat/tensorflow_stub/dtypes.py:545: FutureWarning: Passing (type, 1) or '1type' as a synonym of type is deprecated; in a future version of numpy, it will be understood as (type, (1,)) / '(1,)type'.\n",
      "  _np_qint32 = np.dtype([(\"qint32\", np.int32, 1)])\n",
      "/afs/csail.mit.edu/u/c/cfosco/.local/lib/python3.5/site-packages/tensorboard/compat/tensorflow_stub/dtypes.py:550: FutureWarning: Passing (type, 1) or '1type' as a synonym of type is deprecated; in a future version of numpy, it will be understood as (type, (1,)) / '(1,)type'.\n",
      "  np_resource = np.dtype([(\"resource\", np.ubyte, 1)])\n",
      "Using TensorFlow backend.\n"
     ]
    }
   ],
   "source": [
    "import numpy as np\n",
    "import tensorflow as tf\n",
    "import keras\n",
    "import matplotlib.pyplot as plt\n",
    "import os\n",
    "import sys\n",
    "\n",
    "import argparse\n",
    "import os\n",
    "import shutil\n",
    "import tensorflow as tf\n",
    "import setproctitle\n",
    "from configobj import ConfigObj\n",
    "from validate import Validator\n",
    "\n",
    "sys.path.append(\"../deep_motion_mag/\")\n",
    "\n",
    "from magnet import MagNet3Frames"
   ]
  },
  {
   "cell_type": "code",
   "execution_count": 2,
   "metadata": {},
   "outputs": [],
   "source": [
    "os.environ[\"CUDA_VISIBLE_DEVICES\"]=\"3\""
   ]
  },
  {
   "cell_type": "code",
   "execution_count": 3,
   "metadata": {},
   "outputs": [
    {
     "name": "stdout",
     "output_type": "stream",
     "text": [
      "Wed Dec 11 13:56:53 2019       \n",
      "+-----------------------------------------------------------------------------+\n",
      "| NVIDIA-SMI 418.39       Driver Version: 418.39       CUDA Version: 10.1     |\n",
      "|-------------------------------+----------------------+----------------------+\n",
      "| GPU  Name        Persistence-M| Bus-Id        Disp.A | Volatile Uncorr. ECC |\n",
      "| Fan  Temp  Perf  Pwr:Usage/Cap|         Memory-Usage | GPU-Util  Compute M. |\n",
      "|===============================+======================+======================|\n",
      "|   0  TITAN Xp            Off  | 00000000:02:00.0 Off |                  N/A |\n",
      "| 23%   32C    P8     9W / 250W |   3693MiB / 12196MiB |      0%      Default |\n",
      "+-------------------------------+----------------------+----------------------+\n",
      "|   1  TITAN Xp            Off  | 00000000:03:00.0 Off |                  N/A |\n",
      "| 23%   37C    P2    58W / 250W |    179MiB / 12196MiB |      4%      Default |\n",
      "+-------------------------------+----------------------+----------------------+\n",
      "|   2  TITAN Xp            Off  | 00000000:81:00.0 Off |                  N/A |\n",
      "| 45%   72C    P2   119W / 250W |   1197MiB / 12196MiB |     57%      Default |\n",
      "+-------------------------------+----------------------+----------------------+\n",
      "|   3  TITAN Xp            Off  | 00000000:82:00.0 Off |                  N/A |\n",
      "| 23%   35C    P2    58W / 250W |     10MiB / 12196MiB |      0%      Default |\n",
      "+-------------------------------+----------------------+----------------------+\n",
      "                                                                               \n",
      "+-----------------------------------------------------------------------------+\n",
      "| Processes:                                                       GPU Memory |\n",
      "|  GPU       PID   Type   Process name                             Usage      |\n",
      "|=============================================================================|\n",
      "|    0     23028      C   ...548b88-838d-46b0-bd59-51ee43833890.json  3681MiB |\n",
      "|    1      2470      C   %(dataset)s_%(variant)s                      171MiB |\n",
      "|    2     11084      C   ...9cb12e-37f5-48df-bd57-b20557af65a9.json  1187MiB |\n",
      "+-----------------------------------------------------------------------------+\n"
     ]
    }
   ],
   "source": [
    "!nvidia-smi"
   ]
  },
  {
   "cell_type": "code",
   "execution_count": 4,
   "metadata": {},
   "outputs": [],
   "source": [
    "# %%bash\n",
    "\n",
    "# EXP_NAME=\"test\"\n",
    "# VIDEO=1003254\n",
    "# AMPLIFICATION_FACTOR=10\n",
    "# DYNAMIC_MODE=\"no\"\n",
    "# OUT_DIR=data/output/\"$VIDEO\"_\"$EXP_NAME\"_\"$AMPLIFICATION_FACTOR\"\n",
    "# VID_DIR=data/vids/\"$VIDEO\"\n",
    "# OUT_DIR=data/output/\"$VIDEO\"\n",
    "# if [ ! -d \"$OUT_DIR\" ]; then\n",
    "#     mkdir -p \"$OUT_DIR\"\n",
    "# fi\n",
    "\n",
    "# FLAGS=\"--phase=run --vid_dir=$VID_DIR --out_dir=$OUT_DIR --amplification_factor=$AMPLIFICATION_FACTOR\"\n",
    "# if [ \"$DYNAMIC_MODE\" = yes ] ; then\n",
    "#     FLAGS=\"$FLAGS\"\" --velocity_mag\"\n",
    "# fi\n",
    "# ../deep_motion_mag/main.py --config_file=configs/\"$EXP_NAME\".conf \\\n",
    "#     $FLAGS"
   ]
  },
  {
   "cell_type": "code",
   "execution_count": 5,
   "metadata": {},
   "outputs": [],
   "source": [
    "# %%bash\n",
    "# sh ../deep_motion_mag/run_on_test_videos.sh test1 1003254 10"
   ]
  },
  {
   "cell_type": "code",
   "execution_count": 6,
   "metadata": {},
   "outputs": [
    {
     "name": "stdout",
     "output_type": "stream",
     "text": [
      "{'amplification_factor': 3,\n",
      " 'config_file': '../deep_motion_mag/configs/o3f_hmhm2_bg_qnoise_mix4_nl_n_t_ds3.conf',\n",
      " 'config_spec': '../deep_motion_mag/configs/configspec.conf',\n",
      " 'fh': 1,\n",
      " 'filter_type': 'DifferenceOfIIR',\n",
      " 'fl': 0.5,\n",
      " 'frame_ext': 'jpg',\n",
      " 'fs': 30,\n",
      " 'n_filter_tap': 2,\n",
      " 'out_dir': '../../deepfake_data/fb_dfd_release_0.1_final/method_A_frames_mm/1320815_1573558_A_002.mp4',\n",
      " 'phase': 'run',\n",
      " 'velocity_mag': True,\n",
      " 'vid_dir': '../../deepfake_data/fb_dfd_release_0.1_final/method_A_frames/1320815_1573558_A_002.mp4'}\n"
     ]
    }
   ],
   "source": [
    "def run_motion_mag(args):\n",
    "    configspec = ConfigObj(args.config_spec, raise_errors=True)\n",
    "    config = ConfigObj(args.config_file,\n",
    "                       configspec=configspec,\n",
    "                       raise_errors=True,\n",
    "                       file_error=True)\n",
    "    # Validate to get all the default values.\n",
    "    config.validate(Validator())\n",
    "    if not os.path.exists(config['exp_dir']):\n",
    "        # checkpoint directory.\n",
    "        os.makedirs(os.path.join(config['exp_dir'], 'checkpoint'))\n",
    "        # Tensorboard logs directory.\n",
    "        os.makedirs(os.path.join(config['exp_dir'], 'logs'))\n",
    "        # default output directory for this experiment.\n",
    "        os.makedirs(os.path.join(config['exp_dir'], 'sample'))\n",
    "    network_type = config['architecture']['network_arch']\n",
    "    exp_name = config['exp_name']\n",
    "    setproctitle.setproctitle('{}_{}_{}' \\\n",
    "                              .format(args.phase, network_type, exp_name))\n",
    "    tfconfig = tf.ConfigProto(allow_soft_placement=True,\n",
    "                              log_device_placement=False)\n",
    "    tfconfig.gpu_options.allow_growth = True\n",
    "\n",
    "    with tf.Session(config=tfconfig) as sess:\n",
    "        model = MagNet3Frames(sess, exp_name, config['architecture'])\n",
    "        checkpoint = '../deep_motion_mag/'+config['training']['checkpoint_dir']\n",
    "        if args.phase == 'train':\n",
    "            train_config = config['training']\n",
    "            if not os.path.exists('../deep_motion_mag/'+train_config['checkpoint_dir']):\n",
    "                os.makedirs('../deep_motion_mag/'+train_config['checkpoint_dir'])\n",
    "            model.train(train_config)\n",
    "        elif args.phase == 'run':\n",
    "            model.run(checkpoint,\n",
    "                      args.vid_dir,\n",
    "                      args.frame_ext,\n",
    "                      args.out_dir,\n",
    "                      args.amplification_factor,\n",
    "                      args.velocity_mag)\n",
    "        elif args.phase == 'run_temporal':\n",
    "            model.run_temporal(checkpoint,\n",
    "                               args.vid_dir,\n",
    "                               args.frame_ext,\n",
    "                               args.out_dir,\n",
    "                               args.amplification_factor,\n",
    "                               args.fl,\n",
    "                               args.fh,\n",
    "                               args.fs,\n",
    "                               args.n_filter_tap,\n",
    "                               args.filter_type)\n",
    "        else:\n",
    "            raise ValueError('Invalid phase argument. '\n",
    "                             'Expected [\"train\", \"run\", \"run_temporal\"], '\n",
    "                             'got ' + args.phase)\n",
    "\n",
    "\n",
    "# Define parameters\n",
    "exp_name= 'o3f_hmhm2_bg_qnoise_mix4_nl_n_t_ds3'\n",
    "phase = 'run'\n",
    "config_file = '../deep_motion_mag/configs/'+exp_name+'.conf'\n",
    "config_spec = '../deep_motion_mag/configs/configspec.conf'\n",
    "vid_dir = '../../deepfake_data/fb_dfd_release_0.1_final/method_A_frames/1320815_1573558_A_002.mp4'\n",
    "frame_ext = 'jpg'\n",
    "out_dir = '../../deepfake_data/fb_dfd_release_0.1_final/method_A_frames_mm/1320815_1573558_A_002.mp4'\n",
    "os.makedirs(out_dir, exist_ok=True)\n",
    "amplification_factor = 3\n",
    "velocity_mag = True\n",
    "fl = 0.5\n",
    "fh = 1\n",
    "fs = 30\n",
    "n_filter_tap = 2 \n",
    "filter_type = 'DifferenceOfIIR'\n",
    "\n",
    "\n",
    "class Parser:        \n",
    "    def add_argument(self, name, dest='var', default=None, help='', required=True, type='', action=''):\n",
    "        exec(\"self.\"+dest+\" = default\")\n",
    "parser = Parser()\n",
    "        \n",
    "parser.add_argument('--phase', dest='phase', default=phase,\n",
    "                    help='train, test, run, interactive')\n",
    "parser.add_argument('--config_file', dest='config_file', required=True, default = config_file,\n",
    "                    help='path to config file')\n",
    "parser.add_argument('--config_spec', dest='config_spec', default=config_spec,\n",
    "                    help='path to config spec file')\n",
    "\n",
    "# for inference\n",
    "parser.add_argument('--vid_dir', dest='vid_dir', default=vid_dir,\n",
    "                    help='Video folder to run the network on.')\n",
    "parser.add_argument('--frame_ext', dest='frame_ext', default=frame_ext,\n",
    "                    help='Video frame file extension.')\n",
    "parser.add_argument('--out_dir', dest='out_dir', default=out_dir,\n",
    "                    help='Output folder of the video run.')\n",
    "parser.add_argument('--amplification_factor', dest='amplification_factor',\n",
    "                    type=float, default=amplification_factor,\n",
    "                    help='Magnification factor for inference.')\n",
    "parser.add_argument('--velocity_mag', dest='velocity_mag', action='store_true', default=velocity_mag,\n",
    "                    help='Whether to do velocity magnification.')\n",
    "\n",
    "# For temporal operation.\n",
    "parser.add_argument('--fl', dest='fl', type=float, default=fl,\n",
    "                    help='Low cutoff Frequency.')\n",
    "parser.add_argument('--fh', dest='fh', type=float, default=fh,\n",
    "                    help='High cutoff Frequency.')\n",
    "parser.add_argument('--fs', dest='fs', type=float, default=fs,\n",
    "                    help='Sampling rate.')\n",
    "parser.add_argument('--n_filter_tap', dest='n_filter_tap', type=int, default=n_filter_tap,\n",
    "                    help='Number of filter tap required.')\n",
    "parser.add_argument('--filter_type', dest='filter_type', type=str, default=filter_type,\n",
    "                    help='Type of filter to use, must be Butter or FIR.')\n",
    "\n",
    "from pprint import pprint\n",
    "pprint(vars(parser))\n",
    "\n",
    "# run_motion_mag(parser)"
   ]
  },
  {
   "cell_type": "code",
   "execution_count": 7,
   "metadata": {},
   "outputs": [
    {
     "name": "stderr",
     "output_type": "stream",
     "text": [
      "\r",
      "  0%|          | 0/1268 [00:00<?, ?it/s]"
     ]
    },
    {
     "name": "stdout",
     "output_type": "stream",
     "text": [
      "Magnifying vids in ../../deepfake_data/fb_dfd_release_0.1_final/method_A_crops\n",
      "running motion mag for vid: 1916010_1224068_F_003.mp4\n",
      "video ../../deepfake_data/fb_dfd_release_0.1_final/method_A_crops/1916010_1224068_F_003.mp4\n",
      "\n",
      "WARNING:tensorflow:From ../deep_motion_mag/magnet.py:294: The name tf.placeholder is deprecated. Please use tf.compat.v1.placeholder instead.\n",
      "\n",
      "WARNING:tensorflow:From ../deep_motion_mag/magnet.py:313: The name tf.variable_scope is deprecated. Please use tf.compat.v1.variable_scope instead.\n",
      "\n",
      "WARNING:tensorflow:Entity <bound method Conv.call of <tensorflow.python.layers.convolutional.Conv2D object at 0x7f8ae09cfcc0>> could not be transformed and will be executed as-is. Please report this to the AutgoGraph team. When filing the bug, set the verbosity to 10 (on Linux, `export AUTOGRAPH_VERBOSITY=10`) and attach the full output. Cause: converting <bound method Conv.call of <tensorflow.python.layers.convolutional.Conv2D object at 0x7f8ae09cfcc0>>: AssertionError: Bad argument number for Name: 3, expecting 4\n",
      "WARNING: Entity <bound method Conv.call of <tensorflow.python.layers.convolutional.Conv2D object at 0x7f8ae09cfcc0>> could not be transformed and will be executed as-is. Please report this to the AutgoGraph team. When filing the bug, set the verbosity to 10 (on Linux, `export AUTOGRAPH_VERBOSITY=10`) and attach the full output. Cause: converting <bound method Conv.call of <tensorflow.python.layers.convolutional.Conv2D object at 0x7f8ae09cfcc0>>: AssertionError: Bad argument number for Name: 3, expecting 4\n",
      "WARNING:tensorflow:Entity <bound method Conv.call of <tensorflow.python.layers.convolutional.Conv2D object at 0x7f8ae09cfd68>> could not be transformed and will be executed as-is. Please report this to the AutgoGraph team. When filing the bug, set the verbosity to 10 (on Linux, `export AUTOGRAPH_VERBOSITY=10`) and attach the full output. Cause: converting <bound method Conv.call of <tensorflow.python.layers.convolutional.Conv2D object at 0x7f8ae09cfd68>>: AssertionError: Bad argument number for Name: 3, expecting 4\n",
      "WARNING: Entity <bound method Conv.call of <tensorflow.python.layers.convolutional.Conv2D object at 0x7f8ae09cfd68>> could not be transformed and will be executed as-is. Please report this to the AutgoGraph team. When filing the bug, set the verbosity to 10 (on Linux, `export AUTOGRAPH_VERBOSITY=10`) and attach the full output. Cause: converting <bound method Conv.call of <tensorflow.python.layers.convolutional.Conv2D object at 0x7f8ae09cfd68>>: AssertionError: Bad argument number for Name: 3, expecting 4\n",
      "WARNING:tensorflow:Entity <bound method Conv.call of <tensorflow.python.layers.convolutional.Conv2D object at 0x7f8ae0279e80>> could not be transformed and will be executed as-is. Please report this to the AutgoGraph team. When filing the bug, set the verbosity to 10 (on Linux, `export AUTOGRAPH_VERBOSITY=10`) and attach the full output. Cause: converting <bound method Conv.call of <tensorflow.python.layers.convolutional.Conv2D object at 0x7f8ae0279e80>>: AssertionError: Bad argument number for Name: 3, expecting 4\n",
      "WARNING: Entity <bound method Conv.call of <tensorflow.python.layers.convolutional.Conv2D object at 0x7f8ae0279e80>> could not be transformed and will be executed as-is. Please report this to the AutgoGraph team. When filing the bug, set the verbosity to 10 (on Linux, `export AUTOGRAPH_VERBOSITY=10`) and attach the full output. Cause: converting <bound method Conv.call of <tensorflow.python.layers.convolutional.Conv2D object at 0x7f8ae0279e80>>: AssertionError: Bad argument number for Name: 3, expecting 4\n",
      "WARNING:tensorflow:Entity <bound method Conv.call of <tensorflow.python.layers.convolutional.Conv2D object at 0x7f8ae0279550>> could not be transformed and will be executed as-is. Please report this to the AutgoGraph team. When filing the bug, set the verbosity to 10 (on Linux, `export AUTOGRAPH_VERBOSITY=10`) and attach the full output. Cause: converting <bound method Conv.call of <tensorflow.python.layers.convolutional.Conv2D object at 0x7f8ae0279550>>: AssertionError: Bad argument number for Name: 3, expecting 4\n",
      "WARNING: Entity <bound method Conv.call of <tensorflow.python.layers.convolutional.Conv2D object at 0x7f8ae0279550>> could not be transformed and will be executed as-is. Please report this to the AutgoGraph team. When filing the bug, set the verbosity to 10 (on Linux, `export AUTOGRAPH_VERBOSITY=10`) and attach the full output. Cause: converting <bound method Conv.call of <tensorflow.python.layers.convolutional.Conv2D object at 0x7f8ae0279550>>: AssertionError: Bad argument number for Name: 3, expecting 4\n",
      "WARNING:tensorflow:Entity <bound method Conv.call of <tensorflow.python.layers.convolutional.Conv2D object at 0x7f8a0f260c18>> could not be transformed and will be executed as-is. Please report this to the AutgoGraph team. When filing the bug, set the verbosity to 10 (on Linux, `export AUTOGRAPH_VERBOSITY=10`) and attach the full output. Cause: converting <bound method Conv.call of <tensorflow.python.layers.convolutional.Conv2D object at 0x7f8a0f260c18>>: AssertionError: Bad argument number for Name: 3, expecting 4\n",
      "WARNING: Entity <bound method Conv.call of <tensorflow.python.layers.convolutional.Conv2D object at 0x7f8a0f260c18>> could not be transformed and will be executed as-is. Please report this to the AutgoGraph team. When filing the bug, set the verbosity to 10 (on Linux, `export AUTOGRAPH_VERBOSITY=10`) and attach the full output. Cause: converting <bound method Conv.call of <tensorflow.python.layers.convolutional.Conv2D object at 0x7f8a0f260c18>>: AssertionError: Bad argument number for Name: 3, expecting 4\n",
      "WARNING:tensorflow:Entity <bound method Conv.call of <tensorflow.python.layers.convolutional.Conv2D object at 0x7f8ae0256048>> could not be transformed and will be executed as-is. Please report this to the AutgoGraph team. When filing the bug, set the verbosity to 10 (on Linux, `export AUTOGRAPH_VERBOSITY=10`) and attach the full output. Cause: converting <bound method Conv.call of <tensorflow.python.layers.convolutional.Conv2D object at 0x7f8ae0256048>>: AssertionError: Bad argument number for Name: 3, expecting 4\n",
      "WARNING: Entity <bound method Conv.call of <tensorflow.python.layers.convolutional.Conv2D object at 0x7f8ae0256048>> could not be transformed and will be executed as-is. Please report this to the AutgoGraph team. When filing the bug, set the verbosity to 10 (on Linux, `export AUTOGRAPH_VERBOSITY=10`) and attach the full output. Cause: converting <bound method Conv.call of <tensorflow.python.layers.convolutional.Conv2D object at 0x7f8ae0256048>>: AssertionError: Bad argument number for Name: 3, expecting 4\n",
      "WARNING:tensorflow:Entity <bound method Conv.call of <tensorflow.python.layers.convolutional.Conv2D object at 0x7f8ae0256ac8>> could not be transformed and will be executed as-is. Please report this to the AutgoGraph team. When filing the bug, set the verbosity to 10 (on Linux, `export AUTOGRAPH_VERBOSITY=10`) and attach the full output. Cause: converting <bound method Conv.call of <tensorflow.python.layers.convolutional.Conv2D object at 0x7f8ae0256ac8>>: AssertionError: Bad argument number for Name: 3, expecting 4\n",
      "WARNING: Entity <bound method Conv.call of <tensorflow.python.layers.convolutional.Conv2D object at 0x7f8ae0256ac8>> could not be transformed and will be executed as-is. Please report this to the AutgoGraph team. When filing the bug, set the verbosity to 10 (on Linux, `export AUTOGRAPH_VERBOSITY=10`) and attach the full output. Cause: converting <bound method Conv.call of <tensorflow.python.layers.convolutional.Conv2D object at 0x7f8ae0256ac8>>: AssertionError: Bad argument number for Name: 3, expecting 4\n",
      "WARNING:tensorflow:Entity <bound method Conv.call of <tensorflow.python.layers.convolutional.Conv2D object at 0x7f8ae028f828>> could not be transformed and will be executed as-is. Please report this to the AutgoGraph team. When filing the bug, set the verbosity to 10 (on Linux, `export AUTOGRAPH_VERBOSITY=10`) and attach the full output. Cause: converting <bound method Conv.call of <tensorflow.python.layers.convolutional.Conv2D object at 0x7f8ae028f828>>: AssertionError: Bad argument number for Name: 3, expecting 4\n"
     ]
    },
    {
     "name": "stdout",
     "output_type": "stream",
     "text": [
      "WARNING: Entity <bound method Conv.call of <tensorflow.python.layers.convolutional.Conv2D object at 0x7f8ae028f828>> could not be transformed and will be executed as-is. Please report this to the AutgoGraph team. When filing the bug, set the verbosity to 10 (on Linux, `export AUTOGRAPH_VERBOSITY=10`) and attach the full output. Cause: converting <bound method Conv.call of <tensorflow.python.layers.convolutional.Conv2D object at 0x7f8ae028f828>>: AssertionError: Bad argument number for Name: 3, expecting 4\n",
      "WARNING:tensorflow:Entity <bound method Conv.call of <tensorflow.python.layers.convolutional.Conv2D object at 0x7f8a0f244be0>> could not be transformed and will be executed as-is. Please report this to the AutgoGraph team. When filing the bug, set the verbosity to 10 (on Linux, `export AUTOGRAPH_VERBOSITY=10`) and attach the full output. Cause: converting <bound method Conv.call of <tensorflow.python.layers.convolutional.Conv2D object at 0x7f8a0f244be0>>: AssertionError: Bad argument number for Name: 3, expecting 4\n",
      "WARNING: Entity <bound method Conv.call of <tensorflow.python.layers.convolutional.Conv2D object at 0x7f8a0f244be0>> could not be transformed and will be executed as-is. Please report this to the AutgoGraph team. When filing the bug, set the verbosity to 10 (on Linux, `export AUTOGRAPH_VERBOSITY=10`) and attach the full output. Cause: converting <bound method Conv.call of <tensorflow.python.layers.convolutional.Conv2D object at 0x7f8a0f244be0>>: AssertionError: Bad argument number for Name: 3, expecting 4\n",
      "WARNING:tensorflow:Entity <bound method Conv.call of <tensorflow.python.layers.convolutional.Conv2D object at 0x7f8a0f1b37f0>> could not be transformed and will be executed as-is. Please report this to the AutgoGraph team. When filing the bug, set the verbosity to 10 (on Linux, `export AUTOGRAPH_VERBOSITY=10`) and attach the full output. Cause: converting <bound method Conv.call of <tensorflow.python.layers.convolutional.Conv2D object at 0x7f8a0f1b37f0>>: AssertionError: Bad argument number for Name: 3, expecting 4\n",
      "WARNING: Entity <bound method Conv.call of <tensorflow.python.layers.convolutional.Conv2D object at 0x7f8a0f1b37f0>> could not be transformed and will be executed as-is. Please report this to the AutgoGraph team. When filing the bug, set the verbosity to 10 (on Linux, `export AUTOGRAPH_VERBOSITY=10`) and attach the full output. Cause: converting <bound method Conv.call of <tensorflow.python.layers.convolutional.Conv2D object at 0x7f8a0f1b37f0>>: AssertionError: Bad argument number for Name: 3, expecting 4\n",
      "WARNING:tensorflow:Entity <bound method Conv.call of <tensorflow.python.layers.convolutional.Conv2D object at 0x7f8ae02b80b8>> could not be transformed and will be executed as-is. Please report this to the AutgoGraph team. When filing the bug, set the verbosity to 10 (on Linux, `export AUTOGRAPH_VERBOSITY=10`) and attach the full output. Cause: converting <bound method Conv.call of <tensorflow.python.layers.convolutional.Conv2D object at 0x7f8ae02b80b8>>: AssertionError: Bad argument number for Name: 3, expecting 4\n",
      "WARNING: Entity <bound method Conv.call of <tensorflow.python.layers.convolutional.Conv2D object at 0x7f8ae02b80b8>> could not be transformed and will be executed as-is. Please report this to the AutgoGraph team. When filing the bug, set the verbosity to 10 (on Linux, `export AUTOGRAPH_VERBOSITY=10`) and attach the full output. Cause: converting <bound method Conv.call of <tensorflow.python.layers.convolutional.Conv2D object at 0x7f8ae02b80b8>>: AssertionError: Bad argument number for Name: 3, expecting 4\n",
      "WARNING:tensorflow:Entity <bound method Conv.call of <tensorflow.python.layers.convolutional.Conv2D object at 0x7f8a0f27db70>> could not be transformed and will be executed as-is. Please report this to the AutgoGraph team. When filing the bug, set the verbosity to 10 (on Linux, `export AUTOGRAPH_VERBOSITY=10`) and attach the full output. Cause: converting <bound method Conv.call of <tensorflow.python.layers.convolutional.Conv2D object at 0x7f8a0f27db70>>: AssertionError: Bad argument number for Name: 3, expecting 4\n",
      "WARNING: Entity <bound method Conv.call of <tensorflow.python.layers.convolutional.Conv2D object at 0x7f8a0f27db70>> could not be transformed and will be executed as-is. Please report this to the AutgoGraph team. When filing the bug, set the verbosity to 10 (on Linux, `export AUTOGRAPH_VERBOSITY=10`) and attach the full output. Cause: converting <bound method Conv.call of <tensorflow.python.layers.convolutional.Conv2D object at 0x7f8a0f27db70>>: AssertionError: Bad argument number for Name: 3, expecting 4\n",
      "WARNING:tensorflow:Entity <bound method Conv.call of <tensorflow.python.layers.convolutional.Conv2D object at 0x7f8a0f1907f0>> could not be transformed and will be executed as-is. Please report this to the AutgoGraph team. When filing the bug, set the verbosity to 10 (on Linux, `export AUTOGRAPH_VERBOSITY=10`) and attach the full output. Cause: converting <bound method Conv.call of <tensorflow.python.layers.convolutional.Conv2D object at 0x7f8a0f1907f0>>: AssertionError: Bad argument number for Name: 3, expecting 4\n",
      "WARNING: Entity <bound method Conv.call of <tensorflow.python.layers.convolutional.Conv2D object at 0x7f8a0f1907f0>> could not be transformed and will be executed as-is. Please report this to the AutgoGraph team. When filing the bug, set the verbosity to 10 (on Linux, `export AUTOGRAPH_VERBOSITY=10`) and attach the full output. Cause: converting <bound method Conv.call of <tensorflow.python.layers.convolutional.Conv2D object at 0x7f8a0f1907f0>>: AssertionError: Bad argument number for Name: 3, expecting 4\n",
      "WARNING:tensorflow:Entity <bound method Conv.call of <tensorflow.python.layers.convolutional.Conv2D object at 0x7f8a0f141b38>> could not be transformed and will be executed as-is. Please report this to the AutgoGraph team. When filing the bug, set the verbosity to 10 (on Linux, `export AUTOGRAPH_VERBOSITY=10`) and attach the full output. Cause: converting <bound method Conv.call of <tensorflow.python.layers.convolutional.Conv2D object at 0x7f8a0f141b38>>: AssertionError: Bad argument number for Name: 3, expecting 4\n",
      "WARNING: Entity <bound method Conv.call of <tensorflow.python.layers.convolutional.Conv2D object at 0x7f8a0f141b38>> could not be transformed and will be executed as-is. Please report this to the AutgoGraph team. When filing the bug, set the verbosity to 10 (on Linux, `export AUTOGRAPH_VERBOSITY=10`) and attach the full output. Cause: converting <bound method Conv.call of <tensorflow.python.layers.convolutional.Conv2D object at 0x7f8a0f141b38>>: AssertionError: Bad argument number for Name: 3, expecting 4\n",
      "WARNING:tensorflow:Entity <bound method Conv.call of <tensorflow.python.layers.convolutional.Conv2D object at 0x7f8a0f141908>> could not be transformed and will be executed as-is. Please report this to the AutgoGraph team. When filing the bug, set the verbosity to 10 (on Linux, `export AUTOGRAPH_VERBOSITY=10`) and attach the full output. Cause: converting <bound method Conv.call of <tensorflow.python.layers.convolutional.Conv2D object at 0x7f8a0f141908>>: AssertionError: Bad argument number for Name: 3, expecting 4\n",
      "WARNING: Entity <bound method Conv.call of <tensorflow.python.layers.convolutional.Conv2D object at 0x7f8a0f141908>> could not be transformed and will be executed as-is. Please report this to the AutgoGraph team. When filing the bug, set the verbosity to 10 (on Linux, `export AUTOGRAPH_VERBOSITY=10`) and attach the full output. Cause: converting <bound method Conv.call of <tensorflow.python.layers.convolutional.Conv2D object at 0x7f8a0f141908>>: AssertionError: Bad argument number for Name: 3, expecting 4\n",
      "WARNING:tensorflow:Entity <bound method Conv.call of <tensorflow.python.layers.convolutional.Conv2D object at 0x7f8a0f1b36a0>> could not be transformed and will be executed as-is. Please report this to the AutgoGraph team. When filing the bug, set the verbosity to 10 (on Linux, `export AUTOGRAPH_VERBOSITY=10`) and attach the full output. Cause: converting <bound method Conv.call of <tensorflow.python.layers.convolutional.Conv2D object at 0x7f8a0f1b36a0>>: AssertionError: Bad argument number for Name: 3, expecting 4\n"
     ]
    },
    {
     "name": "stdout",
     "output_type": "stream",
     "text": [
      "WARNING: Entity <bound method Conv.call of <tensorflow.python.layers.convolutional.Conv2D object at 0x7f8a0f1b36a0>> could not be transformed and will be executed as-is. Please report this to the AutgoGraph team. When filing the bug, set the verbosity to 10 (on Linux, `export AUTOGRAPH_VERBOSITY=10`) and attach the full output. Cause: converting <bound method Conv.call of <tensorflow.python.layers.convolutional.Conv2D object at 0x7f8a0f1b36a0>>: AssertionError: Bad argument number for Name: 3, expecting 4\n",
      "WARNING:tensorflow:Entity <bound method Conv.call of <tensorflow.python.layers.convolutional.Conv2D object at 0x7f8a0f1b3908>> could not be transformed and will be executed as-is. Please report this to the AutgoGraph team. When filing the bug, set the verbosity to 10 (on Linux, `export AUTOGRAPH_VERBOSITY=10`) and attach the full output. Cause: converting <bound method Conv.call of <tensorflow.python.layers.convolutional.Conv2D object at 0x7f8a0f1b3908>>: AssertionError: Bad argument number for Name: 3, expecting 4\n",
      "WARNING: Entity <bound method Conv.call of <tensorflow.python.layers.convolutional.Conv2D object at 0x7f8a0f1b3908>> could not be transformed and will be executed as-is. Please report this to the AutgoGraph team. When filing the bug, set the verbosity to 10 (on Linux, `export AUTOGRAPH_VERBOSITY=10`) and attach the full output. Cause: converting <bound method Conv.call of <tensorflow.python.layers.convolutional.Conv2D object at 0x7f8a0f1b3908>>: AssertionError: Bad argument number for Name: 3, expecting 4\n",
      "WARNING:tensorflow:Entity <bound method Conv.call of <tensorflow.python.layers.convolutional.Conv2D object at 0x7f8a0f0cbc88>> could not be transformed and will be executed as-is. Please report this to the AutgoGraph team. When filing the bug, set the verbosity to 10 (on Linux, `export AUTOGRAPH_VERBOSITY=10`) and attach the full output. Cause: converting <bound method Conv.call of <tensorflow.python.layers.convolutional.Conv2D object at 0x7f8a0f0cbc88>>: AssertionError: Bad argument number for Name: 3, expecting 4\n",
      "WARNING: Entity <bound method Conv.call of <tensorflow.python.layers.convolutional.Conv2D object at 0x7f8a0f0cbc88>> could not be transformed and will be executed as-is. Please report this to the AutgoGraph team. When filing the bug, set the verbosity to 10 (on Linux, `export AUTOGRAPH_VERBOSITY=10`) and attach the full output. Cause: converting <bound method Conv.call of <tensorflow.python.layers.convolutional.Conv2D object at 0x7f8a0f0cbc88>>: AssertionError: Bad argument number for Name: 3, expecting 4\n",
      "WARNING:tensorflow:Entity <bound method Conv.call of <tensorflow.python.layers.convolutional.Conv2D object at 0x7f8a0f094d68>> could not be transformed and will be executed as-is. Please report this to the AutgoGraph team. When filing the bug, set the verbosity to 10 (on Linux, `export AUTOGRAPH_VERBOSITY=10`) and attach the full output. Cause: converting <bound method Conv.call of <tensorflow.python.layers.convolutional.Conv2D object at 0x7f8a0f094d68>>: AssertionError: Bad argument number for Name: 3, expecting 4\n",
      "WARNING: Entity <bound method Conv.call of <tensorflow.python.layers.convolutional.Conv2D object at 0x7f8a0f094d68>> could not be transformed and will be executed as-is. Please report this to the AutgoGraph team. When filing the bug, set the verbosity to 10 (on Linux, `export AUTOGRAPH_VERBOSITY=10`) and attach the full output. Cause: converting <bound method Conv.call of <tensorflow.python.layers.convolutional.Conv2D object at 0x7f8a0f094d68>>: AssertionError: Bad argument number for Name: 3, expecting 4\n",
      "WARNING:tensorflow:Entity <bound method Conv.call of <tensorflow.python.layers.convolutional.Conv2D object at 0x7f8a0f094f60>> could not be transformed and will be executed as-is. Please report this to the AutgoGraph team. When filing the bug, set the verbosity to 10 (on Linux, `export AUTOGRAPH_VERBOSITY=10`) and attach the full output. Cause: converting <bound method Conv.call of <tensorflow.python.layers.convolutional.Conv2D object at 0x7f8a0f094f60>>: AssertionError: Bad argument number for Name: 3, expecting 4\n",
      "WARNING: Entity <bound method Conv.call of <tensorflow.python.layers.convolutional.Conv2D object at 0x7f8a0f094f60>> could not be transformed and will be executed as-is. Please report this to the AutgoGraph team. When filing the bug, set the verbosity to 10 (on Linux, `export AUTOGRAPH_VERBOSITY=10`) and attach the full output. Cause: converting <bound method Conv.call of <tensorflow.python.layers.convolutional.Conv2D object at 0x7f8a0f094f60>>: AssertionError: Bad argument number for Name: 3, expecting 4\n",
      "WARNING:tensorflow:Entity <bound method Conv.call of <tensorflow.python.layers.convolutional.Conv2D object at 0x7f8a0f0266a0>> could not be transformed and will be executed as-is. Please report this to the AutgoGraph team. When filing the bug, set the verbosity to 10 (on Linux, `export AUTOGRAPH_VERBOSITY=10`) and attach the full output. Cause: converting <bound method Conv.call of <tensorflow.python.layers.convolutional.Conv2D object at 0x7f8a0f0266a0>>: AssertionError: Bad argument number for Name: 3, expecting 4\n",
      "WARNING: Entity <bound method Conv.call of <tensorflow.python.layers.convolutional.Conv2D object at 0x7f8a0f0266a0>> could not be transformed and will be executed as-is. Please report this to the AutgoGraph team. When filing the bug, set the verbosity to 10 (on Linux, `export AUTOGRAPH_VERBOSITY=10`) and attach the full output. Cause: converting <bound method Conv.call of <tensorflow.python.layers.convolutional.Conv2D object at 0x7f8a0f0266a0>>: AssertionError: Bad argument number for Name: 3, expecting 4\n",
      "WARNING:tensorflow:From ../deep_motion_mag/magnet.py:106: The name tf.image.resize_nearest_neighbor is deprecated. Please use tf.compat.v1.image.resize_nearest_neighbor instead.\n",
      "\n",
      "WARNING:tensorflow:Entity <bound method Conv.call of <tensorflow.python.layers.convolutional.Conv2D object at 0x7f8a0eff1748>> could not be transformed and will be executed as-is. Please report this to the AutgoGraph team. When filing the bug, set the verbosity to 10 (on Linux, `export AUTOGRAPH_VERBOSITY=10`) and attach the full output. Cause: converting <bound method Conv.call of <tensorflow.python.layers.convolutional.Conv2D object at 0x7f8a0eff1748>>: AssertionError: Bad argument number for Name: 3, expecting 4\n",
      "WARNING: Entity <bound method Conv.call of <tensorflow.python.layers.convolutional.Conv2D object at 0x7f8a0eff1748>> could not be transformed and will be executed as-is. Please report this to the AutgoGraph team. When filing the bug, set the verbosity to 10 (on Linux, `export AUTOGRAPH_VERBOSITY=10`) and attach the full output. Cause: converting <bound method Conv.call of <tensorflow.python.layers.convolutional.Conv2D object at 0x7f8a0eff1748>>: AssertionError: Bad argument number for Name: 3, expecting 4\n",
      "WARNING:tensorflow:Entity <bound method Conv.call of <tensorflow.python.layers.convolutional.Conv2D object at 0x7f8a0f01a400>> could not be transformed and will be executed as-is. Please report this to the AutgoGraph team. When filing the bug, set the verbosity to 10 (on Linux, `export AUTOGRAPH_VERBOSITY=10`) and attach the full output. Cause: converting <bound method Conv.call of <tensorflow.python.layers.convolutional.Conv2D object at 0x7f8a0f01a400>>: AssertionError: Bad argument number for Name: 3, expecting 4\n",
      "WARNING: Entity <bound method Conv.call of <tensorflow.python.layers.convolutional.Conv2D object at 0x7f8a0f01a400>> could not be transformed and will be executed as-is. Please report this to the AutgoGraph team. When filing the bug, set the verbosity to 10 (on Linux, `export AUTOGRAPH_VERBOSITY=10`) and attach the full output. Cause: converting <bound method Conv.call of <tensorflow.python.layers.convolutional.Conv2D object at 0x7f8a0f01a400>>: AssertionError: Bad argument number for Name: 3, expecting 4\n",
      "WARNING:tensorflow:Entity <bound method Conv.call of <tensorflow.python.layers.convolutional.Conv2D object at 0x7f8a0efc5550>> could not be transformed and will be executed as-is. Please report this to the AutgoGraph team. When filing the bug, set the verbosity to 10 (on Linux, `export AUTOGRAPH_VERBOSITY=10`) and attach the full output. Cause: converting <bound method Conv.call of <tensorflow.python.layers.convolutional.Conv2D object at 0x7f8a0efc5550>>: AssertionError: Bad argument number for Name: 3, expecting 4\n"
     ]
    },
    {
     "name": "stdout",
     "output_type": "stream",
     "text": [
      "WARNING: Entity <bound method Conv.call of <tensorflow.python.layers.convolutional.Conv2D object at 0x7f8a0efc5550>> could not be transformed and will be executed as-is. Please report this to the AutgoGraph team. When filing the bug, set the verbosity to 10 (on Linux, `export AUTOGRAPH_VERBOSITY=10`) and attach the full output. Cause: converting <bound method Conv.call of <tensorflow.python.layers.convolutional.Conv2D object at 0x7f8a0efc5550>>: AssertionError: Bad argument number for Name: 3, expecting 4\n",
      "WARNING:tensorflow:Entity <bound method Conv.call of <tensorflow.python.layers.convolutional.Conv2D object at 0x7f8a0ef78b70>> could not be transformed and will be executed as-is. Please report this to the AutgoGraph team. When filing the bug, set the verbosity to 10 (on Linux, `export AUTOGRAPH_VERBOSITY=10`) and attach the full output. Cause: converting <bound method Conv.call of <tensorflow.python.layers.convolutional.Conv2D object at 0x7f8a0ef78b70>>: AssertionError: Bad argument number for Name: 3, expecting 4\n",
      "WARNING: Entity <bound method Conv.call of <tensorflow.python.layers.convolutional.Conv2D object at 0x7f8a0ef78b70>> could not be transformed and will be executed as-is. Please report this to the AutgoGraph team. When filing the bug, set the verbosity to 10 (on Linux, `export AUTOGRAPH_VERBOSITY=10`) and attach the full output. Cause: converting <bound method Conv.call of <tensorflow.python.layers.convolutional.Conv2D object at 0x7f8a0ef78b70>>: AssertionError: Bad argument number for Name: 3, expecting 4\n",
      "WARNING:tensorflow:Entity <bound method Conv.call of <tensorflow.python.layers.convolutional.Conv2D object at 0x7f8a0efd3cc0>> could not be transformed and will be executed as-is. Please report this to the AutgoGraph team. When filing the bug, set the verbosity to 10 (on Linux, `export AUTOGRAPH_VERBOSITY=10`) and attach the full output. Cause: converting <bound method Conv.call of <tensorflow.python.layers.convolutional.Conv2D object at 0x7f8a0efd3cc0>>: AssertionError: Bad argument number for Name: 3, expecting 4\n",
      "WARNING: Entity <bound method Conv.call of <tensorflow.python.layers.convolutional.Conv2D object at 0x7f8a0efd3cc0>> could not be transformed and will be executed as-is. Please report this to the AutgoGraph team. When filing the bug, set the verbosity to 10 (on Linux, `export AUTOGRAPH_VERBOSITY=10`) and attach the full output. Cause: converting <bound method Conv.call of <tensorflow.python.layers.convolutional.Conv2D object at 0x7f8a0efd3cc0>>: AssertionError: Bad argument number for Name: 3, expecting 4\n",
      "WARNING:tensorflow:Entity <bound method Conv.call of <tensorflow.python.layers.convolutional.Conv2D object at 0x7f8a0ef9a0b8>> could not be transformed and will be executed as-is. Please report this to the AutgoGraph team. When filing the bug, set the verbosity to 10 (on Linux, `export AUTOGRAPH_VERBOSITY=10`) and attach the full output. Cause: converting <bound method Conv.call of <tensorflow.python.layers.convolutional.Conv2D object at 0x7f8a0ef9a0b8>>: AssertionError: Bad argument number for Name: 3, expecting 4\n",
      "WARNING: Entity <bound method Conv.call of <tensorflow.python.layers.convolutional.Conv2D object at 0x7f8a0ef9a0b8>> could not be transformed and will be executed as-is. Please report this to the AutgoGraph team. When filing the bug, set the verbosity to 10 (on Linux, `export AUTOGRAPH_VERBOSITY=10`) and attach the full output. Cause: converting <bound method Conv.call of <tensorflow.python.layers.convolutional.Conv2D object at 0x7f8a0ef9a0b8>>: AssertionError: Bad argument number for Name: 3, expecting 4\n",
      "WARNING:tensorflow:Entity <bound method Conv.call of <tensorflow.python.layers.convolutional.Conv2D object at 0x7f8a0ef3b7f0>> could not be transformed and will be executed as-is. Please report this to the AutgoGraph team. When filing the bug, set the verbosity to 10 (on Linux, `export AUTOGRAPH_VERBOSITY=10`) and attach the full output. Cause: converting <bound method Conv.call of <tensorflow.python.layers.convolutional.Conv2D object at 0x7f8a0ef3b7f0>>: AssertionError: Bad argument number for Name: 3, expecting 4\n",
      "WARNING: Entity <bound method Conv.call of <tensorflow.python.layers.convolutional.Conv2D object at 0x7f8a0ef3b7f0>> could not be transformed and will be executed as-is. Please report this to the AutgoGraph team. When filing the bug, set the verbosity to 10 (on Linux, `export AUTOGRAPH_VERBOSITY=10`) and attach the full output. Cause: converting <bound method Conv.call of <tensorflow.python.layers.convolutional.Conv2D object at 0x7f8a0ef3b7f0>>: AssertionError: Bad argument number for Name: 3, expecting 4\n",
      "WARNING:tensorflow:Entity <bound method Conv.call of <tensorflow.python.layers.convolutional.Conv2D object at 0x7f8a0f094e48>> could not be transformed and will be executed as-is. Please report this to the AutgoGraph team. When filing the bug, set the verbosity to 10 (on Linux, `export AUTOGRAPH_VERBOSITY=10`) and attach the full output. Cause: converting <bound method Conv.call of <tensorflow.python.layers.convolutional.Conv2D object at 0x7f8a0f094e48>>: AssertionError: Bad argument number for Name: 3, expecting 4\n",
      "WARNING: Entity <bound method Conv.call of <tensorflow.python.layers.convolutional.Conv2D object at 0x7f8a0f094e48>> could not be transformed and will be executed as-is. Please report this to the AutgoGraph team. When filing the bug, set the verbosity to 10 (on Linux, `export AUTOGRAPH_VERBOSITY=10`) and attach the full output. Cause: converting <bound method Conv.call of <tensorflow.python.layers.convolutional.Conv2D object at 0x7f8a0f094e48>>: AssertionError: Bad argument number for Name: 3, expecting 4\n",
      "WARNING:tensorflow:Entity <bound method Conv.call of <tensorflow.python.layers.convolutional.Conv2D object at 0x7f8a0ef08470>> could not be transformed and will be executed as-is. Please report this to the AutgoGraph team. When filing the bug, set the verbosity to 10 (on Linux, `export AUTOGRAPH_VERBOSITY=10`) and attach the full output. Cause: converting <bound method Conv.call of <tensorflow.python.layers.convolutional.Conv2D object at 0x7f8a0ef08470>>: AssertionError: Bad argument number for Name: 3, expecting 4\n",
      "WARNING: Entity <bound method Conv.call of <tensorflow.python.layers.convolutional.Conv2D object at 0x7f8a0ef08470>> could not be transformed and will be executed as-is. Please report this to the AutgoGraph team. When filing the bug, set the verbosity to 10 (on Linux, `export AUTOGRAPH_VERBOSITY=10`) and attach the full output. Cause: converting <bound method Conv.call of <tensorflow.python.layers.convolutional.Conv2D object at 0x7f8a0ef08470>>: AssertionError: Bad argument number for Name: 3, expecting 4\n",
      "WARNING:tensorflow:Entity <bound method Conv.call of <tensorflow.python.layers.convolutional.Conv2D object at 0x7f8a0eeaa438>> could not be transformed and will be executed as-is. Please report this to the AutgoGraph team. When filing the bug, set the verbosity to 10 (on Linux, `export AUTOGRAPH_VERBOSITY=10`) and attach the full output. Cause: converting <bound method Conv.call of <tensorflow.python.layers.convolutional.Conv2D object at 0x7f8a0eeaa438>>: AssertionError: Bad argument number for Name: 3, expecting 4\n",
      "WARNING: Entity <bound method Conv.call of <tensorflow.python.layers.convolutional.Conv2D object at 0x7f8a0eeaa438>> could not be transformed and will be executed as-is. Please report this to the AutgoGraph team. When filing the bug, set the verbosity to 10 (on Linux, `export AUTOGRAPH_VERBOSITY=10`) and attach the full output. Cause: converting <bound method Conv.call of <tensorflow.python.layers.convolutional.Conv2D object at 0x7f8a0eeaa438>>: AssertionError: Bad argument number for Name: 3, expecting 4\n",
      "WARNING:tensorflow:Entity <bound method Conv.call of <tensorflow.python.layers.convolutional.Conv2D object at 0x7f8a0ef1d780>> could not be transformed and will be executed as-is. Please report this to the AutgoGraph team. When filing the bug, set the verbosity to 10 (on Linux, `export AUTOGRAPH_VERBOSITY=10`) and attach the full output. Cause: converting <bound method Conv.call of <tensorflow.python.layers.convolutional.Conv2D object at 0x7f8a0ef1d780>>: AssertionError: Bad argument number for Name: 3, expecting 4\n"
     ]
    },
    {
     "name": "stdout",
     "output_type": "stream",
     "text": [
      "WARNING: Entity <bound method Conv.call of <tensorflow.python.layers.convolutional.Conv2D object at 0x7f8a0ef1d780>> could not be transformed and will be executed as-is. Please report this to the AutgoGraph team. When filing the bug, set the verbosity to 10 (on Linux, `export AUTOGRAPH_VERBOSITY=10`) and attach the full output. Cause: converting <bound method Conv.call of <tensorflow.python.layers.convolutional.Conv2D object at 0x7f8a0ef1d780>>: AssertionError: Bad argument number for Name: 3, expecting 4\n",
      "WARNING:tensorflow:Entity <bound method Conv.call of <tensorflow.python.layers.convolutional.Conv2D object at 0x7f8a0eeb3ba8>> could not be transformed and will be executed as-is. Please report this to the AutgoGraph team. When filing the bug, set the verbosity to 10 (on Linux, `export AUTOGRAPH_VERBOSITY=10`) and attach the full output. Cause: converting <bound method Conv.call of <tensorflow.python.layers.convolutional.Conv2D object at 0x7f8a0eeb3ba8>>: AssertionError: Bad argument number for Name: 3, expecting 4\n",
      "WARNING: Entity <bound method Conv.call of <tensorflow.python.layers.convolutional.Conv2D object at 0x7f8a0eeb3ba8>> could not be transformed and will be executed as-is. Please report this to the AutgoGraph team. When filing the bug, set the verbosity to 10 (on Linux, `export AUTOGRAPH_VERBOSITY=10`) and attach the full output. Cause: converting <bound method Conv.call of <tensorflow.python.layers.convolutional.Conv2D object at 0x7f8a0eeb3ba8>>: AssertionError: Bad argument number for Name: 3, expecting 4\n",
      "WARNING:tensorflow:Entity <bound method Conv.call of <tensorflow.python.layers.convolutional.Conv2D object at 0x7f8a0eeb34e0>> could not be transformed and will be executed as-is. Please report this to the AutgoGraph team. When filing the bug, set the verbosity to 10 (on Linux, `export AUTOGRAPH_VERBOSITY=10`) and attach the full output. Cause: converting <bound method Conv.call of <tensorflow.python.layers.convolutional.Conv2D object at 0x7f8a0eeb34e0>>: AssertionError: Bad argument number for Name: 3, expecting 4\n",
      "WARNING: Entity <bound method Conv.call of <tensorflow.python.layers.convolutional.Conv2D object at 0x7f8a0eeb34e0>> could not be transformed and will be executed as-is. Please report this to the AutgoGraph team. When filing the bug, set the verbosity to 10 (on Linux, `export AUTOGRAPH_VERBOSITY=10`) and attach the full output. Cause: converting <bound method Conv.call of <tensorflow.python.layers.convolutional.Conv2D object at 0x7f8a0eeb34e0>>: AssertionError: Bad argument number for Name: 3, expecting 4\n",
      "WARNING:tensorflow:Entity <bound method Conv.call of <tensorflow.python.layers.convolutional.Conv2D object at 0x7f8a0eeb3cc0>> could not be transformed and will be executed as-is. Please report this to the AutgoGraph team. When filing the bug, set the verbosity to 10 (on Linux, `export AUTOGRAPH_VERBOSITY=10`) and attach the full output. Cause: converting <bound method Conv.call of <tensorflow.python.layers.convolutional.Conv2D object at 0x7f8a0eeb3cc0>>: AssertionError: Bad argument number for Name: 3, expecting 4\n",
      "WARNING: Entity <bound method Conv.call of <tensorflow.python.layers.convolutional.Conv2D object at 0x7f8a0eeb3cc0>> could not be transformed and will be executed as-is. Please report this to the AutgoGraph team. When filing the bug, set the verbosity to 10 (on Linux, `export AUTOGRAPH_VERBOSITY=10`) and attach the full output. Cause: converting <bound method Conv.call of <tensorflow.python.layers.convolutional.Conv2D object at 0x7f8a0eeb3cc0>>: AssertionError: Bad argument number for Name: 3, expecting 4\n",
      "WARNING:tensorflow:Entity <bound method Conv.call of <tensorflow.python.layers.convolutional.Conv2D object at 0x7f8a0edafb00>> could not be transformed and will be executed as-is. Please report this to the AutgoGraph team. When filing the bug, set the verbosity to 10 (on Linux, `export AUTOGRAPH_VERBOSITY=10`) and attach the full output. Cause: converting <bound method Conv.call of <tensorflow.python.layers.convolutional.Conv2D object at 0x7f8a0edafb00>>: AssertionError: Bad argument number for Name: 3, expecting 4\n",
      "WARNING: Entity <bound method Conv.call of <tensorflow.python.layers.convolutional.Conv2D object at 0x7f8a0edafb00>> could not be transformed and will be executed as-is. Please report this to the AutgoGraph team. When filing the bug, set the verbosity to 10 (on Linux, `export AUTOGRAPH_VERBOSITY=10`) and attach the full output. Cause: converting <bound method Conv.call of <tensorflow.python.layers.convolutional.Conv2D object at 0x7f8a0edafb00>>: AssertionError: Bad argument number for Name: 3, expecting 4\n",
      "WARNING:tensorflow:Entity <bound method Conv.call of <tensorflow.python.layers.convolutional.Conv2D object at 0x7f8a0eeb32b0>> could not be transformed and will be executed as-is. Please report this to the AutgoGraph team. When filing the bug, set the verbosity to 10 (on Linux, `export AUTOGRAPH_VERBOSITY=10`) and attach the full output. Cause: converting <bound method Conv.call of <tensorflow.python.layers.convolutional.Conv2D object at 0x7f8a0eeb32b0>>: AssertionError: Bad argument number for Name: 3, expecting 4\n",
      "WARNING: Entity <bound method Conv.call of <tensorflow.python.layers.convolutional.Conv2D object at 0x7f8a0eeb32b0>> could not be transformed and will be executed as-is. Please report this to the AutgoGraph team. When filing the bug, set the verbosity to 10 (on Linux, `export AUTOGRAPH_VERBOSITY=10`) and attach the full output. Cause: converting <bound method Conv.call of <tensorflow.python.layers.convolutional.Conv2D object at 0x7f8a0eeb32b0>>: AssertionError: Bad argument number for Name: 3, expecting 4\n",
      "WARNING:tensorflow:Entity <bound method Conv.call of <tensorflow.python.layers.convolutional.Conv2D object at 0x7f8a0ee0ec88>> could not be transformed and will be executed as-is. Please report this to the AutgoGraph team. When filing the bug, set the verbosity to 10 (on Linux, `export AUTOGRAPH_VERBOSITY=10`) and attach the full output. Cause: converting <bound method Conv.call of <tensorflow.python.layers.convolutional.Conv2D object at 0x7f8a0ee0ec88>>: AssertionError: Bad argument number for Name: 3, expecting 4\n",
      "WARNING: Entity <bound method Conv.call of <tensorflow.python.layers.convolutional.Conv2D object at 0x7f8a0ee0ec88>> could not be transformed and will be executed as-is. Please report this to the AutgoGraph team. When filing the bug, set the verbosity to 10 (on Linux, `export AUTOGRAPH_VERBOSITY=10`) and attach the full output. Cause: converting <bound method Conv.call of <tensorflow.python.layers.convolutional.Conv2D object at 0x7f8a0ee0ec88>>: AssertionError: Bad argument number for Name: 3, expecting 4\n",
      "WARNING:tensorflow:Entity <bound method Conv.call of <tensorflow.python.layers.convolutional.Conv2D object at 0x7f8a0ee13630>> could not be transformed and will be executed as-is. Please report this to the AutgoGraph team. When filing the bug, set the verbosity to 10 (on Linux, `export AUTOGRAPH_VERBOSITY=10`) and attach the full output. Cause: converting <bound method Conv.call of <tensorflow.python.layers.convolutional.Conv2D object at 0x7f8a0ee13630>>: AssertionError: Bad argument number for Name: 3, expecting 4\n",
      "WARNING: Entity <bound method Conv.call of <tensorflow.python.layers.convolutional.Conv2D object at 0x7f8a0ee13630>> could not be transformed and will be executed as-is. Please report this to the AutgoGraph team. When filing the bug, set the verbosity to 10 (on Linux, `export AUTOGRAPH_VERBOSITY=10`) and attach the full output. Cause: converting <bound method Conv.call of <tensorflow.python.layers.convolutional.Conv2D object at 0x7f8a0ee13630>>: AssertionError: Bad argument number for Name: 3, expecting 4\n",
      "WARNING:tensorflow:Entity <bound method Conv.call of <tensorflow.python.layers.convolutional.Conv2D object at 0x7f8a0edafb00>> could not be transformed and will be executed as-is. Please report this to the AutgoGraph team. When filing the bug, set the verbosity to 10 (on Linux, `export AUTOGRAPH_VERBOSITY=10`) and attach the full output. Cause: converting <bound method Conv.call of <tensorflow.python.layers.convolutional.Conv2D object at 0x7f8a0edafb00>>: AssertionError: Bad argument number for Name: 3, expecting 4\n"
     ]
    },
    {
     "name": "stdout",
     "output_type": "stream",
     "text": [
      "WARNING: Entity <bound method Conv.call of <tensorflow.python.layers.convolutional.Conv2D object at 0x7f8a0edafb00>> could not be transformed and will be executed as-is. Please report this to the AutgoGraph team. When filing the bug, set the verbosity to 10 (on Linux, `export AUTOGRAPH_VERBOSITY=10`) and attach the full output. Cause: converting <bound method Conv.call of <tensorflow.python.layers.convolutional.Conv2D object at 0x7f8a0edafb00>>: AssertionError: Bad argument number for Name: 3, expecting 4\n",
      "WARNING:tensorflow:Entity <bound method Conv.call of <tensorflow.python.layers.convolutional.Conv2D object at 0x7f8a0ed164a8>> could not be transformed and will be executed as-is. Please report this to the AutgoGraph team. When filing the bug, set the verbosity to 10 (on Linux, `export AUTOGRAPH_VERBOSITY=10`) and attach the full output. Cause: converting <bound method Conv.call of <tensorflow.python.layers.convolutional.Conv2D object at 0x7f8a0ed164a8>>: AssertionError: Bad argument number for Name: 3, expecting 4\n",
      "WARNING: Entity <bound method Conv.call of <tensorflow.python.layers.convolutional.Conv2D object at 0x7f8a0ed164a8>> could not be transformed and will be executed as-is. Please report this to the AutgoGraph team. When filing the bug, set the verbosity to 10 (on Linux, `export AUTOGRAPH_VERBOSITY=10`) and attach the full output. Cause: converting <bound method Conv.call of <tensorflow.python.layers.convolutional.Conv2D object at 0x7f8a0ed164a8>>: AssertionError: Bad argument number for Name: 3, expecting 4\n",
      "WARNING:tensorflow:Entity <bound method Conv.call of <tensorflow.python.layers.convolutional.Conv2D object at 0x7f8a0ed16828>> could not be transformed and will be executed as-is. Please report this to the AutgoGraph team. When filing the bug, set the verbosity to 10 (on Linux, `export AUTOGRAPH_VERBOSITY=10`) and attach the full output. Cause: converting <bound method Conv.call of <tensorflow.python.layers.convolutional.Conv2D object at 0x7f8a0ed16828>>: AssertionError: Bad argument number for Name: 3, expecting 4\n",
      "WARNING: Entity <bound method Conv.call of <tensorflow.python.layers.convolutional.Conv2D object at 0x7f8a0ed16828>> could not be transformed and will be executed as-is. Please report this to the AutgoGraph team. When filing the bug, set the verbosity to 10 (on Linux, `export AUTOGRAPH_VERBOSITY=10`) and attach the full output. Cause: converting <bound method Conv.call of <tensorflow.python.layers.convolutional.Conv2D object at 0x7f8a0ed16828>>: AssertionError: Bad argument number for Name: 3, expecting 4\n",
      "WARNING:tensorflow:From ../deep_motion_mag/magnet.py:330: The name tf.train.Saver is deprecated. Please use tf.compat.v1.train.Saver instead.\n",
      "\n",
      "WARNING:tensorflow:From ../deep_motion_mag/magnet.py:398: The name tf.global_variables_initializer is deprecated. Please use tf.compat.v1.global_variables_initializer instead.\n",
      "\n",
      "WARNING:tensorflow:From ../deep_motion_mag/magnet.py:399: The name tf.local_variables_initializer is deprecated. Please use tf.compat.v1.local_variables_initializer instead.\n",
      "\n",
      " [*] Reading checkpoint...\n",
      "WARNING:tensorflow:From /afs/csail.mit.edu/u/c/cfosco/.local/lib/python3.5/site-packages/tensorflow/python/training/saver.py:1276: checkpoint_exists (from tensorflow.python.training.checkpoint_management) is deprecated and will be removed in a future version.\n",
      "Instructions for updating:\n",
      "Use standard file APIs to check for files with this prefix.\n",
      "INFO:tensorflow:Restoring parameters from ../deep_motion_mag/data/training/o3f_hmhm2_bg_qnoise_mix4_nl_n_t_ds3/checkpoint/o3f_hmhm2_bg_qnoise_mix4_nl_n_t_ds3-259002\n"
     ]
    },
    {
     "name": "stderr",
     "output_type": "stream",
     "text": [
      "\n",
      "Applying IIR:   0%|          | 0/25 [00:00<?, ?it/s]\u001b[A"
     ]
    },
    {
     "name": "stdout",
     "output_type": "stream",
     "text": [
      "Loaded from ckpt: ../deep_motion_mag/data/training/o3f_hmhm2_bg_qnoise_mix4_nl_n_t_ds3/checkpoint/o3f_hmhm2_bg_qnoise_mix4_nl_n_t_ds3-259002\n",
      "[*] Load Success\n",
      "Iteration number is 259002\n"
     ]
    },
    {
     "name": "stderr",
     "output_type": "stream",
     "text": [
      "\n",
      "Applying IIR:   4%|▍         | 1/25 [00:01<00:36,  1.52s/it]\u001b[A\n",
      "Applying IIR:  16%|█▌        | 4/25 [00:01<00:22,  1.08s/it]\u001b[A\n",
      "Applying IIR:  32%|███▏      | 8/25 [00:01<00:12,  1.31it/s]\u001b[A\n",
      "Applying IIR:  48%|████▊     | 12/25 [00:01<00:07,  1.84it/s]\u001b[A\n",
      "Applying IIR:  60%|██████    | 15/25 [00:01<00:03,  2.55it/s]\u001b[A\n",
      "Applying IIR:  76%|███████▌  | 19/25 [00:02<00:01,  3.53it/s]\u001b[A\n",
      "Applying IIR: 100%|██████████| 25/25 [00:02<00:00, 10.65it/s]\u001b[A\n",
      "  0%|          | 1/1268 [00:08<2:52:22,  8.16s/it]\n",
      "Applying IIR:   0%|          | 0/25 [00:00<?, ?it/s]\u001b[A\n",
      "Applying IIR:  12%|█▏        | 3/25 [00:00<00:00, 28.00it/s]\u001b[A"
     ]
    },
    {
     "name": "stdout",
     "output_type": "stream",
     "text": [
      "running motion mag for vid: 2057131_1224068_C_003.mp4\n",
      "video ../../deepfake_data/fb_dfd_release_0.1_final/method_A_crops/2057131_1224068_C_003.mp4\n",
      "\n",
      "Iteration number is 259002\n"
     ]
    },
    {
     "name": "stderr",
     "output_type": "stream",
     "text": [
      "\n",
      "Applying IIR:  24%|██▍       | 6/25 [00:00<00:00, 27.76it/s]\u001b[A\n",
      "Applying IIR:  36%|███▌      | 9/25 [00:00<00:00, 28.13it/s]\u001b[A\n",
      "Applying IIR:  48%|████▊     | 12/25 [00:00<00:00, 28.46it/s]\u001b[A\n",
      "Applying IIR:  60%|██████    | 15/25 [00:00<00:00, 27.66it/s]\u001b[A\n",
      "Applying IIR:  76%|███████▌  | 19/25 [00:00<00:00, 28.85it/s]\u001b[A\n",
      "Applying IIR: 100%|██████████| 25/25 [00:00<00:00, 29.18it/s]\u001b[A\n",
      "  0%|          | 2/1268 [00:09<2:07:12,  6.03s/it]\n",
      "Applying IIR:   0%|          | 0/25 [00:00<?, ?it/s]\u001b[A\n",
      "Applying IIR:  16%|█▌        | 4/25 [00:00<00:00, 30.52it/s]\u001b[A"
     ]
    },
    {
     "name": "stdout",
     "output_type": "stream",
     "text": [
      "running motion mag for vid: 2059066_2113344_D_002.mp4\n",
      "video ../../deepfake_data/fb_dfd_release_0.1_final/method_A_crops/2059066_2113344_D_002.mp4\n",
      "\n",
      "Iteration number is 259002\n"
     ]
    },
    {
     "name": "stderr",
     "output_type": "stream",
     "text": [
      "\n",
      "Applying IIR:  28%|██▊       | 7/25 [00:00<00:00, 30.07it/s]\u001b[A\n",
      "Applying IIR:  40%|████      | 10/25 [00:00<00:00, 29.45it/s]\u001b[A\n",
      "Applying IIR:  52%|█████▏    | 13/25 [00:00<00:00, 28.34it/s]\u001b[A\n",
      "Applying IIR:  64%|██████▍   | 16/25 [00:00<00:00, 27.72it/s]\u001b[A\n",
      "Applying IIR:  76%|███████▌  | 19/25 [00:00<00:00, 27.98it/s]\u001b[A\n",
      "Applying IIR:  88%|████████▊ | 22/25 [00:00<00:00, 28.42it/s]\u001b[A\n",
      "Applying IIR: 100%|██████████| 25/25 [00:00<00:00, 28.22it/s]\u001b[A\n",
      "  0%|          | 3/1268 [00:10<1:35:52,  4.55s/it]\n",
      "Applying IIR:   0%|          | 0/25 [00:00<?, ?it/s]\u001b[A\n",
      "Applying IIR:  12%|█▏        | 3/25 [00:00<00:00, 25.04it/s]\u001b[A"
     ]
    },
    {
     "name": "stdout",
     "output_type": "stream",
     "text": [
      "running motion mag for vid: 1609928_1681757_A_003.mp4\n",
      "video ../../deepfake_data/fb_dfd_release_0.1_final/method_A_crops/1609928_1681757_A_003.mp4\n",
      "\n",
      "Iteration number is 259002\n"
     ]
    },
    {
     "name": "stderr",
     "output_type": "stream",
     "text": [
      "\n",
      "Applying IIR:  24%|██▍       | 6/25 [00:00<00:00, 25.75it/s]\u001b[A\n",
      "Applying IIR:  36%|███▌      | 9/25 [00:00<00:00, 26.86it/s]\u001b[A\n",
      "Applying IIR:  48%|████▊     | 12/25 [00:00<00:00, 27.26it/s]\u001b[A\n",
      "Applying IIR:  60%|██████    | 15/25 [00:00<00:00, 27.52it/s]\u001b[A\n",
      "Applying IIR:  76%|███████▌  | 19/25 [00:00<00:00, 28.65it/s]\u001b[A\n",
      "Applying IIR: 100%|██████████| 25/25 [00:00<00:00, 28.75it/s]\u001b[A\n",
      "  0%|          | 4/1268 [00:11<1:13:30,  3.49s/it]\n",
      "Applying IIR:   0%|          | 0/25 [00:00<?, ?it/s]\u001b[A\n",
      "Applying IIR:  12%|█▏        | 3/25 [00:00<00:00, 29.57it/s]\u001b[A"
     ]
    },
    {
     "name": "stdout",
     "output_type": "stream",
     "text": [
      "running motion mag for vid: 1061402_804259_F_003.mp4\n",
      "video ../../deepfake_data/fb_dfd_release_0.1_final/method_A_crops/1061402_804259_F_003.mp4\n",
      "\n",
      "Iteration number is 259002\n"
     ]
    },
    {
     "name": "stderr",
     "output_type": "stream",
     "text": [
      "\n",
      "Applying IIR:  28%|██▊       | 7/25 [00:00<00:00, 30.33it/s]\u001b[A\n",
      "Applying IIR:  44%|████▍     | 11/25 [00:00<00:00, 30.14it/s]\u001b[A\n",
      "Applying IIR:  60%|██████    | 15/25 [00:00<00:00, 30.10it/s]\u001b[A\n",
      "Applying IIR:  72%|███████▏  | 18/25 [00:00<00:00, 29.10it/s]\u001b[A\n",
      "Applying IIR:  88%|████████▊ | 22/25 [00:00<00:00, 29.49it/s]\u001b[A\n",
      "Applying IIR: 100%|██████████| 25/25 [00:00<00:00, 29.62it/s]\u001b[A\n",
      "  0%|          | 5/1268 [00:12<57:49,  2.75s/it]  \n",
      "Applying IIR:   0%|          | 0/25 [00:00<?, ?it/s]\u001b[A\n",
      "Applying IIR:  16%|█▌        | 4/25 [00:00<00:00, 33.01it/s]\u001b[A"
     ]
    },
    {
     "name": "stdout",
     "output_type": "stream",
     "text": [
      "running motion mag for vid: 1681757_1224068_F_001.mp4\n",
      "video ../../deepfake_data/fb_dfd_release_0.1_final/method_A_crops/1681757_1224068_F_001.mp4\n",
      "\n",
      "Iteration number is 259002\n"
     ]
    },
    {
     "name": "stderr",
     "output_type": "stream",
     "text": [
      "\n",
      "Applying IIR:  32%|███▏      | 8/25 [00:00<00:00, 32.58it/s]\u001b[A\n",
      "Applying IIR:  48%|████▊     | 12/25 [00:00<00:00, 32.96it/s]\u001b[A\n",
      "Applying IIR:  64%|██████▍   | 16/25 [00:00<00:00, 33.45it/s]\u001b[A\n",
      "Applying IIR:  80%|████████  | 20/25 [00:00<00:00, 33.72it/s]\u001b[A\n",
      "Applying IIR: 100%|██████████| 25/25 [00:00<00:00, 32.75it/s]\u001b[A\n",
      "  0%|          | 6/1268 [00:13<46:32,  2.21s/it]\n",
      "Applying IIR:   0%|          | 0/25 [00:00<?, ?it/s]\u001b[A\n",
      "Applying IIR:  12%|█▏        | 3/25 [00:00<00:00, 25.95it/s]\u001b[A"
     ]
    },
    {
     "name": "stdout",
     "output_type": "stream",
     "text": [
      "running motion mag for vid: 00238.jpg\n",
      "video ../../deepfake_data/fb_dfd_release_0.1_final/method_A_crops/00238.jpg\n",
      "\n",
      "Exception found: list index out of range\n",
      "running motion mag for vid: 00360.jpg\n",
      "video ../../deepfake_data/fb_dfd_release_0.1_final/method_A_crops/00360.jpg\n",
      "\n",
      "Exception found: list index out of range\n",
      "running motion mag for vid: 00416.jpg\n",
      "video ../../deepfake_data/fb_dfd_release_0.1_final/method_A_crops/00416.jpg\n",
      "\n",
      "Exception found: list index out of range\n",
      "running motion mag for vid: 00077.jpg\n",
      "video ../../deepfake_data/fb_dfd_release_0.1_final/method_A_crops/00077.jpg\n",
      "\n",
      "Exception found: list index out of range\n",
      "running motion mag for vid: 00295.jpg\n",
      "video ../../deepfake_data/fb_dfd_release_0.1_final/method_A_crops/00295.jpg\n",
      "\n",
      "Exception found: list index out of range\n",
      "running motion mag for vid: 00153.jpg\n",
      "video ../../deepfake_data/fb_dfd_release_0.1_final/method_A_crops/00153.jpg\n",
      "\n",
      "Exception found: list index out of range\n",
      "running motion mag for vid: 00182.jpg\n",
      "video ../../deepfake_data/fb_dfd_release_0.1_final/method_A_crops/00182.jpg\n",
      "\n",
      "Exception found: list index out of range\n",
      "running motion mag for vid: 00244.jpg\n",
      "video ../../deepfake_data/fb_dfd_release_0.1_final/method_A_crops/00244.jpg\n",
      "\n",
      "Exception found: list index out of range\n",
      "running motion mag for vid: 2057131_1224068_G_003.mp4\n",
      "video ../../deepfake_data/fb_dfd_release_0.1_final/method_A_crops/2057131_1224068_G_003.mp4\n",
      "\n",
      "Iteration number is 259002\n"
     ]
    },
    {
     "name": "stderr",
     "output_type": "stream",
     "text": [
      "\n",
      "Applying IIR:  24%|██▍       | 6/25 [00:00<00:00, 25.02it/s]\u001b[A\n",
      "Applying IIR:  36%|███▌      | 9/25 [00:00<00:00, 25.55it/s]\u001b[A\n",
      "Applying IIR:  48%|████▊     | 12/25 [00:00<00:00, 25.19it/s]\u001b[A\n",
      "Applying IIR:  60%|██████    | 15/25 [00:00<00:00, 25.93it/s]\u001b[A\n",
      "Applying IIR:  72%|███████▏  | 18/25 [00:00<00:00, 27.02it/s]\u001b[A\n",
      "Applying IIR:  84%|████████▍ | 21/25 [00:00<00:00, 27.23it/s]\u001b[A\n",
      "Applying IIR: 100%|██████████| 25/25 [00:00<00:00, 26.42it/s]\u001b[A\n",
      "  1%|          | 15/1268 [00:14<33:08,  1.59s/it]\n",
      "Applying IIR:   0%|          | 0/25 [00:00<?, ?it/s]\u001b[A\n",
      "Applying IIR:  16%|█▌        | 4/25 [00:00<00:00, 32.31it/s]\u001b[A"
     ]
    },
    {
     "name": "stdout",
     "output_type": "stream",
     "text": [
      "running motion mag for vid: 1916010_1224068_B_003.mp4\n",
      "video ../../deepfake_data/fb_dfd_release_0.1_final/method_A_crops/1916010_1224068_B_003.mp4\n",
      "\n",
      "Iteration number is 259002\n"
     ]
    },
    {
     "name": "stderr",
     "output_type": "stream",
     "text": [
      "\n",
      "Applying IIR:  32%|███▏      | 8/25 [00:00<00:00, 32.07it/s]\u001b[A\n",
      "Applying IIR:  48%|████▊     | 12/25 [00:00<00:00, 32.08it/s]\u001b[A\n",
      "Applying IIR:  64%|██████▍   | 16/25 [00:00<00:00, 32.35it/s]\u001b[A\n",
      "Applying IIR:  76%|███████▌  | 19/25 [00:00<00:00, 29.76it/s]\u001b[A\n",
      "Applying IIR: 100%|██████████| 25/25 [00:00<00:00, 31.02it/s]\u001b[A\n",
      "  1%|▏         | 16/1268 [00:15<29:20,  1.41s/it]\n",
      "Applying IIR:   0%|          | 0/25 [00:00<?, ?it/s]\u001b[A\n",
      "Applying IIR:  12%|█▏        | 3/25 [00:00<00:00, 27.66it/s]\u001b[A"
     ]
    },
    {
     "name": "stdout",
     "output_type": "stream",
     "text": [
      "running motion mag for vid: 1061402_804259_B_003.mp4\n",
      "video ../../deepfake_data/fb_dfd_release_0.1_final/method_A_crops/1061402_804259_B_003.mp4\n",
      "\n",
      "Iteration number is 259002\n"
     ]
    },
    {
     "name": "stderr",
     "output_type": "stream",
     "text": [
      "\n",
      "Applying IIR:  24%|██▍       | 6/25 [00:00<00:00, 27.45it/s]\u001b[A\n",
      "Applying IIR:  36%|███▌      | 9/25 [00:00<00:00, 26.84it/s]\u001b[A\n",
      "Applying IIR:  52%|█████▏    | 13/25 [00:00<00:00, 27.97it/s]\u001b[A\n",
      "Applying IIR:  68%|██████▊   | 17/25 [00:00<00:00, 28.36it/s]\u001b[A\n",
      "Applying IIR:  84%|████████▍ | 21/25 [00:00<00:00, 29.61it/s]\u001b[A\n",
      "Applying IIR: 100%|██████████| 25/25 [00:00<00:00, 29.63it/s]\u001b[A\n",
      "  1%|▏         | 17/1268 [00:16<26:53,  1.29s/it]\n",
      "Applying IIR:   0%|          | 0/25 [00:00<?, ?it/s]\u001b[A\n",
      "Applying IIR:  12%|█▏        | 3/25 [00:00<00:00, 27.37it/s]\u001b[A"
     ]
    },
    {
     "name": "stdout",
     "output_type": "stream",
     "text": [
      "running motion mag for vid: 1681757_1224068_B_001.mp4\n",
      "video ../../deepfake_data/fb_dfd_release_0.1_final/method_A_crops/1681757_1224068_B_001.mp4\n",
      "\n",
      "Iteration number is 259002\n"
     ]
    },
    {
     "name": "stderr",
     "output_type": "stream",
     "text": [
      "\n",
      "Applying IIR:  24%|██▍       | 6/25 [00:00<00:00, 28.02it/s]\u001b[A\n",
      "Applying IIR:  40%|████      | 10/25 [00:00<00:00, 29.37it/s]\u001b[A\n",
      "Applying IIR:  52%|█████▏    | 13/25 [00:00<00:00, 28.08it/s]\u001b[A\n",
      "Applying IIR:  64%|██████▍   | 16/25 [00:00<00:00, 28.14it/s]\u001b[A\n",
      "Applying IIR:  80%|████████  | 20/25 [00:00<00:00, 29.42it/s]\u001b[A\n",
      "Applying IIR: 100%|██████████| 25/25 [00:00<00:00, 29.88it/s]\u001b[A\n",
      "  1%|▏         | 18/1268 [00:17<25:05,  1.20s/it]\n",
      "Applying IIR:   0%|          | 0/25 [00:00<?, ?it/s]\u001b[A\n",
      "Applying IIR:  16%|█▌        | 4/25 [00:00<00:00, 29.83it/s]\u001b[A"
     ]
    },
    {
     "name": "stdout",
     "output_type": "stream",
     "text": [
      "running motion mag for vid: 773847_1681757_A_002.mp4\n",
      "video ../../deepfake_data/fb_dfd_release_0.1_final/method_A_crops/773847_1681757_A_002.mp4\n",
      "\n",
      "Iteration number is 259002\n"
     ]
    },
    {
     "name": "stderr",
     "output_type": "stream",
     "text": [
      "\n",
      "Applying IIR:  28%|██▊       | 7/25 [00:00<00:00, 28.89it/s]\u001b[A\n",
      "Applying IIR:  40%|████      | 10/25 [00:00<00:00, 28.45it/s]\u001b[A\n",
      "Applying IIR:  56%|█████▌    | 14/25 [00:00<00:00, 28.62it/s]\u001b[A\n",
      "Applying IIR:  68%|██████▊   | 17/25 [00:00<00:00, 26.25it/s]\u001b[A\n",
      "Applying IIR:  80%|████████  | 20/25 [00:00<00:00, 27.09it/s]\u001b[A\n",
      "Applying IIR: 100%|██████████| 25/25 [00:00<00:00, 27.67it/s]\u001b[A\n",
      "  1%|▏         | 19/1268 [00:18<24:21,  1.17s/it]\n",
      "Applying IIR:   0%|          | 0/25 [00:00<?, ?it/s]\u001b[A\n",
      "Applying IIR:  16%|█▌        | 4/25 [00:00<00:00, 30.86it/s]\u001b[A"
     ]
    },
    {
     "name": "stdout",
     "output_type": "stream",
     "text": [
      "running motion mag for vid: 00292.jpg\n",
      "video ../../deepfake_data/fb_dfd_release_0.1_final/method_A_crops/00292.jpg\n",
      "\n",
      "Exception found: list index out of range\n",
      "running motion mag for vid: 00154.jpg\n",
      "video ../../deepfake_data/fb_dfd_release_0.1_final/method_A_crops/00154.jpg\n",
      "\n",
      "Exception found: list index out of range\n",
      "running motion mag for vid: 00185.jpg\n",
      "video ../../deepfake_data/fb_dfd_release_0.1_final/method_A_crops/00185.jpg\n",
      "\n",
      "Exception found: list index out of range\n",
      "running motion mag for vid: 1609928_1294671_C_003.mp4\n",
      "video ../../deepfake_data/fb_dfd_release_0.1_final/method_A_crops/1609928_1294671_C_003.mp4\n",
      "\n",
      "Iteration number is 259002\n"
     ]
    },
    {
     "name": "stderr",
     "output_type": "stream",
     "text": [
      "\n",
      "Applying IIR:  28%|██▊       | 7/25 [00:00<00:00, 29.46it/s]\u001b[A\n",
      "Applying IIR:  44%|████▍     | 11/25 [00:00<00:00, 30.61it/s]\u001b[A\n",
      "Applying IIR:  60%|██████    | 15/25 [00:00<00:00, 31.12it/s]\u001b[A\n",
      "Applying IIR:  76%|███████▌  | 19/25 [00:00<00:00, 31.34it/s]\u001b[A\n",
      "Applying IIR: 100%|██████████| 25/25 [00:00<00:00, 30.90it/s]\u001b[A\n",
      "  2%|▏         | 23/1268 [00:19<18:32,  1.12it/s]\n",
      "Applying IIR:   0%|          | 0/25 [00:00<?, ?it/s]\u001b[A\n",
      "Applying IIR:  16%|█▌        | 4/25 [00:00<00:00, 30.88it/s]\u001b[A"
     ]
    },
    {
     "name": "stdout",
     "output_type": "stream",
     "text": [
      "running motion mag for vid: 1224068_1681757_C_003.mp4\n",
      "video ../../deepfake_data/fb_dfd_release_0.1_final/method_A_crops/1224068_1681757_C_003.mp4\n",
      "\n",
      "Iteration number is 259002\n"
     ]
    },
    {
     "name": "stderr",
     "output_type": "stream",
     "text": [
      "\n",
      "Applying IIR:  28%|██▊       | 7/25 [00:00<00:00, 30.24it/s]\u001b[A\n",
      "Applying IIR:  44%|████▍     | 11/25 [00:00<00:00, 30.40it/s]\u001b[A\n",
      "Applying IIR:  56%|█████▌    | 14/25 [00:00<00:00, 29.08it/s]\u001b[A\n",
      "Applying IIR:  72%|███████▏  | 18/25 [00:00<00:00, 30.01it/s]\u001b[A\n",
      "Applying IIR:  84%|████████▍ | 21/25 [00:00<00:00, 28.92it/s]\u001b[A\n",
      "Applying IIR: 100%|██████████| 25/25 [00:00<00:00, 29.31it/s]\u001b[A\n",
      "  2%|▏         | 24/1268 [00:20<19:13,  1.08it/s]\n",
      "Applying IIR:   0%|          | 0/25 [00:00<?, ?it/s]\u001b[A\n",
      "Applying IIR:  16%|█▌        | 4/25 [00:00<00:00, 32.71it/s]\u001b[A"
     ]
    },
    {
     "name": "stdout",
     "output_type": "stream",
     "text": [
      "running motion mag for vid: 00243.jpg\n",
      "video ../../deepfake_data/fb_dfd_release_0.1_final/method_A_crops/00243.jpg\n",
      "\n",
      "Exception found: list index out of range\n",
      "running motion mag for vid: 804259_1371757_A_001.mp4\n",
      "video ../../deepfake_data/fb_dfd_release_0.1_final/method_A_crops/804259_1371757_A_001.mp4\n",
      "\n",
      "Iteration number is 259002\n"
     ]
    },
    {
     "name": "stderr",
     "output_type": "stream",
     "text": [
      "\n",
      "Applying IIR:  28%|██▊       | 7/25 [00:00<00:00, 31.21it/s]\u001b[A\n",
      "Applying IIR:  40%|████      | 10/25 [00:00<00:00, 30.78it/s]\u001b[A\n",
      "Applying IIR:  56%|█████▌    | 14/25 [00:00<00:00, 31.32it/s]\u001b[A\n",
      "Applying IIR:  72%|███████▏  | 18/25 [00:00<00:00, 31.49it/s]\u001b[A\n",
      "Applying IIR:  88%|████████▊ | 22/25 [00:00<00:00, 31.83it/s]\u001b[A\n",
      "Applying IIR: 100%|██████████| 25/25 [00:00<00:00, 31.08it/s]\u001b[A\n",
      "  2%|▏         | 26/1268 [00:21<16:36,  1.25it/s]\n",
      "Applying IIR:   0%|          | 0/25 [00:00<?, ?it/s]\u001b[A\n",
      "Applying IIR:  16%|█▌        | 4/25 [00:00<00:00, 31.59it/s]\u001b[A"
     ]
    },
    {
     "name": "stdout",
     "output_type": "stream",
     "text": [
      "running motion mag for vid: 1061402_804259_J_003.mp4\n",
      "video ../../deepfake_data/fb_dfd_release_0.1_final/method_A_crops/1061402_804259_J_003.mp4\n",
      "\n",
      "Iteration number is 259002\n"
     ]
    },
    {
     "name": "stderr",
     "output_type": "stream",
     "text": [
      "\n",
      "Applying IIR:  28%|██▊       | 7/25 [00:00<00:00, 29.70it/s]\u001b[A\n",
      "Applying IIR:  40%|████      | 10/25 [00:00<00:00, 28.10it/s]\u001b[A\n",
      "Applying IIR:  52%|█████▏    | 13/25 [00:00<00:00, 28.35it/s]\u001b[A\n",
      "Applying IIR:  64%|██████▍   | 16/25 [00:00<00:00, 28.32it/s]\u001b[A\n",
      "Applying IIR:  76%|███████▌  | 19/25 [00:00<00:00, 27.01it/s]\u001b[A\n",
      "Applying IIR:  88%|████████▊ | 22/25 [00:00<00:00, 26.85it/s]\u001b[A\n",
      "Applying IIR: 100%|██████████| 25/25 [00:00<00:00, 26.87it/s]\u001b[A\n",
      "  2%|▏         | 27/1268 [00:22<18:34,  1.11it/s]\n",
      "Applying IIR:   0%|          | 0/25 [00:00<?, ?it/s]\u001b[A\n",
      "Applying IIR:  16%|█▌        | 4/25 [00:00<00:00, 30.27it/s]\u001b[A"
     ]
    },
    {
     "name": "stdout",
     "output_type": "stream",
     "text": [
      "running motion mag for vid: 1409297_1976794_B_002.mp4\n",
      "video ../../deepfake_data/fb_dfd_release_0.1_final/method_A_crops/1409297_1976794_B_002.mp4\n",
      "\n",
      "Iteration number is 259002\n"
     ]
    },
    {
     "name": "stderr",
     "output_type": "stream",
     "text": [
      "\n",
      "Applying IIR:  28%|██▊       | 7/25 [00:00<00:00, 27.92it/s]\u001b[A\n",
      "Applying IIR:  40%|████      | 10/25 [00:00<00:00, 27.72it/s]\u001b[A\n",
      "Applying IIR:  52%|█████▏    | 13/25 [00:00<00:00, 26.94it/s]\u001b[A\n",
      "Applying IIR:  64%|██████▍   | 16/25 [00:00<00:00, 26.51it/s]\u001b[A\n",
      "Applying IIR:  76%|███████▌  | 19/25 [00:00<00:00, 27.04it/s]\u001b[A\n",
      "Applying IIR: 100%|██████████| 25/25 [00:00<00:00, 27.09it/s]\u001b[A\n",
      "  2%|▏         | 28/1268 [00:23<19:51,  1.04it/s]\n",
      "Applying IIR:   0%|          | 0/25 [00:00<?, ?it/s]\u001b[A\n",
      "Applying IIR:  16%|█▌        | 4/25 [00:00<00:00, 30.81it/s]\u001b[A"
     ]
    },
    {
     "name": "stdout",
     "output_type": "stream",
     "text": [
      "running motion mag for vid: 2059066_1795659_C_003.mp4\n",
      "video ../../deepfake_data/fb_dfd_release_0.1_final/method_A_crops/2059066_1795659_C_003.mp4\n",
      "\n",
      "Iteration number is 259002\n"
     ]
    },
    {
     "name": "stderr",
     "output_type": "stream",
     "text": [
      "\n",
      "Applying IIR:  32%|███▏      | 8/25 [00:00<00:00, 31.27it/s]\u001b[A\n",
      "Applying IIR:  48%|████▊     | 12/25 [00:00<00:00, 31.84it/s]\u001b[A\n",
      "Applying IIR:  64%|██████▍   | 16/25 [00:00<00:00, 32.35it/s]\u001b[A\n",
      "Applying IIR:  80%|████████  | 20/25 [00:00<00:00, 33.16it/s]\u001b[A\n",
      "Applying IIR: 100%|██████████| 25/25 [00:00<00:00, 31.49it/s]\u001b[A\n",
      "  2%|▏         | 29/1268 [00:24<19:55,  1.04it/s]\n",
      "Applying IIR:   0%|          | 0/25 [00:00<?, ?it/s]\u001b[A\n",
      "Applying IIR:  12%|█▏        | 3/25 [00:00<00:00, 27.96it/s]\u001b[A"
     ]
    },
    {
     "name": "stdout",
     "output_type": "stream",
     "text": [
      "running motion mag for vid: 2040724_1869846_A_000.mp4\n",
      "video ../../deepfake_data/fb_dfd_release_0.1_final/method_A_crops/2040724_1869846_A_000.mp4\n",
      "\n",
      "Iteration number is 259002\n"
     ]
    },
    {
     "name": "stderr",
     "output_type": "stream",
     "text": [
      "\n",
      "Applying IIR:  28%|██▊       | 7/25 [00:00<00:00, 28.84it/s]\u001b[A\n",
      "Applying IIR:  44%|████▍     | 11/25 [00:00<00:00, 29.93it/s]\u001b[A\n",
      "Applying IIR:  60%|██████    | 15/25 [00:00<00:00, 30.38it/s]\u001b[A\n",
      "Applying IIR:  72%|███████▏  | 18/25 [00:00<00:00, 29.29it/s]\u001b[A\n",
      "Applying IIR:  84%|████████▍ | 21/25 [00:00<00:00, 29.25it/s]\u001b[A\n",
      "Applying IIR: 100%|██████████| 25/25 [00:00<00:00, 29.02it/s]\u001b[A\n",
      "  2%|▏         | 30/1268 [00:25<20:32,  1.00it/s]\n",
      "Applying IIR:   0%|          | 0/25 [00:00<?, ?it/s]\u001b[A\n",
      "Applying IIR:   8%|▊         | 2/25 [00:00<00:01, 19.61it/s]\u001b[A"
     ]
    },
    {
     "name": "stdout",
     "output_type": "stream",
     "text": [
      "running motion mag for vid: 00128.jpg\n",
      "video ../../deepfake_data/fb_dfd_release_0.1_final/method_A_crops/00128.jpg\n",
      "\n",
      "Exception found: list index out of range\n",
      "running motion mag for vid: 1853436_1795659_C_002.mp4\n",
      "video ../../deepfake_data/fb_dfd_release_0.1_final/method_A_crops/1853436_1795659_C_002.mp4\n",
      "\n",
      "Iteration number is 259002\n"
     ]
    },
    {
     "name": "stderr",
     "output_type": "stream",
     "text": [
      "\n",
      "Applying IIR:  20%|██        | 5/25 [00:00<00:00, 21.59it/s]\u001b[A\n",
      "Applying IIR:  32%|███▏      | 8/25 [00:00<00:00, 21.80it/s]\u001b[A\n",
      "Applying IIR:  48%|████▊     | 12/25 [00:00<00:00, 23.55it/s]\u001b[A\n",
      "Applying IIR:  60%|██████    | 15/25 [00:00<00:00, 24.99it/s]\u001b[A\n",
      "Applying IIR:  72%|███████▏  | 18/25 [00:00<00:00, 26.04it/s]\u001b[A\n",
      "Applying IIR:  88%|████████▊ | 22/25 [00:00<00:00, 27.72it/s]\u001b[A\n",
      "Applying IIR: 100%|██████████| 25/25 [00:00<00:00, 27.26it/s]\u001b[A\n",
      "  3%|▎         | 32/1268 [00:26<17:40,  1.17it/s]\n",
      "Applying IIR:   0%|          | 0/25 [00:00<?, ?it/s]\u001b[A\n",
      "Applying IIR:  16%|█▌        | 4/25 [00:00<00:00, 31.52it/s]\u001b[A"
     ]
    },
    {
     "name": "stdout",
     "output_type": "stream",
     "text": [
      "running motion mag for vid: 1003254_1294671_A_001.mp4\n",
      "video ../../deepfake_data/fb_dfd_release_0.1_final/method_A_crops/1003254_1294671_A_001.mp4\n",
      "\n",
      "Iteration number is 259002\n"
     ]
    },
    {
     "name": "stderr",
     "output_type": "stream",
     "text": [
      "\n",
      "Applying IIR:  32%|███▏      | 8/25 [00:00<00:00, 31.44it/s]\u001b[A\n",
      "Applying IIR:  44%|████▍     | 11/25 [00:00<00:00, 30.07it/s]\u001b[A\n",
      "Applying IIR:  60%|██████    | 15/25 [00:00<00:00, 31.17it/s]\u001b[A\n",
      "Applying IIR:  76%|███████▌  | 19/25 [00:00<00:00, 32.19it/s]\u001b[A\n",
      "Applying IIR: 100%|██████████| 25/25 [00:00<00:00, 31.73it/s]\u001b[A\n",
      "  3%|▎         | 33/1268 [00:27<18:24,  1.12it/s]\n",
      "Applying IIR:   0%|          | 0/25 [00:00<?, ?it/s]\u001b[A\n",
      "Applying IIR:  16%|█▌        | 4/25 [00:00<00:00, 33.52it/s]\u001b[A"
     ]
    },
    {
     "name": "stdout",
     "output_type": "stream",
     "text": [
      "running motion mag for vid: 2011804_804259_B_002.mp4\n",
      "video ../../deepfake_data/fb_dfd_release_0.1_final/method_A_crops/2011804_804259_B_002.mp4\n",
      "\n",
      "Iteration number is 259002\n"
     ]
    },
    {
     "name": "stderr",
     "output_type": "stream",
     "text": [
      "\n",
      "Applying IIR:  28%|██▊       | 7/25 [00:00<00:00, 30.79it/s]\u001b[A\n",
      "Applying IIR:  40%|████      | 10/25 [00:00<00:00, 30.47it/s]\u001b[A\n",
      "Applying IIR:  56%|█████▌    | 14/25 [00:00<00:00, 31.37it/s]\u001b[A\n",
      "Applying IIR:  68%|██████▊   | 17/25 [00:00<00:00, 29.83it/s]\u001b[A\n",
      "Applying IIR:  84%|████████▍ | 21/25 [00:00<00:00, 29.96it/s]\u001b[A\n",
      "Applying IIR: 100%|██████████| 25/25 [00:00<00:00, 29.17it/s]\u001b[A\n",
      "  3%|▎         | 34/1268 [00:28<19:26,  1.06it/s]\n",
      "Applying IIR:   0%|          | 0/25 [00:00<?, ?it/s]\u001b[A\n",
      "Applying IIR:  12%|█▏        | 3/25 [00:00<00:00, 25.51it/s]\u001b[A"
     ]
    },
    {
     "name": "stdout",
     "output_type": "stream",
     "text": [
      "running motion mag for vid: 00367.jpg\n",
      "video ../../deepfake_data/fb_dfd_release_0.1_final/method_A_crops/00367.jpg\n",
      "\n",
      "Exception found: list index out of range\n",
      "running motion mag for vid: 00411.jpg\n",
      "video ../../deepfake_data/fb_dfd_release_0.1_final/method_A_crops/00411.jpg\n",
      "\n",
      "Exception found: list index out of range\n",
      "running motion mag for vid: 00070.jpg\n",
      "video ../../deepfake_data/fb_dfd_release_0.1_final/method_A_crops/00070.jpg\n",
      "\n",
      "Exception found: list index out of range\n",
      "running motion mag for vid: 700790_1976794_A_003.mp4\n",
      "video ../../deepfake_data/fb_dfd_release_0.1_final/method_A_crops/700790_1976794_A_003.mp4\n",
      "\n",
      "Iteration number is 259002\n"
     ]
    },
    {
     "name": "stderr",
     "output_type": "stream",
     "text": [
      "\n",
      "Applying IIR:  24%|██▍       | 6/25 [00:00<00:00, 24.74it/s]\u001b[A\n",
      "Applying IIR:  36%|███▌      | 9/25 [00:00<00:00, 24.86it/s]\u001b[A\n",
      "Applying IIR:  48%|████▊     | 12/25 [00:00<00:00, 24.94it/s]\u001b[A\n",
      "Applying IIR:  60%|██████    | 15/25 [00:00<00:00, 25.33it/s]\u001b[A\n",
      "Applying IIR:  72%|███████▏  | 18/25 [00:00<00:00, 26.26it/s]\u001b[A\n",
      "Applying IIR:  84%|████████▍ | 21/25 [00:00<00:00, 27.08it/s]\u001b[A\n",
      "Applying IIR: 100%|██████████| 25/25 [00:00<00:00, 25.60it/s]\u001b[A\n",
      "  3%|▎         | 38/1268 [00:30<15:21,  1.34it/s]\n",
      "Applying IIR:   0%|          | 0/25 [00:00<?, ?it/s]\u001b[A\n",
      "Applying IIR:  12%|█▏        | 3/25 [00:00<00:00, 24.18it/s]\u001b[A"
     ]
    },
    {
     "name": "stdout",
     "output_type": "stream",
     "text": [
      "running motion mag for vid: 1999299_1976794_A_002.mp4\n",
      "video ../../deepfake_data/fb_dfd_release_0.1_final/method_A_crops/1999299_1976794_A_002.mp4\n",
      "\n",
      "Iteration number is 259002\n"
     ]
    },
    {
     "name": "stderr",
     "output_type": "stream",
     "text": [
      "\n",
      "Applying IIR:  24%|██▍       | 6/25 [00:00<00:00, 23.65it/s]\u001b[A\n",
      "Applying IIR:  36%|███▌      | 9/25 [00:00<00:00, 24.65it/s]\u001b[A\n",
      "Applying IIR:  48%|████▊     | 12/25 [00:00<00:00, 24.72it/s]\u001b[A\n",
      "Applying IIR:  60%|██████    | 15/25 [00:00<00:00, 25.08it/s]\u001b[A\n",
      "Applying IIR:  72%|███████▏  | 18/25 [00:00<00:00, 25.75it/s]\u001b[A\n",
      "Applying IIR:  84%|████████▍ | 21/25 [00:00<00:00, 26.68it/s]\u001b[A\n",
      "Applying IIR: 100%|██████████| 25/25 [00:00<00:00, 26.51it/s]\u001b[A\n",
      "  3%|▎         | 39/1268 [00:31<17:43,  1.16it/s]\n",
      "Applying IIR:   0%|          | 0/25 [00:00<?, ?it/s]\u001b[A\n",
      "Applying IIR:  12%|█▏        | 3/25 [00:00<00:00, 27.16it/s]\u001b[A"
     ]
    },
    {
     "name": "stdout",
     "output_type": "stream",
     "text": [
      "running motion mag for vid: 00315.jpg\n",
      "video ../../deepfake_data/fb_dfd_release_0.1_final/method_A_crops/00315.jpg\n",
      "\n",
      "Exception found: list index out of range\n",
      "running motion mag for vid: 1916010_2113344_B_001.mp4\n",
      "video ../../deepfake_data/fb_dfd_release_0.1_final/method_A_crops/1916010_2113344_B_001.mp4\n",
      "\n",
      "Iteration number is 259002\n"
     ]
    },
    {
     "name": "stderr",
     "output_type": "stream",
     "text": [
      "\n",
      "Applying IIR:  28%|██▊       | 7/25 [00:00<00:00, 28.39it/s]\u001b[A\n",
      "Applying IIR:  40%|████      | 10/25 [00:00<00:00, 28.26it/s]\u001b[A\n",
      "Applying IIR:  56%|█████▌    | 14/25 [00:00<00:00, 29.57it/s]\u001b[A\n",
      "Applying IIR:  68%|██████▊   | 17/25 [00:00<00:00, 26.81it/s]\u001b[A\n",
      "Applying IIR:  84%|████████▍ | 21/25 [00:00<00:00, 27.91it/s]\u001b[A\n",
      "Applying IIR: 100%|██████████| 25/25 [00:00<00:00, 29.36it/s]\u001b[A\n",
      "  3%|▎         | 41/1268 [00:32<15:32,  1.32it/s]\n",
      "Applying IIR:   0%|          | 0/25 [00:00<?, ?it/s]\u001b[A\n",
      "Applying IIR:  12%|█▏        | 3/25 [00:00<00:00, 29.19it/s]\u001b[A"
     ]
    },
    {
     "name": "stdout",
     "output_type": "stream",
     "text": [
      "running motion mag for vid: 2063898_804259_I_003.mp4\n",
      "video ../../deepfake_data/fb_dfd_release_0.1_final/method_A_crops/2063898_804259_I_003.mp4\n",
      "\n",
      "Iteration number is 259002\n"
     ]
    },
    {
     "name": "stderr",
     "output_type": "stream",
     "text": [
      "\n",
      "Applying IIR:  24%|██▍       | 6/25 [00:00<00:00, 27.68it/s]\u001b[A\n",
      "Applying IIR:  36%|███▌      | 9/25 [00:00<00:00, 28.31it/s]\u001b[A\n",
      "Applying IIR:  48%|████▊     | 12/25 [00:00<00:00, 27.35it/s]\u001b[A\n",
      "Applying IIR:  64%|██████▍   | 16/25 [00:00<00:00, 28.68it/s]\u001b[A\n",
      "Applying IIR:  80%|████████  | 20/25 [00:00<00:00, 30.02it/s]\u001b[A\n",
      "Applying IIR: 100%|██████████| 25/25 [00:00<00:00, 28.33it/s]\u001b[A\n",
      "  3%|▎         | 42/1268 [00:33<17:28,  1.17it/s]\n",
      "Applying IIR:   0%|          | 0/25 [00:00<?, ?it/s]\u001b[A\n",
      "Applying IIR:  12%|█▏        | 3/25 [00:00<00:00, 29.41it/s]\u001b[A"
     ]
    },
    {
     "name": "stdout",
     "output_type": "stream",
     "text": [
      "running motion mag for vid: 00002.jpg\n",
      "video ../../deepfake_data/fb_dfd_release_0.1_final/method_A_crops/00002.jpg\n",
      "\n",
      "Exception found: list index out of range\n",
      "running motion mag for vid: 1681757_2113344_B_003.mp4\n",
      "video ../../deepfake_data/fb_dfd_release_0.1_final/method_A_crops/1681757_2113344_B_003.mp4\n",
      "\n",
      "Iteration number is 259002\n"
     ]
    },
    {
     "name": "stderr",
     "output_type": "stream",
     "text": [
      "\n",
      "Applying IIR:  24%|██▍       | 6/25 [00:00<00:00, 29.26it/s]\u001b[A\n",
      "Applying IIR:  40%|████      | 10/25 [00:00<00:00, 30.63it/s]\u001b[A\n",
      "Applying IIR:  56%|█████▌    | 14/25 [00:00<00:00, 30.60it/s]\u001b[A\n",
      "Applying IIR:  68%|██████▊   | 17/25 [00:00<00:00, 30.23it/s]\u001b[A\n",
      "Applying IIR:  80%|████████  | 20/25 [00:00<00:00, 29.38it/s]\u001b[A\n",
      "Applying IIR: 100%|██████████| 25/25 [00:00<00:00, 30.39it/s]\u001b[A\n",
      "  3%|▎         | 44/1268 [00:34<15:21,  1.33it/s]\n",
      "Applying IIR:   0%|          | 0/25 [00:00<?, ?it/s]\u001b[A\n",
      "Applying IIR:  12%|█▏        | 3/25 [00:00<00:00, 29.52it/s]\u001b[A"
     ]
    },
    {
     "name": "stdout",
     "output_type": "stream",
     "text": [
      "running motion mag for vid: 00126.jpg\n",
      "video ../../deepfake_data/fb_dfd_release_0.1_final/method_A_crops/00126.jpg\n",
      "\n",
      "Exception found: list index out of range\n",
      "running motion mag for vid: 1294671_804259_H_003.mp4\n",
      "video ../../deepfake_data/fb_dfd_release_0.1_final/method_A_crops/1294671_804259_H_003.mp4\n",
      "\n",
      "Iteration number is 259002\n"
     ]
    },
    {
     "name": "stderr",
     "output_type": "stream",
     "text": [
      "\n",
      "Applying IIR:  24%|██▍       | 6/25 [00:00<00:00, 27.25it/s]\u001b[A\n",
      "Applying IIR:  40%|████      | 10/25 [00:00<00:00, 28.98it/s]\u001b[A\n",
      "Applying IIR:  52%|█████▏    | 13/25 [00:00<00:00, 27.82it/s]\u001b[A\n",
      "Applying IIR:  64%|██████▍   | 16/25 [00:00<00:00, 28.40it/s]\u001b[A\n",
      "Applying IIR:  76%|███████▌  | 19/25 [00:00<00:00, 28.06it/s]\u001b[A\n",
      "Applying IIR: 100%|██████████| 25/25 [00:00<00:00, 28.81it/s]\u001b[A\n",
      "  4%|▎         | 46/1268 [00:35<13:53,  1.47it/s]\n",
      "Applying IIR:   0%|          | 0/25 [00:00<?, ?it/s]\u001b[A\n",
      "Applying IIR:  16%|█▌        | 4/25 [00:00<00:00, 32.04it/s]\u001b[A"
     ]
    },
    {
     "name": "stdout",
     "output_type": "stream",
     "text": [
      "running motion mag for vid: 1609928_804259_D_001.mp4\n",
      "video ../../deepfake_data/fb_dfd_release_0.1_final/method_A_crops/1609928_804259_D_001.mp4\n",
      "\n",
      "Iteration number is 259002\n"
     ]
    },
    {
     "name": "stderr",
     "output_type": "stream",
     "text": [
      "\n",
      "Applying IIR:  28%|██▊       | 7/25 [00:00<00:00, 31.27it/s]\u001b[A\n",
      "Applying IIR:  44%|████▍     | 11/25 [00:00<00:00, 31.00it/s]\u001b[A\n",
      "Applying IIR:  60%|██████    | 15/25 [00:00<00:00, 31.09it/s]\u001b[A\n",
      "Applying IIR:  76%|███████▌  | 19/25 [00:00<00:00, 31.13it/s]\u001b[A\n",
      "Applying IIR: 100%|██████████| 25/25 [00:00<00:00, 31.48it/s]\u001b[A\n",
      "  4%|▎         | 47/1268 [00:36<15:36,  1.30it/s]\n",
      "Applying IIR:   0%|          | 0/25 [00:00<?, ?it/s]\u001b[A\n",
      "Applying IIR:  16%|█▌        | 4/25 [00:00<00:00, 33.26it/s]\u001b[A"
     ]
    },
    {
     "name": "stdout",
     "output_type": "stream",
     "text": [
      "running motion mag for vid: 1409297_1255229_A_003.mp4\n",
      "video ../../deepfake_data/fb_dfd_release_0.1_final/method_A_crops/1409297_1255229_A_003.mp4\n",
      "\n",
      "Iteration number is 259002\n"
     ]
    },
    {
     "name": "stderr",
     "output_type": "stream",
     "text": [
      "\n",
      "Applying IIR:  28%|██▊       | 7/25 [00:00<00:00, 30.33it/s]\u001b[A\n",
      "Applying IIR:  44%|████▍     | 11/25 [00:00<00:00, 30.83it/s]\u001b[A\n",
      "Applying IIR:  56%|█████▌    | 14/25 [00:00<00:00, 29.76it/s]\u001b[A\n",
      "Applying IIR:  68%|██████▊   | 17/25 [00:00<00:00, 29.49it/s]\u001b[A\n",
      "Applying IIR:  80%|████████  | 20/25 [00:00<00:00, 28.97it/s]\u001b[A\n",
      "Applying IIR: 100%|██████████| 25/25 [00:00<00:00, 28.46it/s]\u001b[A\n",
      "  4%|▍         | 48/1268 [00:37<17:16,  1.18it/s]\n",
      "Applying IIR:   0%|          | 0/25 [00:00<?, ?it/s]\u001b[A\n",
      "Applying IIR:  12%|█▏        | 3/25 [00:00<00:00, 24.21it/s]\u001b[A"
     ]
    },
    {
     "name": "stdout",
     "output_type": "stream",
     "text": [
      "running motion mag for vid: 00231.jpg\n",
      "video ../../deepfake_data/fb_dfd_release_0.1_final/method_A_crops/00231.jpg\n",
      "\n",
      "Exception found: list index out of range\n",
      "running motion mag for vid: 1294671_1976794_A_001.mp4\n",
      "video ../../deepfake_data/fb_dfd_release_0.1_final/method_A_crops/1294671_1976794_A_001.mp4\n",
      "\n",
      "Iteration number is 259002\n"
     ]
    },
    {
     "name": "stderr",
     "output_type": "stream",
     "text": [
      "\n",
      "Applying IIR:  24%|██▍       | 6/25 [00:00<00:00, 25.36it/s]\u001b[A\n",
      "Applying IIR:  40%|████      | 10/25 [00:00<00:00, 25.74it/s]\u001b[A\n",
      "Applying IIR:  52%|█████▏    | 13/25 [00:00<00:00, 25.90it/s]\u001b[A\n",
      "Applying IIR:  68%|██████▊   | 17/25 [00:00<00:00, 27.35it/s]\u001b[A\n",
      "Applying IIR:  80%|████████  | 20/25 [00:00<00:00, 26.99it/s]\u001b[A\n",
      "Applying IIR: 100%|██████████| 25/25 [00:00<00:00, 27.06it/s]\u001b[A\n",
      "  4%|▍         | 50/1268 [00:38<15:27,  1.31it/s]\n",
      "Applying IIR:   0%|          | 0/25 [00:00<?, ?it/s]\u001b[A\n",
      "Applying IIR:  12%|█▏        | 3/25 [00:00<00:00, 28.55it/s]\u001b[A"
     ]
    },
    {
     "name": "stdout",
     "output_type": "stream",
     "text": [
      "running motion mag for vid: 00369.jpg\n",
      "video ../../deepfake_data/fb_dfd_release_0.1_final/method_A_crops/00369.jpg\n",
      "\n",
      "Exception found: list index out of range\n",
      "running motion mag for vid: 1262961_1681757_B_002.mp4\n",
      "video ../../deepfake_data/fb_dfd_release_0.1_final/method_A_crops/1262961_1681757_B_002.mp4\n",
      "\n",
      "Iteration number is 259002\n"
     ]
    },
    {
     "name": "stderr",
     "output_type": "stream",
     "text": [
      "\n",
      "Applying IIR:  24%|██▍       | 6/25 [00:00<00:00, 28.93it/s]\u001b[A\n",
      "Applying IIR:  40%|████      | 10/25 [00:00<00:00, 29.47it/s]\u001b[A\n",
      "Applying IIR:  52%|█████▏    | 13/25 [00:00<00:00, 28.69it/s]\u001b[A\n",
      "Applying IIR:  68%|██████▊   | 17/25 [00:00<00:00, 29.79it/s]\u001b[A\n",
      "Applying IIR:  80%|████████  | 20/25 [00:00<00:00, 28.60it/s]\u001b[A\n",
      "Applying IIR: 100%|██████████| 25/25 [00:00<00:00, 28.83it/s]\u001b[A\n",
      "  4%|▍         | 52/1268 [00:39<14:00,  1.45it/s]\n",
      "Applying IIR:   0%|          | 0/25 [00:00<?, ?it/s]\u001b[A\n",
      "Applying IIR:  12%|█▏        | 3/25 [00:00<00:00, 29.67it/s]\u001b[A"
     ]
    },
    {
     "name": "stdout",
     "output_type": "stream",
     "text": [
      "running motion mag for vid: 2063898_804259_E_003.mp4\n",
      "video ../../deepfake_data/fb_dfd_release_0.1_final/method_A_crops/2063898_804259_E_003.mp4\n",
      "\n",
      "Iteration number is 259002\n"
     ]
    },
    {
     "name": "stderr",
     "output_type": "stream",
     "text": [
      "\n",
      "Applying IIR:  28%|██▊       | 7/25 [00:00<00:00, 30.18it/s]\u001b[A\n",
      "Applying IIR:  44%|████▍     | 11/25 [00:00<00:00, 30.67it/s]\u001b[A\n",
      "Applying IIR:  60%|██████    | 15/25 [00:00<00:00, 30.99it/s]\u001b[A\n",
      "Applying IIR:  76%|███████▌  | 19/25 [00:00<00:00, 31.04it/s]\u001b[A\n",
      "Applying IIR:  88%|████████▊ | 22/25 [00:00<00:00, 30.07it/s]\u001b[A\n",
      "Applying IIR: 100%|██████████| 25/25 [00:00<00:00, 30.16it/s]\u001b[A\n",
      "  4%|▍         | 53/1268 [00:40<15:55,  1.27it/s]\n",
      "Applying IIR:   0%|          | 0/25 [00:00<?, ?it/s]\u001b[A\n",
      "Applying IIR:  12%|█▏        | 3/25 [00:00<00:00, 28.98it/s]\u001b[A"
     ]
    },
    {
     "name": "stdout",
     "output_type": "stream",
     "text": [
      "running motion mag for vid: 2076328_1681757_A_002.mp4\n",
      "video ../../deepfake_data/fb_dfd_release_0.1_final/method_A_crops/2076328_1681757_A_002.mp4\n",
      "\n",
      "Iteration number is 259002\n"
     ]
    },
    {
     "name": "stderr",
     "output_type": "stream",
     "text": [
      "\n",
      "Applying IIR:  24%|██▍       | 6/25 [00:00<00:00, 27.60it/s]\u001b[A\n",
      "Applying IIR:  40%|████      | 10/25 [00:00<00:00, 29.10it/s]\u001b[A\n",
      "Applying IIR:  56%|█████▌    | 14/25 [00:00<00:00, 30.99it/s]\u001b[A\n",
      "Applying IIR:  68%|██████▊   | 17/25 [00:00<00:00, 29.07it/s]\u001b[A\n",
      "Applying IIR:  80%|████████  | 20/25 [00:00<00:00, 28.04it/s]\u001b[A\n",
      "Applying IIR: 100%|██████████| 25/25 [00:00<00:00, 28.15it/s]\u001b[A\n",
      "  4%|▍         | 54/1268 [00:41<17:27,  1.16it/s]\n",
      "Applying IIR:   0%|          | 0/25 [00:00<?, ?it/s]\u001b[A\n",
      "Applying IIR:  16%|█▌        | 4/25 [00:00<00:00, 29.51it/s]\u001b[A"
     ]
    },
    {
     "name": "stdout",
     "output_type": "stream",
     "text": [
      "running motion mag for vid: 00121.jpg\n",
      "video ../../deepfake_data/fb_dfd_release_0.1_final/method_A_crops/00121.jpg\n",
      "\n",
      "Exception found: list index out of range\n",
      "running motion mag for vid: 1822940_1255229_A_002.mp4\n",
      "video ../../deepfake_data/fb_dfd_release_0.1_final/method_A_crops/1822940_1255229_A_002.mp4\n",
      "\n",
      "Iteration number is 259002\n"
     ]
    },
    {
     "name": "stderr",
     "output_type": "stream",
     "text": [
      "\n",
      "Applying IIR:  32%|███▏      | 8/25 [00:00<00:00, 30.36it/s]\u001b[A\n",
      "Applying IIR:  48%|████▊     | 12/25 [00:00<00:00, 31.49it/s]\u001b[A\n",
      "Applying IIR:  64%|██████▍   | 16/25 [00:00<00:00, 32.28it/s]\u001b[A\n",
      "Applying IIR:  80%|████████  | 20/25 [00:00<00:00, 32.17it/s]\u001b[A\n",
      "Applying IIR: 100%|██████████| 25/25 [00:00<00:00, 31.67it/s]\u001b[A\n",
      "  4%|▍         | 56/1268 [00:42<15:13,  1.33it/s]\n",
      "Applying IIR:   0%|          | 0/25 [00:00<?, ?it/s]\u001b[A\n",
      "Applying IIR:  16%|█▌        | 4/25 [00:00<00:00, 32.44it/s]\u001b[A"
     ]
    },
    {
     "name": "stdout",
     "output_type": "stream",
     "text": [
      "running motion mag for vid: 2059066_804259_G_001.mp4\n",
      "video ../../deepfake_data/fb_dfd_release_0.1_final/method_A_crops/2059066_804259_G_001.mp4\n",
      "\n",
      "Iteration number is 259002\n"
     ]
    },
    {
     "name": "stderr",
     "output_type": "stream",
     "text": [
      "\n",
      "Applying IIR:  28%|██▊       | 7/25 [00:00<00:00, 30.62it/s]\u001b[A\n",
      "Applying IIR:  40%|████      | 10/25 [00:00<00:00, 28.05it/s]\u001b[A\n",
      "Applying IIR:  56%|█████▌    | 14/25 [00:00<00:00, 29.45it/s]\u001b[A\n",
      "Applying IIR:  72%|███████▏  | 18/25 [00:00<00:00, 30.02it/s]\u001b[A\n",
      "Applying IIR:  84%|████████▍ | 21/25 [00:00<00:00, 28.47it/s]\u001b[A\n",
      "Applying IIR: 100%|██████████| 25/25 [00:00<00:00, 28.68it/s]\u001b[A\n",
      "  4%|▍         | 57/1268 [00:43<17:07,  1.18it/s]\n",
      "Applying IIR:   0%|          | 0/25 [00:00<?, ?it/s]\u001b[A\n",
      "Applying IIR:  16%|█▌        | 4/25 [00:00<00:00, 32.55it/s]\u001b[A"
     ]
    },
    {
     "name": "stdout",
     "output_type": "stream",
     "text": [
      "running motion mag for vid: 00236.jpg\n",
      "video ../../deepfake_data/fb_dfd_release_0.1_final/method_A_crops/00236.jpg\n",
      "\n",
      "Exception found: list index out of range\n",
      "running motion mag for vid: 1733757_1795659_B_003.mp4\n",
      "video ../../deepfake_data/fb_dfd_release_0.1_final/method_A_crops/1733757_1795659_B_003.mp4\n",
      "\n",
      "Iteration number is 259002\n"
     ]
    },
    {
     "name": "stderr",
     "output_type": "stream",
     "text": [
      "\n",
      "Applying IIR:  28%|██▊       | 7/25 [00:00<00:00, 30.54it/s]\u001b[A\n",
      "Applying IIR:  44%|████▍     | 11/25 [00:00<00:00, 30.03it/s]\u001b[A\n",
      "Applying IIR:  56%|█████▌    | 14/25 [00:00<00:00, 28.76it/s]\u001b[A\n",
      "Applying IIR:  72%|███████▏  | 18/25 [00:00<00:00, 29.64it/s]\u001b[A\n",
      "Applying IIR:  88%|████████▊ | 22/25 [00:00<00:00, 29.73it/s]\u001b[A\n",
      "Applying IIR: 100%|██████████| 25/25 [00:00<00:00, 28.93it/s]\u001b[A\n",
      "  5%|▍         | 59/1268 [00:44<15:12,  1.32it/s]\n",
      "Applying IIR:   0%|          | 0/25 [00:00<?, ?it/s]\u001b[A\n",
      "Applying IIR:  12%|█▏        | 3/25 [00:00<00:00, 27.02it/s]\u001b[A"
     ]
    },
    {
     "name": "stdout",
     "output_type": "stream",
     "text": [
      "running motion mag for vid: 1677632_1255229_A_001.mp4\n",
      "video ../../deepfake_data/fb_dfd_release_0.1_final/method_A_crops/1677632_1255229_A_001.mp4\n",
      "\n",
      "Iteration number is 259002\n"
     ]
    },
    {
     "name": "stderr",
     "output_type": "stream",
     "text": [
      "\n",
      "Applying IIR:  24%|██▍       | 6/25 [00:00<00:00, 27.36it/s]\u001b[A\n",
      "Applying IIR:  36%|███▌      | 9/25 [00:00<00:00, 28.07it/s]\u001b[A\n",
      "Applying IIR:  48%|████▊     | 12/25 [00:00<00:00, 28.06it/s]\u001b[A\n",
      "Applying IIR:  60%|██████    | 15/25 [00:00<00:00, 27.64it/s]\u001b[A\n",
      "Applying IIR:  72%|███████▏  | 18/25 [00:00<00:00, 27.81it/s]\u001b[A\n",
      "Applying IIR:  88%|████████▊ | 22/25 [00:00<00:00, 28.61it/s]\u001b[A\n",
      "Applying IIR: 100%|██████████| 25/25 [00:00<00:00, 28.32it/s]\u001b[A\n",
      "  5%|▍         | 60/1268 [00:45<16:58,  1.19it/s]\n",
      "Applying IIR:   0%|          | 0/25 [00:00<?, ?it/s]\u001b[A\n",
      "Applying IIR:  12%|█▏        | 3/25 [00:00<00:00, 29.28it/s]\u001b[A"
     ]
    },
    {
     "name": "stdout",
     "output_type": "stream",
     "text": [
      "running motion mag for vid: 1929178_1255229_A_001.mp4\n",
      "video ../../deepfake_data/fb_dfd_release_0.1_final/method_A_crops/1929178_1255229_A_001.mp4\n",
      "\n",
      "Iteration number is 259002\n"
     ]
    },
    {
     "name": "stderr",
     "output_type": "stream",
     "text": [
      "\n",
      "Applying IIR:  28%|██▊       | 7/25 [00:00<00:00, 30.20it/s]\u001b[A\n",
      "Applying IIR:  40%|████      | 10/25 [00:00<00:00, 29.87it/s]\u001b[A\n",
      "Applying IIR:  56%|█████▌    | 14/25 [00:00<00:00, 30.58it/s]\u001b[A\n",
      "Applying IIR:  68%|██████▊   | 17/25 [00:00<00:00, 30.33it/s]\u001b[A\n",
      "Applying IIR:  84%|████████▍ | 21/25 [00:00<00:00, 31.00it/s]\u001b[A\n",
      "Applying IIR: 100%|██████████| 25/25 [00:00<00:00, 31.44it/s]\u001b[A\n",
      "  5%|▍         | 61/1268 [00:46<17:47,  1.13it/s]\n",
      "Applying IIR:   0%|          | 0/25 [00:00<?, ?it/s]\u001b[A\n",
      "Applying IIR:  12%|█▏        | 3/25 [00:00<00:00, 27.48it/s]\u001b[A"
     ]
    },
    {
     "name": "stdout",
     "output_type": "stream",
     "text": [
      "running motion mag for vid: 00418.jpg\n",
      "video ../../deepfake_data/fb_dfd_release_0.1_final/method_A_crops/00418.jpg\n",
      "\n",
      "Exception found: list index out of range\n",
      "running motion mag for vid: 1609928_1224068_G_003.mp4\n",
      "video ../../deepfake_data/fb_dfd_release_0.1_final/method_A_crops/1609928_1224068_G_003.mp4\n",
      "\n",
      "Iteration number is 259002\n"
     ]
    },
    {
     "name": "stderr",
     "output_type": "stream",
     "text": [
      "\n",
      "Applying IIR:  24%|██▍       | 6/25 [00:00<00:00, 27.81it/s]\u001b[A\n",
      "Applying IIR:  36%|███▌      | 9/25 [00:00<00:00, 26.42it/s]\u001b[A\n",
      "Applying IIR:  48%|████▊     | 12/25 [00:00<00:00, 26.18it/s]\u001b[A\n",
      "Applying IIR:  60%|██████    | 15/25 [00:00<00:00, 26.26it/s]\u001b[A\n",
      "Applying IIR:  72%|███████▏  | 18/25 [00:00<00:00, 25.73it/s]\u001b[A\n",
      "Applying IIR:  84%|████████▍ | 21/25 [00:00<00:00, 26.31it/s]\u001b[A\n",
      "Applying IIR: 100%|██████████| 25/25 [00:00<00:00, 25.56it/s]\u001b[A\n",
      "  5%|▍         | 63/1268 [00:48<16:00,  1.25it/s]\n",
      "Applying IIR:   0%|          | 0/25 [00:00<?, ?it/s]\u001b[A\n",
      "Applying IIR:  16%|█▌        | 4/25 [00:00<00:00, 30.41it/s]\u001b[A"
     ]
    },
    {
     "name": "stdout",
     "output_type": "stream",
     "text": [
      "running motion mag for vid: 00079.jpg\n",
      "video ../../deepfake_data/fb_dfd_release_0.1_final/method_A_crops/00079.jpg\n",
      "\n",
      "Exception found: list index out of range\n",
      "running motion mag for vid: 2057131_1681757_A_003.mp4\n",
      "video ../../deepfake_data/fb_dfd_release_0.1_final/method_A_crops/2057131_1681757_A_003.mp4\n",
      "\n",
      "Iteration number is 259002\n"
     ]
    },
    {
     "name": "stderr",
     "output_type": "stream",
     "text": [
      "\n",
      "Applying IIR:  28%|██▊       | 7/25 [00:00<00:00, 29.20it/s]\u001b[A\n",
      "Applying IIR:  40%|████      | 10/25 [00:00<00:00, 29.23it/s]\u001b[A\n",
      "Applying IIR:  56%|█████▌    | 14/25 [00:00<00:00, 30.32it/s]\u001b[A\n",
      "Applying IIR:  72%|███████▏  | 18/25 [00:00<00:00, 30.39it/s]\u001b[A\n",
      "Applying IIR:  84%|████████▍ | 21/25 [00:00<00:00, 29.45it/s]\u001b[A\n",
      "Applying IIR: 100%|██████████| 25/25 [00:00<00:00, 29.69it/s]\u001b[A\n",
      "  5%|▌         | 65/1268 [00:49<14:19,  1.40it/s]\n",
      "Applying IIR:   0%|          | 0/25 [00:00<?, ?it/s]\u001b[A\n",
      "Applying IIR:  16%|█▌        | 4/25 [00:00<00:00, 31.17it/s]\u001b[A"
     ]
    },
    {
     "name": "stdout",
     "output_type": "stream",
     "text": [
      "running motion mag for vid: 1604866_2113344_C_002.mp4\n",
      "video ../../deepfake_data/fb_dfd_release_0.1_final/method_A_crops/1604866_2113344_C_002.mp4\n",
      "\n",
      "Iteration number is 259002\n"
     ]
    },
    {
     "name": "stderr",
     "output_type": "stream",
     "text": [
      "\n",
      "Applying IIR:  32%|███▏      | 8/25 [00:00<00:00, 31.76it/s]\u001b[A\n",
      "Applying IIR:  44%|████▍     | 11/25 [00:00<00:00, 30.79it/s]\u001b[A\n",
      "Applying IIR:  60%|██████    | 15/25 [00:00<00:00, 31.23it/s]\u001b[A\n",
      "Applying IIR:  76%|███████▌  | 19/25 [00:00<00:00, 31.21it/s]\u001b[A\n",
      "Applying IIR: 100%|██████████| 25/25 [00:00<00:00, 31.12it/s]\u001b[A\n",
      "  5%|▌         | 66/1268 [00:50<15:54,  1.26it/s]\n",
      "Applying IIR:   0%|          | 0/25 [00:00<?, ?it/s]\u001b[A\n",
      "Applying IIR:  12%|█▏        | 3/25 [00:00<00:00, 29.83it/s]\u001b[A"
     ]
    },
    {
     "name": "stdout",
     "output_type": "stream",
     "text": [
      "running motion mag for vid: 1609928_1224068_C_003.mp4\n",
      "video ../../deepfake_data/fb_dfd_release_0.1_final/method_A_crops/1609928_1224068_C_003.mp4\n",
      "\n",
      "Iteration number is 259002\n"
     ]
    },
    {
     "name": "stderr",
     "output_type": "stream",
     "text": [
      "\n",
      "Applying IIR:  24%|██▍       | 6/25 [00:00<00:00, 29.21it/s]\u001b[A\n",
      "Applying IIR:  40%|████      | 10/25 [00:00<00:00, 30.21it/s]\u001b[A\n",
      "Applying IIR:  56%|█████▌    | 14/25 [00:00<00:00, 31.52it/s]\u001b[A\n",
      "Applying IIR:  72%|███████▏  | 18/25 [00:00<00:00, 32.18it/s]\u001b[A\n",
      "Applying IIR:  84%|████████▍ | 21/25 [00:00<00:00, 30.93it/s]\u001b[A\n",
      "Applying IIR: 100%|██████████| 25/25 [00:00<00:00, 31.07it/s]\u001b[A\n",
      "  5%|▌         | 67/1268 [00:51<17:08,  1.17it/s]\n",
      "Applying IIR:   0%|          | 0/25 [00:00<?, ?it/s]\u001b[A\n",
      "Applying IIR:  12%|█▏        | 3/25 [00:00<00:00, 25.38it/s]\u001b[A"
     ]
    },
    {
     "name": "stdout",
     "output_type": "stream",
     "text": [
      "running motion mag for vid: 00312.jpg\n",
      "video ../../deepfake_data/fb_dfd_release_0.1_final/method_A_crops/00312.jpg\n",
      "\n",
      "Exception found: list index out of range\n",
      "running motion mag for vid: 1974002_1795659_A_003.mp4\n",
      "video ../../deepfake_data/fb_dfd_release_0.1_final/method_A_crops/1974002_1795659_A_003.mp4\n",
      "\n",
      "Iteration number is 259002\n"
     ]
    },
    {
     "name": "stderr",
     "output_type": "stream",
     "text": [
      "\n",
      "Applying IIR:  24%|██▍       | 6/25 [00:00<00:00, 26.27it/s]\u001b[A\n",
      "Applying IIR:  40%|████      | 10/25 [00:00<00:00, 28.12it/s]\u001b[A\n",
      "Applying IIR:  56%|█████▌    | 14/25 [00:00<00:00, 29.47it/s]\u001b[A\n",
      "Applying IIR:  72%|███████▏  | 18/25 [00:00<00:00, 30.86it/s]\u001b[A\n",
      "Applying IIR:  84%|████████▍ | 21/25 [00:00<00:00, 28.09it/s]\u001b[A\n",
      "Applying IIR: 100%|██████████| 25/25 [00:00<00:00, 29.61it/s]\u001b[A\n",
      "  5%|▌         | 69/1268 [00:52<15:02,  1.33it/s]\n",
      "Applying IIR:   0%|          | 0/25 [00:00<?, ?it/s]\u001b[A\n",
      "Applying IIR:  16%|█▌        | 4/25 [00:00<00:00, 31.06it/s]\u001b[A"
     ]
    },
    {
     "name": "stdout",
     "output_type": "stream",
     "text": [
      "running motion mag for vid: 00005.jpg\n",
      "video ../../deepfake_data/fb_dfd_release_0.1_final/method_A_crops/00005.jpg\n",
      "\n",
      "Exception found: list index out of range\n",
      "running motion mag for vid: 2059066_804259_C_001.mp4\n",
      "video ../../deepfake_data/fb_dfd_release_0.1_final/method_A_crops/2059066_804259_C_001.mp4\n",
      "\n",
      "Iteration number is 259002\n"
     ]
    },
    {
     "name": "stderr",
     "output_type": "stream",
     "text": [
      "\n",
      "Applying IIR:  28%|██▊       | 7/25 [00:00<00:00, 30.55it/s]\u001b[A\n",
      "Applying IIR:  40%|████      | 10/25 [00:00<00:00, 30.23it/s]\u001b[A\n",
      "Applying IIR:  52%|█████▏    | 13/25 [00:00<00:00, 29.57it/s]\u001b[A\n",
      "Applying IIR:  68%|██████▊   | 17/25 [00:00<00:00, 30.09it/s]\u001b[A\n",
      "Applying IIR:  84%|████████▍ | 21/25 [00:00<00:00, 30.10it/s]\u001b[A\n",
      "Applying IIR: 100%|██████████| 25/25 [00:00<00:00, 29.72it/s]\u001b[A\n",
      "  6%|▌         | 71/1268 [00:53<13:31,  1.48it/s]\n",
      "Applying IIR:   0%|          | 0/25 [00:00<?, ?it/s]\u001b[A\n",
      "Applying IIR:  12%|█▏        | 3/25 [00:00<00:00, 26.74it/s]\u001b[A"
     ]
    },
    {
     "name": "stdout",
     "output_type": "stream",
     "text": [
      "running motion mag for vid: 1294671_804259_D_003.mp4\n",
      "video ../../deepfake_data/fb_dfd_release_0.1_final/method_A_crops/1294671_804259_D_003.mp4\n",
      "\n",
      "Iteration number is 259002\n"
     ]
    },
    {
     "name": "stderr",
     "output_type": "stream",
     "text": [
      "\n",
      "Applying IIR:  24%|██▍       | 6/25 [00:00<00:00, 26.47it/s]\u001b[A\n",
      "Applying IIR:  36%|███▌      | 9/25 [00:00<00:00, 27.09it/s]\u001b[A\n",
      "Applying IIR:  48%|████▊     | 12/25 [00:00<00:00, 26.98it/s]\u001b[A\n",
      "Applying IIR:  64%|██████▍   | 16/25 [00:00<00:00, 27.95it/s]\u001b[A\n",
      "Applying IIR:  76%|███████▌  | 19/25 [00:00<00:00, 26.95it/s]\u001b[A\n",
      "Applying IIR:  88%|████████▊ | 22/25 [00:00<00:00, 27.21it/s]\u001b[A\n",
      "Applying IIR: 100%|██████████| 25/25 [00:00<00:00, 27.48it/s]\u001b[A\n",
      "  6%|▌         | 72/1268 [00:54<15:55,  1.25it/s]\n",
      "Applying IIR:   0%|          | 0/25 [00:00<?, ?it/s]\u001b[A\n",
      "Applying IIR:  16%|█▌        | 4/25 [00:00<00:00, 32.54it/s]\u001b[A"
     ]
    },
    {
     "name": "stdout",
     "output_type": "stream",
     "text": [
      "running motion mag for vid: 1294671_1255229_A_002.mp4\n",
      "video ../../deepfake_data/fb_dfd_release_0.1_final/method_A_crops/1294671_1255229_A_002.mp4\n",
      "\n",
      "Iteration number is 259002\n"
     ]
    },
    {
     "name": "stderr",
     "output_type": "stream",
     "text": [
      "\n",
      "Applying IIR:  32%|███▏      | 8/25 [00:00<00:00, 32.61it/s]\u001b[A\n",
      "Applying IIR:  48%|████▊     | 12/25 [00:00<00:00, 32.80it/s]\u001b[A\n",
      "Applying IIR:  60%|██████    | 15/25 [00:00<00:00, 29.87it/s]\u001b[A\n",
      "Applying IIR:  72%|███████▏  | 18/25 [00:00<00:00, 28.66it/s]\u001b[A\n",
      "Applying IIR:  84%|████████▍ | 21/25 [00:00<00:00, 27.79it/s]\u001b[A\n",
      "Applying IIR: 100%|██████████| 25/25 [00:00<00:00, 28.48it/s]\u001b[A\n",
      "  6%|▌         | 73/1268 [00:55<17:28,  1.14it/s]\n",
      "Applying IIR:   0%|          | 0/25 [00:00<?, ?it/s]\u001b[A\n",
      "Applying IIR:  12%|█▏        | 3/25 [00:00<00:00, 26.71it/s]\u001b[A"
     ]
    },
    {
     "name": "stdout",
     "output_type": "stream",
     "text": [
      "running motion mag for vid: 1976794_1255229_A_002.mp4\n",
      "video ../../deepfake_data/fb_dfd_release_0.1_final/method_A_crops/1976794_1255229_A_002.mp4\n",
      "\n",
      "Iteration number is 259002\n"
     ]
    },
    {
     "name": "stderr",
     "output_type": "stream",
     "text": [
      "\n",
      "Applying IIR:  24%|██▍       | 6/25 [00:00<00:00, 26.13it/s]\u001b[A\n",
      "Applying IIR:  36%|███▌      | 9/25 [00:00<00:00, 26.86it/s]\u001b[A\n",
      "Applying IIR:  52%|█████▏    | 13/25 [00:00<00:00, 28.51it/s]\u001b[A\n",
      "Applying IIR:  64%|██████▍   | 16/25 [00:00<00:00, 28.71it/s]\u001b[A\n",
      "Applying IIR:  80%|████████  | 20/25 [00:00<00:00, 29.75it/s]\u001b[A\n",
      "Applying IIR: 100%|██████████| 25/25 [00:00<00:00, 30.15it/s]\u001b[A\n",
      "  6%|▌         | 74/1268 [00:56<18:16,  1.09it/s]\n",
      "Applying IIR:   0%|          | 0/25 [00:00<?, ?it/s]\u001b[A\n",
      "Applying IIR:  16%|█▌        | 4/25 [00:00<00:00, 32.33it/s]\u001b[A"
     ]
    },
    {
     "name": "stdout",
     "output_type": "stream",
     "text": [
      "running motion mag for vid: 00203.jpg\n",
      "video ../../deepfake_data/fb_dfd_release_0.1_final/method_A_crops/00203.jpg\n",
      "\n",
      "Exception found: list index out of range\n",
      "running motion mag for vid: 00114.jpg\n",
      "video ../../deepfake_data/fb_dfd_release_0.1_final/method_A_crops/00114.jpg\n",
      "\n",
      "Exception found: list index out of range\n",
      "running motion mag for vid: 2063898_1371757_A_002.mp4\n",
      "video ../../deepfake_data/fb_dfd_release_0.1_final/method_A_crops/2063898_1371757_A_002.mp4\n",
      "\n",
      "Iteration number is 259002\n"
     ]
    },
    {
     "name": "stderr",
     "output_type": "stream",
     "text": [
      "\n",
      "Applying IIR:  28%|██▊       | 7/25 [00:00<00:00, 30.86it/s]\u001b[A\n",
      "Applying IIR:  40%|████      | 10/25 [00:00<00:00, 29.07it/s]\u001b[A\n",
      "Applying IIR:  52%|█████▏    | 13/25 [00:00<00:00, 28.75it/s]\u001b[A\n",
      "Applying IIR:  64%|██████▍   | 16/25 [00:00<00:00, 28.46it/s]\u001b[A\n",
      "Applying IIR:  76%|███████▌  | 19/25 [00:00<00:00, 27.18it/s]\u001b[A\n",
      "Applying IIR:  88%|████████▊ | 22/25 [00:00<00:00, 26.11it/s]\u001b[A\n",
      "Applying IIR: 100%|██████████| 25/25 [00:00<00:00, 26.82it/s]\u001b[A\n",
      "  6%|▌         | 77/1268 [00:57<15:00,  1.32it/s]\n",
      "Applying IIR:   0%|          | 0/25 [00:00<?, ?it/s]\u001b[A\n",
      "Applying IIR:  12%|█▏        | 3/25 [00:00<00:00, 27.43it/s]\u001b[A"
     ]
    },
    {
     "name": "stdout",
     "output_type": "stream",
     "text": [
      "running motion mag for vid: 1822940_1294671_C_002.mp4\n",
      "video ../../deepfake_data/fb_dfd_release_0.1_final/method_A_crops/1822940_1294671_C_002.mp4\n",
      "\n",
      "Iteration number is 259002\n"
     ]
    },
    {
     "name": "stderr",
     "output_type": "stream",
     "text": [
      "\n",
      "Applying IIR:  24%|██▍       | 6/25 [00:00<00:00, 27.72it/s]\u001b[A\n",
      "Applying IIR:  40%|████      | 10/25 [00:00<00:00, 28.13it/s]\u001b[A\n",
      "Applying IIR:  56%|█████▌    | 14/25 [00:00<00:00, 29.47it/s]\u001b[A\n",
      "Applying IIR:  72%|███████▏  | 18/25 [00:00<00:00, 30.50it/s]\u001b[A\n",
      "Applying IIR:  84%|████████▍ | 21/25 [00:00<00:00, 29.29it/s]\u001b[A\n",
      "Applying IIR: 100%|██████████| 25/25 [00:00<00:00, 29.82it/s]\u001b[A\n",
      "  6%|▌         | 78/1268 [00:58<16:46,  1.18it/s]\n",
      "Applying IIR:   0%|          | 0/20 [00:00<?, ?it/s]\u001b[A\n",
      "Applying IIR:  15%|█▌        | 3/20 [00:00<00:00, 26.04it/s]\u001b[A"
     ]
    },
    {
     "name": "stdout",
     "output_type": "stream",
     "text": [
      "running motion mag for vid: 1929178_1294671_C_001.mp4\n",
      "video ../../deepfake_data/fb_dfd_release_0.1_final/method_A_crops/1929178_1294671_C_001.mp4\n",
      "\n",
      "Iteration number is 259002\n"
     ]
    },
    {
     "name": "stderr",
     "output_type": "stream",
     "text": [
      "\n",
      "Applying IIR:  30%|███       | 6/20 [00:00<00:00, 27.06it/s]\u001b[A\n",
      "Applying IIR:  45%|████▌     | 9/20 [00:00<00:00, 27.45it/s]\u001b[A\n",
      "Applying IIR:  65%|██████▌   | 13/20 [00:00<00:00, 28.17it/s]\u001b[A\n",
      "Applying IIR:  85%|████████▌ | 17/20 [00:00<00:00, 28.92it/s]\u001b[A\n",
      "Applying IIR: 100%|██████████| 20/20 [00:00<00:00, 28.31it/s]\u001b[A\n",
      "  6%|▌         | 79/1268 [00:59<17:08,  1.16it/s]\n",
      "Applying IIR:   0%|          | 0/25 [00:00<?, ?it/s]\u001b[A\n",
      "Applying IIR:  12%|█▏        | 3/25 [00:00<00:00, 25.42it/s]\u001b[A"
     ]
    },
    {
     "name": "stdout",
     "output_type": "stream",
     "text": [
      "running motion mag for vid: 804259_1371757_B_003.mp4\n",
      "video ../../deepfake_data/fb_dfd_release_0.1_final/method_A_crops/804259_1371757_B_003.mp4\n",
      "\n",
      "Iteration number is 259002\n"
     ]
    },
    {
     "name": "stderr",
     "output_type": "stream",
     "text": [
      "\n",
      "Applying IIR:  24%|██▍       | 6/25 [00:00<00:00, 25.96it/s]\u001b[A\n",
      "Applying IIR:  36%|███▌      | 9/25 [00:00<00:00, 25.45it/s]\u001b[A\n",
      "Applying IIR:  48%|████▊     | 12/25 [00:00<00:00, 25.75it/s]\u001b[A\n",
      "Applying IIR:  60%|██████    | 15/25 [00:00<00:00, 26.47it/s]\u001b[A\n",
      "Applying IIR:  72%|███████▏  | 18/25 [00:00<00:00, 27.36it/s]\u001b[A\n",
      "Applying IIR: 100%|██████████| 25/25 [00:00<00:00, 28.45it/s]\u001b[A\n",
      "  6%|▋         | 80/1268 [01:00<18:16,  1.08it/s]\n",
      "Applying IIR:   0%|          | 0/25 [00:00<?, ?it/s]\u001b[A\n",
      "Applying IIR:  12%|█▏        | 3/25 [00:00<00:00, 26.55it/s]\u001b[A"
     ]
    },
    {
     "name": "stdout",
     "output_type": "stream",
     "text": [
      "running motion mag for vid: 1061402_804259_I_001.mp4\n",
      "video ../../deepfake_data/fb_dfd_release_0.1_final/method_A_crops/1061402_804259_I_001.mp4\n",
      "\n",
      "Iteration number is 259002\n"
     ]
    },
    {
     "name": "stderr",
     "output_type": "stream",
     "text": [
      "\n",
      "Applying IIR:  24%|██▍       | 6/25 [00:00<00:00, 25.87it/s]\u001b[A\n",
      "Applying IIR:  36%|███▌      | 9/25 [00:00<00:00, 25.99it/s]\u001b[A\n",
      "Applying IIR:  48%|████▊     | 12/25 [00:00<00:00, 26.90it/s]\u001b[A\n",
      "Applying IIR:  64%|██████▍   | 16/25 [00:00<00:00, 28.08it/s]\u001b[A\n",
      "Applying IIR:  80%|████████  | 20/25 [00:00<00:00, 29.23it/s]\u001b[A\n",
      "Applying IIR: 100%|██████████| 25/25 [00:00<00:00, 28.28it/s]\u001b[A\n",
      "  6%|▋         | 81/1268 [01:01<19:11,  1.03it/s]\n",
      "Applying IIR:   0%|          | 0/25 [00:00<?, ?it/s]\u001b[A\n",
      "Applying IIR:  12%|█▏        | 3/25 [00:00<00:00, 27.24it/s]\u001b[A"
     ]
    },
    {
     "name": "stdout",
     "output_type": "stream",
     "text": [
      "running motion mag for vid: 1003254_1294671_B_003.mp4\n",
      "video ../../deepfake_data/fb_dfd_release_0.1_final/method_A_crops/1003254_1294671_B_003.mp4\n",
      "\n",
      "Iteration number is 259002\n"
     ]
    },
    {
     "name": "stderr",
     "output_type": "stream",
     "text": [
      "\n",
      "Applying IIR:  24%|██▍       | 6/25 [00:00<00:00, 27.17it/s]\u001b[A\n",
      "Applying IIR:  40%|████      | 10/25 [00:00<00:00, 28.43it/s]\u001b[A\n",
      "Applying IIR:  52%|█████▏    | 13/25 [00:00<00:00, 27.54it/s]\u001b[A\n",
      "Applying IIR:  64%|██████▍   | 16/25 [00:00<00:00, 27.68it/s]\u001b[A\n",
      "Applying IIR:  80%|████████  | 20/25 [00:00<00:00, 28.95it/s]\u001b[A\n",
      "Applying IIR: 100%|██████████| 25/25 [00:00<00:00, 29.17it/s]\u001b[A\n",
      "  6%|▋         | 82/1268 [01:02<19:29,  1.01it/s]\n",
      "Applying IIR:   0%|          | 0/25 [00:00<?, ?it/s]\u001b[A\n",
      "Applying IIR:  16%|█▌        | 4/25 [00:00<00:00, 34.06it/s]\u001b[A"
     ]
    },
    {
     "name": "stdout",
     "output_type": "stream",
     "text": [
      "running motion mag for vid: 1260311_1255229_A_003.mp4\n",
      "video ../../deepfake_data/fb_dfd_release_0.1_final/method_A_crops/1260311_1255229_A_003.mp4\n",
      "\n",
      "Iteration number is 259002\n"
     ]
    },
    {
     "name": "stderr",
     "output_type": "stream",
     "text": [
      "\n",
      "Applying IIR:  28%|██▊       | 7/25 [00:00<00:00, 31.11it/s]\u001b[A\n",
      "Applying IIR:  44%|████▍     | 11/25 [00:00<00:00, 31.17it/s]\u001b[A\n",
      "Applying IIR:  60%|██████    | 15/25 [00:00<00:00, 30.48it/s]\u001b[A\n",
      "Applying IIR:  72%|███████▏  | 18/25 [00:00<00:00, 29.16it/s]\u001b[A\n",
      "Applying IIR:  84%|████████▍ | 21/25 [00:00<00:00, 29.02it/s]\u001b[A\n",
      "Applying IIR: 100%|██████████| 25/25 [00:00<00:00, 28.86it/s]\u001b[A\n",
      "  7%|▋         | 83/1268 [01:03<19:54,  1.01s/it]\n",
      "Applying IIR:   0%|          | 0/25 [00:00<?, ?it/s]\u001b[A\n",
      "Applying IIR:  12%|█▏        | 3/25 [00:00<00:00, 29.64it/s]\u001b[A"
     ]
    },
    {
     "name": "stdout",
     "output_type": "stream",
     "text": [
      "running motion mag for vid: 1999299_1255229_A_001.mp4\n",
      "video ../../deepfake_data/fb_dfd_release_0.1_final/method_A_crops/1999299_1255229_A_001.mp4\n",
      "\n",
      "Iteration number is 259002\n"
     ]
    },
    {
     "name": "stderr",
     "output_type": "stream",
     "text": [
      "\n",
      "Applying IIR:  28%|██▊       | 7/25 [00:00<00:00, 30.19it/s]\u001b[A\n",
      "Applying IIR:  40%|████      | 10/25 [00:00<00:00, 29.64it/s]\u001b[A\n",
      "Applying IIR:  52%|█████▏    | 13/25 [00:00<00:00, 28.61it/s]\u001b[A\n",
      "Applying IIR:  64%|██████▍   | 16/25 [00:00<00:00, 27.48it/s]\u001b[A\n",
      "Applying IIR:  76%|███████▌  | 19/25 [00:00<00:00, 27.16it/s]\u001b[A\n",
      "Applying IIR:  88%|████████▊ | 22/25 [00:00<00:00, 27.92it/s]\u001b[A\n",
      "Applying IIR: 100%|██████████| 25/25 [00:00<00:00, 27.98it/s]\u001b[A\n",
      "  7%|▋         | 84/1268 [01:04<20:21,  1.03s/it]\n",
      "Applying IIR:   0%|          | 0/25 [00:00<?, ?it/s]\u001b[A\n",
      "Applying IIR:  16%|█▌        | 4/25 [00:00<00:00, 30.91it/s]\u001b[A"
     ]
    },
    {
     "name": "stdout",
     "output_type": "stream",
     "text": [
      "running motion mag for vid: 1997643_1255229_A_001.mp4\n",
      "video ../../deepfake_data/fb_dfd_release_0.1_final/method_A_crops/1997643_1255229_A_001.mp4\n",
      "\n",
      "Iteration number is 259002\n"
     ]
    },
    {
     "name": "stderr",
     "output_type": "stream",
     "text": [
      "\n",
      "Applying IIR:  28%|██▊       | 7/25 [00:00<00:00, 29.16it/s]\u001b[A\n",
      "Applying IIR:  40%|████      | 10/25 [00:00<00:00, 28.66it/s]\u001b[A\n",
      "Applying IIR:  56%|█████▌    | 14/25 [00:00<00:00, 29.52it/s]\u001b[A\n",
      "Applying IIR:  72%|███████▏  | 18/25 [00:00<00:00, 30.04it/s]\u001b[A\n",
      "Applying IIR:  88%|████████▊ | 22/25 [00:00<00:00, 30.78it/s]\u001b[A\n",
      "Applying IIR: 100%|██████████| 25/25 [00:00<00:00, 29.48it/s]\u001b[A\n",
      "  7%|▋         | 85/1268 [01:05<20:27,  1.04s/it]\n",
      "Applying IIR:   0%|          | 0/25 [00:00<?, ?it/s]\u001b[A\n",
      "Applying IIR:  16%|█▌        | 4/25 [00:00<00:00, 30.70it/s]\u001b[A"
     ]
    },
    {
     "name": "stdout",
     "output_type": "stream",
     "text": [
      "running motion mag for vid: 00168.jpg\n",
      "video ../../deepfake_data/fb_dfd_release_0.1_final/method_A_crops/00168.jpg\n",
      "\n",
      "Exception found: list index out of range\n",
      "running motion mag for vid: 1604866_1224068_D_002.mp4\n",
      "video ../../deepfake_data/fb_dfd_release_0.1_final/method_A_crops/1604866_1224068_D_002.mp4\n",
      "\n",
      "Iteration number is 259002\n"
     ]
    },
    {
     "name": "stderr",
     "output_type": "stream",
     "text": [
      "\n",
      "Applying IIR:  28%|██▊       | 7/25 [00:00<00:00, 28.46it/s]\u001b[A\n",
      "Applying IIR:  40%|████      | 10/25 [00:00<00:00, 28.79it/s]\u001b[A\n",
      "Applying IIR:  56%|█████▌    | 14/25 [00:00<00:00, 28.92it/s]\u001b[A\n",
      "Applying IIR:  68%|██████▊   | 17/25 [00:00<00:00, 28.86it/s]\u001b[A\n",
      "Applying IIR:  84%|████████▍ | 21/25 [00:00<00:00, 29.48it/s]\u001b[A\n",
      "Applying IIR: 100%|██████████| 25/25 [00:00<00:00, 29.36it/s]\u001b[A\n",
      "  7%|▋         | 87/1268 [01:06<17:20,  1.14it/s]\n",
      "Applying IIR:   0%|          | 0/25 [00:00<?, ?it/s]\u001b[A\n",
      "Applying IIR:  12%|█▏        | 3/25 [00:00<00:00, 28.43it/s]\u001b[A"
     ]
    },
    {
     "name": "stdout",
     "output_type": "stream",
     "text": [
      "running motion mag for vid: 00030.jpg\n",
      "video ../../deepfake_data/fb_dfd_release_0.1_final/method_A_crops/00030.jpg\n",
      "\n",
      "Exception found: list index out of range\n",
      "running motion mag for vid: 00451.jpg\n",
      "video ../../deepfake_data/fb_dfd_release_0.1_final/method_A_crops/00451.jpg\n",
      "\n",
      "Exception found: list index out of range\n",
      "running motion mag for vid: 1224068_1681757_D_001.mp4\n",
      "video ../../deepfake_data/fb_dfd_release_0.1_final/method_A_crops/1224068_1681757_D_001.mp4\n",
      "\n",
      "Iteration number is 259002\n"
     ]
    },
    {
     "name": "stderr",
     "output_type": "stream",
     "text": [
      "\n",
      "Applying IIR:  28%|██▊       | 7/25 [00:00<00:00, 29.49it/s]\u001b[A\n",
      "Applying IIR:  44%|████▍     | 11/25 [00:00<00:00, 31.01it/s]\u001b[A\n",
      "Applying IIR:  56%|█████▌    | 14/25 [00:00<00:00, 30.63it/s]\u001b[A\n",
      "Applying IIR:  68%|██████▊   | 17/25 [00:00<00:00, 29.43it/s]\u001b[A\n",
      "Applying IIR:  80%|████████  | 20/25 [00:00<00:00, 29.53it/s]\u001b[A\n",
      "Applying IIR: 100%|██████████| 25/25 [00:00<00:00, 30.16it/s]\u001b[A\n",
      "  7%|▋         | 90/1268 [01:07<14:04,  1.40it/s]\n",
      "Applying IIR:   0%|          | 0/25 [00:00<?, ?it/s]\u001b[A\n",
      "Applying IIR:  12%|█▏        | 3/25 [00:00<00:00, 29.16it/s]\u001b[A"
     ]
    },
    {
     "name": "stdout",
     "output_type": "stream",
     "text": [
      "running motion mag for vid: 00327.jpg\n",
      "video ../../deepfake_data/fb_dfd_release_0.1_final/method_A_crops/00327.jpg\n",
      "\n",
      "Exception found: list index out of range\n",
      "running motion mag for vid: 00278.jpg\n",
      "video ../../deepfake_data/fb_dfd_release_0.1_final/method_A_crops/00278.jpg\n",
      "\n",
      "Exception found: list index out of range\n",
      "running motion mag for vid: 1681757_1224068_E_003.mp4\n",
      "video ../../deepfake_data/fb_dfd_release_0.1_final/method_A_crops/1681757_1224068_E_003.mp4\n",
      "\n",
      "Iteration number is 259002\n"
     ]
    },
    {
     "name": "stderr",
     "output_type": "stream",
     "text": [
      "\n",
      "Applying IIR:  24%|██▍       | 6/25 [00:00<00:00, 28.97it/s]\u001b[A\n",
      "Applying IIR:  40%|████      | 10/25 [00:00<00:00, 29.43it/s]\u001b[A\n",
      "Applying IIR:  56%|█████▌    | 14/25 [00:00<00:00, 29.94it/s]\u001b[A\n",
      "Applying IIR:  68%|██████▊   | 17/25 [00:00<00:00, 29.59it/s]\u001b[A\n",
      "Applying IIR:  84%|████████▍ | 21/25 [00:00<00:00, 30.56it/s]\u001b[A\n",
      "Applying IIR: 100%|██████████| 25/25 [00:00<00:00, 30.78it/s]\u001b[A\n",
      "  7%|▋         | 93/1268 [01:08<11:47,  1.66it/s]\n",
      "Applying IIR:   0%|          | 0/25 [00:00<?, ?it/s]\u001b[A\n",
      "Applying IIR:  16%|█▌        | 4/25 [00:00<00:00, 30.45it/s]\u001b[A"
     ]
    },
    {
     "name": "stdout",
     "output_type": "stream",
     "text": [
      "running motion mag for vid: 1061402_804259_E_001.mp4\n",
      "video ../../deepfake_data/fb_dfd_release_0.1_final/method_A_crops/1061402_804259_E_001.mp4\n",
      "\n",
      "Iteration number is 259002\n"
     ]
    },
    {
     "name": "stderr",
     "output_type": "stream",
     "text": [
      "\n",
      "Applying IIR:  32%|███▏      | 8/25 [00:00<00:00, 31.49it/s]\u001b[A\n",
      "Applying IIR:  44%|████▍     | 11/25 [00:00<00:00, 29.60it/s]\u001b[A\n",
      "Applying IIR:  56%|█████▌    | 14/25 [00:00<00:00, 29.01it/s]\u001b[A\n",
      "Applying IIR:  72%|███████▏  | 18/25 [00:00<00:00, 29.21it/s]\u001b[A\n",
      "Applying IIR:  84%|████████▍ | 21/25 [00:00<00:00, 27.52it/s]\u001b[A\n",
      "Applying IIR: 100%|██████████| 25/25 [00:00<00:00, 27.89it/s]\u001b[A\n",
      "  7%|▋         | 94/1268 [01:09<14:38,  1.34it/s]\n",
      "Applying IIR:   0%|          | 0/25 [00:00<?, ?it/s]\u001b[A\n",
      "Applying IIR:  12%|█▏        | 3/25 [00:00<00:00, 26.40it/s]\u001b[A"
     ]
    },
    {
     "name": "stdout",
     "output_type": "stream",
     "text": [
      "running motion mag for vid: 1609928_1681757_B_001.mp4\n",
      "video ../../deepfake_data/fb_dfd_release_0.1_final/method_A_crops/1609928_1681757_B_001.mp4\n",
      "\n",
      "Iteration number is 259002\n"
     ]
    },
    {
     "name": "stderr",
     "output_type": "stream",
     "text": [
      "\n",
      "Applying IIR:  24%|██▍       | 6/25 [00:00<00:00, 26.16it/s]\u001b[A\n",
      "Applying IIR:  36%|███▌      | 9/25 [00:00<00:00, 26.46it/s]\u001b[A\n",
      "Applying IIR:  48%|████▊     | 12/25 [00:00<00:00, 27.12it/s]\u001b[A\n",
      "Applying IIR:  64%|██████▍   | 16/25 [00:00<00:00, 28.58it/s]\u001b[A\n",
      "Applying IIR:  76%|███████▌  | 19/25 [00:00<00:00, 28.35it/s]\u001b[A\n",
      "Applying IIR: 100%|██████████| 25/25 [00:00<00:00, 28.18it/s]\u001b[A\n",
      "  7%|▋         | 95/1268 [01:10<16:35,  1.18it/s]\n",
      "Applying IIR:   0%|          | 0/25 [00:00<?, ?it/s]\u001b[A\n",
      "Applying IIR:  12%|█▏        | 3/25 [00:00<00:00, 29.39it/s]\u001b[A"
     ]
    },
    {
     "name": "stdout",
     "output_type": "stream",
     "text": [
      "running motion mag for vid: 1916010_1224068_E_001.mp4\n",
      "video ../../deepfake_data/fb_dfd_release_0.1_final/method_A_crops/1916010_1224068_E_001.mp4\n",
      "\n",
      "Iteration number is 259002\n"
     ]
    },
    {
     "name": "stderr",
     "output_type": "stream",
     "text": [
      "\n",
      "Applying IIR:  24%|██▍       | 6/25 [00:00<00:00, 27.99it/s]\u001b[A\n",
      "Applying IIR:  36%|███▌      | 9/25 [00:00<00:00, 27.93it/s]\u001b[A\n",
      "Applying IIR:  52%|█████▏    | 13/25 [00:00<00:00, 28.31it/s]\u001b[A\n",
      "Applying IIR:  64%|██████▍   | 16/25 [00:00<00:00, 28.60it/s]\u001b[A\n",
      "Applying IIR:  76%|███████▌  | 19/25 [00:00<00:00, 28.87it/s]\u001b[A\n",
      "Applying IIR:  88%|████████▊ | 22/25 [00:00<00:00, 28.89it/s]\u001b[A\n",
      "Applying IIR: 100%|██████████| 25/25 [00:00<00:00, 28.54it/s]\u001b[A\n",
      "  8%|▊         | 96/1268 [01:11<17:57,  1.09it/s]\n",
      "Applying IIR:   0%|          | 0/25 [00:00<?, ?it/s]\u001b[A\n",
      "Applying IIR:  12%|█▏        | 3/25 [00:00<00:00, 29.49it/s]\u001b[A"
     ]
    },
    {
     "name": "stdout",
     "output_type": "stream",
     "text": [
      "running motion mag for vid: 00037.jpg\n",
      "video ../../deepfake_data/fb_dfd_release_0.1_final/method_A_crops/00037.jpg\n",
      "\n",
      "Exception found: list index out of range\n",
      "running motion mag for vid: 2121160_1294671_A_001.mp4\n",
      "video ../../deepfake_data/fb_dfd_release_0.1_final/method_A_crops/2121160_1294671_A_001.mp4\n",
      "\n",
      "Iteration number is 259002\n"
     ]
    },
    {
     "name": "stderr",
     "output_type": "stream",
     "text": [
      "\n",
      "Applying IIR:  28%|██▊       | 7/25 [00:00<00:00, 30.58it/s]\u001b[A\n",
      "Applying IIR:  44%|████▍     | 11/25 [00:00<00:00, 30.96it/s]\u001b[A\n",
      "Applying IIR:  60%|██████    | 15/25 [00:00<00:00, 31.28it/s]\u001b[A\n",
      "Applying IIR:  72%|███████▏  | 18/25 [00:00<00:00, 29.89it/s]\u001b[A\n",
      "Applying IIR:  88%|████████▊ | 22/25 [00:00<00:00, 31.40it/s]\u001b[A\n",
      "Applying IIR: 100%|██████████| 25/25 [00:00<00:00, 30.91it/s]\u001b[A\n",
      "  8%|▊         | 98/1268 [01:12<15:28,  1.26it/s]\n",
      "Applying IIR:   0%|          | 0/25 [00:00<?, ?it/s]\u001b[A\n",
      "Applying IIR:  12%|█▏        | 3/25 [00:00<00:00, 25.68it/s]\u001b[A"
     ]
    },
    {
     "name": "stdout",
     "output_type": "stream",
     "text": [
      "running motion mag for vid: 00320.jpg\n",
      "video ../../deepfake_data/fb_dfd_release_0.1_final/method_A_crops/00320.jpg\n",
      "\n",
      "Exception found: list index out of range\n",
      "running motion mag for vid: 00204.jpg\n",
      "video ../../deepfake_data/fb_dfd_release_0.1_final/method_A_crops/00204.jpg\n",
      "\n",
      "Exception found: list index out of range\n",
      "running motion mag for vid: 1609928_1795659_C_002.mp4\n",
      "video ../../deepfake_data/fb_dfd_release_0.1_final/method_A_crops/1609928_1795659_C_002.mp4\n",
      "\n",
      "Iteration number is 259002\n"
     ]
    },
    {
     "name": "stderr",
     "output_type": "stream",
     "text": [
      "\n",
      "Applying IIR:  28%|██▊       | 7/25 [00:00<00:00, 27.13it/s]\u001b[A\n",
      "Applying IIR:  44%|████▍     | 11/25 [00:00<00:00, 28.43it/s]\u001b[A\n",
      "Applying IIR:  56%|█████▌    | 14/25 [00:00<00:00, 28.67it/s]\u001b[A\n",
      "Applying IIR:  68%|██████▊   | 17/25 [00:00<00:00, 27.53it/s]\u001b[A\n",
      "Applying IIR:  80%|████████  | 20/25 [00:00<00:00, 28.13it/s]\u001b[A\n",
      "Applying IIR: 100%|██████████| 25/25 [00:00<00:00, 29.05it/s]\u001b[A\n",
      "  8%|▊         | 101/1268 [01:14<12:50,  1.51it/s]\n",
      "Applying IIR:   0%|          | 0/25 [00:00<?, ?it/s]\u001b[A\n",
      "Applying IIR:  16%|█▌        | 4/25 [00:00<00:00, 30.72it/s]\u001b[A"
     ]
    },
    {
     "name": "stdout",
     "output_type": "stream",
     "text": [
      "running motion mag for vid: 00113.jpg\n",
      "video ../../deepfake_data/fb_dfd_release_0.1_final/method_A_crops/00113.jpg\n",
      "\n",
      "Exception found: list index out of range\n",
      "running motion mag for vid: 1681757_1224068_A_003.mp4\n",
      "video ../../deepfake_data/fb_dfd_release_0.1_final/method_A_crops/1681757_1224068_A_003.mp4\n",
      "\n",
      "Iteration number is 259002\n"
     ]
    },
    {
     "name": "stderr",
     "output_type": "stream",
     "text": [
      "\n",
      "Applying IIR:  32%|███▏      | 8/25 [00:00<00:00, 31.08it/s]\u001b[A\n",
      "Applying IIR:  48%|████▊     | 12/25 [00:00<00:00, 31.66it/s]\u001b[A\n",
      "Applying IIR:  60%|██████    | 15/25 [00:00<00:00, 30.77it/s]\u001b[A\n",
      "Applying IIR:  72%|███████▏  | 18/25 [00:00<00:00, 30.13it/s]\u001b[A\n",
      "Applying IIR: 100%|██████████| 25/25 [00:00<00:00, 31.22it/s]\u001b[A\n",
      "  8%|▊         | 103/1268 [01:14<11:48,  1.64it/s]\n",
      "Applying IIR:   0%|          | 0/25 [00:00<?, ?it/s]\u001b[A\n",
      "Applying IIR:  12%|█▏        | 3/25 [00:00<00:00, 25.73it/s]\u001b[A"
     ]
    },
    {
     "name": "stdout",
     "output_type": "stream",
     "text": [
      "running motion mag for vid: 1061402_804259_A_001.mp4\n",
      "video ../../deepfake_data/fb_dfd_release_0.1_final/method_A_crops/1061402_804259_A_001.mp4\n",
      "\n",
      "Iteration number is 259002\n"
     ]
    },
    {
     "name": "stderr",
     "output_type": "stream",
     "text": [
      "\n",
      "Applying IIR:  24%|██▍       | 6/25 [00:00<00:00, 25.34it/s]\u001b[A\n",
      "Applying IIR:  40%|████      | 10/25 [00:00<00:00, 27.13it/s]\u001b[A\n",
      "Applying IIR:  52%|█████▏    | 13/25 [00:00<00:00, 27.41it/s]\u001b[A\n",
      "Applying IIR:  68%|██████▊   | 17/25 [00:00<00:00, 28.65it/s]\u001b[A\n",
      "Applying IIR:  84%|████████▍ | 21/25 [00:00<00:00, 30.05it/s]\u001b[A\n",
      "Applying IIR: 100%|██████████| 25/25 [00:00<00:00, 29.92it/s]\u001b[A\n",
      "  8%|▊         | 104/1268 [01:16<14:09,  1.37it/s]\n",
      "Applying IIR:   0%|          | 0/25 [00:00<?, ?it/s]\u001b[A\n",
      "Applying IIR:  16%|█▌        | 4/25 [00:00<00:00, 30.24it/s]\u001b[A"
     ]
    },
    {
     "name": "stdout",
     "output_type": "stream",
     "text": [
      "running motion mag for vid: 1916010_1224068_A_001.mp4\n",
      "video ../../deepfake_data/fb_dfd_release_0.1_final/method_A_crops/1916010_1224068_A_001.mp4\n",
      "\n",
      "Iteration number is 259002\n"
     ]
    },
    {
     "name": "stderr",
     "output_type": "stream",
     "text": [
      "\n",
      "Applying IIR:  28%|██▊       | 7/25 [00:00<00:00, 28.68it/s]\u001b[A\n",
      "Applying IIR:  40%|████      | 10/25 [00:00<00:00, 28.75it/s]\u001b[A\n",
      "Applying IIR:  52%|█████▏    | 13/25 [00:00<00:00, 27.62it/s]\u001b[A\n",
      "Applying IIR:  68%|██████▊   | 17/25 [00:00<00:00, 27.71it/s]\u001b[A\n",
      "Applying IIR:  84%|████████▍ | 21/25 [00:00<00:00, 29.38it/s]\u001b[A\n",
      "Applying IIR: 100%|██████████| 25/25 [00:00<00:00, 28.63it/s]\u001b[A\n",
      "  8%|▊         | 105/1268 [01:17<15:58,  1.21it/s]\n",
      "Applying IIR:   0%|          | 0/25 [00:00<?, ?it/s]\u001b[A\n",
      "Applying IIR:  12%|█▏        | 3/25 [00:00<00:00, 25.59it/s]\u001b[A"
     ]
    },
    {
     "name": "stdout",
     "output_type": "stream",
     "text": [
      "running motion mag for vid: 2057131_1224068_D_001.mp4\n",
      "video ../../deepfake_data/fb_dfd_release_0.1_final/method_A_crops/2057131_1224068_D_001.mp4\n",
      "\n",
      "Iteration number is 259002\n"
     ]
    },
    {
     "name": "stderr",
     "output_type": "stream",
     "text": [
      "\n",
      "Applying IIR:  24%|██▍       | 6/25 [00:00<00:00, 25.51it/s]\u001b[A\n",
      "Applying IIR:  36%|███▌      | 9/25 [00:00<00:00, 26.21it/s]\u001b[A\n",
      "Applying IIR:  48%|████▊     | 12/25 [00:00<00:00, 26.36it/s]\u001b[A\n",
      "Applying IIR:  60%|██████    | 15/25 [00:00<00:00, 27.05it/s]\u001b[A\n",
      "Applying IIR:  76%|███████▌  | 19/25 [00:00<00:00, 28.38it/s]\u001b[A\n",
      "Applying IIR: 100%|██████████| 25/25 [00:00<00:00, 28.29it/s]\u001b[A\n",
      "  8%|▊         | 106/1268 [01:18<17:21,  1.12it/s]\n",
      "Applying IIR:   0%|          | 0/25 [00:00<?, ?it/s]\u001b[A\n",
      "Applying IIR:  12%|█▏        | 3/25 [00:00<00:00, 27.31it/s]\u001b[A"
     ]
    },
    {
     "name": "stdout",
     "output_type": "stream",
     "text": [
      "running motion mag for vid: 00276.jpg\n",
      "video ../../deepfake_data/fb_dfd_release_0.1_final/method_A_crops/00276.jpg\n",
      "\n",
      "Exception found: list index out of range\n",
      "running motion mag for vid: 2059066_804259_D_003.mp4\n",
      "video ../../deepfake_data/fb_dfd_release_0.1_final/method_A_crops/2059066_804259_D_003.mp4\n",
      "\n",
      "Iteration number is 259002\n"
     ]
    },
    {
     "name": "stderr",
     "output_type": "stream",
     "text": [
      "\n",
      "Applying IIR:  24%|██▍       | 6/25 [00:00<00:00, 27.43it/s]\u001b[A\n",
      "Applying IIR:  40%|████      | 10/25 [00:00<00:00, 28.46it/s]\u001b[A\n",
      "Applying IIR:  56%|█████▌    | 14/25 [00:00<00:00, 29.26it/s]\u001b[A\n",
      "Applying IIR:  68%|██████▊   | 17/25 [00:00<00:00, 29.41it/s]\u001b[A\n",
      "Applying IIR:  80%|████████  | 20/25 [00:00<00:00, 29.12it/s]\u001b[A\n",
      "Applying IIR: 100%|██████████| 25/25 [00:00<00:00, 29.98it/s]\u001b[A\n",
      "  9%|▊         | 108/1268 [01:19<15:03,  1.28it/s]\n",
      "Applying IIR:   0%|          | 0/25 [00:00<?, ?it/s]\u001b[A\n",
      "Applying IIR:  12%|█▏        | 3/25 [00:00<00:00, 26.86it/s]\u001b[A"
     ]
    },
    {
     "name": "stdout",
     "output_type": "stream",
     "text": [
      "running motion mag for vid: 1294671_804259_C_001.mp4\n",
      "video ../../deepfake_data/fb_dfd_release_0.1_final/method_A_crops/1294671_804259_C_001.mp4\n",
      "\n",
      "Iteration number is 259002\n"
     ]
    },
    {
     "name": "stderr",
     "output_type": "stream",
     "text": [
      "\n",
      "Applying IIR:  24%|██▍       | 6/25 [00:00<00:00, 27.17it/s]\u001b[A\n",
      "Applying IIR:  40%|████      | 10/25 [00:00<00:00, 28.21it/s]\u001b[A\n",
      "Applying IIR:  52%|█████▏    | 13/25 [00:00<00:00, 28.41it/s]\u001b[A\n",
      "Applying IIR:  64%|██████▍   | 16/25 [00:00<00:00, 28.69it/s]\u001b[A\n",
      "Applying IIR:  76%|███████▌  | 19/25 [00:00<00:00, 28.30it/s]\u001b[A\n",
      "Applying IIR:  88%|████████▊ | 22/25 [00:00<00:00, 28.11it/s]\u001b[A\n",
      "Applying IIR: 100%|██████████| 25/25 [00:00<00:00, 27.79it/s]\u001b[A\n",
      "  9%|▊         | 109/1268 [01:20<16:59,  1.14it/s]\n",
      "Applying IIR:   0%|          | 0/25 [00:00<?, ?it/s]\u001b[A\n",
      "Applying IIR:  12%|█▏        | 3/25 [00:00<00:00, 29.50it/s]\u001b[A"
     ]
    },
    {
     "name": "stdout",
     "output_type": "stream",
     "text": [
      "running motion mag for vid: 00161.jpg\n",
      "video ../../deepfake_data/fb_dfd_release_0.1_final/method_A_crops/00161.jpg\n",
      "\n",
      "Exception found: list index out of range\n",
      "running motion mag for vid: 2063898_804259_F_001.mp4\n",
      "video ../../deepfake_data/fb_dfd_release_0.1_final/method_A_crops/2063898_804259_F_001.mp4\n",
      "\n",
      "Iteration number is 259002\n"
     ]
    },
    {
     "name": "stderr",
     "output_type": "stream",
     "text": [
      "\n",
      "Applying IIR:  28%|██▊       | 7/25 [00:00<00:00, 30.05it/s]\u001b[A\n",
      "Applying IIR:  44%|████▍     | 11/25 [00:00<00:00, 29.85it/s]\u001b[A\n",
      "Applying IIR:  56%|█████▌    | 14/25 [00:00<00:00, 28.79it/s]\u001b[A\n",
      "Applying IIR:  72%|███████▏  | 18/25 [00:00<00:00, 29.50it/s]\u001b[A\n",
      "Applying IIR: 100%|██████████| 25/25 [00:00<00:00, 30.31it/s]\u001b[A\n",
      "  9%|▉         | 111/1268 [01:21<14:47,  1.30it/s]\n",
      "Applying IIR:   0%|          | 0/25 [00:00<?, ?it/s]\u001b[A\n",
      "Applying IIR:  16%|█▌        | 4/25 [00:00<00:00, 34.62it/s]\u001b[A"
     ]
    },
    {
     "name": "stdout",
     "output_type": "stream",
     "text": [
      "running motion mag for vid: 00039.jpg\n",
      "video ../../deepfake_data/fb_dfd_release_0.1_final/method_A_crops/00039.jpg\n",
      "\n",
      "Exception found: list index out of range\n",
      "running motion mag for vid: 1609928_1224068_D_001.mp4\n",
      "video ../../deepfake_data/fb_dfd_release_0.1_final/method_A_crops/1609928_1224068_D_001.mp4\n",
      "\n",
      "Iteration number is 259002\n"
     ]
    },
    {
     "name": "stderr",
     "output_type": "stream",
     "text": [
      "\n",
      "Applying IIR:  28%|██▊       | 7/25 [00:00<00:00, 32.28it/s]\u001b[A\n",
      "Applying IIR:  44%|████▍     | 11/25 [00:00<00:00, 32.13it/s]\u001b[A\n",
      "Applying IIR:  60%|██████    | 15/25 [00:00<00:00, 31.33it/s]\u001b[A\n",
      "Applying IIR:  72%|███████▏  | 18/25 [00:00<00:00, 30.64it/s]\u001b[A\n",
      "Applying IIR:  84%|████████▍ | 21/25 [00:00<00:00, 26.49it/s]\u001b[A\n",
      "Applying IIR: 100%|██████████| 25/25 [00:00<00:00, 28.20it/s]\u001b[A\n",
      "  9%|▉         | 113/1268 [01:22<13:26,  1.43it/s]\n",
      "Applying IIR:   0%|          | 0/25 [00:00<?, ?it/s]\u001b[A\n",
      "\n",
      "Applying IIR:   0%|          | 0/25 [00:00<?, ?it/s]\u001b[A\n",
      "Applying IIR:  16%|█▌        | 4/25 [00:00<00:00, 31.44it/s]\u001b[A"
     ]
    },
    {
     "name": "stdout",
     "output_type": "stream",
     "text": [
      "running motion mag for vid: 1916010_1681757_C_001.mp4\n",
      "video ../../deepfake_data/fb_dfd_release_0.1_final/method_A_crops/1916010_1681757_C_001.mp4\n",
      "\n",
      "Iteration number is 259002\n",
      "Exception found: OpenCV(4.1.1) /io/opencv/modules/imgproc/src/color.cpp:182: error: (-215:Assertion failed) !_src.empty() in function 'cvtColor'\n",
      "\n",
      "running motion mag for vid: 1941250_804259_B_002.mp4\n",
      "video ../../deepfake_data/fb_dfd_release_0.1_final/method_A_crops/1941250_804259_B_002.mp4\n",
      "\n",
      "Iteration number is 259002\n"
     ]
    },
    {
     "name": "stderr",
     "output_type": "stream",
     "text": [
      "\n",
      "Applying IIR:  28%|██▊       | 7/25 [00:00<00:00, 30.02it/s]\u001b[A\n",
      "Applying IIR:  40%|████      | 10/25 [00:00<00:00, 28.87it/s]\u001b[A\n",
      "Applying IIR:  56%|█████▌    | 14/25 [00:00<00:00, 29.49it/s]\u001b[A\n",
      "Applying IIR:  68%|██████▊   | 17/25 [00:00<00:00, 28.18it/s]\u001b[A\n",
      "Applying IIR:  80%|████████  | 20/25 [00:00<00:00, 26.76it/s]\u001b[A\n",
      "Applying IIR: 100%|██████████| 25/25 [00:00<00:00, 26.92it/s]\u001b[A\n",
      "  9%|▉         | 115/1268 [01:23<12:46,  1.50it/s]\n",
      "Applying IIR:   0%|          | 0/25 [00:00<?, ?it/s]\u001b[A\n",
      "Applying IIR:  12%|█▏        | 3/25 [00:00<00:00, 29.45it/s]\u001b[A"
     ]
    },
    {
     "name": "stdout",
     "output_type": "stream",
     "text": [
      "running motion mag for vid: 1733757_1795659_A_001.mp4\n",
      "video ../../deepfake_data/fb_dfd_release_0.1_final/method_A_crops/1733757_1795659_A_001.mp4\n",
      "\n",
      "Iteration number is 259002\n"
     ]
    },
    {
     "name": "stderr",
     "output_type": "stream",
     "text": [
      "\n",
      "Applying IIR:  24%|██▍       | 6/25 [00:00<00:00, 28.28it/s]\u001b[A\n",
      "Applying IIR:  36%|███▌      | 9/25 [00:00<00:00, 27.86it/s]\u001b[A\n",
      "Applying IIR:  48%|████▊     | 12/25 [00:00<00:00, 27.74it/s]\u001b[A\n",
      "Applying IIR:  64%|██████▍   | 16/25 [00:00<00:00, 29.03it/s]\u001b[A\n",
      "Applying IIR:  76%|███████▌  | 19/25 [00:00<00:00, 29.13it/s]\u001b[A\n",
      "Applying IIR: 100%|██████████| 25/25 [00:00<00:00, 29.33it/s]\u001b[A\n",
      "  9%|▉         | 116/1268 [01:24<14:52,  1.29it/s]\n",
      "Applying IIR:   0%|          | 0/25 [00:00<?, ?it/s]\u001b[A\n",
      "Applying IIR:  16%|█▌        | 4/25 [00:00<00:00, 30.35it/s]\u001b[A"
     ]
    },
    {
     "name": "stdout",
     "output_type": "stream",
     "text": [
      "running motion mag for vid: 1929178_804259_J_002.mp4\n",
      "video ../../deepfake_data/fb_dfd_release_0.1_final/method_A_crops/1929178_804259_J_002.mp4\n",
      "\n",
      "Iteration number is 259002\n"
     ]
    },
    {
     "name": "stderr",
     "output_type": "stream",
     "text": [
      "\n",
      "Applying IIR:  32%|███▏      | 8/25 [00:00<00:00, 30.76it/s]\u001b[A\n",
      "Applying IIR:  44%|████▍     | 11/25 [00:00<00:00, 29.61it/s]\u001b[A\n",
      "Applying IIR:  56%|█████▌    | 14/25 [00:00<00:00, 28.97it/s]\u001b[A\n",
      "Applying IIR:  68%|██████▊   | 17/25 [00:00<00:00, 28.54it/s]\u001b[A\n",
      "Applying IIR:  80%|████████  | 20/25 [00:00<00:00, 27.51it/s]\u001b[A\n",
      "Applying IIR: 100%|██████████| 25/25 [00:00<00:00, 27.64it/s]\u001b[A\n",
      "  9%|▉         | 117/1268 [01:25<16:42,  1.15it/s]\n",
      "Applying IIR:   0%|          | 0/25 [00:00<?, ?it/s]\u001b[A\n",
      "Applying IIR:  12%|█▏        | 3/25 [00:00<00:00, 28.57it/s]\u001b[A"
     ]
    },
    {
     "name": "stdout",
     "output_type": "stream",
     "text": [
      "running motion mag for vid: 2057131_1681757_B_001.mp4\n",
      "video ../../deepfake_data/fb_dfd_release_0.1_final/method_A_crops/2057131_1681757_B_001.mp4\n",
      "\n",
      "Iteration number is 259002\n"
     ]
    },
    {
     "name": "stderr",
     "output_type": "stream",
     "text": [
      "\n",
      "Applying IIR:  24%|██▍       | 6/25 [00:00<00:00, 27.30it/s]\u001b[A\n",
      "Applying IIR:  36%|███▌      | 9/25 [00:00<00:00, 27.41it/s]\u001b[A\n",
      "Applying IIR:  48%|████▊     | 12/25 [00:00<00:00, 26.93it/s]\u001b[A\n",
      "Applying IIR:  60%|██████    | 15/25 [00:00<00:00, 27.65it/s]\u001b[A\n",
      "Applying IIR:  72%|███████▏  | 18/25 [00:00<00:00, 27.31it/s]\u001b[A\n",
      "Applying IIR: 100%|██████████| 25/25 [00:00<00:00, 28.15it/s]\u001b[A\n",
      "  9%|▉         | 118/1268 [01:26<17:50,  1.07it/s]\n",
      "Applying IIR:   0%|          | 0/25 [00:00<?, ?it/s]\u001b[A\n",
      "Applying IIR:  12%|█▏        | 3/25 [00:00<00:00, 25.34it/s]\u001b[A"
     ]
    },
    {
     "name": "stdout",
     "output_type": "stream",
     "text": [
      "running motion mag for vid: 1916010_1976794_C_002.mp4\n",
      "video ../../deepfake_data/fb_dfd_release_0.1_final/method_A_crops/1916010_1976794_C_002.mp4\n",
      "\n",
      "Iteration number is 259002\n"
     ]
    },
    {
     "name": "stderr",
     "output_type": "stream",
     "text": [
      "\n",
      "Applying IIR:  28%|██▊       | 7/25 [00:00<00:00, 26.93it/s]\u001b[A\n",
      "Applying IIR:  40%|████      | 10/25 [00:00<00:00, 26.85it/s]\u001b[A\n",
      "Applying IIR:  52%|█████▏    | 13/25 [00:00<00:00, 26.20it/s]\u001b[A\n",
      "Applying IIR:  68%|██████▊   | 17/25 [00:00<00:00, 27.21it/s]\u001b[A\n",
      "Applying IIR:  80%|████████  | 20/25 [00:00<00:00, 27.94it/s]\u001b[A\n",
      "Applying IIR: 100%|██████████| 25/25 [00:00<00:00, 27.85it/s]\u001b[A\n",
      "  9%|▉         | 119/1268 [01:27<18:33,  1.03it/s]\n",
      "Applying IIR:   0%|          | 0/25 [00:00<?, ?it/s]\u001b[A\n",
      "Applying IIR:  16%|█▌        | 4/25 [00:00<00:00, 32.79it/s]\u001b[A"
     ]
    },
    {
     "name": "stdout",
     "output_type": "stream",
     "text": [
      "running motion mag for vid: 1941250_804259_F_002.mp4\n",
      "video ../../deepfake_data/fb_dfd_release_0.1_final/method_A_crops/1941250_804259_F_002.mp4\n",
      "\n",
      "Iteration number is 259002\n"
     ]
    },
    {
     "name": "stderr",
     "output_type": "stream",
     "text": [
      "\n",
      "Applying IIR:  28%|██▊       | 7/25 [00:00<00:00, 29.88it/s]\u001b[A\n",
      "Applying IIR:  40%|████      | 10/25 [00:00<00:00, 29.20it/s]\u001b[A\n",
      "Applying IIR:  56%|█████▌    | 14/25 [00:00<00:00, 29.83it/s]\u001b[A\n",
      "Applying IIR:  72%|███████▏  | 18/25 [00:00<00:00, 29.84it/s]\u001b[A\n",
      "Applying IIR:  84%|████████▍ | 21/25 [00:00<00:00, 28.77it/s]\u001b[A\n",
      "Applying IIR: 100%|██████████| 25/25 [00:00<00:00, 28.70it/s]\u001b[A\n",
      "  9%|▉         | 120/1268 [01:28<19:11,  1.00s/it]\n",
      "Applying IIR:   0%|          | 0/25 [00:00<?, ?it/s]\u001b[A\n",
      "Applying IIR:  12%|█▏        | 3/25 [00:00<00:00, 28.75it/s]\u001b[A"
     ]
    },
    {
     "name": "stdout",
     "output_type": "stream",
     "text": [
      "running motion mag for vid: 1294671_804259_G_001.mp4\n",
      "video ../../deepfake_data/fb_dfd_release_0.1_final/method_A_crops/1294671_804259_G_001.mp4\n",
      "\n",
      "Iteration number is 259002\n"
     ]
    },
    {
     "name": "stderr",
     "output_type": "stream",
     "text": [
      "\n",
      "Applying IIR:  24%|██▍       | 6/25 [00:00<00:00, 28.68it/s]\u001b[A\n",
      "Applying IIR:  40%|████      | 10/25 [00:00<00:00, 28.68it/s]\u001b[A\n",
      "Applying IIR:  52%|█████▏    | 13/25 [00:00<00:00, 27.76it/s]\u001b[A\n",
      "Applying IIR:  64%|██████▍   | 16/25 [00:00<00:00, 28.09it/s]\u001b[A\n",
      "Applying IIR:  76%|███████▌  | 19/25 [00:00<00:00, 28.18it/s]\u001b[A\n",
      "Applying IIR: 100%|██████████| 25/25 [00:00<00:00, 29.12it/s]\u001b[A\n",
      " 10%|▉         | 121/1268 [01:29<19:18,  1.01s/it]\n",
      "Applying IIR:   0%|          | 0/25 [00:00<?, ?it/s]\u001b[A\n",
      "Applying IIR:  16%|█▌        | 4/25 [00:00<00:00, 31.49it/s]\u001b[A"
     ]
    },
    {
     "name": "stdout",
     "output_type": "stream",
     "text": [
      "running motion mag for vid: 00045.jpg\n",
      "video ../../deepfake_data/fb_dfd_release_0.1_final/method_A_crops/00045.jpg\n",
      "\n",
      "Exception found: list index out of range\n",
      "running motion mag for vid: 1733757_804259_J_002.mp4\n",
      "video ../../deepfake_data/fb_dfd_release_0.1_final/method_A_crops/1733757_804259_J_002.mp4\n",
      "\n",
      "Iteration number is 259002\n"
     ]
    },
    {
     "name": "stderr",
     "output_type": "stream",
     "text": [
      "\n",
      "Applying IIR:  28%|██▊       | 7/25 [00:00<00:00, 30.61it/s]\u001b[A\n",
      "Applying IIR:  44%|████▍     | 11/25 [00:00<00:00, 30.68it/s]\u001b[A\n",
      "Applying IIR:  56%|█████▌    | 14/25 [00:00<00:00, 29.19it/s]\u001b[A\n",
      "Applying IIR:  72%|███████▏  | 18/25 [00:00<00:00, 30.09it/s]\u001b[A\n",
      "Applying IIR:  84%|████████▍ | 21/25 [00:00<00:00, 29.71it/s]\u001b[A\n",
      "Applying IIR: 100%|██████████| 25/25 [00:00<00:00, 29.01it/s]\u001b[A\n",
      " 10%|▉         | 123/1268 [01:30<16:27,  1.16it/s]\n",
      "Applying IIR:   0%|          | 0/25 [00:00<?, ?it/s]\u001b[A\n",
      "Applying IIR:  12%|█▏        | 3/25 [00:00<00:00, 25.15it/s]\u001b[A"
     ]
    },
    {
     "name": "stdout",
     "output_type": "stream",
     "text": [
      "running motion mag for vid: 00383.jpg\n",
      "video ../../deepfake_data/fb_dfd_release_0.1_final/method_A_crops/00383.jpg\n",
      "\n",
      "Exception found: list index out of range\n",
      "running motion mag for vid: 1974002_1795659_B_001.mp4\n",
      "video ../../deepfake_data/fb_dfd_release_0.1_final/method_A_crops/1974002_1795659_B_001.mp4\n",
      "\n",
      "Iteration number is 259002\n"
     ]
    },
    {
     "name": "stderr",
     "output_type": "stream",
     "text": [
      "\n",
      "Applying IIR:  24%|██▍       | 6/25 [00:00<00:00, 26.27it/s]\u001b[A\n",
      "Applying IIR:  40%|████      | 10/25 [00:00<00:00, 27.63it/s]\u001b[A\n",
      "Applying IIR:  56%|█████▌    | 14/25 [00:00<00:00, 28.44it/s]\u001b[A\n",
      "Applying IIR:  72%|███████▏  | 18/25 [00:00<00:00, 29.43it/s]\u001b[A\n",
      "Applying IIR:  88%|████████▊ | 22/25 [00:00<00:00, 29.95it/s]\u001b[A\n",
      "Applying IIR: 100%|██████████| 25/25 [00:00<00:00, 29.14it/s]\u001b[A\n",
      " 10%|▉         | 125/1268 [01:31<14:26,  1.32it/s]\n",
      "Applying IIR:   0%|          | 0/25 [00:00<?, ?it/s]\u001b[A\n",
      "Applying IIR:  12%|█▏        | 3/25 [00:00<00:00, 26.91it/s]\u001b[A"
     ]
    },
    {
     "name": "stdout",
     "output_type": "stream",
     "text": [
      "running motion mag for vid: 00424.jpg\n",
      "video ../../deepfake_data/fb_dfd_release_0.1_final/method_A_crops/00424.jpg\n",
      "\n",
      "Exception found: list index out of range\n",
      "running motion mag for vid: 1262961_2113344_C_002.mp4\n",
      "video ../../deepfake_data/fb_dfd_release_0.1_final/method_A_crops/1262961_2113344_C_002.mp4\n",
      "\n",
      "Iteration number is 259002\n"
     ]
    },
    {
     "name": "stderr",
     "output_type": "stream",
     "text": [
      "\n",
      "Applying IIR:  24%|██▍       | 6/25 [00:00<00:00, 25.52it/s]\u001b[A\n",
      "Applying IIR:  36%|███▌      | 9/25 [00:00<00:00, 25.32it/s]\u001b[A\n",
      "Applying IIR:  48%|████▊     | 12/25 [00:00<00:00, 25.72it/s]\u001b[A\n",
      "Applying IIR:  60%|██████    | 15/25 [00:00<00:00, 24.96it/s]\u001b[A\n",
      "Applying IIR:  72%|███████▏  | 18/25 [00:00<00:00, 25.09it/s]\u001b[A\n",
      "Applying IIR: 100%|██████████| 25/25 [00:00<00:00, 26.08it/s]\u001b[A\n",
      " 10%|█         | 127/1268 [01:33<13:17,  1.43it/s]\n",
      "Applying IIR:   0%|          | 0/25 [00:00<?, ?it/s]\u001b[A\n",
      "Applying IIR:  16%|█▌        | 4/25 [00:00<00:00, 31.96it/s]\u001b[A"
     ]
    },
    {
     "name": "stdout",
     "output_type": "stream",
     "text": [
      "running motion mag for vid: 804259_1795659_A_002.mp4\n",
      "video ../../deepfake_data/fb_dfd_release_0.1_final/method_A_crops/804259_1795659_A_002.mp4\n",
      "\n",
      "Iteration number is 259002\n"
     ]
    },
    {
     "name": "stderr",
     "output_type": "stream",
     "text": [
      "\n",
      "Applying IIR:  28%|██▊       | 7/25 [00:00<00:00, 31.32it/s]\u001b[A\n",
      "Applying IIR:  40%|████      | 10/25 [00:00<00:00, 30.50it/s]\u001b[A\n",
      "Applying IIR:  52%|█████▏    | 13/25 [00:00<00:00, 30.21it/s]\u001b[A\n",
      "Applying IIR:  68%|██████▊   | 17/25 [00:00<00:00, 30.74it/s]\u001b[A\n",
      "Applying IIR:  80%|████████  | 20/25 [00:00<00:00, 30.40it/s]\u001b[A\n",
      "Applying IIR: 100%|██████████| 25/25 [00:00<00:00, 30.06it/s]\u001b[A\n",
      " 10%|█         | 128/1268 [01:34<15:04,  1.26it/s]\n",
      "Applying IIR:   0%|          | 0/25 [00:00<?, ?it/s]\u001b[A\n",
      "Applying IIR:  12%|█▏        | 3/25 [00:00<00:00, 26.64it/s]\u001b[A"
     ]
    },
    {
     "name": "stdout",
     "output_type": "stream",
     "text": [
      "running motion mag for vid: 2063898_1976794_C_003.mp4\n",
      "video ../../deepfake_data/fb_dfd_release_0.1_final/method_A_crops/2063898_1976794_C_003.mp4\n",
      "\n",
      "Iteration number is 259002\n"
     ]
    },
    {
     "name": "stderr",
     "output_type": "stream",
     "text": [
      "\n",
      "Applying IIR:  24%|██▍       | 6/25 [00:00<00:00, 25.81it/s]\u001b[A\n",
      "Applying IIR:  40%|████      | 10/25 [00:00<00:00, 27.76it/s]\u001b[A\n",
      "Applying IIR:  56%|█████▌    | 14/25 [00:00<00:00, 29.16it/s]\u001b[A\n",
      "Applying IIR:  68%|██████▊   | 17/25 [00:00<00:00, 28.41it/s]\u001b[A\n",
      "Applying IIR:  80%|████████  | 20/25 [00:00<00:00, 28.30it/s]\u001b[A\n",
      "Applying IIR: 100%|██████████| 25/25 [00:00<00:00, 28.69it/s]\u001b[A\n",
      " 10%|█         | 129/1268 [01:35<16:46,  1.13it/s]\n",
      "Applying IIR:   0%|          | 0/25 [00:00<?, ?it/s]\u001b[A\n",
      "Applying IIR:  16%|█▌        | 4/25 [00:00<00:00, 31.79it/s]\u001b[A"
     ]
    },
    {
     "name": "stdout",
     "output_type": "stream",
     "text": [
      "running motion mag for vid: 00352.jpg\n",
      "video ../../deepfake_data/fb_dfd_release_0.1_final/method_A_crops/00352.jpg\n",
      "\n",
      "Exception found: list index out of range\n",
      "running motion mag for vid: 1795659_804259_H_002.mp4\n",
      "video ../../deepfake_data/fb_dfd_release_0.1_final/method_A_crops/1795659_804259_H_002.mp4\n",
      "\n",
      "Iteration number is 259002\n"
     ]
    },
    {
     "name": "stderr",
     "output_type": "stream",
     "text": [
      "\n",
      "Applying IIR:  32%|███▏      | 8/25 [00:00<00:00, 31.35it/s]\u001b[A\n",
      "Applying IIR:  44%|████▍     | 11/25 [00:00<00:00, 29.67it/s]\u001b[A\n",
      "Applying IIR:  56%|█████▌    | 14/25 [00:00<00:00, 28.79it/s]\u001b[A\n",
      "Applying IIR:  68%|██████▊   | 17/25 [00:00<00:00, 28.45it/s]\u001b[A\n",
      "Applying IIR:  80%|████████  | 20/25 [00:00<00:00, 27.77it/s]\u001b[A\n",
      "Applying IIR: 100%|██████████| 25/25 [00:00<00:00, 27.98it/s]\u001b[A\n",
      " 10%|█         | 131/1268 [01:36<14:50,  1.28it/s]\n",
      "Applying IIR:   0%|          | 0/25 [00:00<?, ?it/s]\u001b[A\n",
      "Applying IIR:  12%|█▏        | 3/25 [00:00<00:00, 26.88it/s]\u001b[A"
     ]
    },
    {
     "name": "stdout",
     "output_type": "stream",
     "text": [
      "running motion mag for vid: 00094.jpg\n",
      "video ../../deepfake_data/fb_dfd_release_0.1_final/method_A_crops/00094.jpg\n",
      "\n",
      "Exception found: list index out of range\n",
      "running motion mag for vid: 1929178_804259_B_002.mp4\n",
      "video ../../deepfake_data/fb_dfd_release_0.1_final/method_A_crops/1929178_804259_B_002.mp4\n",
      "\n",
      "Iteration number is 259002\n"
     ]
    },
    {
     "name": "stderr",
     "output_type": "stream",
     "text": [
      "\n",
      "Applying IIR:  28%|██▊       | 7/25 [00:00<00:00, 28.00it/s]\u001b[A\n",
      "Applying IIR:  44%|████▍     | 11/25 [00:00<00:00, 28.89it/s]\u001b[A\n",
      "Applying IIR:  60%|██████    | 15/25 [00:00<00:00, 29.93it/s]\u001b[A\n",
      "Applying IIR:  76%|███████▌  | 19/25 [00:00<00:00, 30.56it/s]\u001b[A\n",
      "Applying IIR: 100%|██████████| 25/25 [00:00<00:00, 31.49it/s]\u001b[A\n",
      " 10%|█         | 133/1268 [01:37<13:05,  1.45it/s]\n",
      "Applying IIR:   0%|          | 0/25 [00:00<?, ?it/s]\u001b[A\n",
      "Applying IIR:  16%|█▌        | 4/25 [00:00<00:00, 32.04it/s]\u001b[A"
     ]
    },
    {
     "name": "stdout",
     "output_type": "stream",
     "text": [
      "running motion mag for vid: 00042.jpg\n",
      "video ../../deepfake_data/fb_dfd_release_0.1_final/method_A_crops/00042.jpg\n",
      "\n",
      "Exception found: list index out of range\n",
      "running motion mag for vid: 1681757_2113344_A_001.mp4\n",
      "video ../../deepfake_data/fb_dfd_release_0.1_final/method_A_crops/1681757_2113344_A_001.mp4\n",
      "\n",
      "Iteration number is 259002\n"
     ]
    },
    {
     "name": "stderr",
     "output_type": "stream",
     "text": [
      "\n",
      "Applying IIR:  32%|███▏      | 8/25 [00:00<00:00, 32.02it/s]\u001b[A\n",
      "Applying IIR:  44%|████▍     | 11/25 [00:00<00:00, 31.12it/s]\u001b[A\n",
      "Applying IIR:  60%|██████    | 15/25 [00:00<00:00, 31.71it/s]\u001b[A\n",
      "Applying IIR:  72%|███████▏  | 18/25 [00:00<00:00, 31.14it/s]\u001b[A\n",
      "Applying IIR:  84%|████████▍ | 21/25 [00:00<00:00, 28.96it/s]\u001b[A\n",
      "Applying IIR: 100%|██████████| 25/25 [00:00<00:00, 29.96it/s]\u001b[A\n",
      " 11%|█         | 135/1268 [01:38<11:58,  1.58it/s]\n",
      "Applying IIR:   0%|          | 0/25 [00:00<?, ?it/s]\u001b[A\n",
      "Applying IIR:  12%|█▏        | 3/25 [00:00<00:00, 28.33it/s]\u001b[A"
     ]
    },
    {
     "name": "stdout",
     "output_type": "stream",
     "text": [
      "running motion mag for vid: 1609928_804259_C_003.mp4\n",
      "video ../../deepfake_data/fb_dfd_release_0.1_final/method_A_crops/1609928_804259_C_003.mp4\n",
      "\n",
      "Iteration number is 259002\n"
     ]
    },
    {
     "name": "stderr",
     "output_type": "stream",
     "text": [
      "\n",
      "Applying IIR:  24%|██▍       | 6/25 [00:00<00:00, 27.47it/s]\u001b[A\n",
      "Applying IIR:  36%|███▌      | 9/25 [00:00<00:00, 27.85it/s]\u001b[A\n",
      "Applying IIR:  48%|████▊     | 12/25 [00:00<00:00, 28.35it/s]\u001b[A\n",
      "Applying IIR:  64%|██████▍   | 16/25 [00:00<00:00, 28.45it/s]\u001b[A\n",
      "Applying IIR:  76%|███████▌  | 19/25 [00:00<00:00, 28.30it/s]\u001b[A\n",
      "Applying IIR:  88%|████████▊ | 22/25 [00:00<00:00, 27.42it/s]\u001b[A\n",
      "Applying IIR: 100%|██████████| 25/25 [00:00<00:00, 27.93it/s]\u001b[A\n",
      " 11%|█         | 136/1268 [01:39<14:38,  1.29it/s]\n",
      "Applying IIR:   0%|          | 0/25 [00:00<?, ?it/s]\u001b[A\n",
      "Applying IIR:  12%|█▏        | 3/25 [00:00<00:00, 27.68it/s]\u001b[A"
     ]
    },
    {
     "name": "stdout",
     "output_type": "stream",
     "text": [
      "running motion mag for vid: 00423.jpg\n",
      "video ../../deepfake_data/fb_dfd_release_0.1_final/method_A_crops/00423.jpg\n",
      "\n",
      "Exception found: list index out of range\n",
      "running motion mag for vid: 00384.jpg\n",
      "video ../../deepfake_data/fb_dfd_release_0.1_final/method_A_crops/00384.jpg\n",
      "\n",
      "Exception found: list index out of range\n",
      "running motion mag for vid: 2063898_804259_J_001.mp4\n",
      "video ../../deepfake_data/fb_dfd_release_0.1_final/method_A_crops/2063898_804259_J_001.mp4\n",
      "\n",
      "Iteration number is 259002\n"
     ]
    },
    {
     "name": "stderr",
     "output_type": "stream",
     "text": [
      "\n",
      "Applying IIR:  24%|██▍       | 6/25 [00:00<00:00, 27.99it/s]\u001b[A\n",
      "Applying IIR:  36%|███▌      | 9/25 [00:00<00:00, 28.54it/s]\u001b[A\n",
      "Applying IIR:  48%|████▊     | 12/25 [00:00<00:00, 28.11it/s]\u001b[A\n",
      "Applying IIR:  60%|██████    | 15/25 [00:00<00:00, 27.71it/s]\u001b[A\n",
      "Applying IIR:  72%|███████▏  | 18/25 [00:00<00:00, 28.03it/s]\u001b[A\n",
      "Applying IIR:  88%|████████▊ | 22/25 [00:00<00:00, 29.22it/s]\u001b[A\n",
      "Applying IIR: 100%|██████████| 25/25 [00:00<00:00, 28.62it/s]\u001b[A\n",
      " 11%|█         | 139/1268 [01:40<12:12,  1.54it/s]\n",
      "Applying IIR:   0%|          | 0/25 [00:00<?, ?it/s]\u001b[A\n",
      "Applying IIR:  16%|█▌        | 4/25 [00:00<00:00, 29.14it/s]\u001b[A"
     ]
    },
    {
     "name": "stdout",
     "output_type": "stream",
     "text": [
      "running motion mag for vid: 1916010_2113344_A_003.mp4\n",
      "video ../../deepfake_data/fb_dfd_release_0.1_final/method_A_crops/1916010_2113344_A_003.mp4\n",
      "\n",
      "Iteration number is 259002\n"
     ]
    },
    {
     "name": "stderr",
     "output_type": "stream",
     "text": [
      "\n",
      "Applying IIR:  28%|██▊       | 7/25 [00:00<00:00, 28.90it/s]\u001b[A\n",
      "Applying IIR:  40%|████      | 10/25 [00:00<00:00, 29.09it/s]\u001b[A\n",
      "Applying IIR:  56%|█████▌    | 14/25 [00:00<00:00, 29.21it/s]\u001b[A\n",
      "Applying IIR:  68%|██████▊   | 17/25 [00:00<00:00, 27.72it/s]\u001b[A\n",
      "Applying IIR:  80%|████████  | 20/25 [00:00<00:00, 28.19it/s]\u001b[A\n",
      "Applying IIR: 100%|██████████| 25/25 [00:00<00:00, 28.33it/s]\u001b[A\n",
      " 11%|█         | 140/1268 [01:41<14:32,  1.29it/s]\n",
      "Applying IIR:   0%|          | 0/25 [00:00<?, ?it/s]\u001b[A\n",
      "Applying IIR:  12%|█▏        | 3/25 [00:00<00:00, 28.72it/s]\u001b[A"
     ]
    },
    {
     "name": "stdout",
     "output_type": "stream",
     "text": [
      "running motion mag for vid: 00355.jpg\n",
      "video ../../deepfake_data/fb_dfd_release_0.1_final/method_A_crops/00355.jpg\n",
      "\n",
      "Exception found: list index out of range\n",
      "running motion mag for vid: 2059066_804259_H_003.mp4\n",
      "video ../../deepfake_data/fb_dfd_release_0.1_final/method_A_crops/2059066_804259_H_003.mp4\n",
      "\n",
      "Iteration number is 259002\n"
     ]
    },
    {
     "name": "stderr",
     "output_type": "stream",
     "text": [
      "\n",
      "Applying IIR:  28%|██▊       | 7/25 [00:00<00:00, 29.53it/s]\u001b[A\n",
      "Applying IIR:  44%|████▍     | 11/25 [00:00<00:00, 29.36it/s]\u001b[A\n",
      "Applying IIR:  56%|█████▌    | 14/25 [00:00<00:00, 29.12it/s]\u001b[A\n",
      "Applying IIR:  72%|███████▏  | 18/25 [00:00<00:00, 29.80it/s]\u001b[A\n",
      "Applying IIR:  88%|████████▊ | 22/25 [00:00<00:00, 30.52it/s]\u001b[A\n",
      "Applying IIR: 100%|██████████| 25/25 [00:00<00:00, 29.88it/s]\u001b[A\n",
      " 11%|█         | 142/1268 [01:42<12:57,  1.45it/s]\n",
      "Applying IIR:   0%|          | 0/25 [00:00<?, ?it/s]\u001b[A\n",
      "Applying IIR:  12%|█▏        | 3/25 [00:00<00:00, 29.91it/s]\u001b[A"
     ]
    },
    {
     "name": "stdout",
     "output_type": "stream",
     "text": [
      "running motion mag for vid: 1260311_1976794_B_002.mp4\n",
      "video ../../deepfake_data/fb_dfd_release_0.1_final/method_A_crops/1260311_1976794_B_002.mp4\n",
      "\n",
      "Iteration number is 259002\n"
     ]
    },
    {
     "name": "stderr",
     "output_type": "stream",
     "text": [
      "\n",
      "Applying IIR:  24%|██▍       | 6/25 [00:00<00:00, 29.03it/s]\u001b[A\n",
      "Applying IIR:  40%|████      | 10/25 [00:00<00:00, 29.70it/s]\u001b[A\n",
      "Applying IIR:  56%|█████▌    | 14/25 [00:00<00:00, 30.20it/s]\u001b[A\n",
      "Applying IIR:  72%|███████▏  | 18/25 [00:00<00:00, 30.57it/s]\u001b[A\n",
      "Applying IIR: 100%|██████████| 25/25 [00:00<00:00, 31.14it/s]\u001b[A\n",
      " 11%|█▏        | 143/1268 [01:43<14:33,  1.29it/s]\n",
      "Applying IIR:   0%|          | 0/25 [00:00<?, ?it/s]\u001b[A\n",
      "Applying IIR:  12%|█▏        | 3/25 [00:00<00:00, 29.62it/s]\u001b[A"
     ]
    },
    {
     "name": "stdout",
     "output_type": "stream",
     "text": [
      "running motion mag for vid: 00093.jpg\n",
      "video ../../deepfake_data/fb_dfd_release_0.1_final/method_A_crops/00093.jpg\n",
      "\n",
      "Exception found: list index out of range\n",
      "running motion mag for vid: 1733757_804259_B_002.mp4\n",
      "video ../../deepfake_data/fb_dfd_release_0.1_final/method_A_crops/1733757_804259_B_002.mp4\n",
      "\n",
      "Iteration number is 259002\n"
     ]
    },
    {
     "name": "stderr",
     "output_type": "stream",
     "text": [
      "\n",
      "Applying IIR:  24%|██▍       | 6/25 [00:00<00:00, 29.38it/s]\u001b[A\n",
      "Applying IIR:  40%|████      | 10/25 [00:00<00:00, 30.43it/s]\u001b[A\n",
      "Applying IIR:  56%|█████▌    | 14/25 [00:00<00:00, 30.97it/s]\u001b[A\n",
      "Applying IIR:  72%|███████▏  | 18/25 [00:00<00:00, 31.26it/s]\u001b[A\n",
      "Applying IIR:  84%|████████▍ | 21/25 [00:00<00:00, 29.70it/s]\u001b[A\n",
      "Applying IIR: 100%|██████████| 25/25 [00:00<00:00, 30.71it/s]\u001b[A\n",
      " 11%|█▏        | 145/1268 [01:44<12:55,  1.45it/s]\n",
      "Applying IIR:   0%|          | 0/25 [00:00<?, ?it/s]\u001b[A\n",
      "Applying IIR:  16%|█▌        | 4/25 [00:00<00:00, 30.57it/s]\u001b[A"
     ]
    },
    {
     "name": "stdout",
     "output_type": "stream",
     "text": [
      "running motion mag for vid: 2059066_1224068_C_002.mp4\n",
      "video ../../deepfake_data/fb_dfd_release_0.1_final/method_A_crops/2059066_1224068_C_002.mp4\n",
      "\n",
      "Iteration number is 259002\n"
     ]
    },
    {
     "name": "stderr",
     "output_type": "stream",
     "text": [
      "\n",
      "Applying IIR:  32%|███▏      | 8/25 [00:00<00:00, 30.41it/s]\u001b[A\n",
      "Applying IIR:  48%|████▊     | 12/25 [00:00<00:00, 30.87it/s]\u001b[A\n",
      "Applying IIR:  64%|██████▍   | 16/25 [00:00<00:00, 31.09it/s]\u001b[A\n",
      "Applying IIR:  76%|███████▌  | 19/25 [00:00<00:00, 29.48it/s]\u001b[A\n",
      "Applying IIR:  88%|████████▊ | 22/25 [00:00<00:00, 28.55it/s]\u001b[A\n",
      "Applying IIR: 100%|██████████| 25/25 [00:00<00:00, 28.54it/s]\u001b[A\n",
      " 12%|█▏        | 146/1268 [01:45<15:04,  1.24it/s]\n",
      "Applying IIR:   0%|          | 0/25 [00:00<?, ?it/s]\u001b[A\n",
      "Applying IIR:  12%|█▏        | 3/25 [00:00<00:00, 28.54it/s]\u001b[A"
     ]
    },
    {
     "name": "stdout",
     "output_type": "stream",
     "text": [
      "running motion mag for vid: 00271.jpg\n",
      "video ../../deepfake_data/fb_dfd_release_0.1_final/method_A_crops/00271.jpg\n",
      "\n",
      "Exception found: list index out of range\n",
      "running motion mag for vid: 1604866_1681757_B_002.mp4\n",
      "video ../../deepfake_data/fb_dfd_release_0.1_final/method_A_crops/1604866_1681757_B_002.mp4\n",
      "\n",
      "Iteration number is 259002\n"
     ]
    },
    {
     "name": "stderr",
     "output_type": "stream",
     "text": [
      "\n",
      "Applying IIR:  24%|██▍       | 6/25 [00:00<00:00, 28.50it/s]\u001b[A\n",
      "Applying IIR:  36%|███▌      | 9/25 [00:00<00:00, 27.29it/s]\u001b[A\n",
      "Applying IIR:  48%|████▊     | 12/25 [00:00<00:00, 27.24it/s]\u001b[A\n",
      "Applying IIR:  60%|██████    | 15/25 [00:00<00:00, 27.98it/s]\u001b[A\n",
      "Applying IIR:  76%|███████▌  | 19/25 [00:00<00:00, 29.11it/s]\u001b[A\n",
      "Applying IIR: 100%|██████████| 25/25 [00:00<00:00, 28.50it/s]\u001b[A\n",
      " 12%|█▏        | 148/1268 [01:46<13:25,  1.39it/s]\n",
      "Applying IIR:   0%|          | 0/25 [00:00<?, ?it/s]\u001b[A\n",
      "Applying IIR:  12%|█▏        | 3/25 [00:00<00:00, 25.61it/s]\u001b[A"
     ]
    },
    {
     "name": "stdout",
     "output_type": "stream",
     "text": [
      "running motion mag for vid: 1795659_804259_D_002.mp4\n",
      "video ../../deepfake_data/fb_dfd_release_0.1_final/method_A_crops/1795659_804259_D_002.mp4\n",
      "\n",
      "Iteration number is 259002\n"
     ]
    },
    {
     "name": "stderr",
     "output_type": "stream",
     "text": [
      "\n",
      "Applying IIR:  24%|██▍       | 6/25 [00:00<00:00, 26.51it/s]\u001b[A\n",
      "Applying IIR:  36%|███▌      | 9/25 [00:00<00:00, 26.54it/s]\u001b[A\n",
      "Applying IIR:  48%|████▊     | 12/25 [00:00<00:00, 26.18it/s]\u001b[A\n",
      "Applying IIR:  60%|██████    | 15/25 [00:00<00:00, 26.63it/s]\u001b[A\n",
      "Applying IIR:  72%|███████▏  | 18/25 [00:00<00:00, 26.06it/s]\u001b[A\n",
      "Applying IIR:  88%|████████▊ | 22/25 [00:00<00:00, 27.15it/s]\u001b[A\n",
      "Applying IIR: 100%|██████████| 25/25 [00:00<00:00, 27.24it/s]\u001b[A\n",
      " 12%|█▏        | 149/1268 [01:47<15:35,  1.20it/s]\n",
      "Applying IIR:   0%|          | 0/25 [00:00<?, ?it/s]\u001b[A\n",
      "Applying IIR:  12%|█▏        | 3/25 [00:00<00:00, 29.93it/s]\u001b[A"
     ]
    },
    {
     "name": "stdout",
     "output_type": "stream",
     "text": [
      "running motion mag for vid: 00166.jpg\n",
      "video ../../deepfake_data/fb_dfd_release_0.1_final/method_A_crops/00166.jpg\n",
      "\n",
      "Exception found: list index out of range\n",
      "running motion mag for vid: 2059066_1224068_G_002.mp4\n",
      "video ../../deepfake_data/fb_dfd_release_0.1_final/method_A_crops/2059066_1224068_G_002.mp4\n",
      "\n",
      "Iteration number is 259002\n"
     ]
    },
    {
     "name": "stderr",
     "output_type": "stream",
     "text": [
      "\n",
      "Applying IIR:  24%|██▍       | 6/25 [00:00<00:00, 28.83it/s]\u001b[A\n",
      "Applying IIR:  36%|███▌      | 9/25 [00:00<00:00, 28.87it/s]\u001b[A\n",
      "Applying IIR:  48%|████▊     | 12/25 [00:00<00:00, 28.18it/s]\u001b[A\n",
      "Applying IIR:  60%|██████    | 15/25 [00:00<00:00, 27.38it/s]\u001b[A\n",
      "Applying IIR:  72%|███████▏  | 18/25 [00:00<00:00, 27.46it/s]\u001b[A\n",
      "Applying IIR:  84%|████████▍ | 21/25 [00:00<00:00, 27.47it/s]\u001b[A\n",
      "Applying IIR: 100%|██████████| 25/25 [00:00<00:00, 27.77it/s]\u001b[A\n",
      " 12%|█▏        | 151/1268 [01:48<13:55,  1.34it/s]\n",
      "Applying IIR:   0%|          | 0/25 [00:00<?, ?it/s]\u001b[A\n",
      "Applying IIR:  12%|█▏        | 3/25 [00:00<00:00, 27.65it/s]\u001b[A"
     ]
    },
    {
     "name": "stdout",
     "output_type": "stream",
     "text": [
      "running motion mag for vid: 1733757_804259_F_002.mp4\n",
      "video ../../deepfake_data/fb_dfd_release_0.1_final/method_A_crops/1733757_804259_F_002.mp4\n",
      "\n",
      "Iteration number is 259002\n"
     ]
    },
    {
     "name": "stderr",
     "output_type": "stream",
     "text": [
      "\n",
      "Applying IIR:  24%|██▍       | 6/25 [00:00<00:00, 28.07it/s]\u001b[A\n",
      "Applying IIR:  36%|███▌      | 9/25 [00:00<00:00, 27.66it/s]\u001b[A\n",
      "Applying IIR:  48%|████▊     | 12/25 [00:00<00:00, 27.98it/s]\u001b[A\n",
      "Applying IIR:  60%|██████    | 15/25 [00:00<00:00, 26.99it/s]\u001b[A\n",
      "Applying IIR:  76%|███████▌  | 19/25 [00:00<00:00, 28.17it/s]\u001b[A\n",
      "Applying IIR:  88%|████████▊ | 22/25 [00:00<00:00, 27.56it/s]\u001b[A\n",
      "Applying IIR: 100%|██████████| 25/25 [00:00<00:00, 27.30it/s]\u001b[A\n",
      " 12%|█▏        | 152/1268 [01:49<15:42,  1.18it/s]\n",
      "Applying IIR:   0%|          | 0/25 [00:00<?, ?it/s]\u001b[A\n",
      "Applying IIR:  12%|█▏        | 3/25 [00:00<00:00, 25.27it/s]\u001b[A"
     ]
    },
    {
     "name": "stdout",
     "output_type": "stream",
     "text": [
      "running motion mag for vid: 1941250_804259_J_002.mp4\n",
      "video ../../deepfake_data/fb_dfd_release_0.1_final/method_A_crops/1941250_804259_J_002.mp4\n",
      "\n",
      "Iteration number is 259002\n"
     ]
    },
    {
     "name": "stderr",
     "output_type": "stream",
     "text": [
      "\n",
      "Applying IIR:  24%|██▍       | 6/25 [00:00<00:00, 26.00it/s]\u001b[A\n",
      "Applying IIR:  40%|████      | 10/25 [00:00<00:00, 27.24it/s]\u001b[A\n",
      "Applying IIR:  52%|█████▏    | 13/25 [00:00<00:00, 27.84it/s]\u001b[A\n",
      "Applying IIR:  68%|██████▊   | 17/25 [00:00<00:00, 28.59it/s]\u001b[A\n",
      "Applying IIR:  80%|████████  | 20/25 [00:00<00:00, 28.77it/s]\u001b[A\n",
      "Applying IIR: 100%|██████████| 25/25 [00:00<00:00, 28.11it/s]\u001b[A\n",
      " 12%|█▏        | 153/1268 [01:50<16:57,  1.10it/s]\n",
      "Applying IIR:   0%|          | 0/25 [00:00<?, ?it/s]\u001b[A\n",
      "Applying IIR:  12%|█▏        | 3/25 [00:00<00:00, 26.51it/s]\u001b[A"
     ]
    },
    {
     "name": "stdout",
     "output_type": "stream",
     "text": [
      "running motion mag for vid: 00329.jpg\n",
      "video ../../deepfake_data/fb_dfd_release_0.1_final/method_A_crops/00329.jpg\n",
      "\n",
      "Exception found: list index out of range\n",
      "running motion mag for vid: 1929178_804259_F_002.mp4\n",
      "video ../../deepfake_data/fb_dfd_release_0.1_final/method_A_crops/1929178_804259_F_002.mp4\n",
      "\n",
      "Iteration number is 259002\n"
     ]
    },
    {
     "name": "stderr",
     "output_type": "stream",
     "text": [
      "\n",
      "Applying IIR:  24%|██▍       | 6/25 [00:00<00:00, 26.95it/s]\u001b[A\n",
      "Applying IIR:  36%|███▌      | 9/25 [00:00<00:00, 26.26it/s]\u001b[A\n",
      "Applying IIR:  48%|████▊     | 12/25 [00:00<00:00, 25.17it/s]\u001b[A\n",
      "Applying IIR:  60%|██████    | 15/25 [00:00<00:00, 26.06it/s]\u001b[A\n",
      "Applying IIR:  72%|███████▏  | 18/25 [00:00<00:00, 26.85it/s]\u001b[A\n",
      "Applying IIR:  84%|████████▍ | 21/25 [00:00<00:00, 27.10it/s]\u001b[A\n",
      "Applying IIR: 100%|██████████| 25/25 [00:00<00:00, 27.07it/s]\u001b[A\n",
      " 12%|█▏        | 155/1268 [01:51<14:54,  1.24it/s]\n",
      "Applying IIR:   0%|          | 0/25 [00:00<?, ?it/s]\u001b[A\n",
      "Applying IIR:  12%|█▏        | 3/25 [00:00<00:00, 26.71it/s]\u001b[A"
     ]
    },
    {
     "name": "stdout",
     "output_type": "stream",
     "text": [
      "running motion mag for vid: 1294671_1976794_B_003.mp4\n",
      "video ../../deepfake_data/fb_dfd_release_0.1_final/method_A_crops/1294671_1976794_B_003.mp4\n",
      "\n",
      "Iteration number is 259002\n"
     ]
    },
    {
     "name": "stderr",
     "output_type": "stream",
     "text": [
      "\n",
      "Applying IIR:  28%|██▊       | 7/25 [00:00<00:00, 27.94it/s]\u001b[A\n",
      "Applying IIR:  44%|████▍     | 11/25 [00:00<00:00, 28.80it/s]\u001b[A\n",
      "Applying IIR:  60%|██████    | 15/25 [00:00<00:00, 29.61it/s]\u001b[A\n",
      "Applying IIR:  76%|███████▌  | 19/25 [00:00<00:00, 30.11it/s]\u001b[A\n",
      "Applying IIR:  88%|████████▊ | 22/25 [00:00<00:00, 28.03it/s]\u001b[A\n",
      "Applying IIR: 100%|██████████| 25/25 [00:00<00:00, 28.48it/s]\u001b[A\n",
      " 12%|█▏        | 156/1268 [01:53<16:28,  1.12it/s]\n",
      "Applying IIR:   0%|          | 0/25 [00:00<?, ?it/s]\u001b[A\n",
      "Applying IIR:  12%|█▏        | 3/25 [00:00<00:00, 27.57it/s]\u001b[A"
     ]
    },
    {
     "name": "stdout",
     "output_type": "stream",
     "text": [
      "running motion mag for vid: 00344.jpg\n",
      "video ../../deepfake_data/fb_dfd_release_0.1_final/method_A_crops/00344.jpg\n",
      "\n",
      "Exception found: list index out of range\n",
      "running motion mag for vid: 2059066_804259_E_002.mp4\n",
      "video ../../deepfake_data/fb_dfd_release_0.1_final/method_A_crops/2059066_804259_E_002.mp4\n",
      "\n",
      "Iteration number is 259002\n"
     ]
    },
    {
     "name": "stderr",
     "output_type": "stream",
     "text": [
      "\n",
      "Applying IIR:  24%|██▍       | 6/25 [00:00<00:00, 27.09it/s]\u001b[A\n",
      "Applying IIR:  36%|███▌      | 9/25 [00:00<00:00, 26.97it/s]\u001b[A\n",
      "Applying IIR:  48%|████▊     | 12/25 [00:00<00:00, 27.03it/s]\u001b[A\n",
      "Applying IIR:  60%|██████    | 15/25 [00:00<00:00, 27.69it/s]\u001b[A\n",
      "Applying IIR:  72%|███████▏  | 18/25 [00:00<00:00, 26.62it/s]\u001b[A\n",
      "Applying IIR:  88%|████████▊ | 22/25 [00:00<00:00, 27.95it/s]\u001b[A\n",
      "Applying IIR: 100%|██████████| 25/25 [00:00<00:00, 27.35it/s]\u001b[A\n",
      " 12%|█▏        | 158/1268 [01:54<14:34,  1.27it/s]\n",
      "Applying IIR:   0%|          | 0/25 [00:00<?, ?it/s]\u001b[A\n",
      "Applying IIR:  12%|█▏        | 3/25 [00:00<00:00, 27.00it/s]\u001b[A"
     ]
    },
    {
     "name": "stdout",
     "output_type": "stream",
     "text": [
      "running motion mag for vid: 00082.jpg\n",
      "video ../../deepfake_data/fb_dfd_release_0.1_final/method_A_crops/00082.jpg\n",
      "\n",
      "Exception found: list index out of range\n",
      "running motion mag for vid: 00053.jpg\n",
      "video ../../deepfake_data/fb_dfd_release_0.1_final/method_A_crops/00053.jpg\n",
      "\n",
      "Exception found: list index out of range\n",
      "running motion mag for vid: 804259_1795659_D_003.mp4\n",
      "video ../../deepfake_data/fb_dfd_release_0.1_final/method_A_crops/804259_1795659_D_003.mp4\n",
      "\n",
      "Iteration number is 259002\n"
     ]
    },
    {
     "name": "stderr",
     "output_type": "stream",
     "text": [
      "\n",
      "Applying IIR:  28%|██▊       | 7/25 [00:00<00:00, 28.09it/s]\u001b[A\n",
      "Applying IIR:  40%|████      | 10/25 [00:00<00:00, 28.36it/s]\u001b[A\n",
      "Applying IIR:  56%|█████▌    | 14/25 [00:00<00:00, 29.22it/s]\u001b[A\n",
      "Applying IIR:  72%|███████▏  | 18/25 [00:00<00:00, 30.07it/s]\u001b[A\n",
      "Applying IIR:  84%|████████▍ | 21/25 [00:00<00:00, 29.47it/s]\u001b[A\n",
      "Applying IIR: 100%|██████████| 25/25 [00:00<00:00, 29.84it/s]\u001b[A\n",
      " 13%|█▎        | 161/1268 [01:55<12:02,  1.53it/s]\n",
      "Applying IIR:   0%|          | 0/25 [00:00<?, ?it/s]\u001b[A\n",
      "\n",
      "Applying IIR:   0%|          | 0/25 [00:00<?, ?it/s]\u001b[A\n",
      "Applying IIR:  16%|█▌        | 4/25 [00:00<00:00, 31.67it/s]\u001b[A"
     ]
    },
    {
     "name": "stdout",
     "output_type": "stream",
     "text": [
      "running motion mag for vid: 2076328_1681757_C_001.mp4\n",
      "video ../../deepfake_data/fb_dfd_release_0.1_final/method_A_crops/2076328_1681757_C_001.mp4\n",
      "\n",
      "Iteration number is 259002\n",
      "Exception found: OpenCV(4.1.1) /io/opencv/modules/imgproc/src/color.cpp:182: error: (-215:Assertion failed) !_src.empty() in function 'cvtColor'\n",
      "\n",
      "running motion mag for vid: 00395.jpg\n",
      "video ../../deepfake_data/fb_dfd_release_0.1_final/method_A_crops/00395.jpg\n",
      "\n",
      "Exception found: list index out of range\n",
      "running motion mag for vid: 00432.jpg\n",
      "video ../../deepfake_data/fb_dfd_release_0.1_final/method_A_crops/00432.jpg\n",
      "\n",
      "Exception found: list index out of range\n",
      "running motion mag for vid: 1941250_804259_C_003.mp4\n",
      "video ../../deepfake_data/fb_dfd_release_0.1_final/method_A_crops/1941250_804259_C_003.mp4\n",
      "\n",
      "Iteration number is 259002\n"
     ]
    },
    {
     "name": "stderr",
     "output_type": "stream",
     "text": [
      "\n",
      "Applying IIR:  28%|██▊       | 7/25 [00:00<00:00, 29.90it/s]\u001b[A\n",
      "Applying IIR:  44%|████▍     | 11/25 [00:00<00:00, 30.19it/s]\u001b[A\n",
      "Applying IIR:  56%|█████▌    | 14/25 [00:00<00:00, 28.70it/s]\u001b[A\n",
      "Applying IIR:  72%|███████▏  | 18/25 [00:00<00:00, 29.35it/s]\u001b[A\n",
      "Applying IIR:  84%|████████▍ | 21/25 [00:00<00:00, 28.85it/s]\u001b[A\n",
      "Applying IIR: 100%|██████████| 25/25 [00:00<00:00, 28.31it/s]\u001b[A\n",
      " 13%|█▎        | 165/1268 [01:56<09:55,  1.85it/s]\n",
      "Applying IIR:   0%|          | 0/25 [00:00<?, ?it/s]\u001b[A\n",
      "Applying IIR:  16%|█▌        | 4/25 [00:00<00:00, 30.59it/s]\u001b[A"
     ]
    },
    {
     "name": "stdout",
     "output_type": "stream",
     "text": [
      "running motion mag for vid: 1604866_2113344_A_001.mp4\n",
      "video ../../deepfake_data/fb_dfd_release_0.1_final/method_A_crops/1604866_2113344_A_001.mp4\n",
      "\n",
      "Iteration number is 259002\n"
     ]
    },
    {
     "name": "stderr",
     "output_type": "stream",
     "text": [
      "\n",
      "Applying IIR:  28%|██▊       | 7/25 [00:00<00:00, 29.80it/s]\u001b[A\n",
      "Applying IIR:  44%|████▍     | 11/25 [00:00<00:00, 29.67it/s]\u001b[A\n",
      "Applying IIR:  56%|█████▌    | 14/25 [00:00<00:00, 29.28it/s]\u001b[A\n",
      "Applying IIR:  72%|███████▏  | 18/25 [00:00<00:00, 29.85it/s]\u001b[A\n",
      "Applying IIR: 100%|██████████| 25/25 [00:00<00:00, 30.40it/s]\u001b[A\n",
      " 13%|█▎        | 166/1268 [01:57<12:27,  1.47it/s]\n",
      "Applying IIR:   0%|          | 0/25 [00:00<?, ?it/s]\u001b[A\n",
      "Applying IIR:  12%|█▏        | 3/25 [00:00<00:00, 29.32it/s]\u001b[A"
     ]
    },
    {
     "name": "stdout",
     "output_type": "stream",
     "text": [
      "running motion mag for vid: 00338.jpg\n",
      "video ../../deepfake_data/fb_dfd_release_0.1_final/method_A_crops/00338.jpg\n",
      "\n",
      "Exception found: list index out of range\n",
      "running motion mag for vid: 1916010_1976794_B_003.mp4\n",
      "video ../../deepfake_data/fb_dfd_release_0.1_final/method_A_crops/1916010_1976794_B_003.mp4\n",
      "\n",
      "Iteration number is 259002\n"
     ]
    },
    {
     "name": "stderr",
     "output_type": "stream",
     "text": [
      "\n",
      "Applying IIR:  24%|██▍       | 6/25 [00:00<00:00, 29.11it/s]\u001b[A\n",
      "Applying IIR:  36%|███▌      | 9/25 [00:00<00:00, 29.23it/s]\u001b[A\n",
      "Applying IIR:  48%|████▊     | 12/25 [00:00<00:00, 29.21it/s]\u001b[A\n",
      "Applying IIR:  64%|██████▍   | 16/25 [00:00<00:00, 30.02it/s]\u001b[A\n",
      "Applying IIR:  76%|███████▌  | 19/25 [00:00<00:00, 27.63it/s]\u001b[A\n",
      "Applying IIR: 100%|██████████| 25/25 [00:00<00:00, 29.07it/s]\u001b[A\n",
      " 13%|█▎        | 168/1268 [01:58<11:33,  1.59it/s]\n",
      "Applying IIR:   0%|          | 0/25 [00:00<?, ?it/s]\u001b[A\n",
      "Applying IIR:  12%|█▏        | 3/25 [00:00<00:00, 29.75it/s]\u001b[A"
     ]
    },
    {
     "name": "stdout",
     "output_type": "stream",
     "text": [
      "running motion mag for vid: 1941250_804259_G_003.mp4\n",
      "video ../../deepfake_data/fb_dfd_release_0.1_final/method_A_crops/1941250_804259_G_003.mp4\n",
      "\n",
      "Iteration number is 259002\n"
     ]
    },
    {
     "name": "stderr",
     "output_type": "stream",
     "text": [
      "\n",
      "Applying IIR:  28%|██▊       | 7/25 [00:00<00:00, 30.62it/s]\u001b[A\n",
      "Applying IIR:  44%|████▍     | 11/25 [00:00<00:00, 31.12it/s]\u001b[A\n",
      "Applying IIR:  56%|█████▌    | 14/25 [00:00<00:00, 30.65it/s]\u001b[A\n",
      "Applying IIR:  68%|██████▊   | 17/25 [00:00<00:00, 30.23it/s]\u001b[A\n",
      "Applying IIR:  80%|████████  | 20/25 [00:00<00:00, 30.03it/s]\u001b[A\n",
      "Applying IIR: 100%|██████████| 25/25 [00:00<00:00, 29.47it/s]\u001b[A\n",
      " 13%|█▎        | 169/1268 [01:59<13:40,  1.34it/s]\n",
      "Applying IIR:   0%|          | 0/25 [00:00<?, ?it/s]\u001b[A\n",
      "Applying IIR:  12%|█▏        | 3/25 [00:00<00:00, 29.41it/s]\u001b[A"
     ]
    },
    {
     "name": "stdout",
     "output_type": "stream",
     "text": [
      "running motion mag for vid: 1569101_1976794_B_002.mp4\n",
      "video ../../deepfake_data/fb_dfd_release_0.1_final/method_A_crops/1569101_1976794_B_002.mp4\n",
      "\n",
      "Iteration number is 259002\n"
     ]
    },
    {
     "name": "stderr",
     "output_type": "stream",
     "text": [
      "\n",
      "Applying IIR:  28%|██▊       | 7/25 [00:00<00:00, 29.56it/s]\u001b[A\n",
      "Applying IIR:  40%|████      | 10/25 [00:00<00:00, 28.47it/s]\u001b[A\n",
      "Applying IIR:  56%|█████▌    | 14/25 [00:00<00:00, 29.57it/s]\u001b[A\n",
      "Applying IIR:  72%|███████▏  | 18/25 [00:00<00:00, 29.95it/s]\u001b[A\n",
      "Applying IIR: 100%|██████████| 25/25 [00:00<00:00, 30.39it/s]\u001b[A\n",
      " 13%|█▎        | 170/1268 [02:00<14:59,  1.22it/s]\n",
      "Applying IIR:   0%|          | 0/25 [00:00<?, ?it/s]\u001b[A\n",
      "Applying IIR:  16%|█▌        | 4/25 [00:00<00:00, 31.53it/s]\u001b[A"
     ]
    },
    {
     "name": "stdout",
     "output_type": "stream",
     "text": [
      "running motion mag for vid: 1371757_1795659_C_001.mp4\n",
      "video ../../deepfake_data/fb_dfd_release_0.1_final/method_A_crops/1371757_1795659_C_001.mp4\n",
      "\n",
      "Iteration number is 259002\n"
     ]
    },
    {
     "name": "stderr",
     "output_type": "stream",
     "text": [
      "\n",
      "Applying IIR:  32%|███▏      | 8/25 [00:00<00:00, 31.77it/s]\u001b[A\n",
      "Applying IIR:  44%|████▍     | 11/25 [00:00<00:00, 30.93it/s]\u001b[A\n",
      "Applying IIR:  56%|█████▌    | 14/25 [00:00<00:00, 29.56it/s]\u001b[A\n",
      "Applying IIR:  68%|██████▊   | 17/25 [00:00<00:00, 29.63it/s]\u001b[A\n",
      "Applying IIR:  84%|████████▍ | 21/25 [00:00<00:00, 30.92it/s]\u001b[A\n",
      "Applying IIR: 100%|██████████| 25/25 [00:00<00:00, 30.13it/s]\u001b[A\n",
      " 13%|█▎        | 171/1268 [02:01<16:11,  1.13it/s]\n",
      "Applying IIR:   0%|          | 0/25 [00:00<?, ?it/s]\u001b[A\n",
      "Applying IIR:  16%|█▌        | 4/25 [00:00<00:00, 33.17it/s]\u001b[A"
     ]
    },
    {
     "name": "stdout",
     "output_type": "stream",
     "text": [
      "running motion mag for vid: 2063898_1795659_C_002.mp4\n",
      "video ../../deepfake_data/fb_dfd_release_0.1_final/method_A_crops/2063898_1795659_C_002.mp4\n",
      "\n",
      "Iteration number is 259002\n"
     ]
    },
    {
     "name": "stderr",
     "output_type": "stream",
     "text": [
      "\n",
      "Applying IIR:  32%|███▏      | 8/25 [00:00<00:00, 32.47it/s]\u001b[A\n",
      "Applying IIR:  48%|████▊     | 12/25 [00:00<00:00, 32.98it/s]\u001b[A\n",
      "Applying IIR:  60%|██████    | 15/25 [00:00<00:00, 31.83it/s]\u001b[A\n",
      "Applying IIR:  72%|███████▏  | 18/25 [00:00<00:00, 30.92it/s]\u001b[A\n",
      "Applying IIR:  88%|████████▊ | 22/25 [00:00<00:00, 31.25it/s]\u001b[A\n",
      "Applying IIR: 100%|██████████| 25/25 [00:00<00:00, 31.15it/s]\u001b[A\n",
      " 14%|█▎        | 172/1268 [02:02<16:45,  1.09it/s]\n",
      "Applying IIR:   0%|          | 0/25 [00:00<?, ?it/s]\u001b[A\n",
      "Applying IIR:  12%|█▏        | 3/25 [00:00<00:00, 25.26it/s]\u001b[A"
     ]
    },
    {
     "name": "stdout",
     "output_type": "stream",
     "text": [
      "running motion mag for vid: 00177.jpg\n",
      "video ../../deepfake_data/fb_dfd_release_0.1_final/method_A_crops/00177.jpg\n",
      "\n",
      "Exception found: list index out of range\n",
      "running motion mag for vid: 2059066_804259_A_002.mp4\n",
      "video ../../deepfake_data/fb_dfd_release_0.1_final/method_A_crops/2059066_804259_A_002.mp4\n",
      "\n",
      "Iteration number is 259002\n"
     ]
    },
    {
     "name": "stderr",
     "output_type": "stream",
     "text": [
      "\n",
      "Applying IIR:  24%|██▍       | 6/25 [00:00<00:00, 26.03it/s]\u001b[A\n",
      "Applying IIR:  36%|███▌      | 9/25 [00:00<00:00, 26.10it/s]\u001b[A\n",
      "Applying IIR:  52%|█████▏    | 13/25 [00:00<00:00, 28.06it/s]\u001b[A\n",
      "Applying IIR:  68%|██████▊   | 17/25 [00:00<00:00, 29.20it/s]\u001b[A\n",
      "Applying IIR:  84%|████████▍ | 21/25 [00:00<00:00, 30.29it/s]\u001b[A\n",
      "Applying IIR: 100%|██████████| 25/25 [00:00<00:00, 30.41it/s]\u001b[A\n",
      " 14%|█▎        | 174/1268 [02:03<14:30,  1.26it/s]\n",
      "Applying IIR:   0%|          | 0/25 [00:00<?, ?it/s]\u001b[A\n",
      "Applying IIR:  12%|█▏        | 3/25 [00:00<00:00, 23.74it/s]\u001b[A"
     ]
    },
    {
     "name": "stdout",
     "output_type": "stream",
     "text": [
      "running motion mag for vid: 00260.jpg\n",
      "video ../../deepfake_data/fb_dfd_release_0.1_final/method_A_crops/00260.jpg\n",
      "\n",
      "Exception found: list index out of range\n",
      "running motion mag for vid: 1795659_804259_I_003.mp4\n",
      "video ../../deepfake_data/fb_dfd_release_0.1_final/method_A_crops/1795659_804259_I_003.mp4\n",
      "\n",
      "Iteration number is 259002\n"
     ]
    },
    {
     "name": "stderr",
     "output_type": "stream",
     "text": [
      "\n",
      "Applying IIR:  24%|██▍       | 6/25 [00:00<00:00, 23.70it/s]\u001b[A\n",
      "Applying IIR:  36%|███▌      | 9/25 [00:00<00:00, 25.03it/s]\u001b[A\n",
      "Applying IIR:  52%|█████▏    | 13/25 [00:00<00:00, 26.91it/s]\u001b[A\n",
      "Applying IIR:  64%|██████▍   | 16/25 [00:00<00:00, 27.02it/s]\u001b[A\n",
      "Applying IIR:  76%|███████▌  | 19/25 [00:00<00:00, 26.70it/s]\u001b[A\n",
      "Applying IIR:  88%|████████▊ | 22/25 [00:00<00:00, 27.31it/s]\u001b[A\n",
      "Applying IIR: 100%|██████████| 25/25 [00:00<00:00, 27.30it/s]\u001b[A\n",
      " 14%|█▍        | 176/1268 [02:04<13:06,  1.39it/s]\n",
      "Applying IIR:   0%|          | 0/25 [00:00<?, ?it/s]\u001b[A\n",
      "Applying IIR:  12%|█▏        | 3/25 [00:00<00:00, 28.70it/s]\u001b[A"
     ]
    },
    {
     "name": "stdout",
     "output_type": "stream",
     "text": [
      "running motion mag for vid: 1262961_2113344_B_003.mp4\n",
      "video ../../deepfake_data/fb_dfd_release_0.1_final/method_A_crops/1262961_2113344_B_003.mp4\n",
      "\n",
      "Iteration number is 259002\n"
     ]
    },
    {
     "name": "stderr",
     "output_type": "stream",
     "text": [
      "\n",
      "Applying IIR:  24%|██▍       | 6/25 [00:00<00:00, 28.99it/s]\u001b[A\n",
      "Applying IIR:  40%|████      | 10/25 [00:00<00:00, 29.40it/s]\u001b[A\n",
      "Applying IIR:  56%|█████▌    | 14/25 [00:00<00:00, 30.31it/s]\u001b[A\n",
      "Applying IIR:  68%|██████▊   | 17/25 [00:00<00:00, 30.06it/s]\u001b[A\n",
      "Applying IIR:  80%|████████  | 20/25 [00:00<00:00, 29.94it/s]\u001b[A\n",
      "Applying IIR: 100%|██████████| 25/25 [00:00<00:00, 28.60it/s]\u001b[A\n",
      " 14%|█▍        | 177/1268 [02:05<14:52,  1.22it/s]\n",
      "Applying IIR:   0%|          | 0/25 [00:00<?, ?it/s]\u001b[A\n",
      "Applying IIR:  12%|█▏        | 3/25 [00:00<00:00, 26.43it/s]\u001b[A"
     ]
    },
    {
     "name": "stdout",
     "output_type": "stream",
     "text": [
      "running motion mag for vid: 1609928_804259_J_002.mp4\n",
      "video ../../deepfake_data/fb_dfd_release_0.1_final/method_A_crops/1609928_804259_J_002.mp4\n",
      "\n",
      "Iteration number is 259002\n"
     ]
    },
    {
     "name": "stderr",
     "output_type": "stream",
     "text": [
      "\n",
      "Applying IIR:  28%|██▊       | 7/25 [00:00<00:00, 27.67it/s]\u001b[A\n",
      "Applying IIR:  40%|████      | 10/25 [00:00<00:00, 28.23it/s]\u001b[A\n",
      "Applying IIR:  52%|█████▏    | 13/25 [00:00<00:00, 27.84it/s]\u001b[A\n",
      "Applying IIR:  64%|██████▍   | 16/25 [00:00<00:00, 27.55it/s]\u001b[A\n",
      "Applying IIR:  76%|███████▌  | 19/25 [00:00<00:00, 27.77it/s]\u001b[A\n",
      "Applying IIR: 100%|██████████| 25/25 [00:00<00:00, 28.73it/s]\u001b[A\n",
      " 14%|█▍        | 178/1268 [02:06<16:01,  1.13it/s]\n",
      "Applying IIR:   0%|          | 0/25 [00:00<?, ?it/s]\u001b[A\n",
      "Applying IIR:  12%|█▏        | 3/25 [00:00<00:00, 28.06it/s]\u001b[A"
     ]
    },
    {
     "name": "stdout",
     "output_type": "stream",
     "text": [
      "running motion mag for vid: 1929178_804259_C_003.mp4\n",
      "video ../../deepfake_data/fb_dfd_release_0.1_final/method_A_crops/1929178_804259_C_003.mp4\n",
      "\n",
      "Iteration number is 259002\n"
     ]
    },
    {
     "name": "stderr",
     "output_type": "stream",
     "text": [
      "\n",
      "Applying IIR:  28%|██▊       | 7/25 [00:00<00:00, 29.00it/s]\u001b[A\n",
      "Applying IIR:  40%|████      | 10/25 [00:00<00:00, 28.67it/s]\u001b[A\n",
      "Applying IIR:  52%|█████▏    | 13/25 [00:00<00:00, 28.15it/s]\u001b[A\n",
      "Applying IIR:  64%|██████▍   | 16/25 [00:00<00:00, 27.97it/s]\u001b[A\n",
      "Applying IIR:  76%|███████▌  | 19/25 [00:00<00:00, 27.71it/s]\u001b[A\n",
      "Applying IIR:  88%|████████▊ | 22/25 [00:00<00:00, 26.75it/s]\u001b[A\n",
      "Applying IIR: 100%|██████████| 25/25 [00:00<00:00, 27.40it/s]\u001b[A\n",
      " 14%|█▍        | 179/1268 [02:07<17:06,  1.06it/s]\n",
      "Applying IIR:   0%|          | 0/25 [00:00<?, ?it/s]\u001b[A\n",
      "Applying IIR:  12%|█▏        | 3/25 [00:00<00:00, 25.30it/s]\u001b[A"
     ]
    },
    {
     "name": "stdout",
     "output_type": "stream",
     "text": [
      "running motion mag for vid: 00028.jpg\n",
      "video ../../deepfake_data/fb_dfd_release_0.1_final/method_A_crops/00028.jpg\n",
      "\n",
      "Exception found: list index out of range\n",
      "running motion mag for vid: 1262961_1681757_D_001.mp4\n",
      "video ../../deepfake_data/fb_dfd_release_0.1_final/method_A_crops/1262961_1681757_D_001.mp4\n",
      "\n",
      "Iteration number is 259002\n"
     ]
    },
    {
     "name": "stderr",
     "output_type": "stream",
     "text": [
      "\n",
      "Applying IIR:  28%|██▊       | 7/25 [00:00<00:00, 26.56it/s]\u001b[A\n",
      "Applying IIR:  40%|████      | 10/25 [00:00<00:00, 27.23it/s]\u001b[A\n",
      "Applying IIR:  52%|█████▏    | 13/25 [00:00<00:00, 27.79it/s]\u001b[A\n",
      "Applying IIR:  64%|██████▍   | 16/25 [00:00<00:00, 28.17it/s]\u001b[A\n",
      "Applying IIR:  76%|███████▌  | 19/25 [00:00<00:00, 28.45it/s]\u001b[A\n",
      "Applying IIR: 100%|██████████| 25/25 [00:00<00:00, 29.42it/s]\u001b[A\n",
      " 14%|█▍        | 181/1268 [02:08<14:44,  1.23it/s]\n",
      "Applying IIR:   0%|          | 0/25 [00:00<?, ?it/s]\u001b[A\n",
      "Applying IIR:  12%|█▏        | 3/25 [00:00<00:00, 27.65it/s]\u001b[A"
     ]
    },
    {
     "name": "stdout",
     "output_type": "stream",
     "text": [
      "running motion mag for vid: 00449.jpg\n",
      "video ../../deepfake_data/fb_dfd_release_0.1_final/method_A_crops/00449.jpg\n",
      "\n",
      "Exception found: list index out of range\n",
      "running motion mag for vid: 00170.jpg\n",
      "video ../../deepfake_data/fb_dfd_release_0.1_final/method_A_crops/00170.jpg\n",
      "\n",
      "Exception found: list index out of range\n",
      "running motion mag for vid: 1795659_804259_A_003.mp4\n",
      "video ../../deepfake_data/fb_dfd_release_0.1_final/method_A_crops/1795659_804259_A_003.mp4\n",
      "\n",
      "Iteration number is 259002\n"
     ]
    },
    {
     "name": "stderr",
     "output_type": "stream",
     "text": [
      "\n",
      "Applying IIR:  24%|██▍       | 6/25 [00:00<00:00, 27.87it/s]\u001b[A\n",
      "Applying IIR:  40%|████      | 10/25 [00:00<00:00, 28.52it/s]\u001b[A\n",
      "Applying IIR:  56%|█████▌    | 14/25 [00:00<00:00, 29.27it/s]\u001b[A\n",
      "Applying IIR:  72%|███████▏  | 18/25 [00:00<00:00, 29.97it/s]\u001b[A\n",
      "Applying IIR:  84%|████████▍ | 21/25 [00:00<00:00, 29.18it/s]\u001b[A\n",
      "Applying IIR: 100%|██████████| 25/25 [00:00<00:00, 29.74it/s]\u001b[A\n",
      " 15%|█▍        | 184/1268 [02:09<12:12,  1.48it/s]\n",
      "Applying IIR:   0%|          | 0/25 [00:00<?, ?it/s]\u001b[A\n",
      "Applying IIR:  12%|█▏        | 3/25 [00:00<00:00, 25.80it/s]\u001b[A"
     ]
    },
    {
     "name": "stdout",
     "output_type": "stream",
     "text": [
      "running motion mag for vid: 00267.jpg\n",
      "video ../../deepfake_data/fb_dfd_release_0.1_final/method_A_crops/00267.jpg\n",
      "\n",
      "Exception found: list index out of range\n",
      "running motion mag for vid: 2121160_1255229_A_002.mp4\n",
      "video ../../deepfake_data/fb_dfd_release_0.1_final/method_A_crops/2121160_1255229_A_002.mp4\n",
      "\n",
      "Iteration number is 259002\n"
     ]
    },
    {
     "name": "stderr",
     "output_type": "stream",
     "text": [
      "\n",
      "Applying IIR:  28%|██▊       | 7/25 [00:00<00:00, 27.33it/s]\u001b[A\n",
      "Applying IIR:  40%|████      | 10/25 [00:00<00:00, 27.03it/s]\u001b[A\n",
      "Applying IIR:  56%|█████▌    | 14/25 [00:00<00:00, 27.61it/s]\u001b[A\n",
      "Applying IIR:  68%|██████▊   | 17/25 [00:00<00:00, 26.65it/s]\u001b[A\n",
      "Applying IIR:  80%|████████  | 20/25 [00:00<00:00, 26.58it/s]\u001b[A\n",
      "Applying IIR: 100%|██████████| 25/25 [00:00<00:00, 26.84it/s]\u001b[A\n",
      " 15%|█▍        | 186/1268 [02:10<11:35,  1.56it/s]\n",
      "Applying IIR:   0%|          | 0/25 [00:00<?, ?it/s]\u001b[A\n",
      "Applying IIR:  12%|█▏        | 3/25 [00:00<00:00, 29.30it/s]\u001b[A"
     ]
    },
    {
     "name": "stdout",
     "output_type": "stream",
     "text": [
      "running motion mag for vid: 2059066_804259_I_002.mp4\n",
      "video ../../deepfake_data/fb_dfd_release_0.1_final/method_A_crops/2059066_804259_I_002.mp4\n",
      "\n",
      "Iteration number is 259002\n"
     ]
    },
    {
     "name": "stderr",
     "output_type": "stream",
     "text": [
      "\n",
      "Applying IIR:  24%|██▍       | 6/25 [00:00<00:00, 28.83it/s]\u001b[A\n",
      "Applying IIR:  40%|████      | 10/25 [00:00<00:00, 29.46it/s]\u001b[A\n",
      "Applying IIR:  52%|█████▏    | 13/25 [00:00<00:00, 29.09it/s]\u001b[A\n",
      "Applying IIR:  64%|██████▍   | 16/25 [00:00<00:00, 27.99it/s]\u001b[A\n",
      "Applying IIR:  76%|███████▌  | 19/25 [00:00<00:00, 27.89it/s]\u001b[A\n",
      "Applying IIR:  88%|████████▊ | 22/25 [00:00<00:00, 27.74it/s]\u001b[A\n",
      "Applying IIR: 100%|██████████| 25/25 [00:00<00:00, 27.71it/s]\u001b[A\n",
      " 15%|█▍        | 187/1268 [02:11<13:55,  1.29it/s]\n",
      "Applying IIR:   0%|          | 0/25 [00:00<?, ?it/s]\u001b[A\n",
      "Applying IIR:  12%|█▏        | 3/25 [00:00<00:00, 26.83it/s]\u001b[A"
     ]
    },
    {
     "name": "stdout",
     "output_type": "stream",
     "text": [
      "running motion mag for vid: 1260311_1976794_C_003.mp4\n",
      "video ../../deepfake_data/fb_dfd_release_0.1_final/method_A_crops/1260311_1976794_C_003.mp4\n",
      "\n",
      "Iteration number is 259002\n"
     ]
    },
    {
     "name": "stderr",
     "output_type": "stream",
     "text": [
      "\n",
      "Applying IIR:  28%|██▊       | 7/25 [00:00<00:00, 28.02it/s]\u001b[A\n",
      "Applying IIR:  44%|████▍     | 11/25 [00:00<00:00, 29.01it/s]\u001b[A\n",
      "Applying IIR:  56%|█████▌    | 14/25 [00:00<00:00, 28.89it/s]\u001b[A\n",
      "Applying IIR:  68%|██████▊   | 17/25 [00:00<00:00, 28.58it/s]\u001b[A\n",
      "Applying IIR:  84%|████████▍ | 21/25 [00:00<00:00, 29.47it/s]\u001b[A\n",
      "Applying IIR: 100%|██████████| 25/25 [00:00<00:00, 29.87it/s]\u001b[A\n",
      " 15%|█▍        | 188/1268 [02:12<15:21,  1.17it/s]\n",
      "Applying IIR:   0%|          | 0/25 [00:00<?, ?it/s]\u001b[A\n",
      "Applying IIR:  12%|█▏        | 3/25 [00:00<00:00, 23.84it/s]\u001b[A"
     ]
    },
    {
     "name": "stdout",
     "output_type": "stream",
     "text": [
      "running motion mag for vid: 1733757_804259_C_003.mp4\n",
      "video ../../deepfake_data/fb_dfd_release_0.1_final/method_A_crops/1733757_804259_C_003.mp4\n",
      "\n",
      "Iteration number is 259002\n"
     ]
    },
    {
     "name": "stderr",
     "output_type": "stream",
     "text": [
      "\n",
      "Applying IIR:  24%|██▍       | 6/25 [00:00<00:00, 24.60it/s]\u001b[A\n",
      "Applying IIR:  36%|███▌      | 9/25 [00:00<00:00, 25.23it/s]\u001b[A\n",
      "Applying IIR:  48%|████▊     | 12/25 [00:00<00:00, 25.93it/s]\u001b[A\n",
      "Applying IIR:  60%|██████    | 15/25 [00:00<00:00, 26.02it/s]\u001b[A\n",
      "Applying IIR:  76%|███████▌  | 19/25 [00:00<00:00, 27.46it/s]\u001b[A\n",
      "Applying IIR:  88%|████████▊ | 22/25 [00:00<00:00, 27.58it/s]\u001b[A\n",
      "Applying IIR: 100%|██████████| 25/25 [00:00<00:00, 26.84it/s]\u001b[A\n",
      " 15%|█▍        | 189/1268 [02:14<16:38,  1.08it/s]\n",
      "Applying IIR:   0%|          | 0/25 [00:00<?, ?it/s]\u001b[A\n",
      "Applying IIR:  16%|█▌        | 4/25 [00:00<00:00, 30.05it/s]\u001b[A"
     ]
    },
    {
     "name": "stdout",
     "output_type": "stream",
     "text": [
      "running motion mag for vid: 2059066_1224068_B_003.mp4\n",
      "video ../../deepfake_data/fb_dfd_release_0.1_final/method_A_crops/2059066_1224068_B_003.mp4\n",
      "\n",
      "Iteration number is 259002\n"
     ]
    },
    {
     "name": "stderr",
     "output_type": "stream",
     "text": [
      "\n",
      "Applying IIR:  28%|██▊       | 7/25 [00:00<00:00, 28.43it/s]\u001b[A\n",
      "Applying IIR:  40%|████      | 10/25 [00:00<00:00, 27.57it/s]\u001b[A\n",
      "Applying IIR:  52%|█████▏    | 13/25 [00:00<00:00, 27.12it/s]\u001b[A\n",
      "Applying IIR:  64%|██████▍   | 16/25 [00:00<00:00, 27.29it/s]\u001b[A\n",
      "Applying IIR:  76%|███████▌  | 19/25 [00:00<00:00, 26.64it/s]\u001b[A\n",
      "Applying IIR:  88%|████████▊ | 22/25 [00:00<00:00, 27.04it/s]\u001b[A\n",
      "Applying IIR: 100%|██████████| 25/25 [00:00<00:00, 27.06it/s]\u001b[A\n",
      " 15%|█▍        | 190/1268 [02:15<17:39,  1.02it/s]\n",
      "Applying IIR:   0%|          | 0/25 [00:00<?, ?it/s]\u001b[A\n",
      "Applying IIR:  16%|█▌        | 4/25 [00:00<00:00, 31.79it/s]\u001b[A"
     ]
    },
    {
     "name": "stdout",
     "output_type": "stream",
     "text": [
      "running motion mag for vid: 1999299_1976794_C_001.mp4\n",
      "video ../../deepfake_data/fb_dfd_release_0.1_final/method_A_crops/1999299_1976794_C_001.mp4\n",
      "\n",
      "Iteration number is 259002\n"
     ]
    },
    {
     "name": "stderr",
     "output_type": "stream",
     "text": [
      "\n",
      "Applying IIR:  28%|██▊       | 7/25 [00:00<00:00, 31.09it/s]\u001b[A\n",
      "Applying IIR:  40%|████      | 10/25 [00:00<00:00, 30.61it/s]\u001b[A\n",
      "Applying IIR:  52%|█████▏    | 13/25 [00:00<00:00, 28.47it/s]\u001b[A\n",
      "Applying IIR:  64%|██████▍   | 16/25 [00:00<00:00, 27.66it/s]\u001b[A\n",
      "Applying IIR:  76%|███████▌  | 19/25 [00:00<00:00, 28.32it/s]\u001b[A\n",
      "Applying IIR: 100%|██████████| 25/25 [00:00<00:00, 28.87it/s]\u001b[A\n",
      " 15%|█▌        | 191/1268 [02:16<17:53,  1.00it/s]\n",
      "Applying IIR:   0%|          | 0/25 [00:00<?, ?it/s]\u001b[A\n",
      "Applying IIR:  12%|█▏        | 3/25 [00:00<00:00, 26.22it/s]\u001b[A"
     ]
    },
    {
     "name": "stdout",
     "output_type": "stream",
     "text": [
      "running motion mag for vid: 1604866_1681757_C_003.mp4\n",
      "video ../../deepfake_data/fb_dfd_release_0.1_final/method_A_crops/1604866_1681757_C_003.mp4\n",
      "\n",
      "Iteration number is 259002\n"
     ]
    },
    {
     "name": "stderr",
     "output_type": "stream",
     "text": [
      "\n",
      "Applying IIR:  24%|██▍       | 6/25 [00:00<00:00, 26.01it/s]\u001b[A\n",
      "Applying IIR:  40%|████      | 10/25 [00:00<00:00, 27.10it/s]\u001b[A\n",
      "Applying IIR:  52%|█████▏    | 13/25 [00:00<00:00, 27.88it/s]\u001b[A\n",
      "Applying IIR:  64%|██████▍   | 16/25 [00:00<00:00, 27.50it/s]\u001b[A\n",
      "Applying IIR:  76%|███████▌  | 19/25 [00:00<00:00, 27.19it/s]\u001b[A\n",
      "Applying IIR: 100%|██████████| 25/25 [00:00<00:00, 28.25it/s]\u001b[A\n",
      " 15%|█▌        | 192/1268 [02:17<18:18,  1.02s/it]\n",
      "Applying IIR:   0%|          | 0/25 [00:00<?, ?it/s]\u001b[A\n",
      "Applying IIR:  12%|█▏        | 3/25 [00:00<00:00, 29.71it/s]\u001b[A"
     ]
    },
    {
     "name": "stdout",
     "output_type": "stream",
     "text": [
      "running motion mag for vid: 00343.jpg\n",
      "video ../../deepfake_data/fb_dfd_release_0.1_final/method_A_crops/00343.jpg\n",
      "\n",
      "Exception found: list index out of range\n",
      "running motion mag for vid: 1795659_804259_E_003.mp4\n",
      "video ../../deepfake_data/fb_dfd_release_0.1_final/method_A_crops/1795659_804259_E_003.mp4\n",
      "\n",
      "Iteration number is 259002\n"
     ]
    },
    {
     "name": "stderr",
     "output_type": "stream",
     "text": [
      "\n",
      "Applying IIR:  24%|██▍       | 6/25 [00:00<00:00, 28.76it/s]\u001b[A\n",
      "Applying IIR:  32%|███▏      | 8/25 [00:00<00:00, 25.06it/s]\u001b[A\n",
      "Applying IIR:  48%|████▊     | 12/25 [00:00<00:00, 26.82it/s]\u001b[A\n",
      "Applying IIR:  64%|██████▍   | 16/25 [00:00<00:00, 28.34it/s]\u001b[A\n",
      "Applying IIR:  80%|████████  | 20/25 [00:00<00:00, 29.75it/s]\u001b[A\n",
      "Applying IIR: 100%|██████████| 25/25 [00:00<00:00, 30.17it/s]\u001b[A\n",
      " 15%|█▌        | 194/1268 [02:18<15:24,  1.16it/s]\n",
      "Applying IIR:   0%|          | 0/25 [00:00<?, ?it/s]\u001b[A\n",
      "Applying IIR:  16%|█▌        | 4/25 [00:00<00:00, 34.96it/s]\u001b[A"
     ]
    },
    {
     "name": "stdout",
     "output_type": "stream",
     "text": [
      "running motion mag for vid: 00085.jpg\n",
      "video ../../deepfake_data/fb_dfd_release_0.1_final/method_A_crops/00085.jpg\n",
      "\n",
      "Exception found: list index out of range\n",
      "running motion mag for vid: 1976794_1795659_B_002.mp4\n",
      "video ../../deepfake_data/fb_dfd_release_0.1_final/method_A_crops/1976794_1795659_B_002.mp4\n",
      "\n",
      "Iteration number is 259002\n"
     ]
    },
    {
     "name": "stderr",
     "output_type": "stream",
     "text": [
      "\n",
      "Applying IIR:  32%|███▏      | 8/25 [00:00<00:00, 33.83it/s]\u001b[A\n",
      "Applying IIR:  48%|████▊     | 12/25 [00:00<00:00, 32.90it/s]\u001b[A\n",
      "Applying IIR:  64%|██████▍   | 16/25 [00:00<00:00, 32.27it/s]\u001b[A\n",
      "Applying IIR:  80%|████████  | 20/25 [00:00<00:00, 31.97it/s]\u001b[A\n",
      "Applying IIR: 100%|██████████| 25/25 [00:00<00:00, 31.92it/s]\u001b[A\n",
      " 15%|█▌        | 196/1268 [02:19<13:23,  1.33it/s]\n",
      "Applying IIR:   0%|          | 0/25 [00:00<?, ?it/s]\u001b[A\n",
      "Applying IIR:  16%|█▌        | 4/25 [00:00<00:00, 32.44it/s]\u001b[A"
     ]
    },
    {
     "name": "stdout",
     "output_type": "stream",
     "text": [
      "running motion mag for vid: 00054.jpg\n",
      "video ../../deepfake_data/fb_dfd_release_0.1_final/method_A_crops/00054.jpg\n",
      "\n",
      "Exception found: list index out of range\n",
      "running motion mag for vid: 1916010_2113344_D_002.mp4\n",
      "video ../../deepfake_data/fb_dfd_release_0.1_final/method_A_crops/1916010_2113344_D_002.mp4\n",
      "\n",
      "Iteration number is 259002\n"
     ]
    },
    {
     "name": "stderr",
     "output_type": "stream",
     "text": [
      "\n",
      "Applying IIR:  28%|██▊       | 7/25 [00:00<00:00, 30.16it/s]\u001b[A\n",
      "Applying IIR:  40%|████      | 10/25 [00:00<00:00, 29.15it/s]\u001b[A\n",
      "Applying IIR:  56%|█████▌    | 14/25 [00:00<00:00, 29.86it/s]\u001b[A\n",
      "Applying IIR:  72%|███████▏  | 18/25 [00:00<00:00, 31.07it/s]\u001b[A\n",
      "Applying IIR: 100%|██████████| 25/25 [00:00<00:00, 31.44it/s]\u001b[A\n",
      " 16%|█▌        | 198/1268 [02:20<12:00,  1.48it/s]\n",
      "Applying IIR:   0%|          | 0/25 [00:00<?, ?it/s]\u001b[A\n",
      "Applying IIR:  16%|█▌        | 4/25 [00:00<00:00, 35.28it/s]\u001b[A"
     ]
    },
    {
     "name": "stdout",
     "output_type": "stream",
     "text": [
      "running motion mag for vid: 2059066_1224068_F_003.mp4\n",
      "video ../../deepfake_data/fb_dfd_release_0.1_final/method_A_crops/2059066_1224068_F_003.mp4\n",
      "\n",
      "Iteration number is 259002\n"
     ]
    },
    {
     "name": "stderr",
     "output_type": "stream",
     "text": [
      "\n",
      "Applying IIR:  32%|███▏      | 8/25 [00:00<00:00, 35.22it/s]\u001b[A\n",
      "Applying IIR:  44%|████▍     | 11/25 [00:00<00:00, 32.16it/s]\u001b[A\n",
      "Applying IIR:  56%|█████▌    | 14/25 [00:00<00:00, 31.33it/s]\u001b[A\n",
      "Applying IIR:  68%|██████▊   | 17/25 [00:00<00:00, 30.08it/s]\u001b[A\n",
      "Applying IIR:  80%|████████  | 20/25 [00:00<00:00, 29.12it/s]\u001b[A\n",
      "Applying IIR: 100%|██████████| 25/25 [00:00<00:00, 30.00it/s]\u001b[A\n",
      " 16%|█▌        | 199/1268 [02:21<13:53,  1.28it/s]\n",
      "Applying IIR:   0%|          | 0/25 [00:00<?, ?it/s]\u001b[A\n",
      "Applying IIR:  12%|█▏        | 3/25 [00:00<00:00, 28.49it/s]\u001b[A"
     ]
    },
    {
     "name": "stdout",
     "output_type": "stream",
     "text": [
      "running motion mag for vid: 1733757_804259_G_003.mp4\n",
      "video ../../deepfake_data/fb_dfd_release_0.1_final/method_A_crops/1733757_804259_G_003.mp4\n",
      "\n",
      "Iteration number is 259002\n"
     ]
    },
    {
     "name": "stderr",
     "output_type": "stream",
     "text": [
      "\n",
      "Applying IIR:  24%|██▍       | 6/25 [00:00<00:00, 28.90it/s]\u001b[A\n",
      "Applying IIR:  36%|███▌      | 9/25 [00:00<00:00, 28.75it/s]\u001b[A\n",
      "Applying IIR:  48%|████▊     | 12/25 [00:00<00:00, 28.60it/s]\u001b[A\n",
      "Applying IIR:  64%|██████▍   | 16/25 [00:00<00:00, 29.86it/s]\u001b[A\n",
      "Applying IIR:  80%|████████  | 20/25 [00:00<00:00, 30.81it/s]\u001b[A\n",
      "Applying IIR: 100%|██████████| 25/25 [00:00<00:00, 30.48it/s]\u001b[A\n",
      " 16%|█▌        | 200/1268 [02:22<15:03,  1.18it/s]\n",
      "Applying IIR:   0%|          | 0/25 [00:00<?, ?it/s]\u001b[A\n",
      "Applying IIR:  12%|█▏        | 3/25 [00:00<00:00, 29.08it/s]\u001b[A"
     ]
    },
    {
     "name": "stdout",
     "output_type": "stream",
     "text": [
      "running motion mag for vid: 00435.jpg\n",
      "video ../../deepfake_data/fb_dfd_release_0.1_final/method_A_crops/00435.jpg\n",
      "\n",
      "Exception found: list index out of range\n",
      "running motion mag for vid: 00392.jpg\n",
      "video ../../deepfake_data/fb_dfd_release_0.1_final/method_A_crops/00392.jpg\n",
      "\n",
      "Exception found: list index out of range\n",
      "running motion mag for vid: 1294671_1976794_C_002.mp4\n",
      "video ../../deepfake_data/fb_dfd_release_0.1_final/method_A_crops/1294671_1976794_C_002.mp4\n",
      "\n",
      "Iteration number is 259002\n"
     ]
    },
    {
     "name": "stderr",
     "output_type": "stream",
     "text": [
      "\n",
      "Applying IIR:  24%|██▍       | 6/25 [00:00<00:00, 29.34it/s]\u001b[A\n",
      "Applying IIR:  36%|███▌      | 9/25 [00:00<00:00, 29.44it/s]\u001b[A\n",
      "Applying IIR:  48%|████▊     | 12/25 [00:00<00:00, 29.60it/s]\u001b[A\n",
      "Applying IIR:  60%|██████    | 15/25 [00:00<00:00, 29.29it/s]\u001b[A\n",
      "Applying IIR:  72%|███████▏  | 18/25 [00:00<00:00, 29.27it/s]\u001b[A\n",
      "Applying IIR:  88%|████████▊ | 22/25 [00:00<00:00, 29.76it/s]\u001b[A\n",
      "Applying IIR: 100%|██████████| 25/25 [00:00<00:00, 29.07it/s]\u001b[A\n",
      " 16%|█▌        | 203/1268 [02:23<12:25,  1.43it/s]\n",
      "Applying IIR:   0%|          | 0/25 [00:00<?, ?it/s]\u001b[A\n",
      "Applying IIR:  12%|█▏        | 3/25 [00:00<00:00, 28.00it/s]\u001b[A"
     ]
    },
    {
     "name": "stdout",
     "output_type": "stream",
     "text": [
      "running motion mag for vid: 1929178_804259_G_003.mp4\n",
      "video ../../deepfake_data/fb_dfd_release_0.1_final/method_A_crops/1929178_804259_G_003.mp4\n",
      "\n",
      "Iteration number is 259002\n"
     ]
    },
    {
     "name": "stderr",
     "output_type": "stream",
     "text": [
      "\n",
      "Applying IIR:  24%|██▍       | 6/25 [00:00<00:00, 27.97it/s]\u001b[A\n",
      "Applying IIR:  40%|████      | 10/25 [00:00<00:00, 29.19it/s]\u001b[A\n",
      "Applying IIR:  52%|█████▏    | 13/25 [00:00<00:00, 29.12it/s]\u001b[A\n",
      "Applying IIR:  68%|██████▊   | 17/25 [00:00<00:00, 29.76it/s]\u001b[A\n",
      "Applying IIR:  80%|████████  | 20/25 [00:00<00:00, 29.81it/s]\u001b[A\n",
      "Applying IIR: 100%|██████████| 25/25 [00:00<00:00, 29.29it/s]\u001b[A\n",
      " 16%|█▌        | 204/1268 [02:24<14:09,  1.25it/s]\n",
      "Applying IIR:   0%|          | 0/25 [00:00<?, ?it/s]\u001b[A\n",
      "Applying IIR:  12%|█▏        | 3/25 [00:00<00:00, 27.90it/s]\u001b[A"
     ]
    },
    {
     "name": "stdout",
     "output_type": "stream",
     "text": [
      "running motion mag for vid: 00331.jpg\n",
      "video ../../deepfake_data/fb_dfd_release_0.1_final/method_A_crops/00331.jpg\n",
      "\n",
      "Exception found: list index out of range\n",
      "running motion mag for vid: 1604866_1224068_A_003.mp4\n",
      "video ../../deepfake_data/fb_dfd_release_0.1_final/method_A_crops/1604866_1224068_A_003.mp4\n",
      "\n",
      "Iteration number is 259002\n"
     ]
    },
    {
     "name": "stderr",
     "output_type": "stream",
     "text": [
      "\n",
      "Applying IIR:  28%|██▊       | 7/25 [00:00<00:00, 28.74it/s]\u001b[A\n",
      "Applying IIR:  40%|████      | 10/25 [00:00<00:00, 28.96it/s]\u001b[A\n",
      "Applying IIR:  56%|█████▌    | 14/25 [00:00<00:00, 29.50it/s]\u001b[A\n",
      "Applying IIR:  68%|██████▊   | 17/25 [00:00<00:00, 29.40it/s]\u001b[A\n",
      "Applying IIR:  84%|████████▍ | 21/25 [00:00<00:00, 30.45it/s]\u001b[A\n",
      "Applying IIR: 100%|██████████| 25/25 [00:00<00:00, 29.96it/s]\u001b[A\n",
      " 16%|█▌        | 206/1268 [02:25<12:38,  1.40it/s]\n",
      "Applying IIR:   0%|          | 0/25 [00:00<?, ?it/s]\u001b[A\n",
      "Applying IIR:  16%|█▌        | 4/25 [00:00<00:00, 30.68it/s]\u001b[A"
     ]
    },
    {
     "name": "stdout",
     "output_type": "stream",
     "text": [
      "running motion mag for vid: 1822940_1294671_B_003.mp4\n",
      "video ../../deepfake_data/fb_dfd_release_0.1_final/method_A_crops/1822940_1294671_B_003.mp4\n",
      "\n",
      "Iteration number is 259002\n"
     ]
    },
    {
     "name": "stderr",
     "output_type": "stream",
     "text": [
      "\n",
      "Applying IIR:  28%|██▊       | 7/25 [00:00<00:00, 28.84it/s]\u001b[A\n",
      "Applying IIR:  44%|████▍     | 11/25 [00:00<00:00, 29.56it/s]\u001b[A\n",
      "Applying IIR:  56%|█████▌    | 14/25 [00:00<00:00, 28.83it/s]\u001b[A\n",
      "Applying IIR:  72%|███████▏  | 18/25 [00:00<00:00, 29.64it/s]\u001b[A\n",
      "Applying IIR: 100%|██████████| 25/25 [00:00<00:00, 29.78it/s]\u001b[A\n",
      " 16%|█▋        | 207/1268 [02:26<14:19,  1.24it/s]\n",
      "Applying IIR:   0%|          | 0/25 [00:00<?, ?it/s]\u001b[A\n",
      "Applying IIR:  12%|█▏        | 3/25 [00:00<00:00, 24.95it/s]\u001b[A"
     ]
    },
    {
     "name": "stdout",
     "output_type": "stream",
     "text": [
      "running motion mag for vid: 00026.jpg\n",
      "video ../../deepfake_data/fb_dfd_release_0.1_final/method_A_crops/00026.jpg\n",
      "\n",
      "Exception found: list index out of range\n",
      "running motion mag for vid: 00447.jpg\n",
      "video ../../deepfake_data/fb_dfd_release_0.1_final/method_A_crops/00447.jpg\n",
      "\n",
      "Exception found: list index out of range\n",
      "running motion mag for vid: 00269.jpg\n",
      "video ../../deepfake_data/fb_dfd_release_0.1_final/method_A_crops/00269.jpg\n",
      "\n",
      "Exception found: list index out of range\n",
      "running motion mag for vid: 1853436_1795659_A_001.mp4\n",
      "video ../../deepfake_data/fb_dfd_release_0.1_final/method_A_crops/1853436_1795659_A_001.mp4\n",
      "\n",
      "Iteration number is 259002\n"
     ]
    },
    {
     "name": "stderr",
     "output_type": "stream",
     "text": [
      "\n",
      "Applying IIR:  24%|██▍       | 6/25 [00:00<00:00, 25.25it/s]\u001b[A\n",
      "Applying IIR:  36%|███▌      | 9/25 [00:00<00:00, 24.49it/s]\u001b[A\n",
      "Applying IIR:  48%|████▊     | 12/25 [00:00<00:00, 24.51it/s]\u001b[A\n",
      "Applying IIR:  60%|██████    | 15/25 [00:00<00:00, 24.59it/s]\u001b[A\n",
      "Applying IIR:  72%|███████▏  | 18/25 [00:00<00:00, 25.77it/s]\u001b[A\n",
      "Applying IIR:  84%|████████▍ | 21/25 [00:00<00:00, 24.99it/s]\u001b[A\n",
      "Applying IIR: 100%|██████████| 25/25 [00:01<00:00, 24.80it/s]\u001b[A\n",
      " 17%|█▋        | 211/1268 [02:27<11:33,  1.52it/s]\n",
      "Applying IIR:   0%|          | 0/25 [00:00<?, ?it/s]\u001b[A\n",
      "Applying IIR:  16%|█▌        | 4/25 [00:00<00:00, 28.92it/s]\u001b[A"
     ]
    },
    {
     "name": "stdout",
     "output_type": "stream",
     "text": [
      "running motion mag for vid: 1003254_1294671_C_002.mp4\n",
      "video ../../deepfake_data/fb_dfd_release_0.1_final/method_A_crops/1003254_1294671_C_002.mp4\n",
      "\n",
      "Iteration number is 259002\n"
     ]
    },
    {
     "name": "stderr",
     "output_type": "stream",
     "text": [
      "\n",
      "Applying IIR:  32%|███▏      | 8/25 [00:00<00:00, 29.37it/s]\u001b[A\n",
      "Applying IIR:  48%|████▊     | 12/25 [00:00<00:00, 30.08it/s]\u001b[A\n",
      "Applying IIR:  64%|██████▍   | 16/25 [00:00<00:00, 30.56it/s]\u001b[A\n",
      "Applying IIR:  76%|███████▌  | 19/25 [00:00<00:00, 30.32it/s]\u001b[A\n",
      "Applying IIR: 100%|██████████| 25/25 [00:00<00:00, 30.46it/s]\u001b[A\n",
      " 17%|█▋        | 212/1268 [02:28<13:18,  1.32it/s]\n",
      "Applying IIR:   0%|          | 0/25 [00:00<?, ?it/s]\u001b[A\n",
      "Applying IIR:  12%|█▏        | 3/25 [00:00<00:00, 25.65it/s]\u001b[A"
     ]
    },
    {
     "name": "stdout",
     "output_type": "stream",
     "text": [
      "running motion mag for vid: 1795659_1371757_A_003.mp4\n",
      "video ../../deepfake_data/fb_dfd_release_0.1_final/method_A_crops/1795659_1371757_A_003.mp4\n",
      "\n",
      "Iteration number is 259002\n"
     ]
    },
    {
     "name": "stderr",
     "output_type": "stream",
     "text": [
      "\n",
      "Applying IIR:  24%|██▍       | 6/25 [00:00<00:00, 26.78it/s]\u001b[A\n",
      "Applying IIR:  40%|████      | 10/25 [00:00<00:00, 28.05it/s]\u001b[A\n",
      "Applying IIR:  56%|█████▌    | 14/25 [00:00<00:00, 29.79it/s]\u001b[A\n",
      "Applying IIR:  72%|███████▏  | 18/25 [00:00<00:00, 30.81it/s]\u001b[A\n",
      "Applying IIR:  84%|████████▍ | 21/25 [00:00<00:00, 29.09it/s]\u001b[A\n",
      "Applying IIR: 100%|██████████| 25/25 [00:00<00:00, 29.83it/s]\u001b[A\n",
      " 17%|█▋        | 213/1268 [02:29<14:34,  1.21it/s]\n",
      "Applying IIR:   0%|          | 0/25 [00:00<?, ?it/s]\u001b[A\n",
      "Applying IIR:  16%|█▌        | 4/25 [00:00<00:00, 35.04it/s]\u001b[A"
     ]
    },
    {
     "name": "stdout",
     "output_type": "stream",
     "text": [
      "running motion mag for vid: 00102.jpg\n",
      "video ../../deepfake_data/fb_dfd_release_0.1_final/method_A_crops/00102.jpg\n",
      "\n",
      "Exception found: list index out of range\n",
      "running motion mag for vid: 1604866_1224068_E_003.mp4\n",
      "video ../../deepfake_data/fb_dfd_release_0.1_final/method_A_crops/1604866_1224068_E_003.mp4\n",
      "\n",
      "Iteration number is 259002\n"
     ]
    },
    {
     "name": "stderr",
     "output_type": "stream",
     "text": [
      "\n",
      "Applying IIR:  28%|██▊       | 7/25 [00:00<00:00, 32.32it/s]\u001b[A\n",
      "Applying IIR:  44%|████▍     | 11/25 [00:00<00:00, 32.44it/s]\u001b[A\n",
      "Applying IIR:  60%|██████    | 15/25 [00:00<00:00, 32.13it/s]\u001b[A\n",
      "Applying IIR:  76%|███████▌  | 19/25 [00:00<00:00, 32.15it/s]\u001b[A\n",
      "Applying IIR: 100%|██████████| 25/25 [00:00<00:00, 31.16it/s]\u001b[A\n",
      " 17%|█▋        | 215/1268 [02:30<12:43,  1.38it/s]\n",
      "Applying IIR:   0%|          | 0/25 [00:00<?, ?it/s]\u001b[A\n",
      "Applying IIR:  12%|█▏        | 3/25 [00:00<00:00, 25.90it/s]\u001b[A"
     ]
    },
    {
     "name": "stdout",
     "output_type": "stream",
     "text": [
      "running motion mag for vid: 773847_2113344_A_003.mp4\n",
      "video ../../deepfake_data/fb_dfd_release_0.1_final/method_A_crops/773847_2113344_A_003.mp4\n",
      "\n",
      "Iteration number is 259002\n"
     ]
    },
    {
     "name": "stderr",
     "output_type": "stream",
     "text": [
      "\n",
      "Applying IIR:  28%|██▊       | 7/25 [00:00<00:00, 27.17it/s]\u001b[A\n",
      "Applying IIR:  44%|████▍     | 11/25 [00:00<00:00, 28.46it/s]\u001b[A\n",
      "Applying IIR:  60%|██████    | 15/25 [00:00<00:00, 29.52it/s]\u001b[A\n",
      "Applying IIR:  76%|███████▌  | 19/25 [00:00<00:00, 30.38it/s]\u001b[A\n",
      "Applying IIR: 100%|██████████| 25/25 [00:00<00:00, 31.51it/s]\u001b[A\n",
      " 17%|█▋        | 216/1268 [02:31<13:58,  1.25it/s]\n",
      "Applying IIR:   0%|          | 0/25 [00:00<?, ?it/s]\u001b[A\n",
      "Applying IIR:  12%|█▏        | 3/25 [00:00<00:00, 26.79it/s]\u001b[A"
     ]
    },
    {
     "name": "stdout",
     "output_type": "stream",
     "text": [
      "running motion mag for vid: 00215.jpg\n",
      "video ../../deepfake_data/fb_dfd_release_0.1_final/method_A_crops/00215.jpg\n",
      "\n",
      "Exception found: list index out of range\n",
      "running motion mag for vid: 1681757_1224068_D_002.mp4\n",
      "video ../../deepfake_data/fb_dfd_release_0.1_final/method_A_crops/1681757_1224068_D_002.mp4\n",
      "\n",
      "Iteration number is 259002\n"
     ]
    },
    {
     "name": "stderr",
     "output_type": "stream",
     "text": [
      "\n",
      "Applying IIR:  28%|██▊       | 7/25 [00:00<00:00, 27.92it/s]\u001b[A\n",
      "Applying IIR:  40%|████      | 10/25 [00:00<00:00, 26.39it/s]\u001b[A\n",
      "Applying IIR:  56%|█████▌    | 14/25 [00:00<00:00, 27.77it/s]\u001b[A\n",
      "Applying IIR:  68%|██████▊   | 17/25 [00:00<00:00, 26.25it/s]\u001b[A\n",
      "Applying IIR:  80%|████████  | 20/25 [00:00<00:00, 27.05it/s]\u001b[A\n",
      "Applying IIR: 100%|██████████| 25/25 [00:00<00:00, 27.35it/s]\u001b[A\n",
      " 17%|█▋        | 218/1268 [02:32<12:38,  1.38it/s]\n",
      "Applying IIR:   0%|          | 0/25 [00:00<?, ?it/s]\u001b[A\n",
      "Applying IIR:  16%|█▌        | 4/25 [00:00<00:00, 29.54it/s]\u001b[A"
     ]
    },
    {
     "name": "stdout",
     "output_type": "stream",
     "text": [
      "running motion mag for vid: 1569101_1255229_A_003.mp4\n",
      "video ../../deepfake_data/fb_dfd_release_0.1_final/method_A_crops/1569101_1255229_A_003.mp4\n",
      "\n",
      "Iteration number is 259002\n"
     ]
    },
    {
     "name": "stderr",
     "output_type": "stream",
     "text": [
      "\n",
      "Applying IIR:  32%|███▏      | 8/25 [00:00<00:00, 29.85it/s]\u001b[A\n",
      "Applying IIR:  48%|████▊     | 12/25 [00:00<00:00, 30.64it/s]\u001b[A\n",
      "Applying IIR:  60%|██████    | 15/25 [00:00<00:00, 30.35it/s]\u001b[A\n",
      "Applying IIR:  72%|███████▏  | 18/25 [00:00<00:00, 29.91it/s]\u001b[A\n",
      "Applying IIR:  84%|████████▍ | 21/25 [00:00<00:00, 29.61it/s]\u001b[A\n",
      "Applying IIR: 100%|██████████| 25/25 [00:00<00:00, 29.80it/s]\u001b[A\n",
      " 17%|█▋        | 219/1268 [02:33<14:16,  1.22it/s]\n",
      "Applying IIR:   0%|          | 0/25 [00:00<?, ?it/s]\u001b[A\n",
      "Applying IIR:  12%|█▏        | 3/25 [00:00<00:00, 27.26it/s]\u001b[A"
     ]
    },
    {
     "name": "stdout",
     "output_type": "stream",
     "text": [
      "running motion mag for vid: 00105.jpg\n",
      "video ../../deepfake_data/fb_dfd_release_0.1_final/method_A_crops/00105.jpg\n",
      "\n",
      "Exception found: list index out of range\n",
      "running motion mag for vid: 00212.jpg\n",
      "video ../../deepfake_data/fb_dfd_release_0.1_final/method_A_crops/00212.jpg\n",
      "\n",
      "Exception found: list index out of range\n",
      "running motion mag for vid: 748594_1294671_B_001.mp4\n",
      "video ../../deepfake_data/fb_dfd_release_0.1_final/method_A_crops/748594_1294671_B_001.mp4\n",
      "\n",
      "Iteration number is 259002\n"
     ]
    },
    {
     "name": "stderr",
     "output_type": "stream",
     "text": [
      "\n",
      "Applying IIR:  24%|██▍       | 6/25 [00:00<00:00, 27.67it/s]\u001b[A\n",
      "Applying IIR:  36%|███▌      | 9/25 [00:00<00:00, 28.25it/s]\u001b[A\n",
      "Applying IIR:  52%|█████▏    | 13/25 [00:00<00:00, 29.33it/s]\u001b[A\n",
      "Applying IIR:  68%|██████▊   | 17/25 [00:00<00:00, 30.51it/s]\u001b[A\n",
      "Applying IIR:  84%|████████▍ | 21/25 [00:00<00:00, 31.46it/s]\u001b[A\n",
      "Applying IIR: 100%|██████████| 25/25 [00:00<00:00, 31.08it/s]\u001b[A\n",
      " 18%|█▊        | 222/1268 [02:34<11:42,  1.49it/s]\n",
      "Applying IIR:   0%|          | 0/25 [00:00<?, ?it/s]\u001b[A\n",
      "Applying IIR:  12%|█▏        | 3/25 [00:00<00:00, 24.22it/s]\u001b[A"
     ]
    },
    {
     "name": "stdout",
     "output_type": "stream",
     "text": [
      "running motion mag for vid: 00336.jpg\n",
      "video ../../deepfake_data/fb_dfd_release_0.1_final/method_A_crops/00336.jpg\n",
      "\n",
      "Exception found: list index out of range\n",
      "running motion mag for vid: 1609928_1795659_B_003.mp4\n",
      "video ../../deepfake_data/fb_dfd_release_0.1_final/method_A_crops/1609928_1795659_B_003.mp4\n",
      "\n",
      "Iteration number is 259002\n"
     ]
    },
    {
     "name": "stderr",
     "output_type": "stream",
     "text": [
      "\n",
      "Applying IIR:  24%|██▍       | 6/25 [00:00<00:00, 24.98it/s]\u001b[A\n",
      "Applying IIR:  36%|███▌      | 9/25 [00:00<00:00, 24.98it/s]\u001b[A\n",
      "Applying IIR:  48%|████▊     | 12/25 [00:00<00:00, 24.92it/s]\u001b[A\n",
      "Applying IIR:  56%|█████▌    | 14/25 [00:00<00:00, 23.09it/s]\u001b[A\n",
      "Applying IIR:  72%|███████▏  | 18/25 [00:00<00:00, 24.87it/s]\u001b[A\n",
      "Applying IIR:  88%|████████▊ | 22/25 [00:00<00:00, 26.62it/s]\u001b[A\n",
      "Applying IIR: 100%|██████████| 25/25 [00:00<00:00, 26.19it/s]\u001b[A\n",
      " 18%|█▊        | 224/1268 [02:35<11:10,  1.56it/s]\n",
      "Applying IIR:   0%|          | 0/25 [00:00<?, ?it/s]\u001b[A\n",
      "Applying IIR:  12%|█▏        | 3/25 [00:00<00:00, 28.10it/s]\u001b[A"
     ]
    },
    {
     "name": "stdout",
     "output_type": "stream",
     "text": [
      "running motion mag for vid: 00021.jpg\n",
      "video ../../deepfake_data/fb_dfd_release_0.1_final/method_A_crops/00021.jpg\n",
      "\n",
      "Exception found: list index out of range\n",
      "running motion mag for vid: 00440.jpg\n",
      "video ../../deepfake_data/fb_dfd_release_0.1_final/method_A_crops/00440.jpg\n",
      "\n",
      "Exception found: list index out of range\n",
      "running motion mag for vid: 00179.jpg\n",
      "video ../../deepfake_data/fb_dfd_release_0.1_final/method_A_crops/00179.jpg\n",
      "\n",
      "Exception found: list index out of range\n",
      "running motion mag for vid: 1255229_1294671_A_003.mp4\n",
      "video ../../deepfake_data/fb_dfd_release_0.1_final/method_A_crops/1255229_1294671_A_003.mp4\n",
      "\n",
      "Iteration number is 259002\n"
     ]
    },
    {
     "name": "stderr",
     "output_type": "stream",
     "text": [
      "\n",
      "Applying IIR:  28%|██▊       | 7/25 [00:00<00:00, 29.18it/s]\u001b[A\n",
      "Applying IIR:  40%|████      | 10/25 [00:00<00:00, 28.87it/s]\u001b[A\n",
      "Applying IIR:  56%|█████▌    | 14/25 [00:00<00:00, 29.74it/s]\u001b[A\n",
      "Applying IIR:  72%|███████▏  | 18/25 [00:00<00:00, 29.80it/s]\u001b[A\n",
      "Applying IIR: 100%|██████████| 25/25 [00:00<00:00, 30.55it/s]\u001b[A\n",
      " 18%|█▊        | 228/1268 [02:36<09:04,  1.91it/s]\n",
      "Applying IIR:   0%|          | 0/25 [00:00<?, ?it/s]\u001b[A\n",
      "\n",
      "Applying IIR:   0%|          | 0/25 [00:00<?, ?it/s]\u001b[A\n",
      "Applying IIR:  16%|█▌        | 4/25 [00:00<00:00, 31.12it/s]\u001b[A"
     ]
    },
    {
     "name": "stdout",
     "output_type": "stream",
     "text": [
      "running motion mag for vid: 773847_1681757_C_001.mp4\n",
      "video ../../deepfake_data/fb_dfd_release_0.1_final/method_A_crops/773847_1681757_C_001.mp4\n",
      "\n",
      "Iteration number is 259002\n",
      "Exception found: OpenCV(4.1.1) /io/opencv/modules/imgproc/src/color.cpp:182: error: (-215:Assertion failed) !_src.empty() in function 'cvtColor'\n",
      "\n",
      "running motion mag for vid: 2059066_2113344_B_001.mp4\n",
      "video ../../deepfake_data/fb_dfd_release_0.1_final/method_A_crops/2059066_2113344_B_001.mp4\n",
      "\n",
      "Iteration number is 259002\n"
     ]
    },
    {
     "name": "stderr",
     "output_type": "stream",
     "text": [
      "\n",
      "Applying IIR:  32%|███▏      | 8/25 [00:00<00:00, 31.53it/s]\u001b[A\n",
      "Applying IIR:  48%|████▊     | 12/25 [00:00<00:00, 31.94it/s]\u001b[A\n",
      "Applying IIR:  64%|██████▍   | 16/25 [00:00<00:00, 32.56it/s]\u001b[A\n",
      "Applying IIR:  80%|████████  | 20/25 [00:00<00:00, 32.73it/s]\u001b[A\n",
      "Applying IIR: 100%|██████████| 25/25 [00:00<00:00, 32.93it/s]\u001b[A\n",
      " 18%|█▊        | 230/1268 [02:37<08:57,  1.93it/s]\n",
      "Applying IIR:   0%|          | 0/25 [00:00<?, ?it/s]\u001b[A\n",
      "Applying IIR:  16%|█▌        | 4/25 [00:00<00:00, 36.30it/s]\u001b[A"
     ]
    },
    {
     "name": "stdout",
     "output_type": "stream",
     "text": [
      "running motion mag for vid: 00409.jpg\n",
      "video ../../deepfake_data/fb_dfd_release_0.1_final/method_A_crops/00409.jpg\n",
      "\n",
      "Exception found: list index out of range\n",
      "running motion mag for vid: 00068.jpg\n",
      "video ../../deepfake_data/fb_dfd_release_0.1_final/method_A_crops/00068.jpg\n",
      "\n",
      "Exception found: list index out of range\n",
      "running motion mag for vid: 1822940_1371757_A_003.mp4\n",
      "video ../../deepfake_data/fb_dfd_release_0.1_final/method_A_crops/1822940_1371757_A_003.mp4\n",
      "\n",
      "Iteration number is 259002\n"
     ]
    },
    {
     "name": "stderr",
     "output_type": "stream",
     "text": [
      "\n",
      "Applying IIR:  32%|███▏      | 8/25 [00:00<00:00, 35.85it/s]\u001b[A\n",
      "Applying IIR:  48%|████▊     | 12/25 [00:00<00:00, 35.74it/s]\u001b[A\n",
      "Applying IIR:  64%|██████▍   | 16/25 [00:00<00:00, 35.58it/s]\u001b[A\n",
      "Applying IIR:  80%|████████  | 20/25 [00:00<00:00, 35.71it/s]\u001b[A\n",
      "Applying IIR: 100%|██████████| 25/25 [00:00<00:00, 35.36it/s]\u001b[A\n",
      " 18%|█▊        | 233/1268 [02:38<07:48,  2.21it/s]\n",
      "Applying IIR:   0%|          | 0/25 [00:00<?, ?it/s]\u001b[A\n",
      "Applying IIR:  12%|█▏        | 3/25 [00:00<00:00, 25.84it/s]\u001b[A"
     ]
    },
    {
     "name": "stdout",
     "output_type": "stream",
     "text": [
      "running motion mag for vid: 2059066_1224068_A_001.mp4\n",
      "video ../../deepfake_data/fb_dfd_release_0.1_final/method_A_crops/2059066_1224068_A_001.mp4\n",
      "\n",
      "Iteration number is 259002\n"
     ]
    },
    {
     "name": "stderr",
     "output_type": "stream",
     "text": [
      "\n",
      "Applying IIR:  24%|██▍       | 6/25 [00:00<00:00, 26.76it/s]\u001b[A\n",
      "Applying IIR:  40%|████      | 10/25 [00:00<00:00, 28.32it/s]\u001b[A\n",
      "Applying IIR:  52%|█████▏    | 13/25 [00:00<00:00, 28.17it/s]\u001b[A\n",
      "Applying IIR:  64%|██████▍   | 16/25 [00:00<00:00, 27.88it/s]\u001b[A\n",
      "Applying IIR:  76%|███████▌  | 19/25 [00:00<00:00, 27.52it/s]\u001b[A\n",
      "Applying IIR: 100%|██████████| 25/25 [00:00<00:00, 29.41it/s]\u001b[A\n",
      " 18%|█▊        | 234/1268 [02:39<10:47,  1.60it/s]\n",
      "Applying IIR:   0%|          | 0/25 [00:00<?, ?it/s]\u001b[A\n",
      "Applying IIR:  12%|█▏        | 3/25 [00:00<00:00, 27.95it/s]\u001b[A"
     ]
    },
    {
     "name": "stdout",
     "output_type": "stream",
     "text": [
      "running motion mag for vid: 00227.jpg\n",
      "video ../../deepfake_data/fb_dfd_release_0.1_final/method_A_crops/00227.jpg\n",
      "\n",
      "Exception found: list index out of range\n",
      "running motion mag for vid: 1604866_1681757_D_001.mp4\n",
      "video ../../deepfake_data/fb_dfd_release_0.1_final/method_A_crops/1604866_1681757_D_001.mp4\n",
      "\n",
      "Iteration number is 259002\n"
     ]
    },
    {
     "name": "stderr",
     "output_type": "stream",
     "text": [
      "\n",
      "Applying IIR:  28%|██▊       | 7/25 [00:00<00:00, 28.44it/s]\u001b[A\n",
      "Applying IIR:  40%|████      | 10/25 [00:00<00:00, 27.77it/s]\u001b[A\n",
      "Applying IIR:  52%|█████▏    | 13/25 [00:00<00:00, 27.88it/s]\u001b[A\n",
      "Applying IIR:  68%|██████▊   | 17/25 [00:00<00:00, 29.19it/s]\u001b[A\n",
      "Applying IIR:  84%|████████▍ | 21/25 [00:00<00:00, 30.36it/s]\u001b[A\n",
      "Applying IIR: 100%|██████████| 25/25 [00:00<00:00, 29.61it/s]\u001b[A\n",
      " 19%|█▊        | 236/1268 [02:40<10:16,  1.67it/s]\n",
      "Applying IIR:   0%|          | 0/25 [00:00<?, ?it/s]\u001b[A\n",
      "Applying IIR:  12%|█▏        | 3/25 [00:00<00:00, 25.54it/s]\u001b[A"
     ]
    },
    {
     "name": "stdout",
     "output_type": "stream",
     "text": [
      "running motion mag for vid: 1681757_2113344_C_002.mp4\n",
      "video ../../deepfake_data/fb_dfd_release_0.1_final/method_A_crops/1681757_2113344_C_002.mp4\n",
      "\n",
      "Iteration number is 259002\n"
     ]
    },
    {
     "name": "stderr",
     "output_type": "stream",
     "text": [
      "\n",
      "Applying IIR:  24%|██▍       | 6/25 [00:00<00:00, 25.02it/s]\u001b[A\n",
      "Applying IIR:  36%|███▌      | 9/25 [00:00<00:00, 26.14it/s]\u001b[A\n",
      "Applying IIR:  48%|████▊     | 12/25 [00:00<00:00, 26.42it/s]\u001b[A\n",
      "Applying IIR:  60%|██████    | 15/25 [00:00<00:00, 27.31it/s]\u001b[A\n",
      "Applying IIR:  72%|███████▏  | 18/25 [00:00<00:00, 26.90it/s]\u001b[A\n",
      "Applying IIR: 100%|██████████| 25/25 [00:00<00:00, 27.83it/s]\u001b[A\n",
      " 19%|█▊        | 237/1268 [02:41<12:55,  1.33it/s]\n",
      "Applying IIR:   0%|          | 0/25 [00:00<?, ?it/s]\u001b[A\n",
      "Applying IIR:  16%|█▌        | 4/25 [00:00<00:00, 32.68it/s]\u001b[A"
     ]
    },
    {
     "name": "stdout",
     "output_type": "stream",
     "text": [
      "running motion mag for vid: 2063898_804259_H_002.mp4\n",
      "video ../../deepfake_data/fb_dfd_release_0.1_final/method_A_crops/2063898_804259_H_002.mp4\n",
      "\n",
      "Iteration number is 259002\n"
     ]
    },
    {
     "name": "stderr",
     "output_type": "stream",
     "text": [
      "\n",
      "Applying IIR:  28%|██▊       | 7/25 [00:00<00:00, 30.20it/s]\u001b[A\n",
      "Applying IIR:  40%|████      | 10/25 [00:00<00:00, 30.08it/s]\u001b[A\n",
      "Applying IIR:  52%|█████▏    | 13/25 [00:00<00:00, 29.36it/s]\u001b[A\n",
      "Applying IIR:  68%|██████▊   | 17/25 [00:00<00:00, 29.21it/s]\u001b[A\n",
      "Applying IIR:  80%|████████  | 20/25 [00:00<00:00, 27.79it/s]\u001b[A\n",
      "Applying IIR: 100%|██████████| 25/25 [00:00<00:00, 28.75it/s]\u001b[A\n",
      " 19%|█▉        | 238/1268 [02:42<14:33,  1.18it/s]\n",
      "Applying IIR:   0%|          | 0/25 [00:00<?, ?it/s]\u001b[A\n",
      "Applying IIR:  12%|█▏        | 3/25 [00:00<00:00, 25.55it/s]\u001b[A"
     ]
    },
    {
     "name": "stdout",
     "output_type": "stream",
     "text": [
      "running motion mag for vid: 00130.jpg\n",
      "video ../../deepfake_data/fb_dfd_release_0.1_final/method_A_crops/00130.jpg\n",
      "\n",
      "Exception found: list index out of range\n",
      "running motion mag for vid: 1294671_804259_I_002.mp4\n",
      "video ../../deepfake_data/fb_dfd_release_0.1_final/method_A_crops/1294671_804259_I_002.mp4\n",
      "\n",
      "Iteration number is 259002\n"
     ]
    },
    {
     "name": "stderr",
     "output_type": "stream",
     "text": [
      "\n",
      "Applying IIR:  28%|██▊       | 7/25 [00:00<00:00, 26.85it/s]\u001b[A\n",
      "Applying IIR:  40%|████      | 10/25 [00:00<00:00, 26.45it/s]\u001b[A\n",
      "Applying IIR:  52%|█████▏    | 13/25 [00:00<00:00, 26.26it/s]\u001b[A\n",
      "Applying IIR:  64%|██████▍   | 16/25 [00:00<00:00, 26.12it/s]\u001b[A\n",
      "Applying IIR:  76%|███████▌  | 19/25 [00:00<00:00, 26.73it/s]\u001b[A\n",
      "Applying IIR:  88%|████████▊ | 22/25 [00:00<00:00, 27.06it/s]\u001b[A\n",
      "Applying IIR: 100%|██████████| 25/25 [00:00<00:00, 26.89it/s]\u001b[A\n",
      " 19%|█▉        | 240/1268 [02:44<13:04,  1.31it/s]\n",
      "Applying IIR:   0%|          | 0/25 [00:00<?, ?it/s]\u001b[A\n",
      "Applying IIR:  12%|█▏        | 3/25 [00:00<00:00, 27.50it/s]\u001b[A"
     ]
    },
    {
     "name": "stdout",
     "output_type": "stream",
     "text": [
      "running motion mag for vid: 1733757_804259_D_001.mp4\n",
      "video ../../deepfake_data/fb_dfd_release_0.1_final/method_A_crops/1733757_804259_D_001.mp4\n",
      "\n",
      "Iteration number is 259002\n"
     ]
    },
    {
     "name": "stderr",
     "output_type": "stream",
     "text": [
      "\n",
      "Applying IIR:  24%|██▍       | 6/25 [00:00<00:00, 27.31it/s]\u001b[A\n",
      "Applying IIR:  36%|███▌      | 9/25 [00:00<00:00, 27.23it/s]\u001b[A\n",
      "Applying IIR:  48%|████▊     | 12/25 [00:00<00:00, 26.93it/s]\u001b[A\n",
      "Applying IIR:  60%|██████    | 15/25 [00:00<00:00, 26.97it/s]\u001b[A\n",
      "Applying IIR:  72%|███████▏  | 18/25 [00:00<00:00, 27.05it/s]\u001b[A\n",
      "Applying IIR:  84%|████████▍ | 21/25 [00:00<00:00, 25.73it/s]\u001b[A\n",
      "Applying IIR: 100%|██████████| 25/25 [00:00<00:00, 25.55it/s]\u001b[A\n",
      " 19%|█▉        | 241/1268 [02:45<15:07,  1.13it/s]\n",
      "Applying IIR:   0%|          | 0/25 [00:00<?, ?it/s]\u001b[A\n",
      "Applying IIR:  12%|█▏        | 3/25 [00:00<00:00, 27.19it/s]\u001b[A"
     ]
    },
    {
     "name": "stdout",
     "output_type": "stream",
     "text": [
      "running motion mag for vid: 2059066_1224068_E_001.mp4\n",
      "video ../../deepfake_data/fb_dfd_release_0.1_final/method_A_crops/2059066_1224068_E_001.mp4\n",
      "\n",
      "Iteration number is 259002\n"
     ]
    },
    {
     "name": "stderr",
     "output_type": "stream",
     "text": [
      "\n",
      "Applying IIR:  24%|██▍       | 6/25 [00:00<00:00, 27.44it/s]\u001b[A\n",
      "Applying IIR:  36%|███▌      | 9/25 [00:00<00:00, 27.36it/s]\u001b[A\n",
      "Applying IIR:  48%|████▊     | 12/25 [00:00<00:00, 26.31it/s]\u001b[A\n",
      "Applying IIR:  64%|██████▍   | 16/25 [00:00<00:00, 27.15it/s]\u001b[A\n",
      "Applying IIR:  76%|███████▌  | 19/25 [00:00<00:00, 25.97it/s]\u001b[A\n",
      "Applying IIR:  88%|████████▊ | 22/25 [00:00<00:00, 26.67it/s]\u001b[A\n",
      "Applying IIR: 100%|██████████| 25/25 [00:00<00:00, 26.58it/s]\u001b[A\n",
      " 19%|█▉        | 242/1268 [02:46<16:12,  1.06it/s]\n",
      "Applying IIR:   0%|          | 0/25 [00:00<?, ?it/s]\u001b[A\n",
      "Applying IIR:  16%|█▌        | 4/25 [00:00<00:00, 31.49it/s]\u001b[A"
     ]
    },
    {
     "name": "stdout",
     "output_type": "stream",
     "text": [
      "running motion mag for vid: 00014.jpg\n",
      "video ../../deepfake_data/fb_dfd_release_0.1_final/method_A_crops/00014.jpg\n",
      "\n",
      "Exception found: list index out of range\n",
      "running motion mag for vid: 1795659_804259_F_001.mp4\n",
      "video ../../deepfake_data/fb_dfd_release_0.1_final/method_A_crops/1795659_804259_F_001.mp4\n",
      "\n",
      "Iteration number is 259002\n"
     ]
    },
    {
     "name": "stderr",
     "output_type": "stream",
     "text": [
      "\n",
      "Applying IIR:  32%|███▏      | 8/25 [00:00<00:00, 31.46it/s]\u001b[A\n",
      "Applying IIR:  44%|████▍     | 11/25 [00:00<00:00, 30.23it/s]\u001b[A\n",
      "Applying IIR:  60%|██████    | 15/25 [00:00<00:00, 30.46it/s]\u001b[A\n",
      "Applying IIR:  76%|███████▌  | 19/25 [00:00<00:00, 31.03it/s]\u001b[A\n",
      "Applying IIR: 100%|██████████| 25/25 [00:00<00:00, 30.96it/s]\u001b[A\n",
      " 19%|█▉        | 244/1268 [02:47<13:49,  1.23it/s]\n",
      "Applying IIR:   0%|          | 0/25 [00:00<?, ?it/s]\u001b[A\n",
      "Applying IIR:  12%|█▏        | 3/25 [00:00<00:00, 27.49it/s]\u001b[A"
     ]
    },
    {
     "name": "stdout",
     "output_type": "stream",
     "text": [
      "running motion mag for vid: 00303.jpg\n",
      "video ../../deepfake_data/fb_dfd_release_0.1_final/method_A_crops/00303.jpg\n",
      "\n",
      "Exception found: list index out of range\n",
      "running motion mag for vid: 1929178_804259_D_001.mp4\n",
      "video ../../deepfake_data/fb_dfd_release_0.1_final/method_A_crops/1929178_804259_D_001.mp4\n",
      "\n",
      "Iteration number is 259002\n"
     ]
    },
    {
     "name": "stderr",
     "output_type": "stream",
     "text": [
      "\n",
      "Applying IIR:  28%|██▊       | 7/25 [00:00<00:00, 28.75it/s]\u001b[A\n",
      "Applying IIR:  44%|████▍     | 11/25 [00:00<00:00, 29.90it/s]\u001b[A\n",
      "Applying IIR:  60%|██████    | 15/25 [00:00<00:00, 30.60it/s]\u001b[A\n",
      "Applying IIR:  72%|███████▏  | 18/25 [00:00<00:00, 30.03it/s]\u001b[A\n",
      "Applying IIR: 100%|██████████| 25/25 [00:00<00:00, 31.34it/s]\u001b[A\n",
      " 19%|█▉        | 246/1268 [02:48<12:11,  1.40it/s]\n",
      "Applying IIR:   0%|          | 0/25 [00:00<?, ?it/s]\u001b[A\n",
      "Applying IIR:  12%|█▏        | 3/25 [00:00<00:00, 28.44it/s]\u001b[A"
     ]
    },
    {
     "name": "stdout",
     "output_type": "stream",
     "text": [
      "running motion mag for vid: 1941250_804259_H_001.mp4\n",
      "video ../../deepfake_data/fb_dfd_release_0.1_final/method_A_crops/1941250_804259_H_001.mp4\n",
      "\n",
      "Iteration number is 259002\n"
     ]
    },
    {
     "name": "stderr",
     "output_type": "stream",
     "text": [
      "\n",
      "Applying IIR:  24%|██▍       | 6/25 [00:00<00:00, 27.98it/s]\u001b[A\n",
      "Applying IIR:  36%|███▌      | 9/25 [00:00<00:00, 27.77it/s]\u001b[A\n",
      "Applying IIR:  48%|████▊     | 12/25 [00:00<00:00, 27.24it/s]\u001b[A\n",
      "Applying IIR:  60%|██████    | 15/25 [00:00<00:00, 26.37it/s]\u001b[A\n",
      "Applying IIR:  72%|███████▏  | 18/25 [00:00<00:00, 26.46it/s]\u001b[A\n",
      "Applying IIR:  84%|████████▍ | 21/25 [00:00<00:00, 26.02it/s]\u001b[A\n",
      "Applying IIR: 100%|██████████| 25/25 [00:00<00:00, 26.43it/s]\u001b[A\n",
      " 19%|█▉        | 247/1268 [02:49<14:15,  1.19it/s]\n",
      "Applying IIR:   0%|          | 0/25 [00:00<?, ?it/s]\u001b[A\n",
      "Applying IIR:  16%|█▌        | 4/25 [00:00<00:00, 31.11it/s]\u001b[A"
     ]
    },
    {
     "name": "stdout",
     "output_type": "stream",
     "text": [
      "running motion mag for vid: 1916010_1795659_D_001.mp4\n",
      "video ../../deepfake_data/fb_dfd_release_0.1_final/method_A_crops/1916010_1795659_D_001.mp4\n",
      "\n",
      "Iteration number is 259002\n"
     ]
    },
    {
     "name": "stderr",
     "output_type": "stream",
     "text": [
      "\n",
      "Applying IIR:  32%|███▏      | 8/25 [00:00<00:00, 31.13it/s]\u001b[A\n",
      "Applying IIR:  44%|████▍     | 11/25 [00:00<00:00, 29.59it/s]\u001b[A\n",
      "Applying IIR:  60%|██████    | 15/25 [00:00<00:00, 30.52it/s]\u001b[A\n",
      "Applying IIR:  76%|███████▌  | 19/25 [00:00<00:00, 31.34it/s]\u001b[A\n",
      "Applying IIR: 100%|██████████| 25/25 [00:00<00:00, 31.15it/s]\u001b[A\n",
      " 20%|█▉        | 248/1268 [02:50<15:09,  1.12it/s]\n",
      "Applying IIR:   0%|          | 0/25 [00:00<?, ?it/s]\u001b[A\n",
      "Applying IIR:  12%|█▏        | 3/25 [00:00<00:00, 26.75it/s]\u001b[A"
     ]
    },
    {
     "name": "stdout",
     "output_type": "stream",
     "text": [
      "running motion mag for vid: 00013.jpg\n",
      "video ../../deepfake_data/fb_dfd_release_0.1_final/method_A_crops/00013.jpg\n",
      "\n",
      "Exception found: list index out of range\n",
      "running motion mag for vid: 2063898_804259_D_002.mp4\n",
      "video ../../deepfake_data/fb_dfd_release_0.1_final/method_A_crops/2063898_804259_D_002.mp4\n",
      "\n",
      "Iteration number is 259002\n"
     ]
    },
    {
     "name": "stderr",
     "output_type": "stream",
     "text": [
      "\n",
      "Applying IIR:  24%|██▍       | 6/25 [00:00<00:00, 27.19it/s]\u001b[A\n",
      "Applying IIR:  36%|███▌      | 9/25 [00:00<00:00, 26.21it/s]\u001b[A\n",
      "Applying IIR:  48%|████▊     | 12/25 [00:00<00:00, 27.07it/s]\u001b[A\n",
      "Applying IIR:  64%|██████▍   | 16/25 [00:00<00:00, 28.73it/s]\u001b[A\n",
      "Applying IIR:  76%|███████▌  | 19/25 [00:00<00:00, 27.42it/s]\u001b[A\n",
      "Applying IIR:  88%|████████▊ | 22/25 [00:00<00:00, 26.54it/s]\u001b[A\n",
      "Applying IIR: 100%|██████████| 25/25 [00:00<00:00, 27.12it/s]\u001b[A\n",
      " 20%|█▉        | 250/1268 [02:51<13:23,  1.27it/s]\n",
      "Applying IIR:   0%|          | 0/25 [00:00<?, ?it/s]\u001b[A\n",
      "Applying IIR:  12%|█▏        | 3/25 [00:00<00:00, 23.11it/s]\u001b[A"
     ]
    },
    {
     "name": "stdout",
     "output_type": "stream",
     "text": [
      "running motion mag for vid: 1974002_1795659_D_002.mp4\n",
      "video ../../deepfake_data/fb_dfd_release_0.1_final/method_A_crops/1974002_1795659_D_002.mp4\n",
      "\n",
      "Iteration number is 259002\n"
     ]
    },
    {
     "name": "stderr",
     "output_type": "stream",
     "text": [
      "\n",
      "Applying IIR:  24%|██▍       | 6/25 [00:00<00:00, 24.20it/s]\u001b[A\n",
      "Applying IIR:  36%|███▌      | 9/25 [00:00<00:00, 25.67it/s]\u001b[A\n",
      "Applying IIR:  48%|████▊     | 12/25 [00:00<00:00, 25.60it/s]\u001b[A\n",
      "Applying IIR:  64%|██████▍   | 16/25 [00:00<00:00, 27.47it/s]\u001b[A\n",
      "Applying IIR:  76%|███████▌  | 19/25 [00:00<00:00, 27.31it/s]\u001b[A\n",
      "Applying IIR:  88%|████████▊ | 22/25 [00:00<00:00, 27.25it/s]\u001b[A\n",
      "Applying IIR: 100%|██████████| 25/25 [00:00<00:00, 27.45it/s]\u001b[A\n",
      " 20%|█▉        | 251/1268 [02:52<14:53,  1.14it/s]\n",
      "Applying IIR:   0%|          | 0/25 [00:00<?, ?it/s]\u001b[A\n",
      "Applying IIR:  12%|█▏        | 3/25 [00:00<00:00, 26.75it/s]\u001b[A"
     ]
    },
    {
     "name": "stdout",
     "output_type": "stream",
     "text": [
      "running motion mag for vid: 1294671_804259_A_002.mp4\n",
      "video ../../deepfake_data/fb_dfd_release_0.1_final/method_A_crops/1294671_804259_A_002.mp4\n",
      "\n",
      "Iteration number is 259002\n"
     ]
    },
    {
     "name": "stderr",
     "output_type": "stream",
     "text": [
      "\n",
      "Applying IIR:  24%|██▍       | 6/25 [00:00<00:00, 27.21it/s]\u001b[A\n",
      "Applying IIR:  36%|███▌      | 9/25 [00:00<00:00, 27.56it/s]\u001b[A\n",
      "Applying IIR:  52%|█████▏    | 13/25 [00:00<00:00, 28.91it/s]\u001b[A\n",
      "Applying IIR:  68%|██████▊   | 17/25 [00:00<00:00, 29.21it/s]\u001b[A\n",
      "Applying IIR:  80%|████████  | 20/25 [00:00<00:00, 28.06it/s]\u001b[A\n",
      "Applying IIR: 100%|██████████| 25/25 [00:00<00:00, 29.36it/s]\u001b[A\n",
      " 20%|█▉        | 252/1268 [02:53<15:46,  1.07it/s]\n",
      "Applying IIR:   0%|          | 0/25 [00:00<?, ?it/s]\u001b[A\n",
      "Applying IIR:  16%|█▌        | 4/25 [00:00<00:00, 32.14it/s]\u001b[A"
     ]
    },
    {
     "name": "stdout",
     "output_type": "stream",
     "text": [
      "running motion mag for vid: 00304.jpg\n",
      "video ../../deepfake_data/fb_dfd_release_0.1_final/method_A_crops/00304.jpg\n",
      "\n",
      "Exception found: list index out of range\n",
      "running motion mag for vid: 1733757_1795659_C_002.mp4\n",
      "video ../../deepfake_data/fb_dfd_release_0.1_final/method_A_crops/1733757_1795659_C_002.mp4\n",
      "\n",
      "Iteration number is 259002\n"
     ]
    },
    {
     "name": "stderr",
     "output_type": "stream",
     "text": [
      "\n",
      "Applying IIR:  32%|███▏      | 8/25 [00:00<00:00, 31.44it/s]\u001b[A\n",
      "Applying IIR:  44%|████▍     | 11/25 [00:00<00:00, 29.44it/s]\u001b[A\n",
      "Applying IIR:  56%|█████▌    | 14/25 [00:00<00:00, 28.44it/s]\u001b[A\n",
      "Applying IIR:  68%|██████▊   | 17/25 [00:00<00:00, 28.80it/s]\u001b[A\n",
      "Applying IIR:  80%|████████  | 20/25 [00:00<00:00, 27.80it/s]\u001b[A\n",
      "Applying IIR: 100%|██████████| 25/25 [00:00<00:00, 28.78it/s]\u001b[A\n",
      " 20%|██        | 254/1268 [02:54<13:42,  1.23it/s]\n",
      "Applying IIR:   0%|          | 0/25 [00:00<?, ?it/s]\u001b[A\n",
      "Applying IIR:  12%|█▏        | 3/25 [00:00<00:00, 29.93it/s]\u001b[A"
     ]
    },
    {
     "name": "stdout",
     "output_type": "stream",
     "text": [
      "running motion mag for vid: 2057131_1681757_D_002.mp4\n",
      "video ../../deepfake_data/fb_dfd_release_0.1_final/method_A_crops/2057131_1681757_D_002.mp4\n",
      "\n",
      "Iteration number is 259002\n"
     ]
    },
    {
     "name": "stderr",
     "output_type": "stream",
     "text": [
      "\n",
      "Applying IIR:  28%|██▊       | 7/25 [00:00<00:00, 30.61it/s]\u001b[A\n",
      "Applying IIR:  40%|████      | 10/25 [00:00<00:00, 29.91it/s]\u001b[A\n",
      "Applying IIR:  52%|█████▏    | 13/25 [00:00<00:00, 29.14it/s]\u001b[A\n",
      "Applying IIR:  64%|██████▍   | 16/25 [00:00<00:00, 28.50it/s]\u001b[A\n",
      "Applying IIR:  80%|████████  | 20/25 [00:00<00:00, 29.27it/s]\u001b[A\n",
      "Applying IIR: 100%|██████████| 25/25 [00:00<00:00, 29.02it/s]\u001b[A\n",
      " 20%|██        | 255/1268 [02:55<14:45,  1.14it/s]\n",
      "Applying IIR:   0%|          | 0/25 [00:00<?, ?it/s]\u001b[A\n",
      "Applying IIR:  16%|█▌        | 4/25 [00:00<00:00, 32.81it/s]\u001b[A"
     ]
    },
    {
     "name": "stdout",
     "output_type": "stream",
     "text": [
      "running motion mag for vid: 1371757_1795659_D_003.mp4\n",
      "video ../../deepfake_data/fb_dfd_release_0.1_final/method_A_crops/1371757_1795659_D_003.mp4\n",
      "\n",
      "Iteration number is 259002\n"
     ]
    },
    {
     "name": "stderr",
     "output_type": "stream",
     "text": [
      "\n",
      "Applying IIR:  28%|██▊       | 7/25 [00:00<00:00, 30.62it/s]\u001b[A\n",
      "Applying IIR:  44%|████▍     | 11/25 [00:00<00:00, 30.55it/s]\u001b[A\n",
      "Applying IIR:  60%|██████    | 15/25 [00:00<00:00, 30.82it/s]\u001b[A\n",
      "Applying IIR:  76%|███████▌  | 19/25 [00:00<00:00, 31.71it/s]\u001b[A\n",
      "Applying IIR: 100%|██████████| 25/25 [00:00<00:00, 31.14it/s]\u001b[A\n",
      " 20%|██        | 256/1268 [02:56<15:16,  1.10it/s]\n",
      "Applying IIR:   0%|          | 0/25 [00:00<?, ?it/s]\u001b[A\n",
      "Applying IIR:  12%|█▏        | 3/25 [00:00<00:00, 24.38it/s]\u001b[A"
     ]
    },
    {
     "name": "stdout",
     "output_type": "stream",
     "text": [
      "running motion mag for vid: 1609928_1224068_F_002.mp4\n",
      "video ../../deepfake_data/fb_dfd_release_0.1_final/method_A_crops/1609928_1224068_F_002.mp4\n",
      "\n",
      "Iteration number is 259002\n"
     ]
    },
    {
     "name": "stderr",
     "output_type": "stream",
     "text": [
      "\n",
      "Applying IIR:  24%|██▍       | 6/25 [00:00<00:00, 24.91it/s]\u001b[A\n",
      "Applying IIR:  36%|███▌      | 9/25 [00:00<00:00, 24.91it/s]\u001b[A\n",
      "Applying IIR:  48%|████▊     | 12/25 [00:00<00:00, 25.78it/s]\u001b[A\n",
      "Applying IIR:  60%|██████    | 15/25 [00:00<00:00, 25.32it/s]\u001b[A\n",
      "Applying IIR:  72%|███████▏  | 18/25 [00:00<00:00, 25.54it/s]\u001b[A\n",
      "Applying IIR: 100%|██████████| 25/25 [00:00<00:00, 26.78it/s]\u001b[A\n",
      " 20%|██        | 257/1268 [02:57<16:23,  1.03it/s]\n",
      "Applying IIR:   0%|          | 0/25 [00:00<?, ?it/s]\u001b[A\n",
      "Applying IIR:  16%|█▌        | 4/25 [00:00<00:00, 34.53it/s]\u001b[A"
     ]
    },
    {
     "name": "stdout",
     "output_type": "stream",
     "text": [
      "running motion mag for vid: 1941250_804259_D_001.mp4\n",
      "video ../../deepfake_data/fb_dfd_release_0.1_final/method_A_crops/1941250_804259_D_001.mp4\n",
      "\n",
      "Iteration number is 259002\n"
     ]
    },
    {
     "name": "stderr",
     "output_type": "stream",
     "text": [
      "\n",
      "Applying IIR:  28%|██▊       | 7/25 [00:00<00:00, 32.34it/s]\u001b[A\n",
      "Applying IIR:  44%|████▍     | 11/25 [00:00<00:00, 31.38it/s]\u001b[A\n",
      "Applying IIR:  56%|█████▌    | 14/25 [00:00<00:00, 30.59it/s]\u001b[A\n",
      "Applying IIR:  68%|██████▊   | 17/25 [00:00<00:00, 30.03it/s]\u001b[A\n",
      "Applying IIR:  84%|████████▍ | 21/25 [00:00<00:00, 30.27it/s]\u001b[A\n",
      "Applying IIR: 100%|██████████| 25/25 [00:00<00:00, 30.49it/s]\u001b[A\n",
      " 20%|██        | 258/1268 [02:58<16:24,  1.03it/s]\n",
      "Applying IIR:   0%|          | 0/25 [00:00<?, ?it/s]\u001b[A\n",
      "Applying IIR:  16%|█▌        | 4/25 [00:00<00:00, 32.06it/s]\u001b[A"
     ]
    },
    {
     "name": "stdout",
     "output_type": "stream",
     "text": [
      "running motion mag for vid: 1916010_1976794_A_001.mp4\n",
      "video ../../deepfake_data/fb_dfd_release_0.1_final/method_A_crops/1916010_1976794_A_001.mp4\n",
      "\n",
      "Iteration number is 259002\n"
     ]
    },
    {
     "name": "stderr",
     "output_type": "stream",
     "text": [
      "\n",
      "Applying IIR:  28%|██▊       | 7/25 [00:00<00:00, 31.02it/s]\u001b[A\n",
      "Applying IIR:  40%|████      | 10/25 [00:00<00:00, 29.97it/s]\u001b[A\n",
      "Applying IIR:  56%|█████▌    | 14/25 [00:00<00:00, 30.60it/s]\u001b[A\n",
      "Applying IIR:  68%|██████▊   | 17/25 [00:00<00:00, 29.82it/s]\u001b[A\n",
      "Applying IIR:  80%|████████  | 20/25 [00:00<00:00, 28.52it/s]\u001b[A\n",
      "Applying IIR: 100%|██████████| 25/25 [00:00<00:00, 28.35it/s]\u001b[A\n",
      " 20%|██        | 259/1268 [02:59<16:46,  1.00it/s]\n",
      "Applying IIR:   0%|          | 0/25 [00:00<?, ?it/s]\u001b[A\n",
      "Applying IIR:  12%|█▏        | 3/25 [00:00<00:00, 29.55it/s]\u001b[A"
     ]
    },
    {
     "name": "stdout",
     "output_type": "stream",
     "text": [
      "running motion mag for vid: 1929178_804259_H_001.mp4\n",
      "video ../../deepfake_data/fb_dfd_release_0.1_final/method_A_crops/1929178_804259_H_001.mp4\n",
      "\n",
      "Iteration number is 259002\n"
     ]
    },
    {
     "name": "stderr",
     "output_type": "stream",
     "text": [
      "\n",
      "Applying IIR:  24%|██▍       | 6/25 [00:00<00:00, 29.54it/s]\u001b[A\n",
      "Applying IIR:  40%|████      | 10/25 [00:00<00:00, 30.59it/s]\u001b[A\n",
      "Applying IIR:  56%|█████▌    | 14/25 [00:00<00:00, 31.55it/s]\u001b[A\n",
      "Applying IIR:  72%|███████▏  | 18/25 [00:00<00:00, 32.44it/s]\u001b[A\n",
      "Applying IIR:  84%|████████▍ | 21/25 [00:00<00:00, 31.53it/s]\u001b[A\n",
      "Applying IIR: 100%|██████████| 25/25 [00:00<00:00, 31.50it/s]\u001b[A\n",
      " 21%|██        | 260/1268 [03:00<16:38,  1.01it/s]\n",
      "Applying IIR:   0%|          | 0/25 [00:00<?, ?it/s]\u001b[A\n",
      "Applying IIR:  16%|█▌        | 4/25 [00:00<00:00, 32.32it/s]\u001b[A"
     ]
    },
    {
     "name": "stdout",
     "output_type": "stream",
     "text": [
      "running motion mag for vid: 00378.jpg\n",
      "video ../../deepfake_data/fb_dfd_release_0.1_final/method_A_crops/00378.jpg\n",
      "\n",
      "Exception found: list index out of range\n",
      "running motion mag for vid: 1604866_2113344_B_003.mp4\n",
      "video ../../deepfake_data/fb_dfd_release_0.1_final/method_A_crops/1604866_2113344_B_003.mp4\n",
      "\n",
      "Iteration number is 259002\n"
     ]
    },
    {
     "name": "stderr",
     "output_type": "stream",
     "text": [
      "\n",
      "Applying IIR:  32%|███▏      | 8/25 [00:00<00:00, 33.01it/s]\u001b[A\n",
      "Applying IIR:  48%|████▊     | 12/25 [00:00<00:00, 32.42it/s]\u001b[A\n",
      "Applying IIR:  60%|██████    | 15/25 [00:00<00:00, 30.17it/s]\u001b[A\n",
      "Applying IIR:  72%|███████▏  | 18/25 [00:00<00:00, 28.60it/s]\u001b[A\n",
      "Applying IIR:  84%|████████▍ | 21/25 [00:00<00:00, 27.74it/s]\u001b[A\n",
      "Applying IIR: 100%|██████████| 25/25 [00:00<00:00, 29.50it/s]\u001b[A\n",
      " 21%|██        | 262/1268 [03:01<14:13,  1.18it/s]\n",
      "Applying IIR:   0%|          | 0/25 [00:00<?, ?it/s]\u001b[A\n",
      "Applying IIR:  16%|█▌        | 4/25 [00:00<00:00, 30.64it/s]\u001b[A"
     ]
    },
    {
     "name": "stdout",
     "output_type": "stream",
     "text": [
      "running motion mag for vid: 1609928_1224068_B_002.mp4\n",
      "video ../../deepfake_data/fb_dfd_release_0.1_final/method_A_crops/1609928_1224068_B_002.mp4\n",
      "\n",
      "Iteration number is 259002\n"
     ]
    },
    {
     "name": "stderr",
     "output_type": "stream",
     "text": [
      "\n",
      "Applying IIR:  32%|███▏      | 8/25 [00:00<00:00, 30.70it/s]\u001b[A\n",
      "Applying IIR:  48%|████▊     | 12/25 [00:00<00:00, 31.17it/s]\u001b[A\n",
      "Applying IIR:  64%|██████▍   | 16/25 [00:00<00:00, 31.86it/s]\u001b[A\n",
      "Applying IIR:  80%|████████  | 20/25 [00:00<00:00, 32.43it/s]\u001b[A\n",
      "Applying IIR: 100%|██████████| 25/25 [00:00<00:00, 31.93it/s]\u001b[A\n",
      " 21%|██        | 263/1268 [03:02<14:53,  1.13it/s]\n",
      "Applying IIR:   0%|          | 0/25 [00:00<?, ?it/s]\u001b[A\n",
      "Applying IIR:  12%|█▏        | 3/25 [00:00<00:00, 24.01it/s]\u001b[A"
     ]
    },
    {
     "name": "stdout",
     "output_type": "stream",
     "text": [
      "running motion mag for vid: 804259_1795659_C_001.mp4\n",
      "video ../../deepfake_data/fb_dfd_release_0.1_final/method_A_crops/804259_1795659_C_001.mp4\n",
      "\n",
      "Iteration number is 259002\n"
     ]
    },
    {
     "name": "stderr",
     "output_type": "stream",
     "text": [
      "\n",
      "Applying IIR:  24%|██▍       | 6/25 [00:00<00:00, 25.30it/s]\u001b[A\n",
      "Applying IIR:  36%|███▌      | 9/25 [00:00<00:00, 25.29it/s]\u001b[A\n",
      "Applying IIR:  48%|████▊     | 12/25 [00:00<00:00, 25.20it/s]\u001b[A\n",
      "Applying IIR:  60%|██████    | 15/25 [00:00<00:00, 26.04it/s]\u001b[A\n",
      "Applying IIR:  72%|███████▏  | 18/25 [00:00<00:00, 26.24it/s]\u001b[A\n",
      "Applying IIR:  84%|████████▍ | 21/25 [00:00<00:00, 26.79it/s]\u001b[A\n",
      "Applying IIR: 100%|██████████| 25/25 [00:00<00:00, 26.95it/s]\u001b[A\n",
      " 21%|██        | 264/1268 [03:04<16:00,  1.05it/s]\n",
      "Applying IIR:   0%|          | 0/25 [00:00<?, ?it/s]\u001b[A\n",
      "Applying IIR:  12%|█▏        | 3/25 [00:00<00:00, 27.42it/s]\u001b[A"
     ]
    },
    {
     "name": "stdout",
     "output_type": "stream",
     "text": [
      "running motion mag for vid: 00220.jpg\n",
      "video ../../deepfake_data/fb_dfd_release_0.1_final/method_A_crops/00220.jpg\n",
      "\n",
      "Exception found: list index out of range\n",
      "running motion mag for vid: 2076328_1681757_D_003.mp4\n",
      "video ../../deepfake_data/fb_dfd_release_0.1_final/method_A_crops/2076328_1681757_D_003.mp4\n",
      "\n",
      "Iteration number is 259002\n"
     ]
    },
    {
     "name": "stderr",
     "output_type": "stream",
     "text": [
      "\n",
      "Applying IIR:  28%|██▊       | 7/25 [00:00<00:00, 28.71it/s]\u001b[A\n",
      "Applying IIR:  40%|████      | 10/25 [00:00<00:00, 28.24it/s]\u001b[A\n",
      "Applying IIR:  56%|█████▌    | 14/25 [00:00<00:00, 29.07it/s]\u001b[A\n",
      "Applying IIR:  72%|███████▏  | 18/25 [00:00<00:00, 30.33it/s]\u001b[A\n",
      "Applying IIR: 100%|██████████| 25/25 [00:00<00:00, 31.23it/s]\u001b[A\n",
      " 21%|██        | 266/1268 [03:04<13:37,  1.23it/s]\n",
      "Applying IIR:   0%|          | 0/25 [00:00<?, ?it/s]\u001b[A\n",
      "Applying IIR:  16%|█▌        | 4/25 [00:00<00:00, 34.05it/s]\u001b[A"
     ]
    },
    {
     "name": "stdout",
     "output_type": "stream",
     "text": [
      "running motion mag for vid: 1795659_804259_J_001.mp4\n",
      "video ../../deepfake_data/fb_dfd_release_0.1_final/method_A_crops/1795659_804259_J_001.mp4\n",
      "\n",
      "Iteration number is 259002\n"
     ]
    },
    {
     "name": "stderr",
     "output_type": "stream",
     "text": [
      "\n",
      "Applying IIR:  32%|███▏      | 8/25 [00:00<00:00, 32.53it/s]\u001b[A\n",
      "Applying IIR:  44%|████▍     | 11/25 [00:00<00:00, 30.33it/s]\u001b[A\n",
      "Applying IIR:  56%|█████▌    | 14/25 [00:00<00:00, 27.68it/s]\u001b[A\n",
      "Applying IIR:  68%|██████▊   | 17/25 [00:00<00:00, 26.50it/s]\u001b[A\n",
      "Applying IIR:  80%|████████  | 20/25 [00:00<00:00, 24.64it/s]\u001b[A\n",
      "Applying IIR: 100%|██████████| 25/25 [00:00<00:00, 26.29it/s]\u001b[A\n",
      " 21%|██        | 267/1268 [03:06<15:11,  1.10it/s]\n",
      "Applying IIR:   0%|          | 0/25 [00:00<?, ?it/s]\u001b[A\n",
      "Applying IIR:  12%|█▏        | 3/25 [00:00<00:00, 27.23it/s]\u001b[A"
     ]
    },
    {
     "name": "stdout",
     "output_type": "stream",
     "text": [
      "running motion mag for vid: 1733757_804259_H_001.mp4\n",
      "video ../../deepfake_data/fb_dfd_release_0.1_final/method_A_crops/1733757_804259_H_001.mp4\n",
      "\n",
      "Iteration number is 259002\n"
     ]
    },
    {
     "name": "stderr",
     "output_type": "stream",
     "text": [
      "\n",
      "Applying IIR:  24%|██▍       | 6/25 [00:00<00:00, 27.59it/s]\u001b[A\n",
      "Applying IIR:  36%|███▌      | 9/25 [00:00<00:00, 27.72it/s]\u001b[A\n",
      "Applying IIR:  52%|█████▏    | 13/25 [00:00<00:00, 28.25it/s]\u001b[A\n",
      "Applying IIR:  64%|██████▍   | 16/25 [00:00<00:00, 27.00it/s]\u001b[A\n",
      "Applying IIR:  76%|███████▌  | 19/25 [00:00<00:00, 26.62it/s]\u001b[A\n",
      "Applying IIR: 100%|██████████| 25/25 [00:00<00:00, 27.90it/s]\u001b[A\n",
      " 21%|██        | 268/1268 [03:07<15:59,  1.04it/s]\n",
      "Applying IIR:   0%|          | 0/25 [00:00<?, ?it/s]\u001b[A\n",
      "Applying IIR:  16%|█▌        | 4/25 [00:00<00:00, 32.16it/s]\u001b[A"
     ]
    },
    {
     "name": "stdout",
     "output_type": "stream",
     "text": [
      "running motion mag for vid: 1294671_804259_E_002.mp4\n",
      "video ../../deepfake_data/fb_dfd_release_0.1_final/method_A_crops/1294671_804259_E_002.mp4\n",
      "\n",
      "Iteration number is 259002\n"
     ]
    },
    {
     "name": "stderr",
     "output_type": "stream",
     "text": [
      "\n",
      "Applying IIR:  32%|███▏      | 8/25 [00:00<00:00, 31.69it/s]\u001b[A\n",
      "Applying IIR:  48%|████▊     | 12/25 [00:00<00:00, 31.83it/s]\u001b[A\n",
      "Applying IIR:  60%|██████    | 15/25 [00:00<00:00, 30.12it/s]\u001b[A\n",
      "Applying IIR:  72%|███████▏  | 18/25 [00:00<00:00, 29.25it/s]\u001b[A\n",
      "Applying IIR:  84%|████████▍ | 21/25 [00:00<00:00, 29.44it/s]\u001b[A\n",
      "Applying IIR: 100%|██████████| 25/25 [00:00<00:00, 28.75it/s]\u001b[A\n",
      " 21%|██        | 269/1268 [03:08<16:31,  1.01it/s]\n",
      "Applying IIR:   0%|          | 0/25 [00:00<?, ?it/s]\u001b[A\n",
      "Applying IIR:  16%|█▌        | 4/25 [00:00<00:00, 31.71it/s]\u001b[A"
     ]
    },
    {
     "name": "stdout",
     "output_type": "stream",
     "text": [
      "running motion mag for vid: 00137.jpg\n",
      "video ../../deepfake_data/fb_dfd_release_0.1_final/method_A_crops/00137.jpg\n",
      "\n",
      "Exception found: list index out of range\n",
      "running motion mag for vid: 2057131_1224068_B_002.mp4\n",
      "video ../../deepfake_data/fb_dfd_release_0.1_final/method_A_crops/2057131_1224068_B_002.mp4\n",
      "\n",
      "Iteration number is 259002\n"
     ]
    },
    {
     "name": "stderr",
     "output_type": "stream",
     "text": [
      "\n",
      "Applying IIR:  32%|███▏      | 8/25 [00:00<00:00, 31.75it/s]\u001b[A\n",
      "Applying IIR:  44%|████▍     | 11/25 [00:00<00:00, 30.92it/s]\u001b[A\n",
      "Applying IIR:  56%|█████▌    | 14/25 [00:00<00:00, 28.51it/s]\u001b[A\n",
      "Applying IIR:  68%|██████▊   | 17/25 [00:00<00:00, 27.17it/s]\u001b[A\n",
      "Applying IIR:  80%|████████  | 20/25 [00:00<00:00, 27.24it/s]\u001b[A\n",
      "Applying IIR: 100%|██████████| 25/25 [00:00<00:00, 28.11it/s]\u001b[A\n",
      " 21%|██▏       | 271/1268 [03:09<14:11,  1.17it/s]\n",
      "Applying IIR:   0%|          | 0/25 [00:00<?, ?it/s]\u001b[A\n",
      "Applying IIR:  12%|█▏        | 3/25 [00:00<00:00, 24.44it/s]\u001b[A"
     ]
    },
    {
     "name": "stdout",
     "output_type": "stream",
     "text": [
      "running motion mag for vid: 1916010_1224068_G_002.mp4\n",
      "video ../../deepfake_data/fb_dfd_release_0.1_final/method_A_crops/1916010_1224068_G_002.mp4\n",
      "\n",
      "Iteration number is 259002\n"
     ]
    },
    {
     "name": "stderr",
     "output_type": "stream",
     "text": [
      "\n",
      "Applying IIR:  28%|██▊       | 7/25 [00:00<00:00, 25.61it/s]\u001b[A\n",
      "Applying IIR:  40%|████      | 10/25 [00:00<00:00, 25.86it/s]\u001b[A\n",
      "Applying IIR:  52%|█████▏    | 13/25 [00:00<00:00, 25.65it/s]\u001b[A\n",
      "Applying IIR:  64%|██████▍   | 16/25 [00:00<00:00, 26.75it/s]\u001b[A\n",
      "Applying IIR:  80%|████████  | 20/25 [00:00<00:00, 28.21it/s]\u001b[A\n",
      "Applying IIR: 100%|██████████| 25/25 [00:00<00:00, 28.57it/s]\u001b[A\n",
      " 21%|██▏       | 272/1268 [03:10<15:07,  1.10it/s]\n",
      "Applying IIR:   0%|          | 0/25 [00:00<?, ?it/s]\u001b[A\n",
      "Applying IIR:  16%|█▌        | 4/25 [00:00<00:00, 35.07it/s]\u001b[A"
     ]
    },
    {
     "name": "stdout",
     "output_type": "stream",
     "text": [
      "running motion mag for vid: 1061402_804259_G_002.mp4\n",
      "video ../../deepfake_data/fb_dfd_release_0.1_final/method_A_crops/1061402_804259_G_002.mp4\n",
      "\n",
      "Iteration number is 259002\n"
     ]
    },
    {
     "name": "stderr",
     "output_type": "stream",
     "text": [
      "\n",
      "Applying IIR:  32%|███▏      | 8/25 [00:00<00:00, 33.90it/s]\u001b[A\n",
      "Applying IIR:  44%|████▍     | 11/25 [00:00<00:00, 31.81it/s]\u001b[A\n",
      "Applying IIR:  56%|█████▌    | 14/25 [00:00<00:00, 30.12it/s]\u001b[A\n",
      "Applying IIR:  68%|██████▊   | 17/25 [00:00<00:00, 29.98it/s]\u001b[A\n",
      "Applying IIR:  84%|████████▍ | 21/25 [00:00<00:00, 30.51it/s]\u001b[A\n",
      "Applying IIR: 100%|██████████| 25/25 [00:00<00:00, 29.70it/s]\u001b[A\n",
      " 22%|██▏       | 273/1268 [03:11<15:42,  1.06it/s]\n",
      "Applying IIR:   0%|          | 0/25 [00:00<?, ?it/s]\u001b[A\n",
      "Applying IIR:  12%|█▏        | 3/25 [00:00<00:00, 26.07it/s]\u001b[A"
     ]
    },
    {
     "name": "stdout",
     "output_type": "stream",
     "text": [
      "running motion mag for vid: 773847_1681757_D_003.mp4\n",
      "video ../../deepfake_data/fb_dfd_release_0.1_final/method_A_crops/773847_1681757_D_003.mp4\n",
      "\n",
      "Iteration number is 259002\n"
     ]
    },
    {
     "name": "stderr",
     "output_type": "stream",
     "text": [
      "\n",
      "Applying IIR:  24%|██▍       | 6/25 [00:00<00:00, 26.89it/s]\u001b[A\n",
      "Applying IIR:  36%|███▌      | 9/25 [00:00<00:00, 26.56it/s]\u001b[A\n",
      "Applying IIR:  52%|█████▏    | 13/25 [00:00<00:00, 28.35it/s]\u001b[A\n",
      "Applying IIR:  68%|██████▊   | 17/25 [00:00<00:00, 28.97it/s]\u001b[A\n",
      "Applying IIR:  84%|████████▍ | 21/25 [00:00<00:00, 30.17it/s]\u001b[A\n",
      "Applying IIR: 100%|██████████| 25/25 [00:00<00:00, 28.80it/s]\u001b[A\n",
      " 22%|██▏       | 274/1268 [03:12<16:05,  1.03it/s]\n",
      "Applying IIR:   0%|          | 0/25 [00:00<?, ?it/s]\u001b[A\n",
      "Applying IIR:  12%|█▏        | 3/25 [00:00<00:00, 28.55it/s]\u001b[A"
     ]
    },
    {
     "name": "stdout",
     "output_type": "stream",
     "text": [
      "running motion mag for vid: 00194.jpg\n",
      "video ../../deepfake_data/fb_dfd_release_0.1_final/method_A_crops/00194.jpg\n",
      "\n",
      "Exception found: list index out of range\n",
      "running motion mag for vid: 00252.jpg\n",
      "video ../../deepfake_data/fb_dfd_release_0.1_final/method_A_crops/00252.jpg\n",
      "\n",
      "Exception found: list index out of range\n",
      "running motion mag for vid: 00283.jpg\n",
      "video ../../deepfake_data/fb_dfd_release_0.1_final/method_A_crops/00283.jpg\n",
      "\n",
      "Exception found: list index out of range\n",
      "running motion mag for vid: 2121160_1294671_C_002.mp4\n",
      "video ../../deepfake_data/fb_dfd_release_0.1_final/method_A_crops/2121160_1294671_C_002.mp4\n",
      "\n",
      "Iteration number is 259002\n"
     ]
    },
    {
     "name": "stderr",
     "output_type": "stream",
     "text": [
      "\n",
      "Applying IIR:  24%|██▍       | 6/25 [00:00<00:00, 28.29it/s]\u001b[A\n",
      "Applying IIR:  36%|███▌      | 9/25 [00:00<00:00, 28.68it/s]\u001b[A\n",
      "Applying IIR:  48%|████▊     | 12/25 [00:00<00:00, 26.77it/s]\u001b[A\n",
      "Applying IIR:  60%|██████    | 15/25 [00:00<00:00, 25.70it/s]\u001b[A\n",
      "Applying IIR:  72%|███████▏  | 18/25 [00:00<00:00, 26.18it/s]\u001b[A\n",
      "Applying IIR:  84%|████████▍ | 21/25 [00:00<00:00, 26.21it/s]\u001b[A\n",
      "Applying IIR: 100%|██████████| 25/25 [00:00<00:00, 26.99it/s]\u001b[A\n",
      " 22%|██▏       | 278/1268 [03:13<12:36,  1.31it/s]\n",
      "Applying IIR:   0%|          | 0/25 [00:00<?, ?it/s]\u001b[A\n",
      "Applying IIR:  12%|█▏        | 3/25 [00:00<00:00, 26.96it/s]\u001b[A"
     ]
    },
    {
     "name": "stdout",
     "output_type": "stream",
     "text": [
      "running motion mag for vid: 00145.jpg\n",
      "video ../../deepfake_data/fb_dfd_release_0.1_final/method_A_crops/00145.jpg\n",
      "\n",
      "Exception found: list index out of range\n",
      "running motion mag for vid: 00400.jpg\n",
      "video ../../deepfake_data/fb_dfd_release_0.1_final/method_A_crops/00400.jpg\n",
      "\n",
      "Exception found: list index out of range\n",
      "running motion mag for vid: 00061.jpg\n",
      "video ../../deepfake_data/fb_dfd_release_0.1_final/method_A_crops/00061.jpg\n",
      "\n",
      "Exception found: list index out of range\n",
      "running motion mag for vid: 2040724_2031720_A_000.mp4\n",
      "video ../../deepfake_data/fb_dfd_release_0.1_final/method_A_crops/2040724_2031720_A_000.mp4\n",
      "\n",
      "Iteration number is 259002\n"
     ]
    },
    {
     "name": "stderr",
     "output_type": "stream",
     "text": [
      "\n",
      "Applying IIR:  24%|██▍       | 6/25 [00:00<00:00, 25.86it/s]\u001b[A\n",
      "Applying IIR:  36%|███▌      | 9/25 [00:00<00:00, 25.85it/s]\u001b[A\n",
      "Applying IIR:  48%|████▊     | 12/25 [00:00<00:00, 25.60it/s]\u001b[A\n",
      "Applying IIR:  60%|██████    | 15/25 [00:00<00:00, 24.46it/s]\u001b[A\n",
      "Applying IIR:  72%|███████▏  | 18/25 [00:00<00:00, 24.84it/s]\u001b[A\n",
      "Applying IIR:  84%|████████▍ | 21/25 [00:00<00:00, 25.31it/s]\u001b[A\n",
      "Applying IIR: 100%|██████████| 25/25 [00:01<00:00, 24.99it/s]\u001b[A\n",
      " 22%|██▏       | 282/1268 [03:14<10:17,  1.60it/s]\n",
      "Applying IIR:   0%|          | 0/25 [00:00<?, ?it/s]\u001b[A\n",
      "Applying IIR:  16%|█▌        | 4/25 [00:00<00:00, 32.33it/s]\u001b[A"
     ]
    },
    {
     "name": "stdout",
     "output_type": "stream",
     "text": [
      "running motion mag for vid: 00376.jpg\n",
      "video ../../deepfake_data/fb_dfd_release_0.1_final/method_A_crops/00376.jpg\n",
      "\n",
      "Exception found: list index out of range\n",
      "running motion mag for vid: 748594_1294671_A_003.mp4\n",
      "video ../../deepfake_data/fb_dfd_release_0.1_final/method_A_crops/748594_1294671_A_003.mp4\n",
      "\n",
      "Iteration number is 259002\n"
     ]
    },
    {
     "name": "stderr",
     "output_type": "stream",
     "text": [
      "\n",
      "Applying IIR:  32%|███▏      | 8/25 [00:00<00:00, 32.59it/s]\u001b[A\n",
      "Applying IIR:  48%|████▊     | 12/25 [00:00<00:00, 32.85it/s]\u001b[A\n",
      "Applying IIR:  64%|██████▍   | 16/25 [00:00<00:00, 33.15it/s]\u001b[A\n",
      "Applying IIR:  80%|████████  | 20/25 [00:00<00:00, 31.18it/s]\u001b[A\n",
      "Applying IIR: 100%|██████████| 25/25 [00:00<00:00, 30.93it/s]\u001b[A\n",
      " 22%|██▏       | 284/1268 [03:15<09:38,  1.70it/s]\n",
      "Applying IIR:   0%|          | 0/25 [00:00<?, ?it/s]\u001b[A\n",
      "Applying IIR:  12%|█▏        | 3/25 [00:00<00:00, 27.07it/s]\u001b[A"
     ]
    },
    {
     "name": "stdout",
     "output_type": "stream",
     "text": [
      "running motion mag for vid: 1916010_1224068_C_002.mp4\n",
      "video ../../deepfake_data/fb_dfd_release_0.1_final/method_A_crops/1916010_1224068_C_002.mp4\n",
      "\n",
      "Iteration number is 259002\n"
     ]
    },
    {
     "name": "stderr",
     "output_type": "stream",
     "text": [
      "\n",
      "Applying IIR:  24%|██▍       | 6/25 [00:00<00:00, 27.51it/s]\u001b[A\n",
      "Applying IIR:  36%|███▌      | 9/25 [00:00<00:00, 27.80it/s]\u001b[A\n",
      "Applying IIR:  48%|████▊     | 12/25 [00:00<00:00, 26.75it/s]\u001b[A\n",
      "Applying IIR:  60%|██████    | 15/25 [00:00<00:00, 27.53it/s]\u001b[A\n",
      "Applying IIR:  76%|███████▌  | 19/25 [00:00<00:00, 29.00it/s]\u001b[A\n",
      "Applying IIR: 100%|██████████| 25/25 [00:00<00:00, 29.53it/s]\u001b[A\n",
      " 22%|██▏       | 285/1268 [03:16<11:51,  1.38it/s]\n",
      "Applying IIR:   0%|          | 0/25 [00:00<?, ?it/s]\u001b[A\n",
      "Applying IIR:  16%|█▌        | 4/25 [00:00<00:00, 33.27it/s]\u001b[A"
     ]
    },
    {
     "name": "stdout",
     "output_type": "stream",
     "text": [
      "running motion mag for vid: 2057131_1224068_F_002.mp4\n",
      "video ../../deepfake_data/fb_dfd_release_0.1_final/method_A_crops/2057131_1224068_F_002.mp4\n",
      "\n",
      "Iteration number is 259002\n"
     ]
    },
    {
     "name": "stderr",
     "output_type": "stream",
     "text": [
      "\n",
      "Applying IIR:  28%|██▊       | 7/25 [00:00<00:00, 31.03it/s]\u001b[A\n",
      "Applying IIR:  40%|████      | 10/25 [00:00<00:00, 30.18it/s]\u001b[A\n",
      "Applying IIR:  52%|█████▏    | 13/25 [00:00<00:00, 28.80it/s]\u001b[A\n",
      "Applying IIR:  64%|██████▍   | 16/25 [00:00<00:00, 29.03it/s]\u001b[A\n",
      "Applying IIR:  76%|███████▌  | 19/25 [00:00<00:00, 28.61it/s]\u001b[A\n",
      "Applying IIR:  88%|████████▊ | 22/25 [00:00<00:00, 27.35it/s]\u001b[A\n",
      "Applying IIR: 100%|██████████| 25/25 [00:00<00:00, 27.91it/s]\u001b[A\n",
      " 23%|██▎       | 286/1268 [03:17<13:44,  1.19it/s]\n",
      "Applying IIR:   0%|          | 0/25 [00:00<?, ?it/s]\u001b[A\n",
      "Applying IIR:  12%|█▏        | 3/25 [00:00<00:00, 29.79it/s]\u001b[A"
     ]
    },
    {
     "name": "stdout",
     "output_type": "stream",
     "text": [
      "running motion mag for vid: 2059066_2113344_A_003.mp4\n",
      "video ../../deepfake_data/fb_dfd_release_0.1_final/method_A_crops/2059066_2113344_A_003.mp4\n",
      "\n",
      "Iteration number is 259002\n"
     ]
    },
    {
     "name": "stderr",
     "output_type": "stream",
     "text": [
      "\n",
      "Applying IIR:  24%|██▍       | 6/25 [00:00<00:00, 28.77it/s]\u001b[A\n",
      "Applying IIR:  36%|███▌      | 9/25 [00:00<00:00, 28.78it/s]\u001b[A\n",
      "Applying IIR:  48%|████▊     | 12/25 [00:00<00:00, 28.34it/s]\u001b[A\n",
      "Applying IIR:  60%|██████    | 15/25 [00:00<00:00, 28.53it/s]\u001b[A\n",
      "Applying IIR:  72%|███████▏  | 18/25 [00:00<00:00, 27.56it/s]\u001b[A\n",
      "Applying IIR:  84%|████████▍ | 21/25 [00:00<00:00, 27.05it/s]\u001b[A\n",
      "Applying IIR: 100%|██████████| 25/25 [00:00<00:00, 27.45it/s]\u001b[A\n",
      " 23%|██▎       | 287/1268 [03:19<14:56,  1.09it/s]\n",
      "Applying IIR:   0%|          | 0/25 [00:00<?, ?it/s]\u001b[A\n",
      "Applying IIR:  16%|█▌        | 4/25 [00:00<00:00, 30.99it/s]\u001b[A"
     ]
    },
    {
     "name": "stdout",
     "output_type": "stream",
     "text": [
      "running motion mag for vid: 1061402_804259_C_002.mp4\n",
      "video ../../deepfake_data/fb_dfd_release_0.1_final/method_A_crops/1061402_804259_C_002.mp4\n",
      "\n",
      "Iteration number is 259002\n"
     ]
    },
    {
     "name": "stderr",
     "output_type": "stream",
     "text": [
      "\n",
      "Applying IIR:  28%|██▊       | 7/25 [00:00<00:00, 28.93it/s]\u001b[A\n",
      "Applying IIR:  40%|████      | 10/25 [00:00<00:00, 28.23it/s]\u001b[A\n",
      "Applying IIR:  56%|█████▌    | 14/25 [00:00<00:00, 29.08it/s]\u001b[A\n",
      "Applying IIR:  72%|███████▏  | 18/25 [00:00<00:00, 29.54it/s]\u001b[A\n",
      "Applying IIR: 100%|██████████| 25/25 [00:00<00:00, 29.69it/s]\u001b[A\n",
      " 23%|██▎       | 288/1268 [03:20<15:24,  1.06it/s]\n",
      "Applying IIR:   0%|          | 0/25 [00:00<?, ?it/s]\u001b[A\n",
      "Applying IIR:  16%|█▌        | 4/25 [00:00<00:00, 33.39it/s]\u001b[A"
     ]
    },
    {
     "name": "stdout",
     "output_type": "stream",
     "text": [
      "running motion mag for vid: 1609928_1681757_D_002.mp4\n",
      "video ../../deepfake_data/fb_dfd_release_0.1_final/method_A_crops/1609928_1681757_D_002.mp4\n",
      "\n",
      "Iteration number is 259002\n"
     ]
    },
    {
     "name": "stderr",
     "output_type": "stream",
     "text": [
      "\n",
      "Applying IIR:  32%|███▏      | 8/25 [00:00<00:00, 33.02it/s]\u001b[A\n",
      "Applying IIR:  44%|████▍     | 11/25 [00:00<00:00, 30.60it/s]\u001b[A\n",
      "Applying IIR:  60%|██████    | 15/25 [00:00<00:00, 30.62it/s]\u001b[A\n",
      "Applying IIR:  76%|███████▌  | 19/25 [00:00<00:00, 31.08it/s]\u001b[A\n",
      "Applying IIR:  88%|████████▊ | 22/25 [00:00<00:00, 28.43it/s]\u001b[A\n",
      "Applying IIR: 100%|██████████| 25/25 [00:00<00:00, 29.27it/s]\u001b[A\n",
      " 23%|██▎       | 289/1268 [03:21<15:48,  1.03it/s]\n",
      "Applying IIR:   0%|          | 0/25 [00:00<?, ?it/s]\u001b[A\n",
      "Applying IIR:  12%|█▏        | 3/25 [00:00<00:00, 27.98it/s]\u001b[A"
     ]
    },
    {
     "name": "stdout",
     "output_type": "stream",
     "text": [
      "running motion mag for vid: 1255229_1294671_B_001.mp4\n",
      "video ../../deepfake_data/fb_dfd_release_0.1_final/method_A_crops/1255229_1294671_B_001.mp4\n",
      "\n",
      "Iteration number is 259002\n"
     ]
    },
    {
     "name": "stderr",
     "output_type": "stream",
     "text": [
      "\n",
      "Applying IIR:  28%|██▊       | 7/25 [00:00<00:00, 28.05it/s]\u001b[A\n",
      "Applying IIR:  40%|████      | 10/25 [00:00<00:00, 26.25it/s]\u001b[A\n",
      "Applying IIR:  52%|█████▏    | 13/25 [00:00<00:00, 26.86it/s]\u001b[A\n",
      "Applying IIR:  68%|██████▊   | 17/25 [00:00<00:00, 27.98it/s]\u001b[A\n",
      "Applying IIR:  80%|████████  | 20/25 [00:00<00:00, 27.58it/s]\u001b[A\n",
      "Applying IIR: 100%|██████████| 25/25 [00:00<00:00, 26.71it/s]\u001b[A\n",
      " 23%|██▎       | 290/1268 [03:22<16:32,  1.01s/it]\n",
      "Applying IIR:   0%|          | 0/25 [00:00<?, ?it/s]\u001b[A\n",
      "Applying IIR:  12%|█▏        | 3/25 [00:00<00:00, 27.83it/s]\u001b[A"
     ]
    },
    {
     "name": "stdout",
     "output_type": "stream",
     "text": [
      "running motion mag for vid: 00139.jpg\n",
      "video ../../deepfake_data/fb_dfd_release_0.1_final/method_A_crops/00139.jpg\n",
      "\n",
      "Exception found: list index out of range\n",
      "running motion mag for vid: 1733757_1255229_A_003.mp4\n",
      "video ../../deepfake_data/fb_dfd_release_0.1_final/method_A_crops/1733757_1255229_A_003.mp4\n",
      "\n",
      "Iteration number is 259002\n"
     ]
    },
    {
     "name": "stderr",
     "output_type": "stream",
     "text": [
      "\n",
      "Applying IIR:  28%|██▊       | 7/25 [00:00<00:00, 29.00it/s]\u001b[A\n",
      "Applying IIR:  44%|████▍     | 11/25 [00:00<00:00, 29.48it/s]\u001b[A\n",
      "Applying IIR:  60%|██████    | 15/25 [00:00<00:00, 30.47it/s]\u001b[A\n",
      "Applying IIR:  76%|███████▌  | 19/25 [00:00<00:00, 31.59it/s]\u001b[A\n",
      "Applying IIR: 100%|██████████| 25/25 [00:00<00:00, 30.70it/s]\u001b[A\n",
      " 23%|██▎       | 292/1268 [03:23<13:59,  1.16it/s]\n",
      "Applying IIR:   0%|          | 0/25 [00:00<?, ?it/s]\u001b[A\n",
      "Applying IIR:  12%|█▏        | 3/25 [00:00<00:00, 24.70it/s]\u001b[A"
     ]
    },
    {
     "name": "stdout",
     "output_type": "stream",
     "text": [
      "running motion mag for vid: 00407.jpg\n",
      "video ../../deepfake_data/fb_dfd_release_0.1_final/method_A_crops/00407.jpg\n",
      "\n",
      "Exception found: list index out of range\n",
      "running motion mag for vid: 1822940_1294671_A_001.mp4\n",
      "video ../../deepfake_data/fb_dfd_release_0.1_final/method_A_crops/1822940_1294671_A_001.mp4\n",
      "\n",
      "Iteration number is 259002\n"
     ]
    },
    {
     "name": "stderr",
     "output_type": "stream",
     "text": [
      "\n",
      "Applying IIR:  28%|██▊       | 7/25 [00:00<00:00, 26.16it/s]\u001b[A\n",
      "Applying IIR:  44%|████▍     | 11/25 [00:00<00:00, 27.03it/s]\u001b[A\n",
      "Applying IIR:  56%|█████▌    | 14/25 [00:00<00:00, 26.32it/s]\u001b[A\n",
      "Applying IIR:  68%|██████▊   | 17/25 [00:00<00:00, 27.03it/s]\u001b[A\n",
      "Applying IIR:  84%|████████▍ | 21/25 [00:00<00:00, 28.31it/s]\u001b[A\n",
      "Applying IIR: 100%|██████████| 25/25 [00:00<00:00, 28.85it/s]\u001b[A\n",
      " 23%|██▎       | 294/1268 [03:24<12:23,  1.31it/s]\n",
      "Applying IIR:   0%|          | 0/25 [00:00<?, ?it/s]\u001b[A\n",
      "Applying IIR:  12%|█▏        | 3/25 [00:00<00:00, 27.38it/s]\u001b[A"
     ]
    },
    {
     "name": "stdout",
     "output_type": "stream",
     "text": [
      "running motion mag for vid: 00066.jpg\n",
      "video ../../deepfake_data/fb_dfd_release_0.1_final/method_A_crops/00066.jpg\n",
      "\n",
      "Exception found: list index out of range\n",
      "running motion mag for vid: 1224068_1681757_B_002.mp4\n",
      "video ../../deepfake_data/fb_dfd_release_0.1_final/method_A_crops/1224068_1681757_B_002.mp4\n",
      "\n",
      "Iteration number is 259002\n"
     ]
    },
    {
     "name": "stderr",
     "output_type": "stream",
     "text": [
      "\n",
      "Applying IIR:  24%|██▍       | 6/25 [00:00<00:00, 26.84it/s]\u001b[A\n",
      "Applying IIR:  36%|███▌      | 9/25 [00:00<00:00, 27.38it/s]\u001b[A\n",
      "Applying IIR:  48%|████▊     | 12/25 [00:00<00:00, 26.96it/s]\u001b[A\n",
      "Applying IIR:  60%|██████    | 15/25 [00:00<00:00, 27.71it/s]\u001b[A\n",
      "Applying IIR:  72%|███████▏  | 18/25 [00:00<00:00, 26.66it/s]\u001b[A\n",
      "Applying IIR:  88%|████████▊ | 22/25 [00:00<00:00, 27.78it/s]\u001b[A\n",
      "Applying IIR: 100%|██████████| 25/25 [00:00<00:00, 27.61it/s]\u001b[A\n",
      " 23%|██▎       | 296/1268 [03:25<11:17,  1.43it/s]\n",
      "Applying IIR:   0%|          | 0/25 [00:00<?, ?it/s]\u001b[A\n",
      "Applying IIR:  12%|█▏        | 3/25 [00:00<00:00, 28.06it/s]\u001b[A"
     ]
    },
    {
     "name": "stdout",
     "output_type": "stream",
     "text": [
      "running motion mag for vid: 00371.jpg\n",
      "video ../../deepfake_data/fb_dfd_release_0.1_final/method_A_crops/00371.jpg\n",
      "\n",
      "Exception found: list index out of range\n",
      "running motion mag for vid: 1604866_1224068_B_001.mp4\n",
      "video ../../deepfake_data/fb_dfd_release_0.1_final/method_A_crops/1604866_1224068_B_001.mp4\n",
      "\n",
      "Iteration number is 259002\n"
     ]
    },
    {
     "name": "stderr",
     "output_type": "stream",
     "text": [
      "\n",
      "Applying IIR:  24%|██▍       | 6/25 [00:00<00:00, 28.58it/s]\u001b[A\n",
      "Applying IIR:  40%|████      | 10/25 [00:00<00:00, 29.35it/s]\u001b[A\n",
      "Applying IIR:  56%|█████▌    | 14/25 [00:00<00:00, 29.81it/s]\u001b[A\n",
      "Applying IIR:  68%|██████▊   | 17/25 [00:00<00:00, 29.24it/s]\u001b[A\n",
      "Applying IIR:  84%|████████▍ | 21/25 [00:00<00:00, 30.01it/s]\u001b[A\n",
      "Applying IIR: 100%|██████████| 25/25 [00:00<00:00, 28.96it/s]\u001b[A\n",
      " 24%|██▎       | 298/1268 [03:26<10:28,  1.54it/s]\n",
      "Applying IIR:   0%|          | 0/24 [00:00<?, ?it/s]\u001b[A\n",
      "Applying IIR:  12%|█▎        | 3/24 [00:00<00:00, 23.55it/s]\u001b[A"
     ]
    },
    {
     "name": "stdout",
     "output_type": "stream",
     "text": [
      "running motion mag for vid: 1609928_1294671_B_002.mp4\n",
      "video ../../deepfake_data/fb_dfd_release_0.1_final/method_A_crops/1609928_1294671_B_002.mp4\n",
      "\n",
      "Iteration number is 259002\n"
     ]
    },
    {
     "name": "stderr",
     "output_type": "stream",
     "text": [
      "\n",
      "Applying IIR:  25%|██▌       | 6/24 [00:00<00:00, 24.91it/s]\u001b[A\n",
      "Applying IIR:  42%|████▏     | 10/24 [00:00<00:00, 26.19it/s]\u001b[A\n",
      "Applying IIR:  54%|█████▍    | 13/24 [00:00<00:00, 26.86it/s]\u001b[A\n",
      "Applying IIR:  67%|██████▋   | 16/24 [00:00<00:00, 26.15it/s]\u001b[A\n",
      "Applying IIR:  83%|████████▎ | 20/24 [00:00<00:00, 27.50it/s]\u001b[A\n",
      "Applying IIR: 100%|██████████| 24/24 [00:00<00:00, 28.23it/s]\u001b[A\n",
      " 24%|██▎       | 299/1268 [03:27<12:23,  1.30it/s]\n",
      "Applying IIR:   0%|          | 0/25 [00:00<?, ?it/s]\u001b[A\n",
      "Applying IIR:  12%|█▏        | 3/25 [00:00<00:00, 24.57it/s]\u001b[A"
     ]
    },
    {
     "name": "stdout",
     "output_type": "stream",
     "text": [
      "running motion mag for vid: 2059066_1795659_B_002.mp4\n",
      "video ../../deepfake_data/fb_dfd_release_0.1_final/method_A_crops/2059066_1795659_B_002.mp4\n",
      "\n",
      "Iteration number is 259002\n"
     ]
    },
    {
     "name": "stderr",
     "output_type": "stream",
     "text": [
      "\n",
      "Applying IIR:  24%|██▍       | 6/25 [00:00<00:00, 25.54it/s]\u001b[A\n",
      "Applying IIR:  40%|████      | 10/25 [00:00<00:00, 26.84it/s]\u001b[A\n",
      "Applying IIR:  52%|█████▏    | 13/25 [00:00<00:00, 26.24it/s]\u001b[A\n",
      "Applying IIR:  64%|██████▍   | 16/25 [00:00<00:00, 26.47it/s]\u001b[A\n",
      "Applying IIR:  76%|███████▌  | 19/25 [00:00<00:00, 26.98it/s]\u001b[A\n",
      "Applying IIR: 100%|██████████| 25/25 [00:00<00:00, 27.39it/s]\u001b[A\n",
      " 24%|██▎       | 300/1268 [03:28<13:56,  1.16it/s]\n",
      "Applying IIR:   0%|          | 0/25 [00:00<?, ?it/s]\u001b[A\n",
      "Applying IIR:  16%|█▌        | 4/25 [00:00<00:00, 33.34it/s]\u001b[A"
     ]
    },
    {
     "name": "stdout",
     "output_type": "stream",
     "text": [
      "running motion mag for vid: 00229.jpg\n",
      "video ../../deepfake_data/fb_dfd_release_0.1_final/method_A_crops/00229.jpg\n",
      "\n",
      "Exception found: list index out of range\n",
      "running motion mag for vid: 1929178_1294671_A_002.mp4\n",
      "video ../../deepfake_data/fb_dfd_release_0.1_final/method_A_crops/1929178_1294671_A_002.mp4\n",
      "\n",
      "Iteration number is 259002\n"
     ]
    },
    {
     "name": "stderr",
     "output_type": "stream",
     "text": [
      "\n",
      "Applying IIR:  32%|███▏      | 8/25 [00:00<00:00, 33.44it/s]\u001b[A\n",
      "Applying IIR:  44%|████▍     | 11/25 [00:00<00:00, 31.87it/s]\u001b[A\n",
      "Applying IIR:  56%|█████▌    | 14/25 [00:00<00:00, 30.56it/s]\u001b[A\n",
      "Applying IIR:  68%|██████▊   | 17/25 [00:00<00:00, 29.59it/s]\u001b[A\n",
      "Applying IIR:  80%|████████  | 20/25 [00:00<00:00, 29.01it/s]\u001b[A\n",
      "Applying IIR: 100%|██████████| 25/25 [00:00<00:00, 29.70it/s]\u001b[A\n",
      " 24%|██▍       | 302/1268 [03:29<12:10,  1.32it/s]\n",
      "Applying IIR:   0%|          | 0/25 [00:00<?, ?it/s]\u001b[A\n",
      "Applying IIR:  16%|█▌        | 4/25 [00:00<00:00, 34.94it/s]\u001b[A"
     ]
    },
    {
     "name": "stdout",
     "output_type": "stream",
     "text": [
      "running motion mag for vid: 1853436_804259_E_001.mp4\n",
      "video ../../deepfake_data/fb_dfd_release_0.1_final/method_A_crops/1853436_804259_E_001.mp4\n",
      "\n",
      "Iteration number is 259002\n"
     ]
    },
    {
     "name": "stderr",
     "output_type": "stream",
     "text": [
      "\n",
      "Applying IIR:  28%|██▊       | 7/25 [00:00<00:00, 32.06it/s]\u001b[A\n",
      "Applying IIR:  40%|████      | 10/25 [00:00<00:00, 30.95it/s]\u001b[A\n",
      "Applying IIR:  56%|█████▌    | 14/25 [00:00<00:00, 31.72it/s]\u001b[A\n",
      "Applying IIR:  72%|███████▏  | 18/25 [00:00<00:00, 31.78it/s]\u001b[A\n",
      "Applying IIR:  88%|████████▊ | 22/25 [00:00<00:00, 32.00it/s]\u001b[A\n",
      "Applying IIR: 100%|██████████| 25/25 [00:00<00:00, 30.62it/s]\u001b[A\n",
      " 24%|██▍       | 303/1268 [03:30<13:26,  1.20it/s]\n",
      "Applying IIR:   0%|          | 0/25 [00:00<?, ?it/s]\u001b[A\n",
      "\n",
      "Applying IIR:   0%|          | 0/25 [00:00<?, ?it/s]\u001b[A\n",
      "Applying IIR:  12%|█▏        | 3/25 [00:00<00:00, 26.20it/s]\u001b[A"
     ]
    },
    {
     "name": "stdout",
     "output_type": "stream",
     "text": [
      "running motion mag for vid: 00193.jpg\n",
      "video ../../deepfake_data/fb_dfd_release_0.1_final/method_A_crops/00193.jpg\n",
      "\n",
      "Exception found: list index out of range\n",
      "running motion mag for vid: 00255.jpg\n",
      "video ../../deepfake_data/fb_dfd_release_0.1_final/method_A_crops/00255.jpg\n",
      "\n",
      "Exception found: list index out of range\n",
      "running motion mag for vid: 2059066_1681757_C_001.mp4\n",
      "video ../../deepfake_data/fb_dfd_release_0.1_final/method_A_crops/2059066_1681757_C_001.mp4\n",
      "\n",
      "Iteration number is 259002\n",
      "Exception found: OpenCV(4.1.1) /io/opencv/modules/imgproc/src/color.cpp:182: error: (-215:Assertion failed) !_src.empty() in function 'cvtColor'\n",
      "\n",
      "running motion mag for vid: 773847_2113344_B_001.mp4\n",
      "video ../../deepfake_data/fb_dfd_release_0.1_final/method_A_crops/773847_2113344_B_001.mp4\n",
      "\n",
      "Iteration number is 259002\n"
     ]
    },
    {
     "name": "stderr",
     "output_type": "stream",
     "text": [
      "\n",
      "Applying IIR:  24%|██▍       | 6/25 [00:00<00:00, 25.32it/s]\u001b[A\n",
      "Applying IIR:  36%|███▌      | 9/25 [00:00<00:00, 25.66it/s]\u001b[A\n",
      "Applying IIR:  48%|████▊     | 12/25 [00:00<00:00, 25.71it/s]\u001b[A\n",
      "Applying IIR:  60%|██████    | 15/25 [00:00<00:00, 26.12it/s]\u001b[A\n",
      "Applying IIR:  76%|███████▌  | 19/25 [00:00<00:00, 27.40it/s]\u001b[A\n",
      "Applying IIR: 100%|██████████| 25/25 [00:00<00:00, 27.13it/s]\u001b[A\n",
      "ERROR:root:Internal Python error in the inspect module.\n",
      "Below is the traceback from this internal error.\n",
      "\n"
     ]
    },
    {
     "name": "stdout",
     "output_type": "stream",
     "text": [
      "Traceback (most recent call last):\n",
      "  File \"/afs/csail.mit.edu/u/c/cfosco/.local/lib/python3.5/site-packages/IPython/core/interactiveshell.py\", line 3326, in run_code\n",
      "    exec(code_obj, self.user_global_ns, self.user_ns)\n",
      "  File \"<ipython-input-7-c475daf032b7>\", line 72, in <module>\n",
      "    run_motion_mag_all_folders(base_dirs, config_spec, config_file)\n",
      "  File \"<ipython-input-7-c475daf032b7>\", line 30, in run_motion_mag_all_folders\n",
      "    run_motion_mag_one_video(model, checkpoint, 'run_temporal', input_folder, output_folder)\n",
      "  File \"<ipython-input-7-c475daf032b7>\", line 64, in run_motion_mag_one_video\n",
      "    filter_type)\n",
      "  File \"../deep_motion_mag/magnet.py\", line 515, in run_temporal\n",
      "    os.path.join(out_dir, vid_name + '.mp4')]\n",
      "  File \"/usr/lib/python3.5/subprocess.py\", line 559, in call\n",
      "    return p.wait(timeout=timeout)\n",
      "  File \"/usr/lib/python3.5/subprocess.py\", line 1658, in wait\n",
      "    (pid, sts) = self._try_wait(0)\n",
      "  File \"/usr/lib/python3.5/subprocess.py\", line 1608, in _try_wait\n",
      "    (pid, sts) = os.waitpid(self.pid, wait_flags)\n",
      "KeyboardInterrupt\n",
      "\n",
      "During handling of the above exception, another exception occurred:\n",
      "\n",
      "Traceback (most recent call last):\n",
      "  File \"/afs/csail.mit.edu/u/c/cfosco/.local/lib/python3.5/site-packages/IPython/core/interactiveshell.py\", line 2040, in showtraceback\n",
      "    stb = value._render_traceback_()\n",
      "AttributeError: 'KeyboardInterrupt' object has no attribute '_render_traceback_'\n",
      "\n",
      "During handling of the above exception, another exception occurred:\n",
      "\n",
      "Traceback (most recent call last):\n",
      "  File \"/afs/csail.mit.edu/u/c/cfosco/.local/lib/python3.5/site-packages/IPython/core/ultratb.py\", line 1101, in get_records\n",
      "    return _fixed_getinnerframes(etb, number_of_lines_of_context, tb_offset)\n",
      "  File \"/afs/csail.mit.edu/u/c/cfosco/.local/lib/python3.5/site-packages/IPython/core/ultratb.py\", line 319, in wrapped\n",
      "    return f(*args, **kwargs)\n",
      "  File \"/afs/csail.mit.edu/u/c/cfosco/.local/lib/python3.5/site-packages/IPython/core/ultratb.py\", line 353, in _fixed_getinnerframes\n",
      "    records = fix_frame_records_filenames(inspect.getinnerframes(etb, context))\n",
      "  File \"/usr/lib/python3.5/inspect.py\", line 1453, in getinnerframes\n",
      "    frameinfo = (tb.tb_frame,) + getframeinfo(tb, context)\n",
      "  File \"/usr/lib/python3.5/inspect.py\", line 1410, in getframeinfo\n",
      "    filename = getsourcefile(frame) or getfile(frame)\n",
      "  File \"/usr/lib/python3.5/inspect.py\", line 672, in getsourcefile\n",
      "    if getattr(getmodule(object, filename), '__loader__', None) is not None:\n",
      "  File \"/usr/lib/python3.5/inspect.py\", line 709, in getmodule\n",
      "    if ismodule(module) and hasattr(module, '__file__'):\n",
      "KeyboardInterrupt\n"
     ]
    },
    {
     "ename": "KeyboardInterrupt",
     "evalue": "",
     "output_type": "error",
     "traceback": [
      "\u001b[0;31m-------------------------------------------------------\u001b[0m"
     ]
    }
   ],
   "source": [
    "from tqdm import tqdm\n",
    "\n",
    "def run_motion_mag_all_folders(base_dirs, config_spec, config_file):\n",
    "    configspec = ConfigObj(config_spec, raise_errors=True)\n",
    "    config = ConfigObj(config_file,\n",
    "                       configspec=configspec,\n",
    "                       raise_errors=True,\n",
    "                       file_error=True)\n",
    "    \n",
    "    # Validate to get all the default values.\n",
    "    config.validate(Validator())\n",
    "    \n",
    "    network_type = 'ynet_3frames'\n",
    "    exp_name = '%(dataset)s_%(variant)s'\n",
    "    setproctitle.setproctitle(exp_name)\n",
    "    tfconfig = tf.ConfigProto(allow_soft_placement=True,\n",
    "                              log_device_placement=False)\n",
    "    tfconfig.gpu_options.allow_growth = True\n",
    "    \n",
    "    with tf.Session(config=tfconfig) as sess:\n",
    "        model = MagNet3Frames(sess, exp_name, config['architecture'])\n",
    "        checkpoint = '../deep_motion_mag/data/training/o3f_hmhm2_bg_qnoise_mix4_nl_n_t_ds3/checkpoint'\n",
    "        for bd in base_dirs:\n",
    "            print(\"Magnifying vids in\", bd)\n",
    "            for vid in tqdm(os.listdir(bd)):\n",
    "                print('running motion mag for vid:',vid)\n",
    "                input_folder = os.path.join(bd, vid)\n",
    "                output_folder = os.path.join(bd + '_mm', vid)\n",
    "#                 os.makedirs(output_folder, exist_ok=True)\n",
    "                run_motion_mag_one_video(model, checkpoint, 'run_temporal', input_folder, output_folder)\n",
    "            \n",
    "    \n",
    "def run_motion_mag_one_video(model, checkpoint, phase, video, output):\n",
    "    \n",
    "    print('video', video)\n",
    "    amplification_factor = 4\n",
    "    velocity_mag = True\n",
    "    fl = 0.5\n",
    "    fh = 1\n",
    "    fs = 30\n",
    "    n_filter_tap = 2 \n",
    "    filter_type = 'differenceOfIIR'\n",
    "    \n",
    "    try:\n",
    "        if phase == 'run':\n",
    "            model.run(checkpoint,\n",
    "                      video,\n",
    "                      'jpg',\n",
    "                      output,\n",
    "                      amplification_factor,\n",
    "                      velocity_mag)\n",
    "\n",
    "        elif phase == 'run_temporal':\n",
    "            model.run_temporal(checkpoint,\n",
    "                           video,\n",
    "                           'jpg',\n",
    "                           output,\n",
    "                           amplification_factor,\n",
    "                           fl,\n",
    "                           fh,\n",
    "                           fs,\n",
    "                           n_filter_tap,\n",
    "                           filter_type)\n",
    "    except Exception as err:\n",
    "        print(\"Exception found:\", err)\n",
    "        \n",
    "exp_name= 'o3f_hmhm2_bg_qnoise_mix4_nl_n_t_ds3'\n",
    "config_file = '../deep_motion_mag/configs/'+exp_name+'.conf'\n",
    "config_spec = '../deep_motion_mag/configs/configspec.conf'\n",
    "base_dirs = ['../../deepfake_data/fb_dfd_release_0.1_final/method_A_crops']\n",
    "run_motion_mag_all_folders(base_dirs, config_spec, config_file)"
   ]
  },
  {
   "cell_type": "markdown",
   "metadata": {},
   "source": [
    "# Face extraction"
   ]
  },
  {
   "cell_type": "code",
   "execution_count": null,
   "metadata": {},
   "outputs": [],
   "source": [
    "#----------------------------------------------\n",
    "#--- Author         : Ahmet Ozlu\n",
    "#--- Mail           : ahmetozlu93@gmail.com\n",
    "#--- Date           : 21st September 2017\n",
    "#----------------------------------------------\n",
    "\n",
    "import face_recognition\n",
    "import cv2\n",
    "import os\n",
    "import sys\n",
    "import matplotlib.pyplot as plt\n",
    "from multiprocessing import Pool\n",
    "import multiprocessing as mp\n",
    "import functools\n",
    "import ffmpeg\n",
    "\n",
    "sys.path.append(\"../face_recognition_crop/utils/\")\n",
    "# import create_csv\n",
    "\n",
    "\n",
    "def extract_face_from_vid(video, output_path='', m=0.3, show=False):\n",
    "\n",
    "    if not os.path.isdir(video):\n",
    "        # Open the input movie file\n",
    "        input_movie = cv2.VideoCapture(video)\n",
    "        length = int(input_movie.get(cv2.CAP_PROP_FRAME_COUNT))\n",
    "    else:\n",
    "        frame_list = [f for f in os.listdir(video) if f.endswith('.jpg')]\n",
    "\n",
    "    # Initialize some variables\n",
    "    frame_number = 0\n",
    "    current_path = os.getcwd()\n",
    "\n",
    "    while True:\n",
    "        # Grab next frame\n",
    "        if os.path.isdir(video):\n",
    "            if frame_number>=len(frame_list):\n",
    "                break\n",
    "            frame = cv2.imread(os.path.join(video, frame_list[frame_number]))\n",
    "        else:\n",
    "            # Grab a single frame of video\n",
    "            ret, frame = input_movie.read()\n",
    "\n",
    "            if not ret:\n",
    "                break\n",
    "                \n",
    "        frame_number += 1\n",
    "        \n",
    "        if not frame_number % 2: continue\n",
    "            \n",
    "        # Find all the faces and face encodings in the current frame of video\n",
    "        face_locations = face_recognition.face_locations(frame)\n",
    "        face_encodings = face_recognition.face_encodings(frame, face_locations)\n",
    "\n",
    "        # Label the results\n",
    "        for (top, right, bottom, left) in face_locations:\n",
    "\n",
    "            if m < 1:\n",
    "                margin = int((bottom-top)*m)\n",
    "            else:\n",
    "                margin = m\n",
    "            crop_img = frame[top-margin:bottom+margin, left-margin:right+margin]\n",
    "            os.makedirs(os.path.join(output_path, os.path.basename(video)), exist_ok=True)\n",
    "            cv2.imwrite(os.path.join(output_path, os.path.basename(video), '%05d.jpg' % (frame_number-1)), crop_img)\n",
    "\n",
    "        if show:\n",
    "            plt.imshow(crop_img[:,:,::-1])\n",
    "            plt.show()\n",
    "\n",
    "    # All done!\n",
    "    if not os.path.isdir(video): input_movie.release()\n",
    "#     create_csv.CreateCsv(current_path + \"/face_database/\")\n",
    "\n",
    "\n",
    "def extract_faces_parallel(video_root, output_path, num_threads=100):\n",
    "    \"\"\"Extracts faces from video in a parallel fashion.\"\"\"\n",
    "\n",
    "    videos = []\n",
    "    for r, d, f in os.walk(video_root):\n",
    "        for file in f:\n",
    "            if '.mp4' in file:\n",
    "                videos.append(os.path.join(r, file))\n",
    "#     print(videos)\n",
    "\n",
    "#     mp.set_start_method('spawn')\n",
    "    \n",
    "    func = functools.partial(extract_face_from_vid, output_path=output_path, m=0.3, show=False)\n",
    "    pool = Pool(num_threads)\n",
    "    pool.map(func, videos)\n",
    "    \n",
    "    \n",
    "def extract_faces(video_root, output_path):\n",
    "    videos = []\n",
    "    for r, d, f in os.walk(video_root):\n",
    "        for file in f:\n",
    "            if '.mp4' in file:\n",
    "                extract_face_from_vid(os.path.join(r, file), output_path=output_path)\n",
    "                \n",
    "extract_faces('../../deepfake_data/fb_dfd_release_0.1_final/method_A', \n",
    "                '../../deepfake_data/fb_dfd_release_0.1_final/method_A_crops')"
   ]
  },
  {
   "cell_type": "code",
   "execution_count": null,
   "metadata": {},
   "outputs": [],
   "source": [
    "from timeit import default_timer as timer\n",
    "\n",
    "start = timer()\n",
    "# extract_face_from_vid('../../deepfake_data/fb_dfd_release_0.1_final/method_A/1681757/1681757_D/2076328_1681757_D_001.mp4',\n",
    "#                      output_path='../../deepfake_data/fb_dfd_release_0.1_final/method_A_crops',show=True)\n",
    "\n",
    "extract_face_from_vid('../../deepfake_data/fb_dfd_release_0.1_final/method_A_frames/1974002_1061402_B_003.mp4',\n",
    "                     output_path='../../deepfake_data/fb_dfd_release_0.1_final/method_A_crops',show=False)\n",
    "\n",
    "end = timer()\n",
    "print(end-start)"
   ]
  },
  {
   "cell_type": "code",
   "execution_count": null,
   "metadata": {},
   "outputs": [],
   "source": [
    "from timeit import default_timer as timer\n",
    "\n",
    "start = timer()\n",
    "extract_face_from_vid('../../deepfake_data/fb_dfd_release_0.1_final/method_A/1061402/1061402_B/1974002_1061402_B_003.mp4',\n",
    "                     output_path='../../deepfake_data/fb_dfd_release_0.1_final/method_A_crops',show=False)\n",
    "end = timer()\n",
    "print(end-start)"
   ]
  },
  {
   "cell_type": "code",
   "execution_count": null,
   "metadata": {},
   "outputs": [],
   "source": [
    "import dlib.cuda as cuda\n",
    "print(cuda.get_num_devices())\n",
    "print(dlib.DLIB_USE_CUDA)"
   ]
  },
  {
   "cell_type": "code",
   "execution_count": null,
   "metadata": {},
   "outputs": [],
   "source": []
  }
 ],
 "metadata": {
  "kernelspec": {
   "display_name": "tf-python3",
   "language": "python",
   "name": "tf-python3"
  },
  "language_info": {
   "codemirror_mode": {
    "name": "ipython",
    "version": 3
   },
   "file_extension": ".py",
   "mimetype": "text/x-python",
   "name": "python",
   "nbconvert_exporter": "python",
   "pygments_lexer": "ipython3",
   "version": "3.5.2"
  }
 },
 "nbformat": 4,
 "nbformat_minor": 2
}
