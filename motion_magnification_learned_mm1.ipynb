{
 "cells": [
  {
   "cell_type": "markdown",
   "metadata": {},
   "source": [
    "# Notebook to motion magnify sets of videos\n",
    "\n",
    "Uses learned motion mag: https://people.csail.mit.edu/tiam/deepmag/deepmag.pdf"
   ]
  },
  {
   "cell_type": "code",
   "execution_count": 1,
   "metadata": {},
   "outputs": [
    {
     "name": "stderr",
     "output_type": "stream",
     "text": [
      "/afs/csail.mit.edu/u/c/cfosco/.local/lib/python3.5/site-packages/tensorflow/python/framework/dtypes.py:516: FutureWarning: Passing (type, 1) or '1type' as a synonym of type is deprecated; in a future version of numpy, it will be understood as (type, (1,)) / '(1,)type'.\n",
      "  _np_qint8 = np.dtype([(\"qint8\", np.int8, 1)])\n",
      "/afs/csail.mit.edu/u/c/cfosco/.local/lib/python3.5/site-packages/tensorflow/python/framework/dtypes.py:517: FutureWarning: Passing (type, 1) or '1type' as a synonym of type is deprecated; in a future version of numpy, it will be understood as (type, (1,)) / '(1,)type'.\n",
      "  _np_quint8 = np.dtype([(\"quint8\", np.uint8, 1)])\n",
      "/afs/csail.mit.edu/u/c/cfosco/.local/lib/python3.5/site-packages/tensorflow/python/framework/dtypes.py:518: FutureWarning: Passing (type, 1) or '1type' as a synonym of type is deprecated; in a future version of numpy, it will be understood as (type, (1,)) / '(1,)type'.\n",
      "  _np_qint16 = np.dtype([(\"qint16\", np.int16, 1)])\n",
      "/afs/csail.mit.edu/u/c/cfosco/.local/lib/python3.5/site-packages/tensorflow/python/framework/dtypes.py:519: FutureWarning: Passing (type, 1) or '1type' as a synonym of type is deprecated; in a future version of numpy, it will be understood as (type, (1,)) / '(1,)type'.\n",
      "  _np_quint16 = np.dtype([(\"quint16\", np.uint16, 1)])\n",
      "/afs/csail.mit.edu/u/c/cfosco/.local/lib/python3.5/site-packages/tensorflow/python/framework/dtypes.py:520: FutureWarning: Passing (type, 1) or '1type' as a synonym of type is deprecated; in a future version of numpy, it will be understood as (type, (1,)) / '(1,)type'.\n",
      "  _np_qint32 = np.dtype([(\"qint32\", np.int32, 1)])\n",
      "/afs/csail.mit.edu/u/c/cfosco/.local/lib/python3.5/site-packages/tensorflow/python/framework/dtypes.py:525: FutureWarning: Passing (type, 1) or '1type' as a synonym of type is deprecated; in a future version of numpy, it will be understood as (type, (1,)) / '(1,)type'.\n",
      "  np_resource = np.dtype([(\"resource\", np.ubyte, 1)])\n",
      "/afs/csail.mit.edu/u/c/cfosco/.local/lib/python3.5/site-packages/tensorboard/compat/tensorflow_stub/dtypes.py:541: FutureWarning: Passing (type, 1) or '1type' as a synonym of type is deprecated; in a future version of numpy, it will be understood as (type, (1,)) / '(1,)type'.\n",
      "  _np_qint8 = np.dtype([(\"qint8\", np.int8, 1)])\n",
      "/afs/csail.mit.edu/u/c/cfosco/.local/lib/python3.5/site-packages/tensorboard/compat/tensorflow_stub/dtypes.py:542: FutureWarning: Passing (type, 1) or '1type' as a synonym of type is deprecated; in a future version of numpy, it will be understood as (type, (1,)) / '(1,)type'.\n",
      "  _np_quint8 = np.dtype([(\"quint8\", np.uint8, 1)])\n",
      "/afs/csail.mit.edu/u/c/cfosco/.local/lib/python3.5/site-packages/tensorboard/compat/tensorflow_stub/dtypes.py:543: FutureWarning: Passing (type, 1) or '1type' as a synonym of type is deprecated; in a future version of numpy, it will be understood as (type, (1,)) / '(1,)type'.\n",
      "  _np_qint16 = np.dtype([(\"qint16\", np.int16, 1)])\n",
      "/afs/csail.mit.edu/u/c/cfosco/.local/lib/python3.5/site-packages/tensorboard/compat/tensorflow_stub/dtypes.py:544: FutureWarning: Passing (type, 1) or '1type' as a synonym of type is deprecated; in a future version of numpy, it will be understood as (type, (1,)) / '(1,)type'.\n",
      "  _np_quint16 = np.dtype([(\"quint16\", np.uint16, 1)])\n",
      "/afs/csail.mit.edu/u/c/cfosco/.local/lib/python3.5/site-packages/tensorboard/compat/tensorflow_stub/dtypes.py:545: FutureWarning: Passing (type, 1) or '1type' as a synonym of type is deprecated; in a future version of numpy, it will be understood as (type, (1,)) / '(1,)type'.\n",
      "  _np_qint32 = np.dtype([(\"qint32\", np.int32, 1)])\n",
      "/afs/csail.mit.edu/u/c/cfosco/.local/lib/python3.5/site-packages/tensorboard/compat/tensorflow_stub/dtypes.py:550: FutureWarning: Passing (type, 1) or '1type' as a synonym of type is deprecated; in a future version of numpy, it will be understood as (type, (1,)) / '(1,)type'.\n",
      "  np_resource = np.dtype([(\"resource\", np.ubyte, 1)])\n",
      "Using TensorFlow backend.\n"
     ]
    }
   ],
   "source": [
    "import numpy as np\n",
    "import tensorflow as tf\n",
    "import keras\n",
    "import matplotlib.pyplot as plt\n",
    "import os\n",
    "import sys\n",
    "\n",
    "import argparse\n",
    "import os\n",
    "import shutil\n",
    "import tensorflow as tf\n",
    "import setproctitle\n",
    "from configobj import ConfigObj\n",
    "from validate import Validator\n",
    "\n",
    "sys.path.append(\"../deep_motion_mag/\")\n",
    "\n",
    "from magnet import MagNet3Frames"
   ]
  },
  {
   "cell_type": "code",
   "execution_count": 2,
   "metadata": {},
   "outputs": [],
   "source": [
    "os.environ[\"CUDA_VISIBLE_DEVICES\"]=\"1\""
   ]
  },
  {
   "cell_type": "code",
   "execution_count": 3,
   "metadata": {},
   "outputs": [
    {
     "name": "stdout",
     "output_type": "stream",
     "text": [
      "Thu Dec 12 04:31:49 2019       \n",
      "+-----------------------------------------------------------------------------+\n",
      "| NVIDIA-SMI 418.39       Driver Version: 418.39       CUDA Version: 10.1     |\n",
      "|-------------------------------+----------------------+----------------------+\n",
      "| GPU  Name        Persistence-M| Bus-Id        Disp.A | Volatile Uncorr. ECC |\n",
      "| Fan  Temp  Perf  Pwr:Usage/Cap|         Memory-Usage | GPU-Util  Compute M. |\n",
      "|===============================+======================+======================|\n",
      "|   0  TITAN Xp            Off  | 00000000:02:00.0 Off |                  N/A |\n",
      "| 23%   30C    P8     9W / 250W |      0MiB / 12196MiB |      0%      Default |\n",
      "+-------------------------------+----------------------+----------------------+\n",
      "|   1  TITAN Xp            Off  | 00000000:03:00.0 Off |                  N/A |\n",
      "| 23%   30C    P8     9W / 250W |      0MiB / 12196MiB |      0%      Default |\n",
      "+-------------------------------+----------------------+----------------------+\n",
      "|   2  TITAN Xp            Off  | 00000000:81:00.0 Off |                  N/A |\n",
      "| 23%   30C    P8     9W / 250W |      0MiB / 12196MiB |      0%      Default |\n",
      "+-------------------------------+----------------------+----------------------+\n",
      "|   3  TITAN Xp            Off  | 00000000:82:00.0 Off |                  N/A |\n",
      "| 23%   28C    P8     9W / 250W |      0MiB / 12196MiB |      0%      Default |\n",
      "+-------------------------------+----------------------+----------------------+\n",
      "                                                                               \n",
      "+-----------------------------------------------------------------------------+\n",
      "| Processes:                                                       GPU Memory |\n",
      "|  GPU       PID   Type   Process name                             Usage      |\n",
      "|=============================================================================|\n",
      "|  No running processes found                                                 |\n",
      "+-----------------------------------------------------------------------------+\n"
     ]
    }
   ],
   "source": [
    "!nvidia-smi"
   ]
  },
  {
   "cell_type": "code",
   "execution_count": 4,
   "metadata": {},
   "outputs": [],
   "source": [
    "# %%bash\n",
    "\n",
    "# EXP_NAME=\"test\"\n",
    "# VIDEO=1003254\n",
    "# AMPLIFICATION_FACTOR=10\n",
    "# DYNAMIC_MODE=\"no\"\n",
    "# OUT_DIR=data/output/\"$VIDEO\"_\"$EXP_NAME\"_\"$AMPLIFICATION_FACTOR\"\n",
    "# VID_DIR=data/vids/\"$VIDEO\"\n",
    "# OUT_DIR=data/output/\"$VIDEO\"\n",
    "# if [ ! -d \"$OUT_DIR\" ]; then\n",
    "#     mkdir -p \"$OUT_DIR\"\n",
    "# fi\n",
    "\n",
    "# FLAGS=\"--phase=run --vid_dir=$VID_DIR --out_dir=$OUT_DIR --amplification_factor=$AMPLIFICATION_FACTOR\"\n",
    "# if [ \"$DYNAMIC_MODE\" = yes ] ; then\n",
    "#     FLAGS=\"$FLAGS\"\" --velocity_mag\"\n",
    "# fi\n",
    "# ../deep_motion_mag/main.py --config_file=configs/\"$EXP_NAME\".conf \\\n",
    "#     $FLAGS"
   ]
  },
  {
   "cell_type": "code",
   "execution_count": 5,
   "metadata": {},
   "outputs": [],
   "source": [
    "# %%bash\n",
    "# sh ../deep_motion_mag/run_on_test_videos.sh test1 1003254 10"
   ]
  },
  {
   "cell_type": "code",
   "execution_count": 6,
   "metadata": {},
   "outputs": [
    {
     "name": "stdout",
     "output_type": "stream",
     "text": [
      "{'amplification_factor': 3,\n",
      " 'config_file': '../deep_motion_mag/configs/o3f_hmhm2_bg_qnoise_mix4_nl_n_t_ds3.conf',\n",
      " 'config_spec': '../deep_motion_mag/configs/configspec.conf',\n",
      " 'fh': 1,\n",
      " 'filter_type': 'DifferenceOfIIR',\n",
      " 'fl': 0.5,\n",
      " 'frame_ext': 'jpg',\n",
      " 'fs': 30,\n",
      " 'n_filter_tap': 2,\n",
      " 'out_dir': '../../deepfake_data/fb_dfd_release_0.1_final/method_A_frames_mm/1320815_1573558_A_002.mp4',\n",
      " 'phase': 'run',\n",
      " 'velocity_mag': True,\n",
      " 'vid_dir': '../../deepfake_data/fb_dfd_release_0.1_final/method_A_frames/1320815_1573558_A_002.mp4'}\n"
     ]
    }
   ],
   "source": [
    "def run_motion_mag(args):\n",
    "    configspec = ConfigObj(args.config_spec, raise_errors=True)\n",
    "    config = ConfigObj(args.config_file,\n",
    "                       configspec=configspec,\n",
    "                       raise_errors=True,\n",
    "                       file_error=True)\n",
    "    # Validate to get all the default values.\n",
    "    config.validate(Validator())\n",
    "    if not os.path.exists(config['exp_dir']):\n",
    "        # checkpoint directory.\n",
    "        os.makedirs(os.path.join(config['exp_dir'], 'checkpoint'))\n",
    "        # Tensorboard logs directory.\n",
    "        os.makedirs(os.path.join(config['exp_dir'], 'logs'))\n",
    "        # default output directory for this experiment.\n",
    "        os.makedirs(os.path.join(config['exp_dir'], 'sample'))\n",
    "    network_type = config['architecture']['network_arch']\n",
    "    exp_name = config['exp_name']\n",
    "    setproctitle.setproctitle('{}_{}_{}' \\\n",
    "                              .format(args.phase, network_type, exp_name))\n",
    "    tfconfig = tf.ConfigProto(allow_soft_placement=True,\n",
    "                              log_device_placement=False)\n",
    "    tfconfig.gpu_options.allow_growth = True\n",
    "\n",
    "    with tf.Session(config=tfconfig) as sess:\n",
    "        model = MagNet3Frames(sess, exp_name, config['architecture'])\n",
    "        checkpoint = '../deep_motion_mag/'+config['training']['checkpoint_dir']\n",
    "        if args.phase == 'train':\n",
    "            train_config = config['training']\n",
    "            if not os.path.exists('../deep_motion_mag/'+train_config['checkpoint_dir']):\n",
    "                os.makedirs('../deep_motion_mag/'+train_config['checkpoint_dir'])\n",
    "            model.train(train_config)\n",
    "        elif args.phase == 'run':\n",
    "            model.run(checkpoint,\n",
    "                      args.vid_dir,\n",
    "                      args.frame_ext,\n",
    "                      args.out_dir,\n",
    "                      args.amplification_factor,\n",
    "                      args.velocity_mag)\n",
    "        elif args.phase == 'run_temporal':\n",
    "            model.run_temporal(checkpoint,\n",
    "                               args.vid_dir,\n",
    "                               args.frame_ext,\n",
    "                               args.out_dir,\n",
    "                               args.amplification_factor,\n",
    "                               args.fl,\n",
    "                               args.fh,\n",
    "                               args.fs,\n",
    "                               args.n_filter_tap,\n",
    "                               args.filter_type)\n",
    "        else:\n",
    "            raise ValueError('Invalid phase argument. '\n",
    "                             'Expected [\"train\", \"run\", \"run_temporal\"], '\n",
    "                             'got ' + args.phase)\n",
    "\n",
    "\n",
    "# Define parameters\n",
    "exp_name= 'o3f_hmhm2_bg_qnoise_mix4_nl_n_t_ds3'\n",
    "phase = 'run'\n",
    "config_file = '../deep_motion_mag/configs/'+exp_name+'.conf'\n",
    "config_spec = '../deep_motion_mag/configs/configspec.conf'\n",
    "vid_dir = '../../deepfake_data/fb_dfd_release_0.1_final/method_A_frames/1320815_1573558_A_002.mp4'\n",
    "frame_ext = 'jpg'\n",
    "out_dir = '../../deepfake_data/fb_dfd_release_0.1_final/method_A_frames_mm/1320815_1573558_A_002.mp4'\n",
    "os.makedirs(out_dir, exist_ok=True)\n",
    "amplification_factor = 3\n",
    "velocity_mag = True\n",
    "fl = 0.5\n",
    "fh = 1\n",
    "fs = 30\n",
    "n_filter_tap = 2 \n",
    "filter_type = 'DifferenceOfIIR'\n",
    "\n",
    "\n",
    "class Parser:        \n",
    "    def add_argument(self, name, dest='var', default=None, help='', required=True, type='', action=''):\n",
    "        exec(\"self.\"+dest+\" = default\")\n",
    "parser = Parser()\n",
    "        \n",
    "parser.add_argument('--phase', dest='phase', default=phase,\n",
    "                    help='train, test, run, interactive')\n",
    "parser.add_argument('--config_file', dest='config_file', required=True, default = config_file,\n",
    "                    help='path to config file')\n",
    "parser.add_argument('--config_spec', dest='config_spec', default=config_spec,\n",
    "                    help='path to config spec file')\n",
    "\n",
    "# for inference\n",
    "parser.add_argument('--vid_dir', dest='vid_dir', default=vid_dir,\n",
    "                    help='Video folder to run the network on.')\n",
    "parser.add_argument('--frame_ext', dest='frame_ext', default=frame_ext,\n",
    "                    help='Video frame file extension.')\n",
    "parser.add_argument('--out_dir', dest='out_dir', default=out_dir,\n",
    "                    help='Output folder of the video run.')\n",
    "parser.add_argument('--amplification_factor', dest='amplification_factor',\n",
    "                    type=float, default=amplification_factor,\n",
    "                    help='Magnification factor for inference.')\n",
    "parser.add_argument('--velocity_mag', dest='velocity_mag', action='store_true', default=velocity_mag,\n",
    "                    help='Whether to do velocity magnification.')\n",
    "\n",
    "# For temporal operation.\n",
    "parser.add_argument('--fl', dest='fl', type=float, default=fl,\n",
    "                    help='Low cutoff Frequency.')\n",
    "parser.add_argument('--fh', dest='fh', type=float, default=fh,\n",
    "                    help='High cutoff Frequency.')\n",
    "parser.add_argument('--fs', dest='fs', type=float, default=fs,\n",
    "                    help='Sampling rate.')\n",
    "parser.add_argument('--n_filter_tap', dest='n_filter_tap', type=int, default=n_filter_tap,\n",
    "                    help='Number of filter tap required.')\n",
    "parser.add_argument('--filter_type', dest='filter_type', type=str, default=filter_type,\n",
    "                    help='Type of filter to use, must be Butter or FIR.')\n",
    "\n",
    "from pprint import pprint\n",
    "pprint(vars(parser))\n",
    "\n",
    "# run_motion_mag(parser)"
   ]
  },
  {
   "cell_type": "code",
   "execution_count": null,
   "metadata": {},
   "outputs": [
    {
     "name": "stderr",
     "output_type": "stream",
     "text": [
      "\r",
      "  0%|          | 0/1008 [00:00<?, ?it/s]"
     ]
    },
    {
     "name": "stdout",
     "output_type": "stream",
     "text": [
      "Magnifying vids in ../../deepfake_data/fb_dfd_release_0.1_final/original_videos_crops\n",
      "running motion mag for vid: 1260311_A_001.mp4\n",
      "video ../../deepfake_data/fb_dfd_release_0.1_final/original_videos_crops/1260311_A_001.mp4\n",
      "WARNING:tensorflow:From ../deep_motion_mag/magnet.py:176: The name tf.placeholder is deprecated. Please use tf.compat.v1.placeholder instead.\n",
      "\n",
      "WARNING:tensorflow:From ../deep_motion_mag/magnet.py:132: The name tf.variable_scope is deprecated. Please use tf.compat.v1.variable_scope instead.\n",
      "\n",
      "WARNING:tensorflow:Entity <bound method Conv.call of <tensorflow.python.layers.convolutional.Conv2D object at 0x7f1254f1f5f8>> could not be transformed and will be executed as-is. Please report this to the AutgoGraph team. When filing the bug, set the verbosity to 10 (on Linux, `export AUTOGRAPH_VERBOSITY=10`) and attach the full output. Cause: converting <bound method Conv.call of <tensorflow.python.layers.convolutional.Conv2D object at 0x7f1254f1f5f8>>: AssertionError: Bad argument number for Name: 3, expecting 4\n",
      "WARNING: Entity <bound method Conv.call of <tensorflow.python.layers.convolutional.Conv2D object at 0x7f1254f1f5f8>> could not be transformed and will be executed as-is. Please report this to the AutgoGraph team. When filing the bug, set the verbosity to 10 (on Linux, `export AUTOGRAPH_VERBOSITY=10`) and attach the full output. Cause: converting <bound method Conv.call of <tensorflow.python.layers.convolutional.Conv2D object at 0x7f1254f1f5f8>>: AssertionError: Bad argument number for Name: 3, expecting 4\n",
      "WARNING:tensorflow:Entity <bound method Conv.call of <tensorflow.python.layers.convolutional.Conv2D object at 0x7f12447ba208>> could not be transformed and will be executed as-is. Please report this to the AutgoGraph team. When filing the bug, set the verbosity to 10 (on Linux, `export AUTOGRAPH_VERBOSITY=10`) and attach the full output. Cause: converting <bound method Conv.call of <tensorflow.python.layers.convolutional.Conv2D object at 0x7f12447ba208>>: AssertionError: Bad argument number for Name: 3, expecting 4\n",
      "WARNING: Entity <bound method Conv.call of <tensorflow.python.layers.convolutional.Conv2D object at 0x7f12447ba208>> could not be transformed and will be executed as-is. Please report this to the AutgoGraph team. When filing the bug, set the verbosity to 10 (on Linux, `export AUTOGRAPH_VERBOSITY=10`) and attach the full output. Cause: converting <bound method Conv.call of <tensorflow.python.layers.convolutional.Conv2D object at 0x7f12447ba208>>: AssertionError: Bad argument number for Name: 3, expecting 4\n",
      "WARNING:tensorflow:Entity <bound method Conv.call of <tensorflow.python.layers.convolutional.Conv2D object at 0x7f12447baac8>> could not be transformed and will be executed as-is. Please report this to the AutgoGraph team. When filing the bug, set the verbosity to 10 (on Linux, `export AUTOGRAPH_VERBOSITY=10`) and attach the full output. Cause: converting <bound method Conv.call of <tensorflow.python.layers.convolutional.Conv2D object at 0x7f12447baac8>>: AssertionError: Bad argument number for Name: 3, expecting 4\n",
      "WARNING: Entity <bound method Conv.call of <tensorflow.python.layers.convolutional.Conv2D object at 0x7f12447baac8>> could not be transformed and will be executed as-is. Please report this to the AutgoGraph team. When filing the bug, set the verbosity to 10 (on Linux, `export AUTOGRAPH_VERBOSITY=10`) and attach the full output. Cause: converting <bound method Conv.call of <tensorflow.python.layers.convolutional.Conv2D object at 0x7f12447baac8>>: AssertionError: Bad argument number for Name: 3, expecting 4\n",
      "WARNING:tensorflow:Entity <bound method Conv.call of <tensorflow.python.layers.convolutional.Conv2D object at 0x7f12447e3400>> could not be transformed and will be executed as-is. Please report this to the AutgoGraph team. When filing the bug, set the verbosity to 10 (on Linux, `export AUTOGRAPH_VERBOSITY=10`) and attach the full output. Cause: converting <bound method Conv.call of <tensorflow.python.layers.convolutional.Conv2D object at 0x7f12447e3400>>: AssertionError: Bad argument number for Name: 3, expecting 4\n",
      "WARNING: Entity <bound method Conv.call of <tensorflow.python.layers.convolutional.Conv2D object at 0x7f12447e3400>> could not be transformed and will be executed as-is. Please report this to the AutgoGraph team. When filing the bug, set the verbosity to 10 (on Linux, `export AUTOGRAPH_VERBOSITY=10`) and attach the full output. Cause: converting <bound method Conv.call of <tensorflow.python.layers.convolutional.Conv2D object at 0x7f12447e3400>>: AssertionError: Bad argument number for Name: 3, expecting 4\n",
      "WARNING:tensorflow:Entity <bound method Conv.call of <tensorflow.python.layers.convolutional.Conv2D object at 0x7f12447e3860>> could not be transformed and will be executed as-is. Please report this to the AutgoGraph team. When filing the bug, set the verbosity to 10 (on Linux, `export AUTOGRAPH_VERBOSITY=10`) and attach the full output. Cause: converting <bound method Conv.call of <tensorflow.python.layers.convolutional.Conv2D object at 0x7f12447e3860>>: AssertionError: Bad argument number for Name: 3, expecting 4\n",
      "WARNING: Entity <bound method Conv.call of <tensorflow.python.layers.convolutional.Conv2D object at 0x7f12447e3860>> could not be transformed and will be executed as-is. Please report this to the AutgoGraph team. When filing the bug, set the verbosity to 10 (on Linux, `export AUTOGRAPH_VERBOSITY=10`) and attach the full output. Cause: converting <bound method Conv.call of <tensorflow.python.layers.convolutional.Conv2D object at 0x7f12447e3860>>: AssertionError: Bad argument number for Name: 3, expecting 4\n",
      "WARNING:tensorflow:Entity <bound method Conv.call of <tensorflow.python.layers.convolutional.Conv2D object at 0x7f12547d3278>> could not be transformed and will be executed as-is. Please report this to the AutgoGraph team. When filing the bug, set the verbosity to 10 (on Linux, `export AUTOGRAPH_VERBOSITY=10`) and attach the full output. Cause: converting <bound method Conv.call of <tensorflow.python.layers.convolutional.Conv2D object at 0x7f12547d3278>>: AssertionError: Bad argument number for Name: 3, expecting 4\n",
      "WARNING: Entity <bound method Conv.call of <tensorflow.python.layers.convolutional.Conv2D object at 0x7f12547d3278>> could not be transformed and will be executed as-is. Please report this to the AutgoGraph team. When filing the bug, set the verbosity to 10 (on Linux, `export AUTOGRAPH_VERBOSITY=10`) and attach the full output. Cause: converting <bound method Conv.call of <tensorflow.python.layers.convolutional.Conv2D object at 0x7f12547d3278>>: AssertionError: Bad argument number for Name: 3, expecting 4\n",
      "WARNING:tensorflow:Entity <bound method Conv.call of <tensorflow.python.layers.convolutional.Conv2D object at 0x7f1254f1fbe0>> could not be transformed and will be executed as-is. Please report this to the AutgoGraph team. When filing the bug, set the verbosity to 10 (on Linux, `export AUTOGRAPH_VERBOSITY=10`) and attach the full output. Cause: converting <bound method Conv.call of <tensorflow.python.layers.convolutional.Conv2D object at 0x7f1254f1fbe0>>: AssertionError: Bad argument number for Name: 3, expecting 4\n",
      "WARNING: Entity <bound method Conv.call of <tensorflow.python.layers.convolutional.Conv2D object at 0x7f1254f1fbe0>> could not be transformed and will be executed as-is. Please report this to the AutgoGraph team. When filing the bug, set the verbosity to 10 (on Linux, `export AUTOGRAPH_VERBOSITY=10`) and attach the full output. Cause: converting <bound method Conv.call of <tensorflow.python.layers.convolutional.Conv2D object at 0x7f1254f1fbe0>>: AssertionError: Bad argument number for Name: 3, expecting 4\n",
      "WARNING:tensorflow:Entity <bound method Conv.call of <tensorflow.python.layers.convolutional.Conv2D object at 0x7f1254f32be0>> could not be transformed and will be executed as-is. Please report this to the AutgoGraph team. When filing the bug, set the verbosity to 10 (on Linux, `export AUTOGRAPH_VERBOSITY=10`) and attach the full output. Cause: converting <bound method Conv.call of <tensorflow.python.layers.convolutional.Conv2D object at 0x7f1254f32be0>>: AssertionError: Bad argument number for Name: 3, expecting 4\n"
     ]
    },
    {
     "name": "stdout",
     "output_type": "stream",
     "text": [
      "WARNING: Entity <bound method Conv.call of <tensorflow.python.layers.convolutional.Conv2D object at 0x7f1254f32be0>> could not be transformed and will be executed as-is. Please report this to the AutgoGraph team. When filing the bug, set the verbosity to 10 (on Linux, `export AUTOGRAPH_VERBOSITY=10`) and attach the full output. Cause: converting <bound method Conv.call of <tensorflow.python.layers.convolutional.Conv2D object at 0x7f1254f32be0>>: AssertionError: Bad argument number for Name: 3, expecting 4\n",
      "WARNING:tensorflow:Entity <bound method Conv.call of <tensorflow.python.layers.convolutional.Conv2D object at 0x7f1244768080>> could not be transformed and will be executed as-is. Please report this to the AutgoGraph team. When filing the bug, set the verbosity to 10 (on Linux, `export AUTOGRAPH_VERBOSITY=10`) and attach the full output. Cause: converting <bound method Conv.call of <tensorflow.python.layers.convolutional.Conv2D object at 0x7f1244768080>>: AssertionError: Bad argument number for Name: 3, expecting 4\n",
      "WARNING: Entity <bound method Conv.call of <tensorflow.python.layers.convolutional.Conv2D object at 0x7f1244768080>> could not be transformed and will be executed as-is. Please report this to the AutgoGraph team. When filing the bug, set the verbosity to 10 (on Linux, `export AUTOGRAPH_VERBOSITY=10`) and attach the full output. Cause: converting <bound method Conv.call of <tensorflow.python.layers.convolutional.Conv2D object at 0x7f1244768080>>: AssertionError: Bad argument number for Name: 3, expecting 4\n",
      "WARNING:tensorflow:Entity <bound method Conv.call of <tensorflow.python.layers.convolutional.Conv2D object at 0x7f1244768160>> could not be transformed and will be executed as-is. Please report this to the AutgoGraph team. When filing the bug, set the verbosity to 10 (on Linux, `export AUTOGRAPH_VERBOSITY=10`) and attach the full output. Cause: converting <bound method Conv.call of <tensorflow.python.layers.convolutional.Conv2D object at 0x7f1244768160>>: AssertionError: Bad argument number for Name: 3, expecting 4\n",
      "WARNING: Entity <bound method Conv.call of <tensorflow.python.layers.convolutional.Conv2D object at 0x7f1244768160>> could not be transformed and will be executed as-is. Please report this to the AutgoGraph team. When filing the bug, set the verbosity to 10 (on Linux, `export AUTOGRAPH_VERBOSITY=10`) and attach the full output. Cause: converting <bound method Conv.call of <tensorflow.python.layers.convolutional.Conv2D object at 0x7f1244768160>>: AssertionError: Bad argument number for Name: 3, expecting 4\n",
      "WARNING:tensorflow:Entity <bound method Conv.call of <tensorflow.python.layers.convolutional.Conv2D object at 0x7f1244713860>> could not be transformed and will be executed as-is. Please report this to the AutgoGraph team. When filing the bug, set the verbosity to 10 (on Linux, `export AUTOGRAPH_VERBOSITY=10`) and attach the full output. Cause: converting <bound method Conv.call of <tensorflow.python.layers.convolutional.Conv2D object at 0x7f1244713860>>: AssertionError: Bad argument number for Name: 3, expecting 4\n",
      "WARNING: Entity <bound method Conv.call of <tensorflow.python.layers.convolutional.Conv2D object at 0x7f1244713860>> could not be transformed and will be executed as-is. Please report this to the AutgoGraph team. When filing the bug, set the verbosity to 10 (on Linux, `export AUTOGRAPH_VERBOSITY=10`) and attach the full output. Cause: converting <bound method Conv.call of <tensorflow.python.layers.convolutional.Conv2D object at 0x7f1244713860>>: AssertionError: Bad argument number for Name: 3, expecting 4\n",
      "WARNING:tensorflow:Entity <bound method Conv.call of <tensorflow.python.layers.convolutional.Conv2D object at 0x7f12446eabe0>> could not be transformed and will be executed as-is. Please report this to the AutgoGraph team. When filing the bug, set the verbosity to 10 (on Linux, `export AUTOGRAPH_VERBOSITY=10`) and attach the full output. Cause: converting <bound method Conv.call of <tensorflow.python.layers.convolutional.Conv2D object at 0x7f12446eabe0>>: AssertionError: Bad argument number for Name: 3, expecting 4\n",
      "WARNING: Entity <bound method Conv.call of <tensorflow.python.layers.convolutional.Conv2D object at 0x7f12446eabe0>> could not be transformed and will be executed as-is. Please report this to the AutgoGraph team. When filing the bug, set the verbosity to 10 (on Linux, `export AUTOGRAPH_VERBOSITY=10`) and attach the full output. Cause: converting <bound method Conv.call of <tensorflow.python.layers.convolutional.Conv2D object at 0x7f12446eabe0>>: AssertionError: Bad argument number for Name: 3, expecting 4\n",
      "WARNING:tensorflow:Entity <bound method Conv.call of <tensorflow.python.layers.convolutional.Conv2D object at 0x7f1244735748>> could not be transformed and will be executed as-is. Please report this to the AutgoGraph team. When filing the bug, set the verbosity to 10 (on Linux, `export AUTOGRAPH_VERBOSITY=10`) and attach the full output. Cause: converting <bound method Conv.call of <tensorflow.python.layers.convolutional.Conv2D object at 0x7f1244735748>>: AssertionError: Bad argument number for Name: 3, expecting 4\n",
      "WARNING: Entity <bound method Conv.call of <tensorflow.python.layers.convolutional.Conv2D object at 0x7f1244735748>> could not be transformed and will be executed as-is. Please report this to the AutgoGraph team. When filing the bug, set the verbosity to 10 (on Linux, `export AUTOGRAPH_VERBOSITY=10`) and attach the full output. Cause: converting <bound method Conv.call of <tensorflow.python.layers.convolutional.Conv2D object at 0x7f1244735748>>: AssertionError: Bad argument number for Name: 3, expecting 4\n",
      "WARNING:tensorflow:Entity <bound method Conv.call of <tensorflow.python.layers.convolutional.Conv2D object at 0x7f12446f83c8>> could not be transformed and will be executed as-is. Please report this to the AutgoGraph team. When filing the bug, set the verbosity to 10 (on Linux, `export AUTOGRAPH_VERBOSITY=10`) and attach the full output. Cause: converting <bound method Conv.call of <tensorflow.python.layers.convolutional.Conv2D object at 0x7f12446f83c8>>: AssertionError: Bad argument number for Name: 3, expecting 4\n",
      "WARNING: Entity <bound method Conv.call of <tensorflow.python.layers.convolutional.Conv2D object at 0x7f12446f83c8>> could not be transformed and will be executed as-is. Please report this to the AutgoGraph team. When filing the bug, set the verbosity to 10 (on Linux, `export AUTOGRAPH_VERBOSITY=10`) and attach the full output. Cause: converting <bound method Conv.call of <tensorflow.python.layers.convolutional.Conv2D object at 0x7f12446f83c8>>: AssertionError: Bad argument number for Name: 3, expecting 4\n",
      "WARNING:tensorflow:Entity <bound method Conv.call of <tensorflow.python.layers.convolutional.Conv2D object at 0x7f12446af390>> could not be transformed and will be executed as-is. Please report this to the AutgoGraph team. When filing the bug, set the verbosity to 10 (on Linux, `export AUTOGRAPH_VERBOSITY=10`) and attach the full output. Cause: converting <bound method Conv.call of <tensorflow.python.layers.convolutional.Conv2D object at 0x7f12446af390>>: AssertionError: Bad argument number for Name: 3, expecting 4\n",
      "WARNING: Entity <bound method Conv.call of <tensorflow.python.layers.convolutional.Conv2D object at 0x7f12446af390>> could not be transformed and will be executed as-is. Please report this to the AutgoGraph team. When filing the bug, set the verbosity to 10 (on Linux, `export AUTOGRAPH_VERBOSITY=10`) and attach the full output. Cause: converting <bound method Conv.call of <tensorflow.python.layers.convolutional.Conv2D object at 0x7f12446af390>>: AssertionError: Bad argument number for Name: 3, expecting 4\n",
      "WARNING:tensorflow:Entity <bound method Conv.call of <tensorflow.python.layers.convolutional.Conv2D object at 0x7f1244713fd0>> could not be transformed and will be executed as-is. Please report this to the AutgoGraph team. When filing the bug, set the verbosity to 10 (on Linux, `export AUTOGRAPH_VERBOSITY=10`) and attach the full output. Cause: converting <bound method Conv.call of <tensorflow.python.layers.convolutional.Conv2D object at 0x7f1244713fd0>>: AssertionError: Bad argument number for Name: 3, expecting 4\n"
     ]
    },
    {
     "name": "stdout",
     "output_type": "stream",
     "text": [
      "WARNING: Entity <bound method Conv.call of <tensorflow.python.layers.convolutional.Conv2D object at 0x7f1244713fd0>> could not be transformed and will be executed as-is. Please report this to the AutgoGraph team. When filing the bug, set the verbosity to 10 (on Linux, `export AUTOGRAPH_VERBOSITY=10`) and attach the full output. Cause: converting <bound method Conv.call of <tensorflow.python.layers.convolutional.Conv2D object at 0x7f1244713fd0>>: AssertionError: Bad argument number for Name: 3, expecting 4\n",
      "WARNING:tensorflow:Entity <bound method Conv.call of <tensorflow.python.layers.convolutional.Conv2D object at 0x7f12446a88d0>> could not be transformed and will be executed as-is. Please report this to the AutgoGraph team. When filing the bug, set the verbosity to 10 (on Linux, `export AUTOGRAPH_VERBOSITY=10`) and attach the full output. Cause: converting <bound method Conv.call of <tensorflow.python.layers.convolutional.Conv2D object at 0x7f12446a88d0>>: AssertionError: Bad argument number for Name: 3, expecting 4\n",
      "WARNING: Entity <bound method Conv.call of <tensorflow.python.layers.convolutional.Conv2D object at 0x7f12446a88d0>> could not be transformed and will be executed as-is. Please report this to the AutgoGraph team. When filing the bug, set the verbosity to 10 (on Linux, `export AUTOGRAPH_VERBOSITY=10`) and attach the full output. Cause: converting <bound method Conv.call of <tensorflow.python.layers.convolutional.Conv2D object at 0x7f12446a88d0>>: AssertionError: Bad argument number for Name: 3, expecting 4\n",
      "WARNING:tensorflow:Entity <bound method Conv.call of <tensorflow.python.layers.convolutional.Conv2D object at 0x7f1244713c18>> could not be transformed and will be executed as-is. Please report this to the AutgoGraph team. When filing the bug, set the verbosity to 10 (on Linux, `export AUTOGRAPH_VERBOSITY=10`) and attach the full output. Cause: converting <bound method Conv.call of <tensorflow.python.layers.convolutional.Conv2D object at 0x7f1244713c18>>: AssertionError: Bad argument number for Name: 3, expecting 4\n",
      "WARNING: Entity <bound method Conv.call of <tensorflow.python.layers.convolutional.Conv2D object at 0x7f1244713c18>> could not be transformed and will be executed as-is. Please report this to the AutgoGraph team. When filing the bug, set the verbosity to 10 (on Linux, `export AUTOGRAPH_VERBOSITY=10`) and attach the full output. Cause: converting <bound method Conv.call of <tensorflow.python.layers.convolutional.Conv2D object at 0x7f1244713c18>>: AssertionError: Bad argument number for Name: 3, expecting 4\n",
      "WARNING:tensorflow:Entity <bound method Conv.call of <tensorflow.python.layers.convolutional.Conv2D object at 0x7f12445c6860>> could not be transformed and will be executed as-is. Please report this to the AutgoGraph team. When filing the bug, set the verbosity to 10 (on Linux, `export AUTOGRAPH_VERBOSITY=10`) and attach the full output. Cause: converting <bound method Conv.call of <tensorflow.python.layers.convolutional.Conv2D object at 0x7f12445c6860>>: AssertionError: Bad argument number for Name: 3, expecting 4\n",
      "WARNING: Entity <bound method Conv.call of <tensorflow.python.layers.convolutional.Conv2D object at 0x7f12445c6860>> could not be transformed and will be executed as-is. Please report this to the AutgoGraph team. When filing the bug, set the verbosity to 10 (on Linux, `export AUTOGRAPH_VERBOSITY=10`) and attach the full output. Cause: converting <bound method Conv.call of <tensorflow.python.layers.convolutional.Conv2D object at 0x7f12445c6860>>: AssertionError: Bad argument number for Name: 3, expecting 4\n",
      "WARNING:tensorflow:Entity <bound method Conv.call of <tensorflow.python.layers.convolutional.Conv2D object at 0x7f12445da6a0>> could not be transformed and will be executed as-is. Please report this to the AutgoGraph team. When filing the bug, set the verbosity to 10 (on Linux, `export AUTOGRAPH_VERBOSITY=10`) and attach the full output. Cause: converting <bound method Conv.call of <tensorflow.python.layers.convolutional.Conv2D object at 0x7f12445da6a0>>: AssertionError: Bad argument number for Name: 3, expecting 4\n",
      "WARNING: Entity <bound method Conv.call of <tensorflow.python.layers.convolutional.Conv2D object at 0x7f12445da6a0>> could not be transformed and will be executed as-is. Please report this to the AutgoGraph team. When filing the bug, set the verbosity to 10 (on Linux, `export AUTOGRAPH_VERBOSITY=10`) and attach the full output. Cause: converting <bound method Conv.call of <tensorflow.python.layers.convolutional.Conv2D object at 0x7f12445da6a0>>: AssertionError: Bad argument number for Name: 3, expecting 4\n",
      "WARNING:tensorflow:Entity <bound method Conv.call of <tensorflow.python.layers.convolutional.Conv2D object at 0x7f12445f87b8>> could not be transformed and will be executed as-is. Please report this to the AutgoGraph team. When filing the bug, set the verbosity to 10 (on Linux, `export AUTOGRAPH_VERBOSITY=10`) and attach the full output. Cause: converting <bound method Conv.call of <tensorflow.python.layers.convolutional.Conv2D object at 0x7f12445f87b8>>: AssertionError: Bad argument number for Name: 3, expecting 4\n",
      "WARNING: Entity <bound method Conv.call of <tensorflow.python.layers.convolutional.Conv2D object at 0x7f12445f87b8>> could not be transformed and will be executed as-is. Please report this to the AutgoGraph team. When filing the bug, set the verbosity to 10 (on Linux, `export AUTOGRAPH_VERBOSITY=10`) and attach the full output. Cause: converting <bound method Conv.call of <tensorflow.python.layers.convolutional.Conv2D object at 0x7f12445f87b8>>: AssertionError: Bad argument number for Name: 3, expecting 4\n",
      "WARNING:tensorflow:Entity <bound method Conv.call of <tensorflow.python.layers.convolutional.Conv2D object at 0x7f12445f8908>> could not be transformed and will be executed as-is. Please report this to the AutgoGraph team. When filing the bug, set the verbosity to 10 (on Linux, `export AUTOGRAPH_VERBOSITY=10`) and attach the full output. Cause: converting <bound method Conv.call of <tensorflow.python.layers.convolutional.Conv2D object at 0x7f12445f8908>>: AssertionError: Bad argument number for Name: 3, expecting 4\n",
      "WARNING: Entity <bound method Conv.call of <tensorflow.python.layers.convolutional.Conv2D object at 0x7f12445f8908>> could not be transformed and will be executed as-is. Please report this to the AutgoGraph team. When filing the bug, set the verbosity to 10 (on Linux, `export AUTOGRAPH_VERBOSITY=10`) and attach the full output. Cause: converting <bound method Conv.call of <tensorflow.python.layers.convolutional.Conv2D object at 0x7f12445f8908>>: AssertionError: Bad argument number for Name: 3, expecting 4\n",
      "WARNING:tensorflow:Entity <bound method Conv.call of <tensorflow.python.layers.convolutional.Conv2D object at 0x7f1244619438>> could not be transformed and will be executed as-is. Please report this to the AutgoGraph team. When filing the bug, set the verbosity to 10 (on Linux, `export AUTOGRAPH_VERBOSITY=10`) and attach the full output. Cause: converting <bound method Conv.call of <tensorflow.python.layers.convolutional.Conv2D object at 0x7f1244619438>>: AssertionError: Bad argument number for Name: 3, expecting 4\n",
      "WARNING: Entity <bound method Conv.call of <tensorflow.python.layers.convolutional.Conv2D object at 0x7f1244619438>> could not be transformed and will be executed as-is. Please report this to the AutgoGraph team. When filing the bug, set the verbosity to 10 (on Linux, `export AUTOGRAPH_VERBOSITY=10`) and attach the full output. Cause: converting <bound method Conv.call of <tensorflow.python.layers.convolutional.Conv2D object at 0x7f1244619438>>: AssertionError: Bad argument number for Name: 3, expecting 4\n",
      "WARNING:tensorflow:Entity <bound method Conv.call of <tensorflow.python.layers.convolutional.Conv2D object at 0x7f12445f8b70>> could not be transformed and will be executed as-is. Please report this to the AutgoGraph team. When filing the bug, set the verbosity to 10 (on Linux, `export AUTOGRAPH_VERBOSITY=10`) and attach the full output. Cause: converting <bound method Conv.call of <tensorflow.python.layers.convolutional.Conv2D object at 0x7f12445f8b70>>: AssertionError: Bad argument number for Name: 3, expecting 4\n"
     ]
    },
    {
     "name": "stdout",
     "output_type": "stream",
     "text": [
      "WARNING: Entity <bound method Conv.call of <tensorflow.python.layers.convolutional.Conv2D object at 0x7f12445f8b70>> could not be transformed and will be executed as-is. Please report this to the AutgoGraph team. When filing the bug, set the verbosity to 10 (on Linux, `export AUTOGRAPH_VERBOSITY=10`) and attach the full output. Cause: converting <bound method Conv.call of <tensorflow.python.layers.convolutional.Conv2D object at 0x7f12445f8b70>>: AssertionError: Bad argument number for Name: 3, expecting 4\n",
      "WARNING:tensorflow:Entity <bound method Conv.call of <tensorflow.python.layers.convolutional.Conv2D object at 0x7f12445b3cf8>> could not be transformed and will be executed as-is. Please report this to the AutgoGraph team. When filing the bug, set the verbosity to 10 (on Linux, `export AUTOGRAPH_VERBOSITY=10`) and attach the full output. Cause: converting <bound method Conv.call of <tensorflow.python.layers.convolutional.Conv2D object at 0x7f12445b3cf8>>: AssertionError: Bad argument number for Name: 3, expecting 4\n",
      "WARNING: Entity <bound method Conv.call of <tensorflow.python.layers.convolutional.Conv2D object at 0x7f12445b3cf8>> could not be transformed and will be executed as-is. Please report this to the AutgoGraph team. When filing the bug, set the verbosity to 10 (on Linux, `export AUTOGRAPH_VERBOSITY=10`) and attach the full output. Cause: converting <bound method Conv.call of <tensorflow.python.layers.convolutional.Conv2D object at 0x7f12445b3cf8>>: AssertionError: Bad argument number for Name: 3, expecting 4\n",
      "WARNING:tensorflow:Entity <bound method Conv.call of <tensorflow.python.layers.convolutional.Conv2D object at 0x7f12445b3b70>> could not be transformed and will be executed as-is. Please report this to the AutgoGraph team. When filing the bug, set the verbosity to 10 (on Linux, `export AUTOGRAPH_VERBOSITY=10`) and attach the full output. Cause: converting <bound method Conv.call of <tensorflow.python.layers.convolutional.Conv2D object at 0x7f12445b3b70>>: AssertionError: Bad argument number for Name: 3, expecting 4\n",
      "WARNING: Entity <bound method Conv.call of <tensorflow.python.layers.convolutional.Conv2D object at 0x7f12445b3b70>> could not be transformed and will be executed as-is. Please report this to the AutgoGraph team. When filing the bug, set the verbosity to 10 (on Linux, `export AUTOGRAPH_VERBOSITY=10`) and attach the full output. Cause: converting <bound method Conv.call of <tensorflow.python.layers.convolutional.Conv2D object at 0x7f12445b3b70>>: AssertionError: Bad argument number for Name: 3, expecting 4\n",
      "WARNING:tensorflow:Entity <bound method Conv.call of <tensorflow.python.layers.convolutional.Conv2D object at 0x7f12445f8c50>> could not be transformed and will be executed as-is. Please report this to the AutgoGraph team. When filing the bug, set the verbosity to 10 (on Linux, `export AUTOGRAPH_VERBOSITY=10`) and attach the full output. Cause: converting <bound method Conv.call of <tensorflow.python.layers.convolutional.Conv2D object at 0x7f12445f8c50>>: AssertionError: Bad argument number for Name: 3, expecting 4\n",
      "WARNING: Entity <bound method Conv.call of <tensorflow.python.layers.convolutional.Conv2D object at 0x7f12445f8c50>> could not be transformed and will be executed as-is. Please report this to the AutgoGraph team. When filing the bug, set the verbosity to 10 (on Linux, `export AUTOGRAPH_VERBOSITY=10`) and attach the full output. Cause: converting <bound method Conv.call of <tensorflow.python.layers.convolutional.Conv2D object at 0x7f12445f8c50>>: AssertionError: Bad argument number for Name: 3, expecting 4\n",
      "WARNING:tensorflow:Entity <bound method Conv.call of <tensorflow.python.layers.convolutional.Conv2D object at 0x7f124459fb00>> could not be transformed and will be executed as-is. Please report this to the AutgoGraph team. When filing the bug, set the verbosity to 10 (on Linux, `export AUTOGRAPH_VERBOSITY=10`) and attach the full output. Cause: converting <bound method Conv.call of <tensorflow.python.layers.convolutional.Conv2D object at 0x7f124459fb00>>: AssertionError: Bad argument number for Name: 3, expecting 4\n",
      "WARNING: Entity <bound method Conv.call of <tensorflow.python.layers.convolutional.Conv2D object at 0x7f124459fb00>> could not be transformed and will be executed as-is. Please report this to the AutgoGraph team. When filing the bug, set the verbosity to 10 (on Linux, `export AUTOGRAPH_VERBOSITY=10`) and attach the full output. Cause: converting <bound method Conv.call of <tensorflow.python.layers.convolutional.Conv2D object at 0x7f124459fb00>>: AssertionError: Bad argument number for Name: 3, expecting 4\n",
      "WARNING:tensorflow:Entity <bound method Conv.call of <tensorflow.python.layers.convolutional.Conv2D object at 0x7f124459f208>> could not be transformed and will be executed as-is. Please report this to the AutgoGraph team. When filing the bug, set the verbosity to 10 (on Linux, `export AUTOGRAPH_VERBOSITY=10`) and attach the full output. Cause: converting <bound method Conv.call of <tensorflow.python.layers.convolutional.Conv2D object at 0x7f124459f208>>: AssertionError: Bad argument number for Name: 3, expecting 4\n",
      "WARNING: Entity <bound method Conv.call of <tensorflow.python.layers.convolutional.Conv2D object at 0x7f124459f208>> could not be transformed and will be executed as-is. Please report this to the AutgoGraph team. When filing the bug, set the verbosity to 10 (on Linux, `export AUTOGRAPH_VERBOSITY=10`) and attach the full output. Cause: converting <bound method Conv.call of <tensorflow.python.layers.convolutional.Conv2D object at 0x7f124459f208>>: AssertionError: Bad argument number for Name: 3, expecting 4\n",
      "WARNING:tensorflow:Entity <bound method Conv.call of <tensorflow.python.layers.convolutional.Conv2D object at 0x7f12445b37b8>> could not be transformed and will be executed as-is. Please report this to the AutgoGraph team. When filing the bug, set the verbosity to 10 (on Linux, `export AUTOGRAPH_VERBOSITY=10`) and attach the full output. Cause: converting <bound method Conv.call of <tensorflow.python.layers.convolutional.Conv2D object at 0x7f12445b37b8>>: AssertionError: Bad argument number for Name: 3, expecting 4\n",
      "WARNING: Entity <bound method Conv.call of <tensorflow.python.layers.convolutional.Conv2D object at 0x7f12445b37b8>> could not be transformed and will be executed as-is. Please report this to the AutgoGraph team. When filing the bug, set the verbosity to 10 (on Linux, `export AUTOGRAPH_VERBOSITY=10`) and attach the full output. Cause: converting <bound method Conv.call of <tensorflow.python.layers.convolutional.Conv2D object at 0x7f12445b37b8>>: AssertionError: Bad argument number for Name: 3, expecting 4\n",
      "WARNING:tensorflow:Entity <bound method Conv.call of <tensorflow.python.layers.convolutional.Conv2D object at 0x7f124455bb38>> could not be transformed and will be executed as-is. Please report this to the AutgoGraph team. When filing the bug, set the verbosity to 10 (on Linux, `export AUTOGRAPH_VERBOSITY=10`) and attach the full output. Cause: converting <bound method Conv.call of <tensorflow.python.layers.convolutional.Conv2D object at 0x7f124455bb38>>: AssertionError: Bad argument number for Name: 3, expecting 4\n",
      "WARNING: Entity <bound method Conv.call of <tensorflow.python.layers.convolutional.Conv2D object at 0x7f124455bb38>> could not be transformed and will be executed as-is. Please report this to the AutgoGraph team. When filing the bug, set the verbosity to 10 (on Linux, `export AUTOGRAPH_VERBOSITY=10`) and attach the full output. Cause: converting <bound method Conv.call of <tensorflow.python.layers.convolutional.Conv2D object at 0x7f124455bb38>>: AssertionError: Bad argument number for Name: 3, expecting 4\n",
      "WARNING:tensorflow:Entity <bound method Conv.call of <tensorflow.python.layers.convolutional.Conv2D object at 0x7f12445b3e80>> could not be transformed and will be executed as-is. Please report this to the AutgoGraph team. When filing the bug, set the verbosity to 10 (on Linux, `export AUTOGRAPH_VERBOSITY=10`) and attach the full output. Cause: converting <bound method Conv.call of <tensorflow.python.layers.convolutional.Conv2D object at 0x7f12445b3e80>>: AssertionError: Bad argument number for Name: 3, expecting 4\n"
     ]
    },
    {
     "name": "stdout",
     "output_type": "stream",
     "text": [
      "WARNING: Entity <bound method Conv.call of <tensorflow.python.layers.convolutional.Conv2D object at 0x7f12445b3e80>> could not be transformed and will be executed as-is. Please report this to the AutgoGraph team. When filing the bug, set the verbosity to 10 (on Linux, `export AUTOGRAPH_VERBOSITY=10`) and attach the full output. Cause: converting <bound method Conv.call of <tensorflow.python.layers.convolutional.Conv2D object at 0x7f12445b3e80>>: AssertionError: Bad argument number for Name: 3, expecting 4\n",
      "WARNING:tensorflow:Entity <bound method Conv.call of <tensorflow.python.layers.convolutional.Conv2D object at 0x7f12445861d0>> could not be transformed and will be executed as-is. Please report this to the AutgoGraph team. When filing the bug, set the verbosity to 10 (on Linux, `export AUTOGRAPH_VERBOSITY=10`) and attach the full output. Cause: converting <bound method Conv.call of <tensorflow.python.layers.convolutional.Conv2D object at 0x7f12445861d0>>: AssertionError: Bad argument number for Name: 3, expecting 4\n",
      "WARNING: Entity <bound method Conv.call of <tensorflow.python.layers.convolutional.Conv2D object at 0x7f12445861d0>> could not be transformed and will be executed as-is. Please report this to the AutgoGraph team. When filing the bug, set the verbosity to 10 (on Linux, `export AUTOGRAPH_VERBOSITY=10`) and attach the full output. Cause: converting <bound method Conv.call of <tensorflow.python.layers.convolutional.Conv2D object at 0x7f12445861d0>>: AssertionError: Bad argument number for Name: 3, expecting 4\n",
      "WARNING:tensorflow:Entity <bound method Conv.call of <tensorflow.python.layers.convolutional.Conv2D object at 0x7f1244539c88>> could not be transformed and will be executed as-is. Please report this to the AutgoGraph team. When filing the bug, set the verbosity to 10 (on Linux, `export AUTOGRAPH_VERBOSITY=10`) and attach the full output. Cause: converting <bound method Conv.call of <tensorflow.python.layers.convolutional.Conv2D object at 0x7f1244539c88>>: AssertionError: Bad argument number for Name: 3, expecting 4\n",
      "WARNING: Entity <bound method Conv.call of <tensorflow.python.layers.convolutional.Conv2D object at 0x7f1244539c88>> could not be transformed and will be executed as-is. Please report this to the AutgoGraph team. When filing the bug, set the verbosity to 10 (on Linux, `export AUTOGRAPH_VERBOSITY=10`) and attach the full output. Cause: converting <bound method Conv.call of <tensorflow.python.layers.convolutional.Conv2D object at 0x7f1244539c88>>: AssertionError: Bad argument number for Name: 3, expecting 4\n",
      "WARNING:tensorflow:Entity <bound method Conv.call of <tensorflow.python.layers.convolutional.Conv2D object at 0x7f1244539828>> could not be transformed and will be executed as-is. Please report this to the AutgoGraph team. When filing the bug, set the verbosity to 10 (on Linux, `export AUTOGRAPH_VERBOSITY=10`) and attach the full output. Cause: converting <bound method Conv.call of <tensorflow.python.layers.convolutional.Conv2D object at 0x7f1244539828>>: AssertionError: Bad argument number for Name: 3, expecting 4\n",
      "WARNING: Entity <bound method Conv.call of <tensorflow.python.layers.convolutional.Conv2D object at 0x7f1244539828>> could not be transformed and will be executed as-is. Please report this to the AutgoGraph team. When filing the bug, set the verbosity to 10 (on Linux, `export AUTOGRAPH_VERBOSITY=10`) and attach the full output. Cause: converting <bound method Conv.call of <tensorflow.python.layers.convolutional.Conv2D object at 0x7f1244539828>>: AssertionError: Bad argument number for Name: 3, expecting 4\n",
      "WARNING:tensorflow:Entity <bound method Conv.call of <tensorflow.python.layers.convolutional.Conv2D object at 0x7f1244569c50>> could not be transformed and will be executed as-is. Please report this to the AutgoGraph team. When filing the bug, set the verbosity to 10 (on Linux, `export AUTOGRAPH_VERBOSITY=10`) and attach the full output. Cause: converting <bound method Conv.call of <tensorflow.python.layers.convolutional.Conv2D object at 0x7f1244569c50>>: AssertionError: Bad argument number for Name: 3, expecting 4\n",
      "WARNING: Entity <bound method Conv.call of <tensorflow.python.layers.convolutional.Conv2D object at 0x7f1244569c50>> could not be transformed and will be executed as-is. Please report this to the AutgoGraph team. When filing the bug, set the verbosity to 10 (on Linux, `export AUTOGRAPH_VERBOSITY=10`) and attach the full output. Cause: converting <bound method Conv.call of <tensorflow.python.layers.convolutional.Conv2D object at 0x7f1244569c50>>: AssertionError: Bad argument number for Name: 3, expecting 4\n",
      "WARNING:tensorflow:Entity <bound method Conv.call of <tensorflow.python.layers.convolutional.Conv2D object at 0x7f1244569978>> could not be transformed and will be executed as-is. Please report this to the AutgoGraph team. When filing the bug, set the verbosity to 10 (on Linux, `export AUTOGRAPH_VERBOSITY=10`) and attach the full output. Cause: converting <bound method Conv.call of <tensorflow.python.layers.convolutional.Conv2D object at 0x7f1244569978>>: AssertionError: Bad argument number for Name: 3, expecting 4\n",
      "WARNING: Entity <bound method Conv.call of <tensorflow.python.layers.convolutional.Conv2D object at 0x7f1244569978>> could not be transformed and will be executed as-is. Please report this to the AutgoGraph team. When filing the bug, set the verbosity to 10 (on Linux, `export AUTOGRAPH_VERBOSITY=10`) and attach the full output. Cause: converting <bound method Conv.call of <tensorflow.python.layers.convolutional.Conv2D object at 0x7f1244569978>>: AssertionError: Bad argument number for Name: 3, expecting 4\n",
      "WARNING:tensorflow:Entity <bound method Conv.call of <tensorflow.python.layers.convolutional.Conv2D object at 0x7f124450c6a0>> could not be transformed and will be executed as-is. Please report this to the AutgoGraph team. When filing the bug, set the verbosity to 10 (on Linux, `export AUTOGRAPH_VERBOSITY=10`) and attach the full output. Cause: converting <bound method Conv.call of <tensorflow.python.layers.convolutional.Conv2D object at 0x7f124450c6a0>>: AssertionError: Bad argument number for Name: 3, expecting 4\n",
      "WARNING: Entity <bound method Conv.call of <tensorflow.python.layers.convolutional.Conv2D object at 0x7f124450c6a0>> could not be transformed and will be executed as-is. Please report this to the AutgoGraph team. When filing the bug, set the verbosity to 10 (on Linux, `export AUTOGRAPH_VERBOSITY=10`) and attach the full output. Cause: converting <bound method Conv.call of <tensorflow.python.layers.convolutional.Conv2D object at 0x7f124450c6a0>>: AssertionError: Bad argument number for Name: 3, expecting 4\n",
      "WARNING:tensorflow:From ../deep_motion_mag/magnet.py:106: The name tf.image.resize_nearest_neighbor is deprecated. Please use tf.compat.v1.image.resize_nearest_neighbor instead.\n",
      "\n",
      "WARNING:tensorflow:Entity <bound method Conv.call of <tensorflow.python.layers.convolutional.Conv2D object at 0x7f12444a9470>> could not be transformed and will be executed as-is. Please report this to the AutgoGraph team. When filing the bug, set the verbosity to 10 (on Linux, `export AUTOGRAPH_VERBOSITY=10`) and attach the full output. Cause: converting <bound method Conv.call of <tensorflow.python.layers.convolutional.Conv2D object at 0x7f12444a9470>>: AssertionError: Bad argument number for Name: 3, expecting 4\n",
      "WARNING: Entity <bound method Conv.call of <tensorflow.python.layers.convolutional.Conv2D object at 0x7f12444a9470>> could not be transformed and will be executed as-is. Please report this to the AutgoGraph team. When filing the bug, set the verbosity to 10 (on Linux, `export AUTOGRAPH_VERBOSITY=10`) and attach the full output. Cause: converting <bound method Conv.call of <tensorflow.python.layers.convolutional.Conv2D object at 0x7f12444a9470>>: AssertionError: Bad argument number for Name: 3, expecting 4\n",
      "WARNING:tensorflow:Entity <bound method Conv.call of <tensorflow.python.layers.convolutional.Conv2D object at 0x7f12444786d8>> could not be transformed and will be executed as-is. Please report this to the AutgoGraph team. When filing the bug, set the verbosity to 10 (on Linux, `export AUTOGRAPH_VERBOSITY=10`) and attach the full output. Cause: converting <bound method Conv.call of <tensorflow.python.layers.convolutional.Conv2D object at 0x7f12444786d8>>: AssertionError: Bad argument number for Name: 3, expecting 4\n"
     ]
    },
    {
     "name": "stdout",
     "output_type": "stream",
     "text": [
      "WARNING: Entity <bound method Conv.call of <tensorflow.python.layers.convolutional.Conv2D object at 0x7f12444786d8>> could not be transformed and will be executed as-is. Please report this to the AutgoGraph team. When filing the bug, set the verbosity to 10 (on Linux, `export AUTOGRAPH_VERBOSITY=10`) and attach the full output. Cause: converting <bound method Conv.call of <tensorflow.python.layers.convolutional.Conv2D object at 0x7f12444786d8>>: AssertionError: Bad argument number for Name: 3, expecting 4\n",
      "WARNING:tensorflow:Entity <bound method Conv.call of <tensorflow.python.layers.convolutional.Conv2D object at 0x7f12444782e8>> could not be transformed and will be executed as-is. Please report this to the AutgoGraph team. When filing the bug, set the verbosity to 10 (on Linux, `export AUTOGRAPH_VERBOSITY=10`) and attach the full output. Cause: converting <bound method Conv.call of <tensorflow.python.layers.convolutional.Conv2D object at 0x7f12444782e8>>: AssertionError: Bad argument number for Name: 3, expecting 4\n",
      "WARNING: Entity <bound method Conv.call of <tensorflow.python.layers.convolutional.Conv2D object at 0x7f12444782e8>> could not be transformed and will be executed as-is. Please report this to the AutgoGraph team. When filing the bug, set the verbosity to 10 (on Linux, `export AUTOGRAPH_VERBOSITY=10`) and attach the full output. Cause: converting <bound method Conv.call of <tensorflow.python.layers.convolutional.Conv2D object at 0x7f12444782e8>>: AssertionError: Bad argument number for Name: 3, expecting 4\n",
      "WARNING:tensorflow:Entity <bound method Conv.call of <tensorflow.python.layers.convolutional.Conv2D object at 0x7f1244478f98>> could not be transformed and will be executed as-is. Please report this to the AutgoGraph team. When filing the bug, set the verbosity to 10 (on Linux, `export AUTOGRAPH_VERBOSITY=10`) and attach the full output. Cause: converting <bound method Conv.call of <tensorflow.python.layers.convolutional.Conv2D object at 0x7f1244478f98>>: AssertionError: Bad argument number for Name: 3, expecting 4\n",
      "WARNING: Entity <bound method Conv.call of <tensorflow.python.layers.convolutional.Conv2D object at 0x7f1244478f98>> could not be transformed and will be executed as-is. Please report this to the AutgoGraph team. When filing the bug, set the verbosity to 10 (on Linux, `export AUTOGRAPH_VERBOSITY=10`) and attach the full output. Cause: converting <bound method Conv.call of <tensorflow.python.layers.convolutional.Conv2D object at 0x7f1244478f98>>: AssertionError: Bad argument number for Name: 3, expecting 4\n",
      "WARNING:tensorflow:Entity <bound method Conv.call of <tensorflow.python.layers.convolutional.Conv2D object at 0x7f12444493c8>> could not be transformed and will be executed as-is. Please report this to the AutgoGraph team. When filing the bug, set the verbosity to 10 (on Linux, `export AUTOGRAPH_VERBOSITY=10`) and attach the full output. Cause: converting <bound method Conv.call of <tensorflow.python.layers.convolutional.Conv2D object at 0x7f12444493c8>>: AssertionError: Bad argument number for Name: 3, expecting 4\n",
      "WARNING: Entity <bound method Conv.call of <tensorflow.python.layers.convolutional.Conv2D object at 0x7f12444493c8>> could not be transformed and will be executed as-is. Please report this to the AutgoGraph team. When filing the bug, set the verbosity to 10 (on Linux, `export AUTOGRAPH_VERBOSITY=10`) and attach the full output. Cause: converting <bound method Conv.call of <tensorflow.python.layers.convolutional.Conv2D object at 0x7f12444493c8>>: AssertionError: Bad argument number for Name: 3, expecting 4\n",
      "WARNING:tensorflow:Entity <bound method Conv.call of <tensorflow.python.layers.convolutional.Conv2D object at 0x7f124458c358>> could not be transformed and will be executed as-is. Please report this to the AutgoGraph team. When filing the bug, set the verbosity to 10 (on Linux, `export AUTOGRAPH_VERBOSITY=10`) and attach the full output. Cause: converting <bound method Conv.call of <tensorflow.python.layers.convolutional.Conv2D object at 0x7f124458c358>>: AssertionError: Bad argument number for Name: 3, expecting 4\n",
      "WARNING: Entity <bound method Conv.call of <tensorflow.python.layers.convolutional.Conv2D object at 0x7f124458c358>> could not be transformed and will be executed as-is. Please report this to the AutgoGraph team. When filing the bug, set the verbosity to 10 (on Linux, `export AUTOGRAPH_VERBOSITY=10`) and attach the full output. Cause: converting <bound method Conv.call of <tensorflow.python.layers.convolutional.Conv2D object at 0x7f124458c358>>: AssertionError: Bad argument number for Name: 3, expecting 4\n",
      "WARNING:tensorflow:Entity <bound method Conv.call of <tensorflow.python.layers.convolutional.Conv2D object at 0x7f12443cd898>> could not be transformed and will be executed as-is. Please report this to the AutgoGraph team. When filing the bug, set the verbosity to 10 (on Linux, `export AUTOGRAPH_VERBOSITY=10`) and attach the full output. Cause: converting <bound method Conv.call of <tensorflow.python.layers.convolutional.Conv2D object at 0x7f12443cd898>>: AssertionError: Bad argument number for Name: 3, expecting 4\n",
      "WARNING: Entity <bound method Conv.call of <tensorflow.python.layers.convolutional.Conv2D object at 0x7f12443cd898>> could not be transformed and will be executed as-is. Please report this to the AutgoGraph team. When filing the bug, set the verbosity to 10 (on Linux, `export AUTOGRAPH_VERBOSITY=10`) and attach the full output. Cause: converting <bound method Conv.call of <tensorflow.python.layers.convolutional.Conv2D object at 0x7f12443cd898>>: AssertionError: Bad argument number for Name: 3, expecting 4\n",
      "WARNING:tensorflow:Entity <bound method Conv.call of <tensorflow.python.layers.convolutional.Conv2D object at 0x7f12443979e8>> could not be transformed and will be executed as-is. Please report this to the AutgoGraph team. When filing the bug, set the verbosity to 10 (on Linux, `export AUTOGRAPH_VERBOSITY=10`) and attach the full output. Cause: converting <bound method Conv.call of <tensorflow.python.layers.convolutional.Conv2D object at 0x7f12443979e8>>: AssertionError: Bad argument number for Name: 3, expecting 4\n",
      "WARNING: Entity <bound method Conv.call of <tensorflow.python.layers.convolutional.Conv2D object at 0x7f12443979e8>> could not be transformed and will be executed as-is. Please report this to the AutgoGraph team. When filing the bug, set the verbosity to 10 (on Linux, `export AUTOGRAPH_VERBOSITY=10`) and attach the full output. Cause: converting <bound method Conv.call of <tensorflow.python.layers.convolutional.Conv2D object at 0x7f12443979e8>>: AssertionError: Bad argument number for Name: 3, expecting 4\n",
      "WARNING:tensorflow:Entity <bound method Conv.call of <tensorflow.python.layers.convolutional.Conv2D object at 0x7f12444780f0>> could not be transformed and will be executed as-is. Please report this to the AutgoGraph team. When filing the bug, set the verbosity to 10 (on Linux, `export AUTOGRAPH_VERBOSITY=10`) and attach the full output. Cause: converting <bound method Conv.call of <tensorflow.python.layers.convolutional.Conv2D object at 0x7f12444780f0>>: AssertionError: Bad argument number for Name: 3, expecting 4\n",
      "WARNING: Entity <bound method Conv.call of <tensorflow.python.layers.convolutional.Conv2D object at 0x7f12444780f0>> could not be transformed and will be executed as-is. Please report this to the AutgoGraph team. When filing the bug, set the verbosity to 10 (on Linux, `export AUTOGRAPH_VERBOSITY=10`) and attach the full output. Cause: converting <bound method Conv.call of <tensorflow.python.layers.convolutional.Conv2D object at 0x7f12444780f0>>: AssertionError: Bad argument number for Name: 3, expecting 4\n",
      "WARNING:tensorflow:Entity <bound method Conv.call of <tensorflow.python.layers.convolutional.Conv2D object at 0x7f1244396b00>> could not be transformed and will be executed as-is. Please report this to the AutgoGraph team. When filing the bug, set the verbosity to 10 (on Linux, `export AUTOGRAPH_VERBOSITY=10`) and attach the full output. Cause: converting <bound method Conv.call of <tensorflow.python.layers.convolutional.Conv2D object at 0x7f1244396b00>>: AssertionError: Bad argument number for Name: 3, expecting 4\n"
     ]
    },
    {
     "name": "stdout",
     "output_type": "stream",
     "text": [
      "WARNING: Entity <bound method Conv.call of <tensorflow.python.layers.convolutional.Conv2D object at 0x7f1244396b00>> could not be transformed and will be executed as-is. Please report this to the AutgoGraph team. When filing the bug, set the verbosity to 10 (on Linux, `export AUTOGRAPH_VERBOSITY=10`) and attach the full output. Cause: converting <bound method Conv.call of <tensorflow.python.layers.convolutional.Conv2D object at 0x7f1244396b00>>: AssertionError: Bad argument number for Name: 3, expecting 4\n",
      "WARNING:tensorflow:Entity <bound method Conv.call of <tensorflow.python.layers.convolutional.Conv2D object at 0x7f1244365c18>> could not be transformed and will be executed as-is. Please report this to the AutgoGraph team. When filing the bug, set the verbosity to 10 (on Linux, `export AUTOGRAPH_VERBOSITY=10`) and attach the full output. Cause: converting <bound method Conv.call of <tensorflow.python.layers.convolutional.Conv2D object at 0x7f1244365c18>>: AssertionError: Bad argument number for Name: 3, expecting 4\n",
      "WARNING: Entity <bound method Conv.call of <tensorflow.python.layers.convolutional.Conv2D object at 0x7f1244365c18>> could not be transformed and will be executed as-is. Please report this to the AutgoGraph team. When filing the bug, set the verbosity to 10 (on Linux, `export AUTOGRAPH_VERBOSITY=10`) and attach the full output. Cause: converting <bound method Conv.call of <tensorflow.python.layers.convolutional.Conv2D object at 0x7f1244365c18>>: AssertionError: Bad argument number for Name: 3, expecting 4\n",
      "WARNING:tensorflow:Entity <bound method Conv.call of <tensorflow.python.layers.convolutional.Conv2D object at 0x7f1244397d68>> could not be transformed and will be executed as-is. Please report this to the AutgoGraph team. When filing the bug, set the verbosity to 10 (on Linux, `export AUTOGRAPH_VERBOSITY=10`) and attach the full output. Cause: converting <bound method Conv.call of <tensorflow.python.layers.convolutional.Conv2D object at 0x7f1244397d68>>: AssertionError: Bad argument number for Name: 3, expecting 4\n",
      "WARNING: Entity <bound method Conv.call of <tensorflow.python.layers.convolutional.Conv2D object at 0x7f1244397d68>> could not be transformed and will be executed as-is. Please report this to the AutgoGraph team. When filing the bug, set the verbosity to 10 (on Linux, `export AUTOGRAPH_VERBOSITY=10`) and attach the full output. Cause: converting <bound method Conv.call of <tensorflow.python.layers.convolutional.Conv2D object at 0x7f1244397d68>>: AssertionError: Bad argument number for Name: 3, expecting 4\n",
      "WARNING:tensorflow:Entity <bound method Conv.call of <tensorflow.python.layers.convolutional.Conv2D object at 0x7f124431ad68>> could not be transformed and will be executed as-is. Please report this to the AutgoGraph team. When filing the bug, set the verbosity to 10 (on Linux, `export AUTOGRAPH_VERBOSITY=10`) and attach the full output. Cause: converting <bound method Conv.call of <tensorflow.python.layers.convolutional.Conv2D object at 0x7f124431ad68>>: AssertionError: Bad argument number for Name: 3, expecting 4\n",
      "WARNING: Entity <bound method Conv.call of <tensorflow.python.layers.convolutional.Conv2D object at 0x7f124431ad68>> could not be transformed and will be executed as-is. Please report this to the AutgoGraph team. When filing the bug, set the verbosity to 10 (on Linux, `export AUTOGRAPH_VERBOSITY=10`) and attach the full output. Cause: converting <bound method Conv.call of <tensorflow.python.layers.convolutional.Conv2D object at 0x7f124431ad68>>: AssertionError: Bad argument number for Name: 3, expecting 4\n",
      "WARNING:tensorflow:Entity <bound method Conv.call of <tensorflow.python.layers.convolutional.Conv2D object at 0x7f1244397908>> could not be transformed and will be executed as-is. Please report this to the AutgoGraph team. When filing the bug, set the verbosity to 10 (on Linux, `export AUTOGRAPH_VERBOSITY=10`) and attach the full output. Cause: converting <bound method Conv.call of <tensorflow.python.layers.convolutional.Conv2D object at 0x7f1244397908>>: AssertionError: Bad argument number for Name: 3, expecting 4\n",
      "WARNING: Entity <bound method Conv.call of <tensorflow.python.layers.convolutional.Conv2D object at 0x7f1244397908>> could not be transformed and will be executed as-is. Please report this to the AutgoGraph team. When filing the bug, set the verbosity to 10 (on Linux, `export AUTOGRAPH_VERBOSITY=10`) and attach the full output. Cause: converting <bound method Conv.call of <tensorflow.python.layers.convolutional.Conv2D object at 0x7f1244397908>>: AssertionError: Bad argument number for Name: 3, expecting 4\n",
      "WARNING:tensorflow:Entity <bound method Conv.call of <tensorflow.python.layers.convolutional.Conv2D object at 0x7f12442f82b0>> could not be transformed and will be executed as-is. Please report this to the AutgoGraph team. When filing the bug, set the verbosity to 10 (on Linux, `export AUTOGRAPH_VERBOSITY=10`) and attach the full output. Cause: converting <bound method Conv.call of <tensorflow.python.layers.convolutional.Conv2D object at 0x7f12442f82b0>>: AssertionError: Bad argument number for Name: 3, expecting 4\n",
      "WARNING: Entity <bound method Conv.call of <tensorflow.python.layers.convolutional.Conv2D object at 0x7f12442f82b0>> could not be transformed and will be executed as-is. Please report this to the AutgoGraph team. When filing the bug, set the verbosity to 10 (on Linux, `export AUTOGRAPH_VERBOSITY=10`) and attach the full output. Cause: converting <bound method Conv.call of <tensorflow.python.layers.convolutional.Conv2D object at 0x7f12442f82b0>>: AssertionError: Bad argument number for Name: 3, expecting 4\n",
      "WARNING:tensorflow:Entity <bound method Conv.call of <tensorflow.python.layers.convolutional.Conv2D object at 0x7f12442991d0>> could not be transformed and will be executed as-is. Please report this to the AutgoGraph team. When filing the bug, set the verbosity to 10 (on Linux, `export AUTOGRAPH_VERBOSITY=10`) and attach the full output. Cause: converting <bound method Conv.call of <tensorflow.python.layers.convolutional.Conv2D object at 0x7f12442991d0>>: AssertionError: Bad argument number for Name: 3, expecting 4\n",
      "WARNING: Entity <bound method Conv.call of <tensorflow.python.layers.convolutional.Conv2D object at 0x7f12442991d0>> could not be transformed and will be executed as-is. Please report this to the AutgoGraph team. When filing the bug, set the verbosity to 10 (on Linux, `export AUTOGRAPH_VERBOSITY=10`) and attach the full output. Cause: converting <bound method Conv.call of <tensorflow.python.layers.convolutional.Conv2D object at 0x7f12442991d0>>: AssertionError: Bad argument number for Name: 3, expecting 4\n",
      "WARNING:tensorflow:Entity <bound method Conv.call of <tensorflow.python.layers.convolutional.Conv2D object at 0x7f1244271f28>> could not be transformed and will be executed as-is. Please report this to the AutgoGraph team. When filing the bug, set the verbosity to 10 (on Linux, `export AUTOGRAPH_VERBOSITY=10`) and attach the full output. Cause: converting <bound method Conv.call of <tensorflow.python.layers.convolutional.Conv2D object at 0x7f1244271f28>>: AssertionError: Bad argument number for Name: 3, expecting 4\n",
      "WARNING: Entity <bound method Conv.call of <tensorflow.python.layers.convolutional.Conv2D object at 0x7f1244271f28>> could not be transformed and will be executed as-is. Please report this to the AutgoGraph team. When filing the bug, set the verbosity to 10 (on Linux, `export AUTOGRAPH_VERBOSITY=10`) and attach the full output. Cause: converting <bound method Conv.call of <tensorflow.python.layers.convolutional.Conv2D object at 0x7f1244271f28>>: AssertionError: Bad argument number for Name: 3, expecting 4\n",
      "WARNING:tensorflow:Entity <bound method Conv.call of <tensorflow.python.layers.convolutional.Conv2D object at 0x7f1244292828>> could not be transformed and will be executed as-is. Please report this to the AutgoGraph team. When filing the bug, set the verbosity to 10 (on Linux, `export AUTOGRAPH_VERBOSITY=10`) and attach the full output. Cause: converting <bound method Conv.call of <tensorflow.python.layers.convolutional.Conv2D object at 0x7f1244292828>>: AssertionError: Bad argument number for Name: 3, expecting 4\n"
     ]
    },
    {
     "name": "stdout",
     "output_type": "stream",
     "text": [
      "WARNING: Entity <bound method Conv.call of <tensorflow.python.layers.convolutional.Conv2D object at 0x7f1244292828>> could not be transformed and will be executed as-is. Please report this to the AutgoGraph team. When filing the bug, set the verbosity to 10 (on Linux, `export AUTOGRAPH_VERBOSITY=10`) and attach the full output. Cause: converting <bound method Conv.call of <tensorflow.python.layers.convolutional.Conv2D object at 0x7f1244292828>>: AssertionError: Bad argument number for Name: 3, expecting 4\n",
      "WARNING:tensorflow:Entity <bound method Conv.call of <tensorflow.python.layers.convolutional.Conv2D object at 0x7f1244253cc0>> could not be transformed and will be executed as-is. Please report this to the AutgoGraph team. When filing the bug, set the verbosity to 10 (on Linux, `export AUTOGRAPH_VERBOSITY=10`) and attach the full output. Cause: converting <bound method Conv.call of <tensorflow.python.layers.convolutional.Conv2D object at 0x7f1244253cc0>>: AssertionError: Bad argument number for Name: 3, expecting 4\n",
      "WARNING: Entity <bound method Conv.call of <tensorflow.python.layers.convolutional.Conv2D object at 0x7f1244253cc0>> could not be transformed and will be executed as-is. Please report this to the AutgoGraph team. When filing the bug, set the verbosity to 10 (on Linux, `export AUTOGRAPH_VERBOSITY=10`) and attach the full output. Cause: converting <bound method Conv.call of <tensorflow.python.layers.convolutional.Conv2D object at 0x7f1244253cc0>>: AssertionError: Bad argument number for Name: 3, expecting 4\n",
      "WARNING:tensorflow:Entity <bound method Conv.call of <tensorflow.python.layers.convolutional.Conv2D object at 0x7f12441f10f0>> could not be transformed and will be executed as-is. Please report this to the AutgoGraph team. When filing the bug, set the verbosity to 10 (on Linux, `export AUTOGRAPH_VERBOSITY=10`) and attach the full output. Cause: converting <bound method Conv.call of <tensorflow.python.layers.convolutional.Conv2D object at 0x7f12441f10f0>>: AssertionError: Bad argument number for Name: 3, expecting 4\n",
      "WARNING: Entity <bound method Conv.call of <tensorflow.python.layers.convolutional.Conv2D object at 0x7f12441f10f0>> could not be transformed and will be executed as-is. Please report this to the AutgoGraph team. When filing the bug, set the verbosity to 10 (on Linux, `export AUTOGRAPH_VERBOSITY=10`) and attach the full output. Cause: converting <bound method Conv.call of <tensorflow.python.layers.convolutional.Conv2D object at 0x7f12441f10f0>>: AssertionError: Bad argument number for Name: 3, expecting 4\n",
      "WARNING:tensorflow:Entity <bound method Conv.call of <tensorflow.python.layers.convolutional.Conv2D object at 0x7f124417afd0>> could not be transformed and will be executed as-is. Please report this to the AutgoGraph team. When filing the bug, set the verbosity to 10 (on Linux, `export AUTOGRAPH_VERBOSITY=10`) and attach the full output. Cause: converting <bound method Conv.call of <tensorflow.python.layers.convolutional.Conv2D object at 0x7f124417afd0>>: AssertionError: Bad argument number for Name: 3, expecting 4\n",
      "WARNING: Entity <bound method Conv.call of <tensorflow.python.layers.convolutional.Conv2D object at 0x7f124417afd0>> could not be transformed and will be executed as-is. Please report this to the AutgoGraph team. When filing the bug, set the verbosity to 10 (on Linux, `export AUTOGRAPH_VERBOSITY=10`) and attach the full output. Cause: converting <bound method Conv.call of <tensorflow.python.layers.convolutional.Conv2D object at 0x7f124417afd0>>: AssertionError: Bad argument number for Name: 3, expecting 4\n",
      "WARNING:tensorflow:From ../deep_motion_mag/magnet.py:195: The name tf.train.Saver is deprecated. Please use tf.compat.v1.train.Saver instead.\n",
      "\n",
      "WARNING:tensorflow:From ../deep_motion_mag/magnet.py:207: The name tf.global_variables_initializer is deprecated. Please use tf.compat.v1.global_variables_initializer instead.\n",
      "\n",
      "WARNING:tensorflow:From ../deep_motion_mag/magnet.py:208: The name tf.local_variables_initializer is deprecated. Please use tf.compat.v1.local_variables_initializer instead.\n",
      "\n",
      " [*] Reading checkpoint...\n",
      "WARNING:tensorflow:From /afs/csail.mit.edu/u/c/cfosco/.local/lib/python3.5/site-packages/tensorflow/python/training/saver.py:1276: checkpoint_exists (from tensorflow.python.training.checkpoint_management) is deprecated and will be removed in a future version.\n",
      "Instructions for updating:\n",
      "Use standard file APIs to check for files with this prefix.\n",
      "INFO:tensorflow:Restoring parameters from ../deep_motion_mag/data/training/o3f_hmhm2_bg_qnoise_mix4_nl_n_t_ds3/checkpoint/o3f_hmhm2_bg_qnoise_mix4_nl_n_t_ds3-259002\n"
     ]
    },
    {
     "name": "stderr",
     "output_type": "stream",
     "text": [
      "\n",
      "1260311_A_:   0%|          | 0/25 [00:00<?, ?it/s]\u001b[A"
     ]
    },
    {
     "name": "stdout",
     "output_type": "stream",
     "text": [
      "Loaded from ckpt: ../deep_motion_mag/data/training/o3f_hmhm2_bg_qnoise_mix4_nl_n_t_ds3/checkpoint/o3f_hmhm2_bg_qnoise_mix4_nl_n_t_ds3-259002\n",
      "[*] Load Success\n",
      "Iteration number is 259002\n",
      "Running in Dynamic mode\n"
     ]
    },
    {
     "name": "stderr",
     "output_type": "stream",
     "text": [
      "\n",
      "1260311_A_:   4%|▍         | 1/25 [00:01<00:36,  1.52s/it]\u001b[A\n",
      "1260311_A_:  20%|██        | 5/25 [00:01<00:21,  1.07s/it]\u001b[A\n",
      "1260311_A_:  40%|████      | 10/25 [00:01<00:11,  1.32it/s]\u001b[A\n",
      "1260311_A_:  60%|██████    | 15/25 [00:01<00:05,  1.86it/s]\u001b[A\n",
      "1260311_A_:  80%|████████  | 20/25 [00:01<00:01,  2.60it/s]\u001b[A\n",
      "1260311_A_: 100%|██████████| 25/25 [00:02<00:00, 11.83it/s]\u001b[A\n",
      "  0%|          | 1/1008 [00:09<2:37:00,  9.35s/it]\n",
      "2057131_A_:   0%|          | 0/25 [00:00<?, ?it/s]\u001b[A\n",
      "2057131_A_:  16%|█▌        | 4/25 [00:00<00:00, 32.55it/s]\u001b[A"
     ]
    },
    {
     "name": "stdout",
     "output_type": "stream",
     "text": [
      "running motion mag for vid: 2057131_A_002.mp4\n",
      "video ../../deepfake_data/fb_dfd_release_0.1_final/original_videos_crops/2057131_A_002.mp4\n",
      "Iteration number is 259002\n",
      "Running in Dynamic mode\n"
     ]
    },
    {
     "name": "stderr",
     "output_type": "stream",
     "text": [
      "\n",
      "2057131_A_:  36%|███▌      | 9/25 [00:00<00:00, 35.09it/s]\u001b[A\n",
      "2057131_A_:  56%|█████▌    | 14/25 [00:00<00:00, 37.17it/s]\u001b[A\n",
      "2057131_A_:  76%|███████▌  | 19/25 [00:00<00:00, 38.94it/s]\u001b[A\n",
      "2057131_A_: 100%|██████████| 25/25 [00:00<00:00, 39.01it/s]\u001b[A\n",
      "  0%|          | 2/1008 [00:10<1:54:00,  6.80s/it]\n",
      "1974002_B_:   0%|          | 0/25 [00:00<?, ?it/s]\u001b[A\n",
      "1974002_B_:  16%|█▌        | 4/25 [00:00<00:00, 34.32it/s]\u001b[A"
     ]
    },
    {
     "name": "stdout",
     "output_type": "stream",
     "text": [
      "running motion mag for vid: 1974002_B_001.mp4\n",
      "video ../../deepfake_data/fb_dfd_release_0.1_final/original_videos_crops/1974002_B_001.mp4\n",
      "Iteration number is 259002\n",
      "Running in Dynamic mode\n"
     ]
    },
    {
     "name": "stderr",
     "output_type": "stream",
     "text": [
      "\n",
      "1974002_B_:  32%|███▏      | 8/25 [00:00<00:00, 33.59it/s]\u001b[A\n",
      "1974002_B_:  52%|█████▏    | 13/25 [00:00<00:00, 35.41it/s]\u001b[A\n",
      "1974002_B_:  72%|███████▏  | 18/25 [00:00<00:00, 36.96it/s]\u001b[A\n",
      "1974002_B_: 100%|██████████| 25/25 [00:00<00:00, 38.24it/s]\u001b[A\n",
      "  0%|          | 3/1008 [00:11<1:24:06,  5.02s/it]\n",
      "1795659_B_:   0%|          | 0/25 [00:00<?, ?it/s]\u001b[A\n",
      "1795659_B_:  16%|█▌        | 4/25 [00:00<00:00, 32.88it/s]\u001b[A"
     ]
    },
    {
     "name": "stdout",
     "output_type": "stream",
     "text": [
      "running motion mag for vid: 1795659_B_003.mp4\n",
      "video ../../deepfake_data/fb_dfd_release_0.1_final/original_videos_crops/1795659_B_003.mp4\n",
      "Iteration number is 259002\n",
      "Running in Dynamic mode\n"
     ]
    },
    {
     "name": "stderr",
     "output_type": "stream",
     "text": [
      "\n",
      "1795659_B_:  32%|███▏      | 8/25 [00:00<00:00, 34.73it/s]\u001b[A\n",
      "1795659_B_:  48%|████▊     | 12/25 [00:00<00:00, 34.59it/s]\u001b[A\n",
      "1795659_B_:  64%|██████▍   | 16/25 [00:00<00:00, 34.53it/s]\u001b[A\n",
      "1795659_B_:  80%|████████  | 20/25 [00:00<00:00, 35.63it/s]\u001b[A\n",
      "1795659_B_: 100%|██████████| 25/25 [00:00<00:00, 36.37it/s]\u001b[A\n",
      "  0%|          | 4/1008 [00:11<1:03:25,  3.79s/it]\n",
      "2104983_B_:   0%|          | 0/25 [00:00<?, ?it/s]\u001b[A\n",
      "2104983_B_:  12%|█▏        | 3/25 [00:00<00:00, 28.10it/s]\u001b[A"
     ]
    },
    {
     "name": "stdout",
     "output_type": "stream",
     "text": [
      "running motion mag for vid: 2104983_B_001.mp4\n",
      "video ../../deepfake_data/fb_dfd_release_0.1_final/original_videos_crops/2104983_B_001.mp4\n",
      "Iteration number is 259002\n",
      "Running in Dynamic mode\n"
     ]
    },
    {
     "name": "stderr",
     "output_type": "stream",
     "text": [
      "\n",
      "2104983_B_:  28%|██▊       | 7/25 [00:00<00:00, 29.99it/s]\u001b[A\n",
      "2104983_B_:  44%|████▍     | 11/25 [00:00<00:00, 32.02it/s]\u001b[A\n",
      "2104983_B_:  60%|██████    | 15/25 [00:00<00:00, 33.94it/s]\u001b[A\n",
      "2104983_B_:  76%|███████▌  | 19/25 [00:00<00:00, 35.55it/s]\u001b[A\n",
      "2104983_B_: 100%|██████████| 25/25 [00:00<00:00, 35.77it/s]\u001b[A\n",
      "  0%|          | 5/1008 [00:12<48:43,  2.92s/it]  \n",
      "1916010_D_:   0%|          | 0/25 [00:00<?, ?it/s]\u001b[A\n",
      "1916010_D_:  16%|█▌        | 4/25 [00:00<00:00, 34.12it/s]\u001b[A"
     ]
    },
    {
     "name": "stdout",
     "output_type": "stream",
     "text": [
      "running motion mag for vid: 1916010_D_003.mp4\n",
      "video ../../deepfake_data/fb_dfd_release_0.1_final/original_videos_crops/1916010_D_003.mp4\n",
      "Iteration number is 259002\n",
      "Running in Dynamic mode\n"
     ]
    },
    {
     "name": "stderr",
     "output_type": "stream",
     "text": [
      "\n",
      "1916010_D_:  36%|███▌      | 9/25 [00:00<00:00, 35.84it/s]\u001b[A\n",
      "1916010_D_:  52%|█████▏    | 13/25 [00:00<00:00, 36.79it/s]\u001b[A\n",
      "1916010_D_:  68%|██████▊   | 17/25 [00:00<00:00, 37.18it/s]\u001b[A\n",
      "1916010_D_:  84%|████████▍ | 21/25 [00:00<00:00, 37.90it/s]\u001b[A\n",
      "1916010_D_: 100%|██████████| 25/25 [00:00<00:00, 38.45it/s]\u001b[A\n",
      "  1%|          | 6/1008 [00:13<38:23,  2.30s/it]\n",
      "1976794_C_:   0%|          | 0/25 [00:00<?, ?it/s]\u001b[A\n",
      "1976794_C_:  16%|█▌        | 4/25 [00:00<00:00, 37.42it/s]\u001b[A"
     ]
    },
    {
     "name": "stdout",
     "output_type": "stream",
     "text": [
      "running motion mag for vid: 1976794_C_003.mp4\n",
      "video ../../deepfake_data/fb_dfd_release_0.1_final/original_videos_crops/1976794_C_003.mp4\n",
      "Iteration number is 259002\n",
      "Running in Dynamic mode\n"
     ]
    },
    {
     "name": "stderr",
     "output_type": "stream",
     "text": [
      "\n",
      "1976794_C_:  32%|███▏      | 8/25 [00:00<00:00, 36.54it/s]\u001b[A\n",
      "1976794_C_:  48%|████▊     | 12/25 [00:00<00:00, 36.23it/s]\u001b[A\n",
      "1976794_C_:  64%|██████▍   | 16/25 [00:00<00:00, 37.18it/s]\u001b[A\n",
      "1976794_C_:  80%|████████  | 20/25 [00:00<00:00, 37.92it/s]\u001b[A\n",
      "1976794_C_: 100%|██████████| 25/25 [00:00<00:00, 37.51it/s]\u001b[A\n",
      "  1%|          | 7/1008 [00:14<31:16,  1.87s/it]\n",
      "2060058_A_:   0%|          | 0/25 [00:00<?, ?it/s]\u001b[A\n",
      "2060058_A_:  12%|█▏        | 3/25 [00:00<00:00, 27.18it/s]\u001b[A"
     ]
    },
    {
     "name": "stdout",
     "output_type": "stream",
     "text": [
      "running motion mag for vid: 2050389_I_003.mp4\n",
      "video ../../deepfake_data/fb_dfd_release_0.1_final/original_videos_crops/2050389_I_003.mp4\n",
      "Exception found: 'NoneType' object has no attribute 'astype'\n",
      "running motion mag for vid: 2060058_A_001.mp4\n",
      "video ../../deepfake_data/fb_dfd_release_0.1_final/original_videos_crops/2060058_A_001.mp4\n",
      "Iteration number is 259002\n",
      "Running in Dynamic mode\n"
     ]
    },
    {
     "name": "stderr",
     "output_type": "stream",
     "text": [
      "\n",
      "2060058_A_:  28%|██▊       | 7/25 [00:00<00:00, 29.06it/s]\u001b[A\n",
      "2060058_A_:  44%|████▍     | 11/25 [00:00<00:00, 30.58it/s]\u001b[A\n",
      "2060058_A_:  60%|██████    | 15/25 [00:00<00:00, 32.13it/s]\u001b[A\n",
      "2060058_A_:  76%|███████▌  | 19/25 [00:00<00:00, 32.12it/s]\u001b[A\n",
      "2060058_A_: 100%|██████████| 25/25 [00:00<00:00, 33.74it/s]\u001b[A\n",
      "  1%|          | 9/1008 [00:15<24:11,  1.45s/it]\n",
      "700790_D_0:   0%|          | 0/25 [00:00<?, ?it/s]\u001b[A\n",
      "700790_D_0:  12%|█▏        | 3/25 [00:00<00:00, 29.49it/s]\u001b[A"
     ]
    },
    {
     "name": "stdout",
     "output_type": "stream",
     "text": [
      "running motion mag for vid: 700790_D_001.mp4\n",
      "video ../../deepfake_data/fb_dfd_release_0.1_final/original_videos_crops/700790_D_001.mp4\n",
      "Iteration number is 259002\n",
      "Running in Dynamic mode\n"
     ]
    },
    {
     "name": "stderr",
     "output_type": "stream",
     "text": [
      "\n",
      "700790_D_0:  28%|██▊       | 7/25 [00:00<00:00, 31.35it/s]\u001b[A\n",
      "700790_D_0:  44%|████▍     | 11/25 [00:00<00:00, 32.89it/s]\u001b[A\n",
      "700790_D_0:  60%|██████    | 15/25 [00:00<00:00, 34.66it/s]\u001b[A\n",
      "700790_D_0:  80%|████████  | 20/25 [00:00<00:00, 36.46it/s]\u001b[A\n",
      "700790_D_0: 100%|██████████| 25/25 [00:00<00:00, 38.22it/s]\u001b[A\n",
      "  1%|          | 10/1008 [00:16<21:11,  1.27s/it]\n",
      "1974002_F_:   0%|          | 0/25 [00:00<?, ?it/s]\u001b[A\n",
      "1974002_F_:  16%|█▌        | 4/25 [00:00<00:00, 34.40it/s]\u001b[A"
     ]
    },
    {
     "name": "stdout",
     "output_type": "stream",
     "text": [
      "running motion mag for vid: 1974002_F_001.mp4\n",
      "video ../../deepfake_data/fb_dfd_release_0.1_final/original_videos_crops/1974002_F_001.mp4\n",
      "Iteration number is 259002\n",
      "Running in Dynamic mode\n"
     ]
    },
    {
     "name": "stderr",
     "output_type": "stream",
     "text": [
      "\n",
      "1974002_F_:  36%|███▌      | 9/25 [00:00<00:00, 36.16it/s]\u001b[A\n",
      "1974002_F_:  56%|█████▌    | 14/25 [00:00<00:00, 37.33it/s]\u001b[A\n",
      "1974002_F_:  76%|███████▌  | 19/25 [00:00<00:00, 38.33it/s]\u001b[A\n",
      "1974002_F_: 100%|██████████| 25/25 [00:00<00:00, 39.52it/s]\u001b[A\n",
      "  1%|          | 11/1008 [00:17<19:03,  1.15s/it]\n",
      "2057131_E_:   0%|          | 0/25 [00:00<?, ?it/s]\u001b[A\n",
      "2057131_E_:  16%|█▌        | 4/25 [00:00<00:00, 33.57it/s]\u001b[A"
     ]
    },
    {
     "name": "stdout",
     "output_type": "stream",
     "text": [
      "running motion mag for vid: 2057131_E_002.mp4\n",
      "video ../../deepfake_data/fb_dfd_release_0.1_final/original_videos_crops/2057131_E_002.mp4\n",
      "Iteration number is 259002\n",
      "Running in Dynamic mode\n"
     ]
    },
    {
     "name": "stderr",
     "output_type": "stream",
     "text": [
      "\n",
      "2057131_E_:  36%|███▌      | 9/25 [00:00<00:00, 35.41it/s]\u001b[A\n",
      "2057131_E_:  56%|█████▌    | 14/25 [00:00<00:00, 36.64it/s]\u001b[A\n",
      "2057131_E_:  76%|███████▌  | 19/25 [00:00<00:00, 38.20it/s]\u001b[A\n",
      "2057131_E_: 100%|██████████| 25/25 [00:00<00:00, 37.01it/s]\u001b[A\n",
      "  1%|          | 12/1008 [00:18<17:49,  1.07s/it]\n",
      "1260311_E_:   0%|          | 0/25 [00:00<?, ?it/s]\u001b[A\n",
      "1260311_E_:  16%|█▌        | 4/25 [00:00<00:00, 36.58it/s]\u001b[A"
     ]
    },
    {
     "name": "stdout",
     "output_type": "stream",
     "text": [
      "running motion mag for vid: 1260311_E_001.mp4\n",
      "video ../../deepfake_data/fb_dfd_release_0.1_final/original_videos_crops/1260311_E_001.mp4\n",
      "Iteration number is 259002\n",
      "Running in Dynamic mode\n"
     ]
    },
    {
     "name": "stderr",
     "output_type": "stream",
     "text": [
      "\n",
      "1260311_E_:  36%|███▌      | 9/25 [00:00<00:00, 38.34it/s]\u001b[A\n",
      "1260311_E_:  56%|█████▌    | 14/25 [00:00<00:00, 39.87it/s]\u001b[A\n",
      "1260311_E_:  76%|███████▌  | 19/25 [00:00<00:00, 40.68it/s]\u001b[A\n",
      "1260311_E_: 100%|██████████| 25/25 [00:00<00:00, 40.66it/s]\u001b[A\n",
      "  1%|▏         | 13/1008 [00:18<16:24,  1.01it/s]\n",
      "2022094_E_:   0%|          | 0/25 [00:00<?, ?it/s]\u001b[A\n",
      "2022094_E_:  16%|█▌        | 4/25 [00:00<00:00, 38.31it/s]\u001b[A"
     ]
    },
    {
     "name": "stdout",
     "output_type": "stream",
     "text": [
      "running motion mag for vid: 2022094_E_003.mp4\n",
      "video ../../deepfake_data/fb_dfd_release_0.1_final/original_videos_crops/2022094_E_003.mp4\n",
      "Iteration number is 259002\n",
      "Running in Dynamic mode\n"
     ]
    },
    {
     "name": "stderr",
     "output_type": "stream",
     "text": [
      "\n",
      "2022094_E_:  36%|███▌      | 9/25 [00:00<00:00, 38.65it/s]\u001b[A\n",
      "2022094_E_:  56%|█████▌    | 14/25 [00:00<00:00, 39.10it/s]\u001b[A\n",
      "2022094_E_:  76%|███████▌  | 19/25 [00:00<00:00, 39.63it/s]\u001b[A\n",
      "2022094_E_: 100%|██████████| 25/25 [00:00<00:00, 38.93it/s]\u001b[A\n",
      "  1%|▏         | 14/1008 [00:19<15:49,  1.05it/s]\n",
      "1939161_A_:   0%|          | 0/25 [00:00<?, ?it/s]\u001b[A\n",
      "1939161_A_:  12%|█▏        | 3/25 [00:00<00:00, 28.10it/s]\u001b[A"
     ]
    },
    {
     "name": "stdout",
     "output_type": "stream",
     "text": [
      "running motion mag for vid: 1939161_A_001.mp4\n",
      "video ../../deepfake_data/fb_dfd_release_0.1_final/original_videos_crops/1939161_A_001.mp4\n",
      "Iteration number is 259002\n",
      "Running in Dynamic mode\n"
     ]
    },
    {
     "name": "stderr",
     "output_type": "stream",
     "text": [
      "\n",
      "1939161_A_:  28%|██▊       | 7/25 [00:00<00:00, 29.73it/s]\u001b[A\n",
      "1939161_A_:  48%|████▊     | 12/25 [00:00<00:00, 32.33it/s]\u001b[A\n",
      "1939161_A_:  64%|██████▍   | 16/25 [00:00<00:00, 33.55it/s]\u001b[A\n",
      "1939161_A_:  84%|████████▍ | 21/25 [00:00<00:00, 35.65it/s]\u001b[A\n",
      "1939161_A_: 100%|██████████| 25/25 [00:00<00:00, 36.86it/s]\u001b[A\n",
      "  1%|▏         | 15/1008 [00:20<15:25,  1.07it/s]\n",
      "1853436_C_:   0%|          | 0/25 [00:00<?, ?it/s]\u001b[A\n",
      "1853436_C_:  16%|█▌        | 4/25 [00:00<00:00, 39.69it/s]\u001b[A"
     ]
    },
    {
     "name": "stdout",
     "output_type": "stream",
     "text": [
      "running motion mag for vid: 1853436_C_001.mp4\n",
      "video ../../deepfake_data/fb_dfd_release_0.1_final/original_videos_crops/1853436_C_001.mp4\n",
      "Iteration number is 259002\n",
      "Running in Dynamic mode\n"
     ]
    },
    {
     "name": "stderr",
     "output_type": "stream",
     "text": [
      "\n",
      "1853436_C_:  32%|███▏      | 8/25 [00:00<00:00, 37.41it/s]\u001b[A\n",
      "1853436_C_:  52%|█████▏    | 13/25 [00:00<00:00, 38.97it/s]\u001b[A\n",
      "1853436_C_:  72%|███████▏  | 18/25 [00:00<00:00, 40.55it/s]\u001b[A\n",
      "1853436_C_: 100%|██████████| 25/25 [00:00<00:00, 41.03it/s]\u001b[A\n",
      "  2%|▏         | 16/1008 [00:21<14:50,  1.11it/s]\n",
      "2050389_E_:   0%|          | 0/13 [00:00<?, ?it/s]\u001b[A\n",
      "2050389_E_:  38%|███▊      | 5/13 [00:00<00:00, 43.96it/s]\u001b[A"
     ]
    },
    {
     "name": "stdout",
     "output_type": "stream",
     "text": [
      "running motion mag for vid: 2050389_E_003.mp4\n",
      "video ../../deepfake_data/fb_dfd_release_0.1_final/original_videos_crops/2050389_E_003.mp4\n",
      "Iteration number is 259002\n",
      "Running in Dynamic mode\n"
     ]
    },
    {
     "name": "stderr",
     "output_type": "stream",
     "text": [
      "\n",
      "2050389_E_: 100%|██████████| 13/13 [00:00<00:00, 44.30it/s]\u001b[A\n",
      "  2%|▏         | 17/1008 [00:21<12:45,  1.29it/s]\n",
      "748594_E_0:   0%|          | 0/25 [00:00<?, ?it/s]\u001b[A\n",
      "748594_E_0:  16%|█▌        | 4/25 [00:00<00:00, 37.72it/s]\u001b[A"
     ]
    },
    {
     "name": "stdout",
     "output_type": "stream",
     "text": [
      "running motion mag for vid: 748594_E_002.mp4\n",
      "video ../../deepfake_data/fb_dfd_release_0.1_final/original_videos_crops/748594_E_002.mp4\n",
      "Iteration number is 259002\n",
      "Running in Dynamic mode\n"
     ]
    },
    {
     "name": "stderr",
     "output_type": "stream",
     "text": [
      "\n",
      "748594_E_0:  36%|███▌      | 9/25 [00:00<00:00, 39.66it/s]\u001b[A\n",
      "748594_E_0:  56%|█████▌    | 14/25 [00:00<00:00, 40.87it/s]\u001b[A\n",
      "748594_E_0:  76%|███████▌  | 19/25 [00:00<00:00, 42.09it/s]\u001b[A\n",
      "748594_E_0: 100%|██████████| 25/25 [00:00<00:00, 42.79it/s]\u001b[A\n",
      "  2%|▏         | 18/1008 [00:22<12:47,  1.29it/s]\n",
      "1677632_F_:   0%|          | 0/25 [00:00<?, ?it/s]\u001b[A\n",
      "1677632_F_:  16%|█▌        | 4/25 [00:00<00:00, 33.76it/s]\u001b[A"
     ]
    },
    {
     "name": "stdout",
     "output_type": "stream",
     "text": [
      "running motion mag for vid: 1677632_F_001.mp4\n",
      "video ../../deepfake_data/fb_dfd_release_0.1_final/original_videos_crops/1677632_F_001.mp4\n",
      "Iteration number is 259002\n",
      "Running in Dynamic mode\n"
     ]
    },
    {
     "name": "stderr",
     "output_type": "stream",
     "text": [
      "\n",
      "1677632_F_:  36%|███▌      | 9/25 [00:00<00:00, 35.93it/s]\u001b[A\n",
      "1677632_F_:  56%|█████▌    | 14/25 [00:00<00:00, 38.16it/s]\u001b[A\n",
      "1677632_F_:  76%|███████▌  | 19/25 [00:00<00:00, 39.32it/s]\u001b[A\n",
      "1677632_F_: 100%|██████████| 25/25 [00:00<00:00, 40.62it/s]\u001b[A\n",
      "  2%|▏         | 19/1008 [00:23<13:15,  1.24it/s]\n",
      "1916010_H_:   0%|          | 0/25 [00:00<?, ?it/s]\u001b[A\n",
      "1916010_H_:  12%|█▏        | 3/25 [00:00<00:00, 29.25it/s]\u001b[A"
     ]
    },
    {
     "name": "stdout",
     "output_type": "stream",
     "text": [
      "running motion mag for vid: 1916010_H_003.mp4\n",
      "video ../../deepfake_data/fb_dfd_release_0.1_final/original_videos_crops/1916010_H_003.mp4\n",
      "Iteration number is 259002\n",
      "Running in Dynamic mode\n"
     ]
    },
    {
     "name": "stderr",
     "output_type": "stream",
     "text": [
      "\n",
      "1916010_H_:  24%|██▍       | 6/25 [00:00<00:00, 29.00it/s]\u001b[A\n",
      "1916010_H_:  36%|███▌      | 9/25 [00:00<00:00, 28.76it/s]\u001b[A\n",
      "1916010_H_:  52%|█████▏    | 13/25 [00:00<00:00, 30.01it/s]\u001b[A\n",
      "1916010_H_:  68%|██████▊   | 17/25 [00:00<00:00, 30.76it/s]\u001b[A\n",
      "1916010_H_:  80%|████████  | 20/25 [00:00<00:00, 30.24it/s]\u001b[A\n",
      "1916010_H_: 100%|██████████| 25/25 [00:00<00:00, 30.29it/s]\u001b[A\n",
      "  2%|▏         | 20/1008 [00:24<14:18,  1.15it/s]\n",
      "2113344_E_:   0%|          | 0/25 [00:00<?, ?it/s]\u001b[A\n",
      "2113344_E_:  12%|█▏        | 3/25 [00:00<00:00, 27.42it/s]\u001b[A"
     ]
    },
    {
     "name": "stdout",
     "output_type": "stream",
     "text": [
      "running motion mag for vid: 2113344_E_002.mp4\n",
      "video ../../deepfake_data/fb_dfd_release_0.1_final/original_videos_crops/2113344_E_002.mp4\n",
      "Iteration number is 259002\n",
      "Running in Dynamic mode\n"
     ]
    },
    {
     "name": "stderr",
     "output_type": "stream",
     "text": [
      "\n",
      "2113344_E_:  24%|██▍       | 6/25 [00:00<00:00, 28.00it/s]\u001b[A\n",
      "2113344_E_:  40%|████      | 10/25 [00:00<00:00, 29.89it/s]\u001b[A\n",
      "2113344_E_:  56%|█████▌    | 14/25 [00:00<00:00, 31.29it/s]\u001b[A\n",
      "2113344_E_:  72%|███████▏  | 18/25 [00:00<00:00, 33.20it/s]\u001b[A\n",
      "2113344_E_: 100%|██████████| 25/25 [00:00<00:00, 34.81it/s]\u001b[A\n",
      "  2%|▏         | 21/1008 [00:25<14:26,  1.14it/s]\n",
      "2113344_A_:   0%|          | 0/25 [00:00<?, ?it/s]\u001b[A\n",
      "2113344_A_:  16%|█▌        | 4/25 [00:00<00:00, 32.95it/s]\u001b[A"
     ]
    },
    {
     "name": "stdout",
     "output_type": "stream",
     "text": [
      "running motion mag for vid: 2113344_A_002.mp4\n",
      "video ../../deepfake_data/fb_dfd_release_0.1_final/original_videos_crops/2113344_A_002.mp4\n",
      "Iteration number is 259002\n",
      "Running in Dynamic mode\n"
     ]
    },
    {
     "name": "stderr",
     "output_type": "stream",
     "text": [
      "\n",
      "2113344_A_:  32%|███▏      | 8/25 [00:00<00:00, 33.70it/s]\u001b[A\n",
      "2113344_A_:  44%|████▍     | 11/25 [00:00<00:00, 32.26it/s]\u001b[A\n",
      "2113344_A_:  60%|██████    | 15/25 [00:00<00:00, 33.65it/s]\u001b[A\n",
      "2113344_A_:  80%|████████  | 20/25 [00:00<00:00, 35.60it/s]\u001b[A\n",
      "2113344_A_: 100%|██████████| 25/25 [00:00<00:00, 35.62it/s]\u001b[A\n",
      "  2%|▏         | 22/1008 [00:26<14:38,  1.12it/s]\n",
      "2022094_I_:   0%|          | 0/25 [00:00<?, ?it/s]\u001b[A\n",
      "2022094_I_:  16%|█▌        | 4/25 [00:00<00:00, 36.69it/s]\u001b[A"
     ]
    },
    {
     "name": "stdout",
     "output_type": "stream",
     "text": [
      "running motion mag for vid: 2022094_I_003.mp4\n",
      "video ../../deepfake_data/fb_dfd_release_0.1_final/original_videos_crops/2022094_I_003.mp4\n",
      "Iteration number is 259002\n",
      "Running in Dynamic mode\n"
     ]
    },
    {
     "name": "stderr",
     "output_type": "stream",
     "text": [
      "\n",
      "2022094_I_:  36%|███▌      | 9/25 [00:00<00:00, 38.05it/s]\u001b[A\n",
      "2022094_I_:  56%|█████▌    | 14/25 [00:00<00:00, 38.99it/s]\u001b[A\n",
      "2022094_I_:  76%|███████▌  | 19/25 [00:00<00:00, 39.83it/s]\u001b[A\n",
      "2022094_I_: 100%|██████████| 25/25 [00:00<00:00, 40.47it/s]\u001b[A\n",
      "  2%|▏         | 23/1008 [00:27<14:17,  1.15it/s]\n",
      "1974002_J_:   0%|          | 0/25 [00:00<?, ?it/s]\u001b[A\n",
      "1974002_J_:  16%|█▌        | 4/25 [00:00<00:00, 31.61it/s]\u001b[A"
     ]
    },
    {
     "name": "stdout",
     "output_type": "stream",
     "text": [
      "running motion mag for vid: 1974002_J_001.mp4\n",
      "video ../../deepfake_data/fb_dfd_release_0.1_final/original_videos_crops/1974002_J_001.mp4\n",
      "Iteration number is 259002\n",
      "Running in Dynamic mode\n"
     ]
    },
    {
     "name": "stderr",
     "output_type": "stream",
     "text": [
      "\n",
      "1974002_J_:  32%|███▏      | 8/25 [00:00<00:00, 33.47it/s]\u001b[A\n",
      "1974002_J_:  48%|████▊     | 12/25 [00:00<00:00, 33.83it/s]\u001b[A\n",
      "1974002_J_:  64%|██████▍   | 16/25 [00:00<00:00, 33.31it/s]\u001b[A\n",
      "1974002_J_:  80%|████████  | 20/25 [00:00<00:00, 34.11it/s]\u001b[A\n",
      "1974002_J_: 100%|██████████| 25/25 [00:00<00:00, 34.12it/s]\u001b[A\n",
      "  2%|▏         | 24/1008 [00:28<14:37,  1.12it/s]\n",
      "748594_A_0:   0%|          | 0/25 [00:00<?, ?it/s]\u001b[A\n",
      "748594_A_0:  16%|█▌        | 4/25 [00:00<00:00, 33.40it/s]\u001b[A"
     ]
    },
    {
     "name": "stdout",
     "output_type": "stream",
     "text": [
      "running motion mag for vid: 748594_A_002.mp4\n",
      "video ../../deepfake_data/fb_dfd_release_0.1_final/original_videos_crops/748594_A_002.mp4\n",
      "Iteration number is 259002\n",
      "Running in Dynamic mode\n"
     ]
    },
    {
     "name": "stderr",
     "output_type": "stream",
     "text": [
      "\n",
      "748594_A_0:  36%|███▌      | 9/25 [00:00<00:00, 35.19it/s]\u001b[A\n",
      "748594_A_0:  56%|█████▌    | 14/25 [00:00<00:00, 36.56it/s]\u001b[A\n",
      "748594_A_0:  72%|███████▏  | 18/25 [00:00<00:00, 36.96it/s]\u001b[A\n",
      "748594_A_0: 100%|██████████| 25/25 [00:00<00:00, 38.78it/s]\u001b[A\n",
      "  2%|▏         | 25/1008 [00:29<14:21,  1.14it/s]\n",
      "2050389_A_:   0%|          | 0/25 [00:00<?, ?it/s]\u001b[A\n",
      "2050389_A_:  16%|█▌        | 4/25 [00:00<00:00, 31.87it/s]\u001b[A"
     ]
    },
    {
     "name": "stdout",
     "output_type": "stream",
     "text": [
      "running motion mag for vid: 2050389_A_003.mp4\n",
      "video ../../deepfake_data/fb_dfd_release_0.1_final/original_videos_crops/2050389_A_003.mp4\n",
      "Iteration number is 259002\n",
      "Running in Dynamic mode\n"
     ]
    },
    {
     "name": "stderr",
     "output_type": "stream",
     "text": [
      "\n",
      "2050389_A_:  32%|███▏      | 8/25 [00:00<00:00, 33.70it/s]\u001b[A\n",
      "2050389_A_:  48%|████▊     | 12/25 [00:00<00:00, 33.19it/s]\u001b[A\n",
      "2050389_A_:  64%|██████▍   | 16/25 [00:00<00:00, 33.92it/s]\u001b[A\n",
      "2050389_A_:  80%|████████  | 20/25 [00:00<00:00, 35.32it/s]\u001b[A\n",
      "2050389_A_: 100%|██████████| 25/25 [00:00<00:00, 35.13it/s]\u001b[A\n",
      "  3%|▎         | 26/1008 [00:29<14:23,  1.14it/s]\n",
      "1677632_B_:   0%|          | 0/25 [00:00<?, ?it/s]\u001b[A\n",
      "1677632_B_:  16%|█▌        | 4/25 [00:00<00:00, 35.34it/s]\u001b[A"
     ]
    },
    {
     "name": "stdout",
     "output_type": "stream",
     "text": [
      "running motion mag for vid: 1677632_B_001.mp4\n",
      "video ../../deepfake_data/fb_dfd_release_0.1_final/original_videos_crops/1677632_B_001.mp4\n",
      "Iteration number is 259002\n",
      "Running in Dynamic mode\n"
     ]
    },
    {
     "name": "stderr",
     "output_type": "stream",
     "text": [
      "\n",
      "1677632_B_:  36%|███▌      | 9/25 [00:00<00:00, 37.73it/s]\u001b[A\n",
      "1677632_B_:  52%|█████▏    | 13/25 [00:00<00:00, 36.52it/s]\u001b[A\n",
      "1677632_B_:  68%|██████▊   | 17/25 [00:00<00:00, 36.15it/s]\u001b[A\n",
      "1677632_B_:  84%|████████▍ | 21/25 [00:00<00:00, 34.72it/s]\u001b[A\n",
      "1677632_B_: 100%|██████████| 25/25 [00:00<00:00, 35.91it/s]\u001b[A\n",
      "  3%|▎         | 27/1008 [00:30<14:29,  1.13it/s]\n",
      "1569101_A_:   0%|          | 0/25 [00:00<?, ?it/s]\u001b[A\n",
      "1569101_A_:  12%|█▏        | 3/25 [00:00<00:00, 26.69it/s]\u001b[A"
     ]
    },
    {
     "name": "stdout",
     "output_type": "stream",
     "text": [
      "running motion mag for vid: 1569101_A_003.mp4\n",
      "video ../../deepfake_data/fb_dfd_release_0.1_final/original_videos_crops/1569101_A_003.mp4\n",
      "Iteration number is 259002\n",
      "Running in Dynamic mode\n"
     ]
    },
    {
     "name": "stderr",
     "output_type": "stream",
     "text": [
      "\n",
      "1569101_A_:  24%|██▍       | 6/25 [00:00<00:00, 26.85it/s]\u001b[A\n",
      "1569101_A_:  40%|████      | 10/25 [00:00<00:00, 28.35it/s]\u001b[A\n",
      "1569101_A_:  56%|█████▌    | 14/25 [00:00<00:00, 30.50it/s]\u001b[A\n",
      "1569101_A_:  72%|███████▏  | 18/25 [00:00<00:00, 32.53it/s]\u001b[A\n",
      "1569101_A_: 100%|██████████| 25/25 [00:00<00:00, 33.91it/s]\u001b[A\n",
      "  3%|▎         | 28/1008 [00:31<14:38,  1.12it/s]\n",
      "2005778_B_:   0%|          | 0/25 [00:00<?, ?it/s]\u001b[A\n",
      "2005778_B_:  16%|█▌        | 4/25 [00:00<00:00, 35.96it/s]\u001b[A"
     ]
    },
    {
     "name": "stdout",
     "output_type": "stream",
     "text": [
      "running motion mag for vid: 2005778_B_002.mp4\n",
      "video ../../deepfake_data/fb_dfd_release_0.1_final/original_videos_crops/2005778_B_002.mp4\n",
      "Iteration number is 259002\n",
      "Running in Dynamic mode\n"
     ]
    },
    {
     "name": "stderr",
     "output_type": "stream",
     "text": [
      "\n",
      "2005778_B_:  36%|███▌      | 9/25 [00:00<00:00, 36.98it/s]\u001b[A\n",
      "2005778_B_:  56%|█████▌    | 14/25 [00:00<00:00, 37.94it/s]\u001b[A\n",
      "2005778_B_:  72%|███████▏  | 18/25 [00:00<00:00, 37.92it/s]\u001b[A\n",
      "2005778_B_: 100%|██████████| 25/25 [00:00<00:00, 38.89it/s]\u001b[A\n",
      "  3%|▎         | 29/1008 [00:32<14:15,  1.14it/s]\n",
      "773847_I_0:   0%|          | 0/25 [00:00<?, ?it/s]\u001b[A\n",
      "773847_I_0:  16%|█▌        | 4/25 [00:00<00:00, 38.94it/s]\u001b[A"
     ]
    },
    {
     "name": "stdout",
     "output_type": "stream",
     "text": [
      "running motion mag for vid: 773847_I_002.mp4\n",
      "video ../../deepfake_data/fb_dfd_release_0.1_final/original_videos_crops/773847_I_002.mp4\n",
      "Iteration number is 259002\n",
      "Running in Dynamic mode\n"
     ]
    },
    {
     "name": "stderr",
     "output_type": "stream",
     "text": [
      "\n",
      "773847_I_0:  32%|███▏      | 8/25 [00:00<00:00, 37.79it/s]\u001b[A\n",
      "773847_I_0:  48%|████▊     | 12/25 [00:00<00:00, 36.92it/s]\u001b[A\n",
      "773847_I_0:  68%|██████▊   | 17/25 [00:00<00:00, 38.97it/s]\u001b[A\n",
      "773847_I_0: 100%|██████████| 25/25 [00:00<00:00, 40.20it/s]\u001b[A\n",
      "  3%|▎         | 30/1008 [00:33<14:05,  1.16it/s]\n",
      "1262961_F_:   0%|          | 0/17 [00:00<?, ?it/s]\u001b[A\n",
      "1262961_F_:  24%|██▎       | 4/17 [00:00<00:00, 32.58it/s]\u001b[A"
     ]
    },
    {
     "name": "stdout",
     "output_type": "stream",
     "text": [
      "running motion mag for vid: 1262961_F_001.mp4\n",
      "video ../../deepfake_data/fb_dfd_release_0.1_final/original_videos_crops/1262961_F_001.mp4\n",
      "Iteration number is 259002\n",
      "Running in Dynamic mode\n"
     ]
    },
    {
     "name": "stderr",
     "output_type": "stream",
     "text": [
      "\n",
      "1262961_F_:  47%|████▋     | 8/17 [00:00<00:00, 33.38it/s]\u001b[A\n",
      "1262961_F_:  71%|███████   | 12/17 [00:00<00:00, 33.26it/s]\u001b[A\n",
      "1262961_F_: 100%|██████████| 17/17 [00:00<00:00, 33.33it/s]\u001b[A\n",
      "  3%|▎         | 31/1008 [00:34<13:28,  1.21it/s]\n",
      "804259_G_0:   0%|          | 0/25 [00:00<?, ?it/s]\u001b[A\n",
      "804259_G_0:  16%|█▌        | 4/25 [00:00<00:00, 38.80it/s]\u001b[A"
     ]
    },
    {
     "name": "stdout",
     "output_type": "stream",
     "text": [
      "running motion mag for vid: 804259_G_003.mp4\n",
      "video ../../deepfake_data/fb_dfd_release_0.1_final/original_videos_crops/804259_G_003.mp4\n",
      "Iteration number is 259002\n",
      "Running in Dynamic mode\n"
     ]
    },
    {
     "name": "stderr",
     "output_type": "stream",
     "text": [
      "\n",
      "804259_G_0:  36%|███▌      | 9/25 [00:00<00:00, 39.20it/s]\u001b[A\n",
      "804259_G_0:  52%|█████▏    | 13/25 [00:00<00:00, 39.41it/s]\u001b[A\n",
      "804259_G_0:  68%|██████▊   | 17/25 [00:00<00:00, 39.16it/s]\u001b[A\n",
      "804259_G_0: 100%|██████████| 25/25 [00:00<00:00, 40.03it/s]\u001b[A\n",
      "  3%|▎         | 32/1008 [00:35<13:29,  1.21it/s]\n",
      "1999299_F_:   0%|          | 0/25 [00:00<?, ?it/s]\u001b[A\n",
      "1999299_F_:  16%|█▌        | 4/25 [00:00<00:00, 32.35it/s]\u001b[A"
     ]
    },
    {
     "name": "stdout",
     "output_type": "stream",
     "text": [
      "running motion mag for vid: 1999299_F_003.mp4\n",
      "video ../../deepfake_data/fb_dfd_release_0.1_final/original_videos_crops/1999299_F_003.mp4\n",
      "Iteration number is 259002\n",
      "Running in Dynamic mode\n"
     ]
    },
    {
     "name": "stderr",
     "output_type": "stream",
     "text": [
      "\n",
      "1999299_F_:  32%|███▏      | 8/25 [00:00<00:00, 32.94it/s]\u001b[A\n",
      "1999299_F_:  48%|████▊     | 12/25 [00:00<00:00, 34.16it/s]\u001b[A\n",
      "1999299_F_:  64%|██████▍   | 16/25 [00:00<00:00, 34.80it/s]\u001b[A\n",
      "1999299_F_:  80%|████████  | 20/25 [00:00<00:00, 36.07it/s]\u001b[A\n",
      "1999299_F_: 100%|██████████| 25/25 [00:00<00:00, 35.40it/s]\u001b[A\n",
      "  3%|▎         | 33/1008 [00:35<14:03,  1.16it/s]\n",
      "1873849_A_:   0%|          | 0/25 [00:00<?, ?it/s]\u001b[A\n",
      "1873849_A_:  16%|█▌        | 4/25 [00:00<00:00, 32.36it/s]\u001b[A"
     ]
    },
    {
     "name": "stdout",
     "output_type": "stream",
     "text": [
      "running motion mag for vid: 1873849_A_001.mp4\n",
      "video ../../deepfake_data/fb_dfd_release_0.1_final/original_videos_crops/1873849_A_001.mp4\n",
      "Iteration number is 259002\n",
      "Running in Dynamic mode\n"
     ]
    },
    {
     "name": "stderr",
     "output_type": "stream",
     "text": [
      "\n",
      "1873849_A_:  32%|███▏      | 8/25 [00:00<00:00, 33.64it/s]\u001b[A\n",
      "1873849_A_:  48%|████▊     | 12/25 [00:00<00:00, 34.57it/s]\u001b[A\n",
      "1873849_A_:  68%|██████▊   | 17/25 [00:00<00:00, 36.21it/s]\u001b[A\n",
      "1873849_A_: 100%|██████████| 25/25 [00:00<00:00, 37.73it/s]\u001b[A\n",
      "  3%|▎         | 34/1008 [00:36<14:07,  1.15it/s]\n",
      "1371757_A_:   0%|          | 0/25 [00:00<?, ?it/s]\u001b[A\n",
      "1371757_A_:  12%|█▏        | 3/25 [00:00<00:00, 29.80it/s]\u001b[A"
     ]
    },
    {
     "name": "stdout",
     "output_type": "stream",
     "text": [
      "running motion mag for vid: 1371757_A_002.mp4\n",
      "video ../../deepfake_data/fb_dfd_release_0.1_final/original_videos_crops/1371757_A_002.mp4\n",
      "Iteration number is 259002\n",
      "Running in Dynamic mode\n"
     ]
    },
    {
     "name": "stderr",
     "output_type": "stream",
     "text": [
      "\n",
      "1371757_A_:  28%|██▊       | 7/25 [00:00<00:00, 30.84it/s]\u001b[A\n",
      "1371757_A_:  44%|████▍     | 11/25 [00:00<00:00, 32.27it/s]\u001b[A\n",
      "1371757_A_:  60%|██████    | 15/25 [00:00<00:00, 33.67it/s]\u001b[A\n",
      "1371757_A_:  76%|███████▌  | 19/25 [00:00<00:00, 35.03it/s]\u001b[A\n",
      "1371757_A_: 100%|██████████| 25/25 [00:00<00:00, 35.54it/s]\u001b[A\n",
      "  3%|▎         | 35/1008 [00:37<14:20,  1.13it/s]\n",
      "1999299_B_:   0%|          | 0/25 [00:00<?, ?it/s]\u001b[A\n",
      "1999299_B_:  16%|█▌        | 4/25 [00:00<00:00, 31.60it/s]\u001b[A"
     ]
    },
    {
     "name": "stdout",
     "output_type": "stream",
     "text": [
      "running motion mag for vid: 1999299_B_003.mp4\n",
      "video ../../deepfake_data/fb_dfd_release_0.1_final/original_videos_crops/1999299_B_003.mp4\n",
      "Iteration number is 259002\n",
      "Running in Dynamic mode\n"
     ]
    },
    {
     "name": "stderr",
     "output_type": "stream",
     "text": [
      "\n",
      "1999299_B_:  32%|███▏      | 8/25 [00:00<00:00, 32.41it/s]\u001b[A\n",
      "1999299_B_:  48%|████▊     | 12/25 [00:00<00:00, 33.41it/s]\u001b[A\n",
      "1999299_B_:  68%|██████▊   | 17/25 [00:00<00:00, 35.26it/s]\u001b[A\n",
      "1999299_B_:  84%|████████▍ | 21/25 [00:00<00:00, 34.42it/s]\u001b[A\n",
      "1999299_B_: 100%|██████████| 25/25 [00:00<00:00, 35.04it/s]\u001b[A\n",
      "  4%|▎         | 36/1008 [00:38<14:31,  1.12it/s]\n",
      "1822940_D_:   0%|          | 0/20 [00:00<?, ?it/s]\u001b[A\n",
      "1822940_D_:  20%|██        | 4/20 [00:00<00:00, 34.92it/s]\u001b[A"
     ]
    },
    {
     "name": "stdout",
     "output_type": "stream",
     "text": [
      "running motion mag for vid: 1822940_D_002.mp4\n",
      "video ../../deepfake_data/fb_dfd_release_0.1_final/original_videos_crops/1822940_D_002.mp4\n",
      "Iteration number is 259002\n",
      "Running in Dynamic mode\n"
     ]
    },
    {
     "name": "stderr",
     "output_type": "stream",
     "text": [
      "\n",
      "1822940_D_:  40%|████      | 8/20 [00:00<00:00, 34.52it/s]\u001b[A\n",
      "1822940_D_:  60%|██████    | 12/20 [00:00<00:00, 35.41it/s]\u001b[A\n",
      "1822940_D_:  80%|████████  | 16/20 [00:00<00:00, 35.91it/s]\u001b[A\n",
      "1822940_D_: 100%|██████████| 20/20 [00:00<00:00, 35.52it/s]\u001b[A\n",
      "  4%|▎         | 37/1008 [00:39<13:58,  1.16it/s]\n",
      "1262961_B_:   0%|          | 0/25 [00:00<?, ?it/s]\u001b[A\n",
      "1262961_B_:  16%|█▌        | 4/25 [00:00<00:00, 36.47it/s]\u001b[A"
     ]
    },
    {
     "name": "stdout",
     "output_type": "stream",
     "text": [
      "running motion mag for vid: 1262961_B_001.mp4\n",
      "video ../../deepfake_data/fb_dfd_release_0.1_final/original_videos_crops/1262961_B_001.mp4\n",
      "Iteration number is 259002\n",
      "Running in Dynamic mode\n"
     ]
    },
    {
     "name": "stderr",
     "output_type": "stream",
     "text": [
      "\n",
      "1262961_B_:  36%|███▌      | 9/25 [00:00<00:00, 37.04it/s]\u001b[A\n",
      "1262961_B_:  52%|█████▏    | 13/25 [00:00<00:00, 35.07it/s]\u001b[A\n",
      "1262961_B_:  68%|██████▊   | 17/25 [00:00<00:00, 35.31it/s]\u001b[A\n",
      "1262961_B_:  84%|████████▍ | 21/25 [00:00<00:00, 34.99it/s]\u001b[A\n",
      "1262961_B_: 100%|██████████| 25/25 [00:00<00:00, 34.44it/s]\u001b[A\n",
      "  4%|▍         | 38/1008 [00:40<14:20,  1.13it/s]\n",
      "1783597_H_:   0%|          | 0/20 [00:00<?, ?it/s]\u001b[A\n",
      "1783597_H_:  20%|██        | 4/20 [00:00<00:00, 33.54it/s]\u001b[A"
     ]
    },
    {
     "name": "stdout",
     "output_type": "stream",
     "text": [
      "running motion mag for vid: 1783597_H_001.mp4\n",
      "video ../../deepfake_data/fb_dfd_release_0.1_final/original_videos_crops/1783597_H_001.mp4\n",
      "Iteration number is 259002\n",
      "Running in Dynamic mode\n"
     ]
    },
    {
     "name": "stderr",
     "output_type": "stream",
     "text": [
      "\n",
      "1783597_H_:  35%|███▌      | 7/20 [00:00<00:00, 32.06it/s]\u001b[A\n",
      "1783597_H_:  50%|█████     | 10/20 [00:00<00:00, 31.02it/s]\u001b[A\n",
      "1783597_H_:  70%|███████   | 14/20 [00:00<00:00, 32.65it/s]\u001b[A\n",
      "1783597_H_: 100%|██████████| 20/20 [00:00<00:00, 32.59it/s]\u001b[A\n",
      "  4%|▍         | 39/1008 [00:41<14:09,  1.14it/s]\n",
      "1569101_E_:   0%|          | 0/25 [00:00<?, ?it/s]\u001b[A\n",
      "1569101_E_:  16%|█▌        | 4/25 [00:00<00:00, 33.83it/s]\u001b[A"
     ]
    },
    {
     "name": "stdout",
     "output_type": "stream",
     "text": [
      "running motion mag for vid: 1569101_E_003.mp4\n",
      "video ../../deepfake_data/fb_dfd_release_0.1_final/original_videos_crops/1569101_E_003.mp4\n",
      "Iteration number is 259002\n",
      "Running in Dynamic mode\n"
     ]
    },
    {
     "name": "stderr",
     "output_type": "stream",
     "text": [
      "\n",
      "1569101_E_:  36%|███▌      | 9/25 [00:00<00:00, 35.65it/s]\u001b[A\n",
      "1569101_E_:  56%|█████▌    | 14/25 [00:00<00:00, 36.99it/s]\u001b[A\n",
      "1569101_E_:  76%|███████▌  | 19/25 [00:00<00:00, 38.36it/s]\u001b[A\n",
      "1569101_E_: 100%|██████████| 25/25 [00:00<00:00, 37.94it/s]\u001b[A\n",
      "  4%|▍         | 40/1008 [00:42<14:14,  1.13it/s]\n",
      "804259_C_0:   0%|          | 0/25 [00:00<?, ?it/s]\u001b[A\n",
      "804259_C_0:  16%|█▌        | 4/25 [00:00<00:00, 37.91it/s]\u001b[A"
     ]
    },
    {
     "name": "stdout",
     "output_type": "stream",
     "text": [
      "running motion mag for vid: 804259_C_003.mp4\n",
      "video ../../deepfake_data/fb_dfd_release_0.1_final/original_videos_crops/804259_C_003.mp4\n",
      "Iteration number is 259002\n",
      "Running in Dynamic mode\n"
     ]
    },
    {
     "name": "stderr",
     "output_type": "stream",
     "text": [
      "\n",
      "804259_C_0:  32%|███▏      | 8/25 [00:00<00:00, 38.09it/s]\u001b[A\n",
      "804259_C_0:  48%|████▊     | 12/25 [00:00<00:00, 36.85it/s]\u001b[A\n",
      "804259_C_0:  64%|██████▍   | 16/25 [00:00<00:00, 36.20it/s]\u001b[A\n",
      "804259_C_0:  80%|████████  | 20/25 [00:00<00:00, 36.67it/s]\u001b[A\n",
      "804259_C_0: 100%|██████████| 25/25 [00:00<00:00, 36.90it/s]\u001b[A\n",
      "  4%|▍         | 41/1008 [00:43<14:07,  1.14it/s]\n",
      "1993279_A_:   0%|          | 0/25 [00:00<?, ?it/s]\u001b[A\n",
      "1993279_A_:  16%|█▌        | 4/25 [00:00<00:00, 37.09it/s]\u001b[A"
     ]
    },
    {
     "name": "stdout",
     "output_type": "stream",
     "text": [
      "running motion mag for vid: 1993279_A_001.mp4\n",
      "video ../../deepfake_data/fb_dfd_release_0.1_final/original_videos_crops/1993279_A_001.mp4\n",
      "Iteration number is 259002\n",
      "Running in Dynamic mode\n"
     ]
    },
    {
     "name": "stderr",
     "output_type": "stream",
     "text": [
      "\n",
      "1993279_A_:  36%|███▌      | 9/25 [00:00<00:00, 38.35it/s]\u001b[A\n",
      "1993279_A_:  56%|█████▌    | 14/25 [00:00<00:00, 39.04it/s]\u001b[A\n",
      "1993279_A_:  68%|██████▊   | 17/25 [00:00<00:00, 35.27it/s]\u001b[A\n",
      "1993279_A_:  84%|████████▍ | 21/25 [00:00<00:00, 34.74it/s]\u001b[A\n",
      "1993279_A_: 100%|██████████| 25/25 [00:00<00:00, 36.86it/s]\u001b[A\n",
      "  4%|▍         | 42/1008 [00:43<14:03,  1.15it/s]\n",
      "1600085_A_:   0%|          | 0/25 [00:00<?, ?it/s]\u001b[A\n",
      "1600085_A_:  16%|█▌        | 4/25 [00:00<00:00, 32.88it/s]\u001b[A"
     ]
    },
    {
     "name": "stdout",
     "output_type": "stream",
     "text": [
      "running motion mag for vid: 1600085_A_003.mp4\n",
      "video ../../deepfake_data/fb_dfd_release_0.1_final/original_videos_crops/1600085_A_003.mp4\n",
      "Iteration number is 259002\n",
      "Running in Dynamic mode\n"
     ]
    },
    {
     "name": "stderr",
     "output_type": "stream",
     "text": [
      "\n",
      "1600085_A_:  32%|███▏      | 8/25 [00:00<00:00, 34.23it/s]\u001b[A\n",
      "1600085_A_:  52%|█████▏    | 13/25 [00:00<00:00, 35.88it/s]\u001b[A\n",
      "1600085_A_:  72%|███████▏  | 18/25 [00:00<00:00, 37.27it/s]\u001b[A\n",
      "1600085_A_: 100%|██████████| 25/25 [00:00<00:00, 38.59it/s]\u001b[A\n",
      "  4%|▍         | 43/1008 [00:44<13:49,  1.16it/s]\n",
      "1782722_C_:   0%|          | 0/22 [00:00<?, ?it/s]\u001b[A\n",
      "1782722_C_:  18%|█▊        | 4/22 [00:00<00:00, 34.21it/s]\u001b[A"
     ]
    },
    {
     "name": "stdout",
     "output_type": "stream",
     "text": [
      "running motion mag for vid: 1782722_C_003.mp4\n",
      "video ../../deepfake_data/fb_dfd_release_0.1_final/original_videos_crops/1782722_C_003.mp4\n",
      "Iteration number is 259002\n",
      "Running in Dynamic mode\n"
     ]
    },
    {
     "name": "stderr",
     "output_type": "stream",
     "text": [
      "\n",
      "1782722_C_:  36%|███▋      | 8/22 [00:00<00:00, 35.67it/s]\u001b[A\n",
      "1782722_C_:  59%|█████▉    | 13/22 [00:00<00:00, 37.31it/s]\u001b[A\n",
      "1782722_C_:  82%|████████▏ | 18/22 [00:00<00:00, 38.64it/s]\u001b[A\n",
      "1782722_C_: 100%|██████████| 22/22 [00:00<00:00, 38.08it/s]\u001b[A\n",
      "  4%|▍         | 44/1008 [00:45<13:34,  1.18it/s]\n",
      "1690464_G_:   0%|          | 0/25 [00:00<?, ?it/s]\u001b[A\n",
      "1690464_G_:  24%|██▍       | 6/25 [00:00<00:00, 35.80it/s]\u001b[A\n",
      "  4%|▍         | 45/1008 [00:45<10:19,  1.55it/s]\n",
      "1733757_A_:   0%|          | 0/25 [00:00<?, ?it/s]\u001b[A"
     ]
    },
    {
     "name": "stdout",
     "output_type": "stream",
     "text": [
      "running motion mag for vid: 1690464_G_002.mp4\n",
      "video ../../deepfake_data/fb_dfd_release_0.1_final/original_videos_crops/1690464_G_002.mp4\n",
      "Iteration number is 259002\n",
      "Running in Dynamic mode\n",
      "Exception found: OpenCV(4.1.1) /io/opencv/modules/imgproc/src/color.cpp:182: error: (-215:Assertion failed) !_src.empty() in function 'cvtColor'\n",
      "\n",
      "running motion mag for vid: 1733757_A_003.mp4\n",
      "video ../../deepfake_data/fb_dfd_release_0.1_final/original_videos_crops/1733757_A_003.mp4\n",
      "Iteration number is 259002\n",
      "Running in Dynamic mode\n"
     ]
    },
    {
     "name": "stderr",
     "output_type": "stream",
     "text": [
      "\n",
      "1733757_A_:  20%|██        | 5/25 [00:00<00:00, 41.27it/s]\u001b[A\n",
      "1733757_A_:  40%|████      | 10/25 [00:00<00:00, 41.25it/s]\u001b[A\n",
      "1733757_A_:  60%|██████    | 15/25 [00:00<00:00, 41.22it/s]\u001b[A\n",
      "1733757_A_:  80%|████████  | 20/25 [00:00<00:00, 41.24it/s]\u001b[A\n",
      "1733757_A_: 100%|██████████| 25/25 [00:00<00:00, 40.44it/s]\u001b[A\n",
      "  5%|▍         | 46/1008 [00:46<11:14,  1.43it/s]\n",
      "1061402_E_:   0%|          | 0/25 [00:00<?, ?it/s]\u001b[A\n",
      "1061402_E_:  20%|██        | 5/25 [00:00<00:00, 40.57it/s]\u001b[A"
     ]
    },
    {
     "name": "stdout",
     "output_type": "stream",
     "text": [
      "running motion mag for vid: 1061402_E_001.mp4\n",
      "video ../../deepfake_data/fb_dfd_release_0.1_final/original_videos_crops/1061402_E_001.mp4\n",
      "Iteration number is 259002\n",
      "Running in Dynamic mode\n"
     ]
    },
    {
     "name": "stderr",
     "output_type": "stream",
     "text": [
      "\n",
      "1061402_E_:  36%|███▌      | 9/25 [00:00<00:00, 38.45it/s]\u001b[A\n",
      "1061402_E_:  52%|█████▏    | 13/25 [00:00<00:00, 37.76it/s]\u001b[A\n",
      "1061402_E_:  68%|██████▊   | 17/25 [00:00<00:00, 37.65it/s]\u001b[A\n",
      "1061402_E_: 100%|██████████| 25/25 [00:00<00:00, 37.96it/s]\u001b[A\n",
      "  5%|▍         | 47/1008 [00:47<12:09,  1.32it/s]\n",
      "2076328_F_:   0%|          | 0/25 [00:00<?, ?it/s]\u001b[A\n",
      "2076328_F_:  12%|█▏        | 3/25 [00:00<00:00, 29.51it/s]\u001b[A"
     ]
    },
    {
     "name": "stdout",
     "output_type": "stream",
     "text": [
      "running motion mag for vid: 2076328_F_003.mp4\n",
      "video ../../deepfake_data/fb_dfd_release_0.1_final/original_videos_crops/2076328_F_003.mp4\n",
      "Iteration number is 259002\n",
      "Running in Dynamic mode\n"
     ]
    },
    {
     "name": "stderr",
     "output_type": "stream",
     "text": [
      "\n",
      "2076328_F_:  28%|██▊       | 7/25 [00:00<00:00, 30.89it/s]\u001b[A\n",
      "2076328_F_:  44%|████▍     | 11/25 [00:00<00:00, 32.88it/s]\u001b[A\n",
      "2076328_F_:  64%|██████▍   | 16/25 [00:00<00:00, 34.88it/s]\u001b[A\n",
      "2076328_F_:  80%|████████  | 20/25 [00:00<00:00, 35.97it/s]\u001b[A\n",
      "2076328_F_: 100%|██████████| 25/25 [00:00<00:00, 37.27it/s]\u001b[A\n",
      "  5%|▍         | 48/1008 [00:48<12:38,  1.27it/s]\n",
      "773847_E_0:   0%|          | 0/18 [00:00<?, ?it/s]\u001b[A\n",
      "773847_E_0:  22%|██▏       | 4/18 [00:00<00:00, 35.72it/s]\u001b[A"
     ]
    },
    {
     "name": "stdout",
     "output_type": "stream",
     "text": [
      "running motion mag for vid: 773847_E_002.mp4\n",
      "video ../../deepfake_data/fb_dfd_release_0.1_final/original_videos_crops/773847_E_002.mp4\n",
      "Iteration number is 259002\n",
      "Running in Dynamic mode\n"
     ]
    },
    {
     "name": "stderr",
     "output_type": "stream",
     "text": [
      "\n",
      "773847_E_0:  44%|████▍     | 8/18 [00:00<00:00, 36.06it/s]\u001b[A\n",
      "773847_E_0:  67%|██████▋   | 12/18 [00:00<00:00, 35.23it/s]\u001b[A\n",
      "773847_E_0: 100%|██████████| 18/18 [00:00<00:00, 34.68it/s]\u001b[A\n",
      "  5%|▍         | 49/1008 [00:49<12:21,  1.29it/s]\n",
      "1003254_A_:   0%|          | 0/19 [00:00<?, ?it/s]\u001b[A\n",
      "1003254_A_:  21%|██        | 4/19 [00:00<00:00, 39.41it/s]\u001b[A"
     ]
    },
    {
     "name": "stdout",
     "output_type": "stream",
     "text": [
      "running motion mag for vid: 1003254_A_003.mp4\n",
      "video ../../deepfake_data/fb_dfd_release_0.1_final/original_videos_crops/1003254_A_003.mp4\n",
      "Iteration number is 259002\n",
      "Running in Dynamic mode\n"
     ]
    },
    {
     "name": "stderr",
     "output_type": "stream",
     "text": [
      "\n",
      "1003254_A_:  42%|████▏     | 8/19 [00:00<00:00, 38.93it/s]\u001b[A\n",
      "1003254_A_:  63%|██████▎   | 12/19 [00:00<00:00, 38.39it/s]\u001b[A\n",
      "1003254_A_: 100%|██████████| 19/19 [00:00<00:00, 35.78it/s]\u001b[A\n",
      "  5%|▍         | 50/1008 [00:49<12:08,  1.32it/s]\n",
      "2076328_B_:   0%|          | 0/25 [00:00<?, ?it/s]\u001b[A\n",
      "2076328_B_:  16%|█▌        | 4/25 [00:00<00:00, 35.67it/s]\u001b[A"
     ]
    },
    {
     "name": "stdout",
     "output_type": "stream",
     "text": [
      "running motion mag for vid: 2076328_B_003.mp4\n",
      "video ../../deepfake_data/fb_dfd_release_0.1_final/original_videos_crops/2076328_B_003.mp4\n",
      "Iteration number is 259002\n",
      "Running in Dynamic mode\n"
     ]
    },
    {
     "name": "stderr",
     "output_type": "stream",
     "text": [
      "\n",
      "2076328_B_:  32%|███▏      | 8/25 [00:00<00:00, 35.72it/s]\u001b[A\n",
      "2076328_B_:  48%|████▊     | 12/25 [00:00<00:00, 36.08it/s]\u001b[A\n",
      "2076328_B_:  64%|██████▍   | 16/25 [00:00<00:00, 34.91it/s]\u001b[A\n",
      "2076328_B_:  80%|████████  | 20/25 [00:00<00:00, 34.47it/s]\u001b[A\n",
      "2076328_B_: 100%|██████████| 25/25 [00:00<00:00, 33.81it/s]\u001b[A\n",
      "  5%|▌         | 51/1008 [00:50<13:06,  1.22it/s]\n",
      "1061402_A_:   0%|          | 0/25 [00:00<?, ?it/s]\u001b[A\n",
      "1061402_A_:  16%|█▌        | 4/25 [00:00<00:00, 32.65it/s]\u001b[A"
     ]
    },
    {
     "name": "stdout",
     "output_type": "stream",
     "text": [
      "running motion mag for vid: 1061402_A_001.mp4\n",
      "video ../../deepfake_data/fb_dfd_release_0.1_final/original_videos_crops/1061402_A_001.mp4\n",
      "Iteration number is 259002\n",
      "Running in Dynamic mode\n"
     ]
    },
    {
     "name": "stderr",
     "output_type": "stream",
     "text": [
      "\n",
      "1061402_A_:  32%|███▏      | 8/25 [00:00<00:00, 33.89it/s]\u001b[A\n",
      "1061402_A_:  52%|█████▏    | 13/25 [00:00<00:00, 35.63it/s]\u001b[A\n",
      "1061402_A_:  68%|██████▊   | 17/25 [00:00<00:00, 36.83it/s]\u001b[A\n",
      "1061402_A_:  80%|████████  | 20/25 [00:00<00:00, 34.33it/s]\u001b[A\n",
      "1061402_A_: 100%|██████████| 25/25 [00:00<00:00, 35.71it/s]\u001b[A\n",
      "  5%|▌         | 52/1008 [00:51<13:35,  1.17it/s]\n",
      "2005778_J_:   0%|          | 0/25 [00:00<?, ?it/s]\u001b[A\n",
      "2005778_J_:  16%|█▌        | 4/25 [00:00<00:00, 39.22it/s]\u001b[A"
     ]
    },
    {
     "name": "stdout",
     "output_type": "stream",
     "text": [
      "running motion mag for vid: 2005778_J_002.mp4\n",
      "video ../../deepfake_data/fb_dfd_release_0.1_final/original_videos_crops/2005778_J_002.mp4\n",
      "Iteration number is 259002\n",
      "Running in Dynamic mode\n"
     ]
    },
    {
     "name": "stderr",
     "output_type": "stream",
     "text": [
      "\n",
      "2005778_J_:  36%|███▌      | 9/25 [00:00<00:00, 39.84it/s]\u001b[A\n",
      "2005778_J_:  56%|█████▌    | 14/25 [00:00<00:00, 40.37it/s]\u001b[A\n",
      "2005778_J_:  76%|███████▌  | 19/25 [00:00<00:00, 41.43it/s]\u001b[A\n",
      "2005778_J_: 100%|██████████| 25/25 [00:00<00:00, 42.25it/s]\u001b[A\n",
      "  5%|▌         | 53/1008 [00:52<13:05,  1.22it/s]\n",
      "1569101_I_:   0%|          | 0/25 [00:00<?, ?it/s]\u001b[A\n",
      "1569101_I_:  20%|██        | 5/25 [00:00<00:00, 38.41it/s]\u001b[A"
     ]
    },
    {
     "name": "stdout",
     "output_type": "stream",
     "text": [
      "running motion mag for vid: 1569101_I_003.mp4\n",
      "video ../../deepfake_data/fb_dfd_release_0.1_final/original_videos_crops/1569101_I_003.mp4\n",
      "Iteration number is 259002\n",
      "Running in Dynamic mode\n"
     ]
    },
    {
     "name": "stderr",
     "output_type": "stream",
     "text": [
      "\n",
      "1569101_I_:  40%|████      | 10/25 [00:00<00:00, 39.92it/s]\u001b[A\n",
      "1569101_I_:  60%|██████    | 15/25 [00:00<00:00, 41.12it/s]\u001b[A\n",
      "1569101_I_:  80%|████████  | 20/25 [00:00<00:00, 42.36it/s]\u001b[A\n",
      "1569101_I_: 100%|██████████| 25/25 [00:00<00:00, 43.08it/s]\u001b[A\n",
      "  5%|▌         | 54/1008 [00:53<12:41,  1.25it/s]\n",
      "1783597_D_:   0%|          | 0/21 [00:00<?, ?it/s]\u001b[A\n",
      "1783597_D_:  24%|██▍       | 5/21 [00:00<00:00, 44.48it/s]\u001b[A"
     ]
    },
    {
     "name": "stdout",
     "output_type": "stream",
     "text": [
      "running motion mag for vid: 1783597_D_001.mp4\n",
      "video ../../deepfake_data/fb_dfd_release_0.1_final/original_videos_crops/1783597_D_001.mp4\n",
      "Iteration number is 259002\n",
      "Running in Dynamic mode\n"
     ]
    },
    {
     "name": "stderr",
     "output_type": "stream",
     "text": [
      "\n",
      "1783597_D_:  48%|████▊     | 10/21 [00:00<00:00, 44.47it/s]\u001b[A\n",
      "1783597_D_:  71%|███████▏  | 15/21 [00:00<00:00, 44.62it/s]\u001b[A\n",
      "1783597_D_: 100%|██████████| 21/21 [00:00<00:00, 44.50it/s]\u001b[A\n",
      "  5%|▌         | 55/1008 [00:53<12:09,  1.31it/s]\n",
      "1390015_A_:   0%|          | 0/25 [00:00<?, ?it/s]\u001b[A\n",
      "1390015_A_:  20%|██        | 5/25 [00:00<00:00, 43.07it/s]\u001b[A"
     ]
    },
    {
     "name": "stdout",
     "output_type": "stream",
     "text": [
      "running motion mag for vid: 1390015_A_001.mp4\n",
      "video ../../deepfake_data/fb_dfd_release_0.1_final/original_videos_crops/1390015_A_001.mp4\n",
      "Iteration number is 259002\n",
      "Running in Dynamic mode\n"
     ]
    },
    {
     "name": "stderr",
     "output_type": "stream",
     "text": [
      "\n",
      "1390015_A_:  40%|████      | 10/25 [00:00<00:00, 41.42it/s]\u001b[A\n",
      "1390015_A_:  56%|█████▌    | 14/25 [00:00<00:00, 38.76it/s]\u001b[A\n",
      "1390015_A_:  72%|███████▏  | 18/25 [00:00<00:00, 37.16it/s]\u001b[A\n",
      "1390015_A_: 100%|██████████| 25/25 [00:00<00:00, 36.93it/s]\u001b[A\n",
      "  6%|▌         | 56/1008 [00:54<12:47,  1.24it/s]\n",
      "773847_A_0:   0%|          | 0/25 [00:00<?, ?it/s]\u001b[A\n",
      "773847_A_0:  16%|█▌        | 4/25 [00:00<00:00, 33.64it/s]\u001b[A"
     ]
    },
    {
     "name": "stdout",
     "output_type": "stream",
     "text": [
      "running motion mag for vid: 773847_A_002.mp4\n",
      "video ../../deepfake_data/fb_dfd_release_0.1_final/original_videos_crops/773847_A_002.mp4\n",
      "Iteration number is 259002\n",
      "Running in Dynamic mode\n"
     ]
    },
    {
     "name": "stderr",
     "output_type": "stream",
     "text": [
      "\n",
      "773847_A_0:  32%|███▏      | 8/25 [00:00<00:00, 34.54it/s]\u001b[A\n",
      "773847_A_0:  52%|█████▏    | 13/25 [00:00<00:00, 36.32it/s]\u001b[A\n",
      "773847_A_0:  72%|███████▏  | 18/25 [00:00<00:00, 38.44it/s]\u001b[A\n",
      "773847_A_0: 100%|██████████| 25/25 [00:00<00:00, 38.66it/s]\u001b[A\n",
      "  6%|▌         | 57/1008 [00:55<12:59,  1.22it/s]\n",
      "1822940_H_:   0%|          | 0/25 [00:00<?, ?it/s]\u001b[A\n",
      "1822940_H_:  16%|█▌        | 4/25 [00:00<00:00, 33.39it/s]\u001b[A"
     ]
    },
    {
     "name": "stdout",
     "output_type": "stream",
     "text": [
      "running motion mag for vid: 1822940_H_002.mp4\n",
      "video ../../deepfake_data/fb_dfd_release_0.1_final/original_videos_crops/1822940_H_002.mp4\n",
      "Iteration number is 259002\n",
      "Running in Dynamic mode\n"
     ]
    },
    {
     "name": "stderr",
     "output_type": "stream",
     "text": [
      "\n",
      "1822940_H_:  32%|███▏      | 8/25 [00:00<00:00, 33.78it/s]\u001b[A\n",
      "1822940_H_:  48%|████▊     | 12/25 [00:00<00:00, 35.12it/s]\u001b[A\n",
      "1822940_H_:  68%|██████▊   | 17/25 [00:00<00:00, 36.82it/s]\u001b[A\n",
      "1822940_H_: 100%|██████████| 25/25 [00:00<00:00, 38.32it/s]\u001b[A\n",
      "  6%|▌         | 58/1008 [00:56<13:14,  1.20it/s]\n",
      "1677632_E_:   0%|          | 0/25 [00:00<?, ?it/s]\u001b[A\n",
      "1677632_E_:  16%|█▌        | 4/25 [00:00<00:00, 32.02it/s]\u001b[A"
     ]
    },
    {
     "name": "stdout",
     "output_type": "stream",
     "text": [
      "running motion mag for vid: 1677632_E_003.mp4\n",
      "video ../../deepfake_data/fb_dfd_release_0.1_final/original_videos_crops/1677632_E_003.mp4\n",
      "Iteration number is 259002\n",
      "Running in Dynamic mode\n"
     ]
    },
    {
     "name": "stderr",
     "output_type": "stream",
     "text": [
      "\n",
      "1677632_E_:  28%|██▊       | 7/25 [00:00<00:00, 30.78it/s]\u001b[A\n",
      "1677632_E_:  40%|████      | 10/25 [00:00<00:00, 29.75it/s]\u001b[A\n",
      "1677632_E_:  52%|█████▏    | 13/25 [00:00<00:00, 29.14it/s]\u001b[A\n",
      "1677632_E_:  64%|██████▍   | 16/25 [00:00<00:00, 28.83it/s]\u001b[A\n",
      "1677632_E_:  80%|████████  | 20/25 [00:00<00:00, 29.94it/s]\u001b[A\n",
      "1677632_E_: 100%|██████████| 25/25 [00:00<00:00, 30.73it/s]\u001b[A\n",
      "  6%|▌         | 59/1008 [00:57<14:00,  1.13it/s]\n",
      "1604866_B_:   0%|          | 0/7 [00:00<?, ?it/s]\u001b[A\n",
      "1604866_B_: 100%|██████████| 7/7 [00:00<00:00, 41.18it/s]\u001b[A\n"
     ]
    },
    {
     "name": "stdout",
     "output_type": "stream",
     "text": [
      "running motion mag for vid: 1604866_B_002.mp4\n",
      "video ../../deepfake_data/fb_dfd_release_0.1_final/original_videos_crops/1604866_B_002.mp4\n",
      "Iteration number is 259002\n",
      "Running in Dynamic mode\n"
     ]
    },
    {
     "name": "stderr",
     "output_type": "stream",
     "text": [
      "  6%|▌         | 60/1008 [00:57<11:50,  1.33it/s]\n",
      "1152039_C_:   0%|          | 0/25 [00:00<?, ?it/s]\u001b[A\n",
      "1152039_C_:  16%|█▌        | 4/25 [00:00<00:00, 34.94it/s]\u001b[A"
     ]
    },
    {
     "name": "stdout",
     "output_type": "stream",
     "text": [
      "running motion mag for vid: 1152039_C_001.mp4\n",
      "video ../../deepfake_data/fb_dfd_release_0.1_final/original_videos_crops/1152039_C_001.mp4\n",
      "Iteration number is 259002\n",
      "Running in Dynamic mode\n"
     ]
    },
    {
     "name": "stderr",
     "output_type": "stream",
     "text": [
      "\n",
      "1152039_C_:  32%|███▏      | 8/25 [00:00<00:00, 36.12it/s]\u001b[A\n",
      "1152039_C_:  52%|█████▏    | 13/25 [00:00<00:00, 37.44it/s]\u001b[A\n",
      "1152039_C_:  68%|██████▊   | 17/25 [00:00<00:00, 37.84it/s]\u001b[A\n",
      "1152039_C_: 100%|██████████| 25/25 [00:00<00:00, 39.04it/s]\u001b[A\n",
      "  6%|▌         | 61/1008 [00:58<12:20,  1.28it/s]\n",
      "2050389_F_:   0%|          | 0/25 [00:00<?, ?it/s]\u001b[A\n",
      "2050389_F_:  16%|█▌        | 4/25 [00:00<00:00, 39.24it/s]\u001b[A"
     ]
    },
    {
     "name": "stdout",
     "output_type": "stream",
     "text": [
      "running motion mag for vid: 2050389_F_001.mp4\n",
      "video ../../deepfake_data/fb_dfd_release_0.1_final/original_videos_crops/2050389_F_001.mp4\n",
      "Iteration number is 259002\n",
      "Running in Dynamic mode\n"
     ]
    },
    {
     "name": "stderr",
     "output_type": "stream",
     "text": [
      "\n",
      "2050389_F_:  32%|███▏      | 8/25 [00:00<00:00, 37.18it/s]\u001b[A\n",
      "2050389_F_:  52%|█████▏    | 13/25 [00:00<00:00, 38.15it/s]\u001b[A\n",
      "2050389_F_:  72%|███████▏  | 18/25 [00:00<00:00, 39.10it/s]\u001b[A\n",
      "2050389_F_: 100%|██████████| 25/25 [00:00<00:00, 39.92it/s]\u001b[A\n",
      "  6%|▌         | 62/1008 [00:59<12:36,  1.25it/s]\n",
      "2059066_G_:   0%|          | 0/25 [00:00<?, ?it/s]\u001b[A\n",
      "2059066_G_:  16%|█▌        | 4/25 [00:00<00:00, 33.68it/s]\u001b[A"
     ]
    },
    {
     "name": "stdout",
     "output_type": "stream",
     "text": [
      "running motion mag for vid: 2059066_G_002.mp4\n",
      "video ../../deepfake_data/fb_dfd_release_0.1_final/original_videos_crops/2059066_G_002.mp4\n",
      "Iteration number is 259002\n",
      "Running in Dynamic mode\n"
     ]
    },
    {
     "name": "stderr",
     "output_type": "stream",
     "text": [
      "\n",
      "2059066_G_:  32%|███▏      | 8/25 [00:00<00:00, 34.08it/s]\u001b[A\n",
      "2059066_G_:  48%|████▊     | 12/25 [00:00<00:00, 35.36it/s]\u001b[A\n",
      "2059066_G_:  64%|██████▍   | 16/25 [00:00<00:00, 34.95it/s]\u001b[A\n",
      "2059066_G_:  80%|████████  | 20/25 [00:00<00:00, 34.67it/s]\u001b[A\n",
      "2059066_G_: 100%|██████████| 25/25 [00:00<00:00, 33.32it/s]\u001b[A\n",
      "  6%|▋         | 63/1008 [01:00<13:33,  1.16it/s]\n",
      "1892339_A_:   0%|          | 0/25 [00:00<?, ?it/s]\u001b[A\n",
      "1892339_A_:  16%|█▌        | 4/25 [00:00<00:00, 32.36it/s]\u001b[A"
     ]
    },
    {
     "name": "stdout",
     "output_type": "stream",
     "text": [
      "running motion mag for vid: 1892339_A_003.mp4\n",
      "video ../../deepfake_data/fb_dfd_release_0.1_final/original_videos_crops/1892339_A_003.mp4\n",
      "Iteration number is 259002\n",
      "Running in Dynamic mode\n"
     ]
    },
    {
     "name": "stderr",
     "output_type": "stream",
     "text": [
      "\n",
      "1892339_A_:  36%|███▌      | 9/25 [00:00<00:00, 35.30it/s]\u001b[A\n",
      "1892339_A_:  56%|█████▌    | 14/25 [00:00<00:00, 38.07it/s]\u001b[A\n",
      "1892339_A_:  76%|███████▌  | 19/25 [00:00<00:00, 39.94it/s]\u001b[A\n",
      "1892339_A_: 100%|██████████| 25/25 [00:00<00:00, 42.42it/s]\u001b[A\n",
      "  6%|▋         | 64/1008 [01:01<13:17,  1.18it/s]\n",
      "1294671_F_:   0%|          | 0/25 [00:00<?, ?it/s]\u001b[A\n",
      "1294671_F_:  16%|█▌        | 4/25 [00:00<00:00, 36.79it/s]\u001b[A"
     ]
    },
    {
     "name": "stdout",
     "output_type": "stream",
     "text": [
      "running motion mag for vid: 1294671_F_002.mp4\n",
      "video ../../deepfake_data/fb_dfd_release_0.1_final/original_videos_crops/1294671_F_002.mp4\n",
      "Iteration number is 259002\n",
      "Running in Dynamic mode\n"
     ]
    },
    {
     "name": "stderr",
     "output_type": "stream",
     "text": [
      "\n",
      "1294671_F_:  36%|███▌      | 9/25 [00:00<00:00, 38.98it/s]\u001b[A\n",
      "1294671_F_:  56%|█████▌    | 14/25 [00:00<00:00, 39.28it/s]\u001b[A\n",
      "1294671_F_:  72%|███████▏  | 18/25 [00:00<00:00, 38.23it/s]\u001b[A\n",
      "1294671_F_: 100%|██████████| 25/25 [00:00<00:00, 38.24it/s]\u001b[A\n",
      "  6%|▋         | 65/1008 [01:02<13:23,  1.17it/s]\n",
      "1974002_I_:   0%|          | 0/25 [00:00<?, ?it/s]\u001b[A\n",
      "1974002_I_:  12%|█▏        | 3/25 [00:00<00:00, 28.37it/s]\u001b[A"
     ]
    },
    {
     "name": "stdout",
     "output_type": "stream",
     "text": [
      "running motion mag for vid: 1974002_I_003.mp4\n",
      "video ../../deepfake_data/fb_dfd_release_0.1_final/original_videos_crops/1974002_I_003.mp4\n",
      "Iteration number is 259002\n",
      "Running in Dynamic mode\n"
     ]
    },
    {
     "name": "stderr",
     "output_type": "stream",
     "text": [
      "\n",
      "1974002_I_:  24%|██▍       | 6/25 [00:00<00:00, 28.72it/s]\u001b[A\n",
      "1974002_I_:  40%|████      | 10/25 [00:00<00:00, 30.48it/s]\u001b[A\n",
      "1974002_I_:  52%|█████▏    | 13/25 [00:00<00:00, 29.57it/s]\u001b[A\n",
      "1974002_I_:  68%|██████▊   | 17/25 [00:00<00:00, 31.34it/s]\u001b[A\n",
      "1974002_I_:  80%|████████  | 20/25 [00:00<00:00, 30.13it/s]\u001b[A\n",
      "1974002_I_: 100%|██████████| 25/25 [00:00<00:00, 31.10it/s]\u001b[A\n",
      "  7%|▋         | 66/1008 [01:03<14:21,  1.09it/s]\n",
      "2059066_C_:   0%|          | 0/25 [00:00<?, ?it/s]\u001b[A\n",
      "2059066_C_:  20%|██        | 5/25 [00:00<00:00, 44.92it/s]\u001b[A"
     ]
    },
    {
     "name": "stdout",
     "output_type": "stream",
     "text": [
      "running motion mag for vid: 2059066_C_002.mp4\n",
      "video ../../deepfake_data/fb_dfd_release_0.1_final/original_videos_crops/2059066_C_002.mp4\n",
      "Iteration number is 259002\n",
      "Running in Dynamic mode\n"
     ]
    },
    {
     "name": "stderr",
     "output_type": "stream",
     "text": [
      "\n",
      "2059066_C_:  40%|████      | 10/25 [00:00<00:00, 44.78it/s]\u001b[A\n",
      "2059066_C_:  60%|██████    | 15/25 [00:00<00:00, 44.79it/s]\u001b[A\n",
      "2059066_C_:  80%|████████  | 20/25 [00:00<00:00, 44.57it/s]\u001b[A\n",
      "2059066_C_: 100%|██████████| 25/25 [00:00<00:00, 44.25it/s]\u001b[A\n",
      "  7%|▋         | 67/1008 [01:04<13:29,  1.16it/s]\n",
      "1929178_J_:   0%|          | 0/25 [00:00<?, ?it/s]\u001b[A\n",
      "1929178_J_:  16%|█▌        | 4/25 [00:00<00:00, 36.50it/s]\u001b[A"
     ]
    },
    {
     "name": "stdout",
     "output_type": "stream",
     "text": [
      "running motion mag for vid: 1929178_J_002.mp4\n",
      "video ../../deepfake_data/fb_dfd_release_0.1_final/original_videos_crops/1929178_J_002.mp4\n",
      "Iteration number is 259002\n",
      "Running in Dynamic mode\n"
     ]
    },
    {
     "name": "stderr",
     "output_type": "stream",
     "text": [
      "\n",
      "1929178_J_:  36%|███▌      | 9/25 [00:00<00:00, 38.43it/s]\u001b[A\n",
      "1929178_J_:  56%|█████▌    | 14/25 [00:00<00:00, 39.27it/s]\u001b[A\n",
      "1929178_J_:  76%|███████▌  | 19/25 [00:00<00:00, 39.53it/s]\u001b[A\n",
      "1929178_J_: 100%|██████████| 25/25 [00:00<00:00, 39.53it/s]\u001b[A\n",
      "  7%|▋         | 68/1008 [01:04<13:20,  1.17it/s]\n",
      "1294671_B_:   0%|          | 0/25 [00:00<?, ?it/s]\u001b[A\n",
      "1294671_B_:  16%|█▌        | 4/25 [00:00<00:00, 37.30it/s]\u001b[A"
     ]
    },
    {
     "name": "stdout",
     "output_type": "stream",
     "text": [
      "running motion mag for vid: 1294671_B_002.mp4\n",
      "video ../../deepfake_data/fb_dfd_release_0.1_final/original_videos_crops/1294671_B_002.mp4\n",
      "Iteration number is 259002\n",
      "Running in Dynamic mode\n"
     ]
    },
    {
     "name": "stderr",
     "output_type": "stream",
     "text": [
      "\n",
      "1294671_B_:  32%|███▏      | 8/25 [00:00<00:00, 38.04it/s]\u001b[A\n",
      "1294671_B_:  48%|████▊     | 12/25 [00:00<00:00, 38.24it/s]\u001b[A\n",
      "1294671_B_:  68%|██████▊   | 17/25 [00:00<00:00, 39.01it/s]\u001b[A\n",
      "1294671_B_: 100%|██████████| 25/25 [00:00<00:00, 39.51it/s]\u001b[A\n",
      "  7%|▋         | 69/1008 [01:05<13:11,  1.19it/s]\n",
      "1677632_A_:   0%|          | 0/25 [00:00<?, ?it/s]\u001b[A\n",
      "1677632_A_:  16%|█▌        | 4/25 [00:00<00:00, 32.06it/s]\u001b[A"
     ]
    },
    {
     "name": "stdout",
     "output_type": "stream",
     "text": [
      "running motion mag for vid: 1677632_A_003.mp4\n",
      "video ../../deepfake_data/fb_dfd_release_0.1_final/original_videos_crops/1677632_A_003.mp4\n",
      "Iteration number is 259002\n",
      "Running in Dynamic mode\n"
     ]
    },
    {
     "name": "stderr",
     "output_type": "stream",
     "text": [
      "\n",
      "1677632_A_:  32%|███▏      | 8/25 [00:00<00:00, 33.45it/s]\u001b[A\n",
      "1677632_A_:  48%|████▊     | 12/25 [00:00<00:00, 34.55it/s]\u001b[A\n",
      "1677632_A_:  64%|██████▍   | 16/25 [00:00<00:00, 33.60it/s]\u001b[A\n",
      "1677632_A_:  80%|████████  | 20/25 [00:00<00:00, 33.21it/s]\u001b[A\n",
      "1677632_A_: 100%|██████████| 25/25 [00:00<00:00, 34.41it/s]\u001b[A\n",
      "  7%|▋         | 70/1008 [01:06<13:33,  1.15it/s]\n",
      "1573558_B_:   0%|          | 0/25 [00:00<?, ?it/s]\u001b[A\n",
      "1573558_B_:  16%|█▌        | 4/25 [00:00<00:00, 39.31it/s]\u001b[A"
     ]
    },
    {
     "name": "stdout",
     "output_type": "stream",
     "text": [
      "running motion mag for vid: 1573558_B_002.mp4\n",
      "video ../../deepfake_data/fb_dfd_release_0.1_final/original_videos_crops/1573558_B_002.mp4\n",
      "Iteration number is 259002\n",
      "Running in Dynamic mode\n"
     ]
    },
    {
     "name": "stderr",
     "output_type": "stream",
     "text": [
      "\n",
      "1573558_B_:  36%|███▌      | 9/25 [00:00<00:00, 39.65it/s]\u001b[A\n",
      "1573558_B_:  52%|█████▏    | 13/25 [00:00<00:00, 39.39it/s]\u001b[A\n",
      "1573558_B_:  68%|██████▊   | 17/25 [00:00<00:00, 37.18it/s]\u001b[A\n",
      "1573558_B_:  84%|████████▍ | 21/25 [00:00<00:00, 37.24it/s]\u001b[A\n",
      "1573558_B_: 100%|██████████| 25/25 [00:00<00:00, 37.70it/s]\u001b[A\n",
      "  7%|▋         | 71/1008 [01:07<13:30,  1.16it/s]\n",
      "1853436_D_:   0%|          | 0/25 [00:00<?, ?it/s]\u001b[A\n",
      "1853436_D_:  16%|█▌        | 4/25 [00:00<00:00, 33.97it/s]\u001b[A"
     ]
    },
    {
     "name": "stdout",
     "output_type": "stream",
     "text": [
      "running motion mag for vid: 1853436_D_003.mp4\n",
      "video ../../deepfake_data/fb_dfd_release_0.1_final/original_videos_crops/1853436_D_003.mp4\n",
      "Iteration number is 259002\n",
      "Running in Dynamic mode\n"
     ]
    },
    {
     "name": "stderr",
     "output_type": "stream",
     "text": [
      "\n",
      "1853436_D_:  32%|███▏      | 8/25 [00:00<00:00, 34.90it/s]\u001b[A\n",
      "1853436_D_:  52%|█████▏    | 13/25 [00:00<00:00, 35.93it/s]\u001b[A\n",
      "1853436_D_:  68%|██████▊   | 17/25 [00:00<00:00, 34.98it/s]\u001b[A\n",
      "1853436_D_:  84%|████████▍ | 21/25 [00:00<00:00, 34.49it/s]\u001b[A\n",
      "1853436_D_: 100%|██████████| 25/25 [00:00<00:00, 35.65it/s]\u001b[A\n",
      "  7%|▋         | 72/1008 [01:08<13:44,  1.14it/s]\n",
      "1997643_D_:   0%|          | 0/25 [00:00<?, ?it/s]\u001b[A\n",
      "1997643_D_:  16%|█▌        | 4/25 [00:00<00:00, 32.86it/s]\u001b[A"
     ]
    },
    {
     "name": "stdout",
     "output_type": "stream",
     "text": [
      "running motion mag for vid: 1997643_D_002.mp4\n",
      "video ../../deepfake_data/fb_dfd_release_0.1_final/original_videos_crops/1997643_D_002.mp4\n",
      "Iteration number is 259002\n",
      "Running in Dynamic mode\n"
     ]
    },
    {
     "name": "stderr",
     "output_type": "stream",
     "text": [
      "\n",
      "1997643_D_:  32%|███▏      | 8/25 [00:00<00:00, 32.78it/s]\u001b[A\n",
      "1997643_D_:  48%|████▊     | 12/25 [00:00<00:00, 34.30it/s]\u001b[A\n",
      "1997643_D_:  64%|██████▍   | 16/25 [00:00<00:00, 35.68it/s]\u001b[A\n",
      "1997643_D_:  80%|████████  | 20/25 [00:00<00:00, 36.80it/s]\u001b[A\n",
      "1997643_D_: 100%|██████████| 25/25 [00:00<00:00, 36.61it/s]\u001b[A\n",
      "  7%|▋         | 73/1008 [01:09<13:54,  1.12it/s]\n",
      "2050389_B_:   0%|          | 0/25 [00:00<?, ?it/s]\u001b[A\n",
      "2050389_B_:  12%|█▏        | 3/25 [00:00<00:00, 29.18it/s]\u001b[A"
     ]
    },
    {
     "name": "stdout",
     "output_type": "stream",
     "text": [
      "running motion mag for vid: 2050389_B_001.mp4\n",
      "video ../../deepfake_data/fb_dfd_release_0.1_final/original_videos_crops/2050389_B_001.mp4\n",
      "Iteration number is 259002\n",
      "Running in Dynamic mode\n"
     ]
    },
    {
     "name": "stderr",
     "output_type": "stream",
     "text": [
      "\n",
      "2050389_B_:  28%|██▊       | 7/25 [00:00<00:00, 29.68it/s]\u001b[A\n",
      "2050389_B_:  44%|████▍     | 11/25 [00:00<00:00, 31.25it/s]\u001b[A\n",
      "2050389_B_:  60%|██████    | 15/25 [00:00<00:00, 31.71it/s]\u001b[A\n",
      "2050389_B_:  76%|███████▌  | 19/25 [00:00<00:00, 31.99it/s]\u001b[A\n",
      "2050389_B_: 100%|██████████| 25/25 [00:00<00:00, 32.60it/s]\u001b[A\n",
      "  7%|▋         | 74/1008 [01:10<14:15,  1.09it/s]\n",
      "1929178_B_:   0%|          | 0/25 [00:00<?, ?it/s]\u001b[A\n",
      "1929178_B_:  16%|█▌        | 4/25 [00:00<00:00, 32.08it/s]\u001b[A"
     ]
    },
    {
     "name": "stdout",
     "output_type": "stream",
     "text": [
      "running motion mag for vid: 1929178_B_002.mp4\n",
      "video ../../deepfake_data/fb_dfd_release_0.1_final/original_videos_crops/1929178_B_002.mp4\n",
      "Iteration number is 259002\n",
      "Running in Dynamic mode\n"
     ]
    },
    {
     "name": "stderr",
     "output_type": "stream",
     "text": [
      "\n",
      "1929178_B_:  32%|███▏      | 8/25 [00:00<00:00, 33.52it/s]\u001b[A\n",
      "1929178_B_:  52%|█████▏    | 13/25 [00:00<00:00, 35.35it/s]\u001b[A\n",
      "1929178_B_:  68%|██████▊   | 17/25 [00:00<00:00, 34.31it/s]\u001b[A\n",
      "1929178_B_: 100%|██████████| 25/25 [00:00<00:00, 36.24it/s]\u001b[A\n",
      "  7%|▋         | 75/1008 [01:11<14:15,  1.09it/s]\n",
      "2022094_B_:   0%|          | 0/25 [00:00<?, ?it/s]\u001b[A\n",
      "2022094_B_:  16%|█▌        | 4/25 [00:00<00:00, 38.46it/s]\u001b[A"
     ]
    },
    {
     "name": "stdout",
     "output_type": "stream",
     "text": [
      "running motion mag for vid: 2022094_B_001.mp4\n",
      "video ../../deepfake_data/fb_dfd_release_0.1_final/original_videos_crops/2022094_B_001.mp4\n",
      "Iteration number is 259002\n",
      "Running in Dynamic mode\n"
     ]
    },
    {
     "name": "stderr",
     "output_type": "stream",
     "text": [
      "\n",
      "2022094_B_:  36%|███▌      | 9/25 [00:00<00:00, 39.19it/s]\u001b[A\n",
      "2022094_B_:  52%|█████▏    | 13/25 [00:00<00:00, 39.09it/s]\u001b[A\n",
      "2022094_B_:  68%|██████▊   | 17/25 [00:00<00:00, 39.10it/s]\u001b[A\n",
      "2022094_B_:  84%|████████▍ | 21/25 [00:00<00:00, 39.09it/s]\u001b[A\n",
      "2022094_B_: 100%|██████████| 25/25 [00:00<00:00, 38.29it/s]\u001b[A\n",
      "  8%|▊         | 76/1008 [01:12<14:06,  1.10it/s]\n",
      "2084869_E_:   0%|          | 0/25 [00:00<?, ?it/s]\u001b[A\n",
      "2084869_E_:  16%|█▌        | 4/25 [00:00<00:00, 34.81it/s]\u001b[A"
     ]
    },
    {
     "name": "stdout",
     "output_type": "stream",
     "text": [
      "running motion mag for vid: 2084869_E_002.mp4\n",
      "video ../../deepfake_data/fb_dfd_release_0.1_final/original_videos_crops/2084869_E_002.mp4\n",
      "Iteration number is 259002\n",
      "Running in Dynamic mode\n"
     ]
    },
    {
     "name": "stderr",
     "output_type": "stream",
     "text": [
      "\n",
      "2084869_E_:  32%|███▏      | 8/25 [00:00<00:00, 33.95it/s]\u001b[A\n",
      "2084869_E_:  48%|████▊     | 12/25 [00:00<00:00, 34.36it/s]\u001b[A\n",
      "2084869_E_:  64%|██████▍   | 16/25 [00:00<00:00, 33.58it/s]\u001b[A\n",
      "2084869_E_:  76%|███████▌  | 19/25 [00:00<00:00, 31.61it/s]\u001b[A\n",
      "2084869_E_: 100%|██████████| 25/25 [00:00<00:00, 32.23it/s]\u001b[A\n",
      "  8%|▊         | 77/1008 [01:13<14:25,  1.08it/s]\n",
      "1795659_A_:   0%|          | 0/25 [00:00<?, ?it/s]\u001b[A\n",
      "1795659_A_:  16%|█▌        | 4/25 [00:00<00:00, 31.85it/s]\u001b[A"
     ]
    },
    {
     "name": "stdout",
     "output_type": "stream",
     "text": [
      "running motion mag for vid: 1795659_A_001.mp4\n",
      "video ../../deepfake_data/fb_dfd_release_0.1_final/original_videos_crops/1795659_A_001.mp4\n",
      "Iteration number is 259002\n",
      "Running in Dynamic mode\n"
     ]
    },
    {
     "name": "stderr",
     "output_type": "stream",
     "text": [
      "\n",
      "1795659_A_:  32%|███▏      | 8/25 [00:00<00:00, 33.36it/s]\u001b[A\n",
      "1795659_A_:  48%|████▊     | 12/25 [00:00<00:00, 33.94it/s]\u001b[A\n",
      "1795659_A_:  64%|██████▍   | 16/25 [00:00<00:00, 34.54it/s]\u001b[A\n",
      "1795659_A_:  80%|████████  | 20/25 [00:00<00:00, 35.92it/s]\u001b[A\n",
      "1795659_A_: 100%|██████████| 25/25 [00:00<00:00, 36.41it/s]\u001b[A\n",
      "  8%|▊         | 78/1008 [01:14<14:15,  1.09it/s]\n",
      "1974002_A_:   0%|          | 0/25 [00:00<?, ?it/s]\u001b[A\n",
      "1974002_A_:  16%|█▌        | 4/25 [00:00<00:00, 38.36it/s]\u001b[A"
     ]
    },
    {
     "name": "stdout",
     "output_type": "stream",
     "text": [
      "running motion mag for vid: 1974002_A_003.mp4\n",
      "video ../../deepfake_data/fb_dfd_release_0.1_final/original_videos_crops/1974002_A_003.mp4\n",
      "Iteration number is 259002\n",
      "Running in Dynamic mode\n"
     ]
    },
    {
     "name": "stderr",
     "output_type": "stream",
     "text": [
      "\n",
      "1974002_A_:  32%|███▏      | 8/25 [00:00<00:00, 38.38it/s]\u001b[A\n",
      "1974002_A_:  48%|████▊     | 12/25 [00:00<00:00, 36.95it/s]\u001b[A\n",
      "1974002_A_:  64%|██████▍   | 16/25 [00:00<00:00, 35.47it/s]\u001b[A\n",
      "1974002_A_:  76%|███████▌  | 19/25 [00:00<00:00, 32.76it/s]\u001b[A\n",
      "1974002_A_: 100%|██████████| 25/25 [00:00<00:00, 33.44it/s]\u001b[A\n",
      "  8%|▊         | 79/1008 [01:14<14:30,  1.07it/s]\n",
      "1260311_B_:   0%|          | 0/25 [00:00<?, ?it/s]\u001b[A\n",
      "1260311_B_:  16%|█▌        | 4/25 [00:00<00:00, 31.89it/s]\u001b[A"
     ]
    },
    {
     "name": "stdout",
     "output_type": "stream",
     "text": [
      "running motion mag for vid: 1260311_B_003.mp4\n",
      "video ../../deepfake_data/fb_dfd_release_0.1_final/original_videos_crops/1260311_B_003.mp4\n",
      "Iteration number is 259002\n",
      "Running in Dynamic mode\n"
     ]
    },
    {
     "name": "stderr",
     "output_type": "stream",
     "text": [
      "\n",
      "1260311_B_:  32%|███▏      | 8/25 [00:00<00:00, 33.48it/s]\u001b[A\n",
      "1260311_B_:  52%|█████▏    | 13/25 [00:00<00:00, 35.58it/s]\u001b[A\n",
      "1260311_B_:  72%|███████▏  | 18/25 [00:00<00:00, 37.08it/s]\u001b[A\n",
      "1260311_B_: 100%|██████████| 25/25 [00:00<00:00, 38.40it/s]\u001b[A\n",
      "  8%|▊         | 80/1008 [01:15<14:13,  1.09it/s]\n",
      "1433884_C_:   0%|          | 0/25 [00:00<?, ?it/s]\u001b[A\n",
      "\n",
      "2050389_J_:   0%|          | 0/25 [00:00<?, ?it/s]\u001b[A"
     ]
    },
    {
     "name": "stdout",
     "output_type": "stream",
     "text": [
      "running motion mag for vid: 1433884_C_001.mp4\n",
      "video ../../deepfake_data/fb_dfd_release_0.1_final/original_videos_crops/1433884_C_001.mp4\n",
      "Iteration number is 259002\n",
      "Running in Dynamic mode\n",
      "Exception found: OpenCV(4.1.1) /io/opencv/modules/imgproc/src/color.cpp:182: error: (-215:Assertion failed) !_src.empty() in function 'cvtColor'\n",
      "\n",
      "running motion mag for vid: 2050389_J_001.mp4\n",
      "video ../../deepfake_data/fb_dfd_release_0.1_final/original_videos_crops/2050389_J_001.mp4\n",
      "Iteration number is 259002\n",
      "Running in Dynamic mode\n"
     ]
    },
    {
     "name": "stderr",
     "output_type": "stream",
     "text": [
      "\n",
      "2050389_J_:  16%|█▌        | 4/25 [00:00<00:00, 39.10it/s]\u001b[A\n",
      "2050389_J_:  32%|███▏      | 8/25 [00:00<00:00, 39.21it/s]\u001b[A\n",
      "2050389_J_:  52%|█████▏    | 13/25 [00:00<00:00, 39.69it/s]\u001b[A\n",
      "2050389_J_:  68%|██████▊   | 17/25 [00:00<00:00, 38.37it/s]\u001b[A\n",
      "2050389_J_:  84%|████████▍ | 21/25 [00:00<00:00, 37.69it/s]\u001b[A\n",
      "2050389_J_: 100%|██████████| 25/25 [00:00<00:00, 38.32it/s]\u001b[A\n",
      "  8%|▊         | 82/1008 [01:16<12:07,  1.27it/s]\n",
      "1681757_D_:   0%|          | 0/25 [00:00<?, ?it/s]\u001b[A\n",
      "1681757_D_:  16%|█▌        | 4/25 [00:00<00:00, 33.45it/s]\u001b[A"
     ]
    },
    {
     "name": "stdout",
     "output_type": "stream",
     "text": [
      "running motion mag for vid: 1681757_D_002.mp4\n",
      "video ../../deepfake_data/fb_dfd_release_0.1_final/original_videos_crops/1681757_D_002.mp4\n",
      "Iteration number is 259002\n",
      "Running in Dynamic mode\n"
     ]
    },
    {
     "name": "stderr",
     "output_type": "stream",
     "text": [
      "\n",
      "1681757_D_:  32%|███▏      | 8/25 [00:00<00:00, 34.70it/s]\u001b[A\n",
      "1681757_D_:  52%|█████▏    | 13/25 [00:00<00:00, 36.46it/s]\u001b[A\n",
      "1681757_D_:  72%|███████▏  | 18/25 [00:00<00:00, 37.93it/s]\u001b[A\n",
      "1681757_D_: 100%|██████████| 25/25 [00:00<00:00, 39.77it/s]\u001b[A\n",
      "  8%|▊         | 83/1008 [01:17<12:17,  1.25it/s]\n",
      "1916010_G_:   0%|          | 0/24 [00:00<?, ?it/s]\u001b[A\n",
      "1916010_G_:  21%|██        | 5/24 [00:00<00:00, 40.48it/s]\u001b[A"
     ]
    },
    {
     "name": "stdout",
     "output_type": "stream",
     "text": [
      "running motion mag for vid: 1916010_G_001.mp4\n",
      "video ../../deepfake_data/fb_dfd_release_0.1_final/original_videos_crops/1916010_G_001.mp4\n",
      "Iteration number is 259002\n",
      "Running in Dynamic mode\n"
     ]
    },
    {
     "name": "stderr",
     "output_type": "stream",
     "text": [
      "\n",
      "1916010_G_:  38%|███▊      | 9/24 [00:00<00:00, 40.15it/s]\u001b[A\n",
      "1916010_G_:  54%|█████▍    | 13/24 [00:00<00:00, 39.50it/s]\u001b[A\n",
      "1916010_G_:  71%|███████   | 17/24 [00:00<00:00, 39.18it/s]\u001b[A\n",
      "1916010_G_: 100%|██████████| 24/24 [00:00<00:00, 39.06it/s]\u001b[A\n",
      "  8%|▊         | 84/1008 [01:18<12:18,  1.25it/s]\n",
      "2104983_A_:   0%|          | 0/25 [00:00<?, ?it/s]\u001b[A\n",
      "2104983_A_:  16%|█▌        | 4/25 [00:00<00:00, 39.31it/s]\u001b[A"
     ]
    },
    {
     "name": "stdout",
     "output_type": "stream",
     "text": [
      "running motion mag for vid: 2104983_A_003.mp4\n",
      "video ../../deepfake_data/fb_dfd_release_0.1_final/original_videos_crops/2104983_A_003.mp4\n",
      "Iteration number is 259002\n",
      "Running in Dynamic mode\n"
     ]
    },
    {
     "name": "stderr",
     "output_type": "stream",
     "text": [
      "\n",
      "2104983_A_:  32%|███▏      | 8/25 [00:00<00:00, 37.38it/s]\u001b[A\n",
      "2104983_A_:  48%|████▊     | 12/25 [00:00<00:00, 37.84it/s]\u001b[A\n",
      "2104983_A_:  60%|██████    | 15/25 [00:00<00:00, 35.05it/s]\u001b[A\n",
      "2104983_A_:  76%|███████▌  | 19/25 [00:00<00:00, 33.97it/s]\u001b[A\n",
      "2104983_A_: 100%|██████████| 25/25 [00:00<00:00, 34.88it/s]\u001b[A\n",
      "  8%|▊         | 85/1008 [01:19<13:03,  1.18it/s]\n",
      "2011804_C_:   0%|          | 0/25 [00:00<?, ?it/s]\u001b[A\n",
      "2011804_C_:  16%|█▌        | 4/25 [00:00<00:00, 34.73it/s]\u001b[A"
     ]
    },
    {
     "name": "stdout",
     "output_type": "stream",
     "text": [
      "running motion mag for vid: 2011804_C_001.mp4\n",
      "video ../../deepfake_data/fb_dfd_release_0.1_final/original_videos_crops/2011804_C_001.mp4\n",
      "Iteration number is 259002\n",
      "Running in Dynamic mode\n"
     ]
    },
    {
     "name": "stderr",
     "output_type": "stream",
     "text": [
      "\n",
      "2011804_C_:  32%|███▏      | 8/25 [00:00<00:00, 35.94it/s]\u001b[A\n",
      "2011804_C_:  48%|████▊     | 12/25 [00:00<00:00, 35.53it/s]\u001b[A\n",
      "2011804_C_:  68%|██████▊   | 17/25 [00:00<00:00, 36.94it/s]\u001b[A\n",
      "2011804_C_: 100%|██████████| 25/25 [00:00<00:00, 37.18it/s]\u001b[A\n",
      "  9%|▊         | 86/1008 [01:20<13:07,  1.17it/s]\n",
      "700790_C_0:   0%|          | 0/23 [00:00<?, ?it/s]\u001b[A\n",
      "700790_C_0:  17%|█▋        | 4/23 [00:00<00:00, 32.33it/s]\u001b[A"
     ]
    },
    {
     "name": "stdout",
     "output_type": "stream",
     "text": [
      "running motion mag for vid: 700790_C_003.mp4\n",
      "video ../../deepfake_data/fb_dfd_release_0.1_final/original_videos_crops/700790_C_003.mp4\n",
      "Iteration number is 259002\n",
      "Running in Dynamic mode\n"
     ]
    },
    {
     "name": "stderr",
     "output_type": "stream",
     "text": [
      "\n",
      "700790_C_0:  35%|███▍      | 8/23 [00:00<00:00, 33.60it/s]\u001b[A\n",
      "700790_C_0:  57%|█████▋    | 13/23 [00:00<00:00, 35.44it/s]\u001b[A\n",
      "700790_C_0:  78%|███████▊  | 18/23 [00:00<00:00, 36.58it/s]\u001b[A\n",
      "700790_C_0: 100%|██████████| 23/23 [00:00<00:00, 37.11it/s]\u001b[A\n",
      "  9%|▊         | 87/1008 [01:21<12:48,  1.20it/s]\n",
      "1916010_C_:   0%|          | 0/25 [00:00<?, ?it/s]\u001b[A\n",
      "1916010_C_:  16%|█▌        | 4/25 [00:00<00:00, 35.31it/s]\u001b[A"
     ]
    },
    {
     "name": "stdout",
     "output_type": "stream",
     "text": [
      "running motion mag for vid: 1916010_C_001.mp4\n",
      "video ../../deepfake_data/fb_dfd_release_0.1_final/original_videos_crops/1916010_C_001.mp4\n",
      "Iteration number is 259002\n",
      "Running in Dynamic mode\n"
     ]
    },
    {
     "name": "stderr",
     "output_type": "stream",
     "text": [
      "\n",
      "1916010_C_:  28%|██▊       | 7/25 [00:00<00:00, 33.19it/s]\u001b[A\n",
      "1916010_C_:  44%|████▍     | 11/25 [00:00<00:00, 33.33it/s]\u001b[A\n",
      "1916010_C_:  60%|██████    | 15/25 [00:00<00:00, 33.65it/s]\u001b[A\n",
      "1916010_C_:  76%|███████▌  | 19/25 [00:00<00:00, 33.48it/s]\u001b[A\n",
      "1916010_C_: 100%|██████████| 25/25 [00:00<00:00, 33.30it/s]\u001b[A\n",
      "  9%|▊         | 88/1008 [01:22<13:29,  1.14it/s]\n",
      "1976794_D_:   0%|          | 0/20 [00:00<?, ?it/s]\u001b[A\n",
      "1976794_D_:  20%|██        | 4/20 [00:00<00:00, 32.58it/s]\u001b[A"
     ]
    },
    {
     "name": "stdout",
     "output_type": "stream",
     "text": [
      "running motion mag for vid: 1976794_D_001.mp4\n",
      "video ../../deepfake_data/fb_dfd_release_0.1_final/original_videos_crops/1976794_D_001.mp4\n",
      "Iteration number is 259002\n",
      "Running in Dynamic mode\n"
     ]
    },
    {
     "name": "stderr",
     "output_type": "stream",
     "text": [
      "\n",
      "1976794_D_:  40%|████      | 8/20 [00:00<00:00, 33.75it/s]\u001b[A\n",
      "1976794_D_:  60%|██████    | 12/20 [00:00<00:00, 34.67it/s]\u001b[A\n",
      "1976794_D_:  80%|████████  | 16/20 [00:00<00:00, 34.66it/s]\u001b[A\n",
      "1976794_D_: 100%|██████████| 20/20 [00:00<00:00, 34.33it/s]\u001b[A\n",
      "  9%|▉         | 89/1008 [01:22<13:02,  1.17it/s]\n",
      "2022094_F_:   0%|          | 0/25 [00:00<?, ?it/s]\u001b[A\n",
      "2022094_F_:  16%|█▌        | 4/25 [00:00<00:00, 39.72it/s]\u001b[A"
     ]
    },
    {
     "name": "stdout",
     "output_type": "stream",
     "text": [
      "running motion mag for vid: 2022094_F_001.mp4\n",
      "video ../../deepfake_data/fb_dfd_release_0.1_final/original_videos_crops/2022094_F_001.mp4\n",
      "Iteration number is 259002\n",
      "Running in Dynamic mode\n"
     ]
    },
    {
     "name": "stderr",
     "output_type": "stream",
     "text": [
      "\n",
      "2022094_F_:  36%|███▌      | 9/25 [00:00<00:00, 40.13it/s]\u001b[A\n",
      "2022094_F_:  52%|█████▏    | 13/25 [00:00<00:00, 40.04it/s]\u001b[A\n",
      "2022094_F_:  68%|██████▊   | 17/25 [00:00<00:00, 39.41it/s]\u001b[A\n",
      "2022094_F_: 100%|██████████| 25/25 [00:00<00:00, 39.73it/s]\u001b[A\n",
      "  9%|▉         | 90/1008 [01:23<12:40,  1.21it/s]\n",
      "1929178_F_:   0%|          | 0/25 [00:00<?, ?it/s]\u001b[A\n",
      "1929178_F_:  16%|█▌        | 4/25 [00:00<00:00, 30.11it/s]\u001b[A"
     ]
    },
    {
     "name": "stdout",
     "output_type": "stream",
     "text": [
      "running motion mag for vid: 1929178_F_002.mp4\n",
      "video ../../deepfake_data/fb_dfd_release_0.1_final/original_videos_crops/1929178_F_002.mp4\n",
      "Iteration number is 259002\n",
      "Running in Dynamic mode\n"
     ]
    },
    {
     "name": "stderr",
     "output_type": "stream",
     "text": [
      "\n",
      "1929178_F_:  32%|███▏      | 8/25 [00:00<00:00, 31.55it/s]\u001b[A\n",
      "1929178_F_:  48%|████▊     | 12/25 [00:00<00:00, 32.56it/s]\u001b[A\n",
      "1929178_F_:  60%|██████    | 15/25 [00:00<00:00, 31.93it/s]\u001b[A\n",
      "  9%|▉         | 91/1008 [01:24<11:04,  1.38it/s]\n",
      "1260311_F_:   0%|          | 0/25 [00:00<?, ?it/s]\u001b[A\n",
      "1260311_F_:  16%|█▌        | 4/25 [00:00<00:00, 32.14it/s]\u001b[A"
     ]
    },
    {
     "name": "stdout",
     "output_type": "stream",
     "text": [
      "Exception found: OpenCV(4.1.1) /io/opencv/modules/imgproc/src/color.cpp:182: error: (-215:Assertion failed) !_src.empty() in function 'cvtColor'\n",
      "\n",
      "running motion mag for vid: 1260311_F_003.mp4\n",
      "video ../../deepfake_data/fb_dfd_release_0.1_final/original_videos_crops/1260311_F_003.mp4\n",
      "Iteration number is 259002\n",
      "Running in Dynamic mode\n"
     ]
    },
    {
     "name": "stderr",
     "output_type": "stream",
     "text": [
      "\n",
      "1260311_F_:  32%|███▏      | 8/25 [00:00<00:00, 32.80it/s]\u001b[A\n",
      "1260311_F_:  52%|█████▏    | 13/25 [00:00<00:00, 35.09it/s]\u001b[A\n",
      "1260311_F_:  68%|██████▊   | 17/25 [00:00<00:00, 36.06it/s]\u001b[A\n",
      "1260311_F_:  84%|████████▍ | 21/25 [00:00<00:00, 36.93it/s]\u001b[A\n",
      "1260311_F_: 100%|██████████| 25/25 [00:00<00:00, 37.43it/s]\u001b[A\n",
      "  9%|▉         | 92/1008 [01:24<11:48,  1.29it/s]\n",
      "1974002_E_:   0%|          | 0/25 [00:00<?, ?it/s]\u001b[A\n",
      "1974002_E_:  16%|█▌        | 4/25 [00:00<00:00, 39.11it/s]\u001b[A"
     ]
    },
    {
     "name": "stdout",
     "output_type": "stream",
     "text": [
      "running motion mag for vid: 1974002_E_003.mp4\n",
      "video ../../deepfake_data/fb_dfd_release_0.1_final/original_videos_crops/1974002_E_003.mp4\n",
      "Iteration number is 259002\n",
      "Running in Dynamic mode\n"
     ]
    },
    {
     "name": "stderr",
     "output_type": "stream",
     "text": [
      "\n",
      "1974002_E_:  36%|███▌      | 9/25 [00:00<00:00, 40.21it/s]\u001b[A\n",
      "1974002_E_:  56%|█████▌    | 14/25 [00:00<00:00, 41.28it/s]\u001b[A\n",
      "1974002_E_:  76%|███████▌  | 19/25 [00:00<00:00, 42.23it/s]\u001b[A\n",
      "1974002_E_: 100%|██████████| 25/25 [00:00<00:00, 43.04it/s]\u001b[A\n",
      "  9%|▉         | 93/1008 [01:25<11:54,  1.28it/s]\n",
      "1795659_E_:   0%|          | 0/25 [00:00<?, ?it/s]\u001b[A\n",
      "1795659_E_:  16%|█▌        | 4/25 [00:00<00:00, 39.29it/s]\u001b[A"
     ]
    },
    {
     "name": "stdout",
     "output_type": "stream",
     "text": [
      "running motion mag for vid: 1795659_E_001.mp4\n",
      "video ../../deepfake_data/fb_dfd_release_0.1_final/original_videos_crops/1795659_E_001.mp4\n",
      "Iteration number is 259002\n",
      "Running in Dynamic mode\n"
     ]
    },
    {
     "name": "stderr",
     "output_type": "stream",
     "text": [
      "\n",
      "1795659_E_:  36%|███▌      | 9/25 [00:00<00:00, 39.33it/s]\u001b[A\n",
      "1795659_E_:  52%|█████▏    | 13/25 [00:00<00:00, 36.73it/s]\u001b[A\n",
      "1795659_E_:  68%|██████▊   | 17/25 [00:00<00:00, 36.74it/s]\u001b[A\n",
      "1795659_E_:  84%|████████▍ | 21/25 [00:00<00:00, 35.52it/s]\u001b[A\n",
      "1795659_E_: 100%|██████████| 25/25 [00:00<00:00, 35.34it/s]\u001b[A\n",
      "  9%|▉         | 94/1008 [01:26<12:32,  1.21it/s]\n",
      "1999299_I_:   0%|          | 0/25 [00:00<?, ?it/s]\u001b[A\n",
      "1999299_I_:  16%|█▌        | 4/25 [00:00<00:00, 31.36it/s]\u001b[A"
     ]
    },
    {
     "name": "stdout",
     "output_type": "stream",
     "text": [
      "running motion mag for vid: 1999299_I_001.mp4\n",
      "video ../../deepfake_data/fb_dfd_release_0.1_final/original_videos_crops/1999299_I_001.mp4\n",
      "Iteration number is 259002\n",
      "Running in Dynamic mode\n"
     ]
    },
    {
     "name": "stderr",
     "output_type": "stream",
     "text": [
      "\n",
      "1999299_I_:  32%|███▏      | 8/25 [00:00<00:00, 32.13it/s]\u001b[A\n",
      "1999299_I_:  48%|████▊     | 12/25 [00:00<00:00, 33.04it/s]\u001b[A\n",
      "1999299_I_:  64%|██████▍   | 16/25 [00:00<00:00, 33.49it/s]\u001b[A\n",
      "1999299_I_:  80%|████████  | 20/25 [00:00<00:00, 33.94it/s]\u001b[A\n",
      "1999299_I_: 100%|██████████| 25/25 [00:00<00:00, 33.77it/s]\u001b[A\n",
      "  9%|▉         | 95/1008 [01:27<13:14,  1.15it/s]\n",
      "1600085_B_:   0%|          | 0/25 [00:00<?, ?it/s]\u001b[A\n",
      "1600085_B_:  16%|█▌        | 4/25 [00:00<00:00, 29.63it/s]\u001b[A"
     ]
    },
    {
     "name": "stdout",
     "output_type": "stream",
     "text": [
      "running motion mag for vid: 1600085_B_001.mp4\n",
      "video ../../deepfake_data/fb_dfd_release_0.1_final/original_videos_crops/1600085_B_001.mp4\n",
      "Iteration number is 259002\n",
      "Running in Dynamic mode\n"
     ]
    },
    {
     "name": "stderr",
     "output_type": "stream",
     "text": [
      "\n",
      "1600085_B_:  28%|██▊       | 7/25 [00:00<00:00, 29.37it/s]\u001b[A\n",
      "1600085_B_:  44%|████▍     | 11/25 [00:00<00:00, 30.78it/s]\u001b[A\n",
      "1600085_B_:  60%|██████    | 15/25 [00:00<00:00, 32.69it/s]\u001b[A\n",
      "1600085_B_:  76%|███████▌  | 19/25 [00:00<00:00, 34.32it/s]\u001b[A\n",
      "1600085_B_: 100%|██████████| 25/25 [00:00<00:00, 34.43it/s]\u001b[A\n",
      " 10%|▉         | 96/1008 [01:28<13:20,  1.14it/s]\n",
      "1224068_B_:   0%|          | 0/25 [00:00<?, ?it/s]\u001b[A\n",
      "1224068_B_:  16%|█▌        | 4/25 [00:00<00:00, 38.59it/s]\u001b[A"
     ]
    },
    {
     "name": "stdout",
     "output_type": "stream",
     "text": [
      "running motion mag for vid: 1224068_B_002.mp4\n",
      "video ../../deepfake_data/fb_dfd_release_0.1_final/original_videos_crops/1224068_B_002.mp4\n",
      "Iteration number is 259002\n",
      "Running in Dynamic mode\n"
     ]
    },
    {
     "name": "stderr",
     "output_type": "stream",
     "text": [
      "\n",
      "1224068_B_:  36%|███▌      | 9/25 [00:00<00:00, 39.27it/s]\u001b[A\n",
      "1224068_B_:  56%|█████▌    | 14/25 [00:00<00:00, 40.71it/s]\u001b[A\n",
      "1224068_B_:  76%|███████▌  | 19/25 [00:00<00:00, 41.65it/s]\u001b[A\n",
      "1224068_B_: 100%|██████████| 25/25 [00:00<00:00, 42.28it/s]\u001b[A\n",
      " 10%|▉         | 97/1008 [01:29<13:02,  1.16it/s]\n",
      "1922507_C_:   0%|          | 0/25 [00:00<?, ?it/s]\u001b[A\n",
      "1922507_C_:  16%|█▌        | 4/25 [00:00<00:00, 38.22it/s]\u001b[A"
     ]
    },
    {
     "name": "stdout",
     "output_type": "stream",
     "text": [
      "running motion mag for vid: 1922507_C_002.mp4\n",
      "video ../../deepfake_data/fb_dfd_release_0.1_final/original_videos_crops/1922507_C_002.mp4\n",
      "Iteration number is 259002\n",
      "Running in Dynamic mode\n"
     ]
    },
    {
     "name": "stderr",
     "output_type": "stream",
     "text": [
      "\n",
      "1922507_C_:  36%|███▌      | 9/25 [00:00<00:00, 39.00it/s]\u001b[A\n",
      "1922507_C_:  56%|█████▌    | 14/25 [00:00<00:00, 40.54it/s]\u001b[A\n",
      "1922507_C_:  76%|███████▌  | 19/25 [00:00<00:00, 39.74it/s]\u001b[A\n",
      "1922507_C_: 100%|██████████| 25/25 [00:00<00:00, 39.47it/s]\u001b[A\n",
      " 10%|▉         | 98/1008 [01:30<12:51,  1.18it/s]\n",
      "1869846_A_:   0%|          | 0/25 [00:00<?, ?it/s]\u001b[A\n",
      "1869846_A_:  16%|█▌        | 4/25 [00:00<00:00, 30.66it/s]\u001b[A"
     ]
    },
    {
     "name": "stdout",
     "output_type": "stream",
     "text": [
      "running motion mag for vid: 1869846_A_002.mp4\n",
      "video ../../deepfake_data/fb_dfd_release_0.1_final/original_videos_crops/1869846_A_002.mp4\n",
      "Iteration number is 259002\n",
      "Running in Dynamic mode\n"
     ]
    },
    {
     "name": "stderr",
     "output_type": "stream",
     "text": [
      "\n",
      "1869846_A_:  32%|███▏      | 8/25 [00:00<00:00, 31.87it/s]\u001b[A\n",
      "1869846_A_:  48%|████▊     | 12/25 [00:00<00:00, 33.47it/s]\u001b[A\n",
      "1869846_A_:  64%|██████▍   | 16/25 [00:00<00:00, 35.16it/s]\u001b[A\n",
      "1869846_A_:  80%|████████  | 20/25 [00:00<00:00, 34.46it/s]\u001b[A\n",
      "1869846_A_: 100%|██████████| 25/25 [00:00<00:00, 34.92it/s]\u001b[A\n",
      " 10%|▉         | 99/1008 [01:31<13:13,  1.15it/s]\n",
      "1783597_C_:   0%|          | 0/25 [00:00<?, ?it/s]\u001b[A\n",
      "1783597_C_:  16%|█▌        | 4/25 [00:00<00:00, 32.30it/s]\u001b[A"
     ]
    },
    {
     "name": "stdout",
     "output_type": "stream",
     "text": [
      "running motion mag for vid: 1783597_C_003.mp4\n",
      "video ../../deepfake_data/fb_dfd_release_0.1_final/original_videos_crops/1783597_C_003.mp4\n",
      "Iteration number is 259002\n",
      "Running in Dynamic mode\n"
     ]
    },
    {
     "name": "stderr",
     "output_type": "stream",
     "text": [
      "\n",
      "1783597_C_:  32%|███▏      | 8/25 [00:00<00:00, 33.61it/s]\u001b[A\n",
      "1783597_C_:  52%|█████▏    | 13/25 [00:00<00:00, 35.35it/s]\u001b[A\n",
      "1783597_C_:  72%|███████▏  | 18/25 [00:00<00:00, 36.93it/s]\u001b[A\n",
      "1783597_C_: 100%|██████████| 25/25 [00:00<00:00, 38.52it/s]\u001b[A\n",
      " 10%|▉         | 100/1008 [01:32<13:13,  1.14it/s]\n",
      "804259_H_0:   0%|          | 0/25 [00:00<?, ?it/s]\u001b[A\n",
      "804259_H_0:  16%|█▌        | 4/25 [00:00<00:00, 33.52it/s]\u001b[A"
     ]
    },
    {
     "name": "stdout",
     "output_type": "stream",
     "text": [
      "running motion mag for vid: 804259_H_001.mp4\n",
      "video ../../deepfake_data/fb_dfd_release_0.1_final/original_videos_crops/804259_H_001.mp4\n",
      "Iteration number is 259002\n",
      "Running in Dynamic mode\n"
     ]
    },
    {
     "name": "stderr",
     "output_type": "stream",
     "text": [
      "\n",
      "804259_H_0:  32%|███▏      | 8/25 [00:00<00:00, 33.55it/s]\u001b[A\n",
      "804259_H_0:  48%|████▊     | 12/25 [00:00<00:00, 34.57it/s]\u001b[A\n",
      "804259_H_0:  64%|██████▍   | 16/25 [00:00<00:00, 35.86it/s]\u001b[A\n",
      "804259_H_0:  80%|████████  | 20/25 [00:00<00:00, 36.68it/s]\u001b[A\n",
      "804259_H_0: 100%|██████████| 25/25 [00:00<00:00, 36.46it/s]\u001b[A\n",
      " 10%|█         | 101/1008 [01:32<13:27,  1.12it/s]\n",
      "2076328_E_:   0%|          | 0/25 [00:00<?, ?it/s]\u001b[A\n",
      "2076328_E_:  16%|█▌        | 4/25 [00:00<00:00, 37.42it/s]\u001b[A"
     ]
    },
    {
     "name": "stdout",
     "output_type": "stream",
     "text": [
      "running motion mag for vid: 2076328_E_001.mp4\n",
      "video ../../deepfake_data/fb_dfd_release_0.1_final/original_videos_crops/2076328_E_001.mp4\n",
      "Iteration number is 259002\n",
      "Running in Dynamic mode\n"
     ]
    },
    {
     "name": "stderr",
     "output_type": "stream",
     "text": [
      "\n",
      "2076328_E_:  32%|███▏      | 8/25 [00:00<00:00, 37.70it/s]\u001b[A\n",
      "2076328_E_:  48%|████▊     | 12/25 [00:00<00:00, 37.60it/s]\u001b[A\n",
      "2076328_E_:  64%|██████▍   | 16/25 [00:00<00:00, 37.82it/s]\u001b[A\n",
      "2076328_E_:  80%|████████  | 20/25 [00:00<00:00, 37.16it/s]\u001b[A\n",
      "2076328_E_: 100%|██████████| 25/25 [00:00<00:00, 37.24it/s]\u001b[A\n",
      " 10%|█         | 102/1008 [01:33<13:26,  1.12it/s]\n",
      "1733757_B_:   0%|          | 0/25 [00:00<?, ?it/s]\u001b[A\n",
      "1733757_B_:  16%|█▌        | 4/25 [00:00<00:00, 37.24it/s]\u001b[A"
     ]
    },
    {
     "name": "stdout",
     "output_type": "stream",
     "text": [
      "running motion mag for vid: 1733757_B_001.mp4\n",
      "video ../../deepfake_data/fb_dfd_release_0.1_final/original_videos_crops/1733757_B_001.mp4\n",
      "Iteration number is 259002\n",
      "Running in Dynamic mode\n"
     ]
    },
    {
     "name": "stderr",
     "output_type": "stream",
     "text": [
      "\n",
      "1733757_B_:  32%|███▏      | 8/25 [00:00<00:00, 37.45it/s]\u001b[A\n",
      "1733757_B_:  48%|████▊     | 12/25 [00:00<00:00, 37.73it/s]\u001b[A\n",
      "1733757_B_:  68%|██████▊   | 17/25 [00:00<00:00, 38.85it/s]\u001b[A\n",
      "1733757_B_: 100%|██████████| 25/25 [00:00<00:00, 39.61it/s]\u001b[A\n",
      " 10%|█         | 103/1008 [01:34<13:16,  1.14it/s]\n",
      "1941250_J_:   0%|          | 0/25 [00:00<?, ?it/s]\u001b[A\n",
      "1941250_J_:  16%|█▌        | 4/25 [00:00<00:00, 31.82it/s]\u001b[A"
     ]
    },
    {
     "name": "stdout",
     "output_type": "stream",
     "text": [
      "running motion mag for vid: 1941250_J_002.mp4\n",
      "video ../../deepfake_data/fb_dfd_release_0.1_final/original_videos_crops/1941250_J_002.mp4\n",
      "Iteration number is 259002\n",
      "Running in Dynamic mode\n"
     ]
    },
    {
     "name": "stderr",
     "output_type": "stream",
     "text": [
      "\n",
      "1941250_J_:  32%|███▏      | 8/25 [00:00<00:00, 31.88it/s]\u001b[A\n",
      "1941250_J_:  48%|████▊     | 12/25 [00:00<00:00, 33.74it/s]\u001b[A\n",
      "1941250_J_:  64%|██████▍   | 16/25 [00:00<00:00, 34.14it/s]\u001b[A\n",
      "1941250_J_:  80%|████████  | 20/25 [00:00<00:00, 35.06it/s]\u001b[A\n",
      "1941250_J_: 100%|██████████| 25/25 [00:00<00:00, 35.81it/s]\u001b[A\n",
      " 10%|█         | 104/1008 [01:35<13:28,  1.12it/s]\n",
      "1783597_G_:   0%|          | 0/25 [00:00<?, ?it/s]\u001b[A\n",
      "1783597_G_:  12%|█▏        | 3/25 [00:00<00:00, 27.01it/s]\u001b[A"
     ]
    },
    {
     "name": "stdout",
     "output_type": "stream",
     "text": [
      "running motion mag for vid: 1783597_G_003.mp4\n",
      "video ../../deepfake_data/fb_dfd_release_0.1_final/original_videos_crops/1783597_G_003.mp4\n",
      "Iteration number is 259002\n",
      "Running in Dynamic mode\n"
     ]
    },
    {
     "name": "stderr",
     "output_type": "stream",
     "text": [
      "\n",
      "1783597_G_:  24%|██▍       | 6/25 [00:00<00:00, 27.75it/s]\u001b[A\n",
      "1783597_G_:  36%|███▌      | 9/25 [00:00<00:00, 27.66it/s]\u001b[A\n",
      "1783597_G_:  52%|█████▏    | 13/25 [00:00<00:00, 28.39it/s]\u001b[A\n",
      "1783597_G_:  64%|██████▍   | 16/25 [00:00<00:00, 28.44it/s]\u001b[A\n",
      "1783597_G_:  80%|████████  | 20/25 [00:00<00:00, 29.51it/s]\u001b[A\n",
      "1783597_G_: 100%|██████████| 25/25 [00:00<00:00, 30.71it/s]\u001b[A\n",
      " 10%|█         | 105/1008 [01:36<13:57,  1.08it/s]\n",
      "1569101_J_:   0%|          | 0/25 [00:00<?, ?it/s]\u001b[A\n",
      "1569101_J_:  16%|█▌        | 4/25 [00:00<00:00, 31.85it/s]\u001b[A"
     ]
    },
    {
     "name": "stdout",
     "output_type": "stream",
     "text": [
      "running motion mag for vid: 1569101_J_001.mp4\n",
      "video ../../deepfake_data/fb_dfd_release_0.1_final/original_videos_crops/1569101_J_001.mp4\n",
      "Iteration number is 259002\n",
      "Running in Dynamic mode\n"
     ]
    },
    {
     "name": "stderr",
     "output_type": "stream",
     "text": [
      "\n",
      "1569101_J_:  32%|███▏      | 8/25 [00:00<00:00, 32.92it/s]\u001b[A\n",
      "1569101_J_:  48%|████▊     | 12/25 [00:00<00:00, 34.56it/s]\u001b[A\n",
      "1569101_J_:  64%|██████▍   | 16/25 [00:00<00:00, 35.81it/s]\u001b[A\n",
      "1569101_J_:  80%|████████  | 20/25 [00:00<00:00, 35.70it/s]\u001b[A\n",
      "1569101_J_: 100%|██████████| 25/25 [00:00<00:00, 35.78it/s]\u001b[A\n",
      " 11%|█         | 106/1008 [01:37<13:46,  1.09it/s]\n",
      "1061402_B_:   0%|          | 0/25 [00:00<?, ?it/s]\u001b[A\n",
      "1061402_B_:  16%|█▌        | 4/25 [00:00<00:00, 39.09it/s]\u001b[A"
     ]
    },
    {
     "name": "stdout",
     "output_type": "stream",
     "text": [
      "running motion mag for vid: 1061402_B_003.mp4\n",
      "video ../../deepfake_data/fb_dfd_release_0.1_final/original_videos_crops/1061402_B_003.mp4\n",
      "Iteration number is 259002\n",
      "Running in Dynamic mode\n"
     ]
    },
    {
     "name": "stderr",
     "output_type": "stream",
     "text": [
      "\n",
      "1061402_B_:  36%|███▌      | 9/25 [00:00<00:00, 40.30it/s]\u001b[A\n",
      "1061402_B_:  56%|█████▌    | 14/25 [00:00<00:00, 40.36it/s]\u001b[A\n",
      "1061402_B_:  76%|███████▌  | 19/25 [00:00<00:00, 40.37it/s]\u001b[A\n",
      "1061402_B_: 100%|██████████| 25/25 [00:00<00:00, 40.58it/s]\u001b[A\n",
      " 11%|█         | 107/1008 [01:38<13:19,  1.13it/s]\n",
      "2076328_A_:   0%|          | 0/25 [00:00<?, ?it/s]\u001b[A\n",
      "2076328_A_:  16%|█▌        | 4/25 [00:00<00:00, 34.00it/s]\u001b[A"
     ]
    },
    {
     "name": "stdout",
     "output_type": "stream",
     "text": [
      "running motion mag for vid: 2076328_A_001.mp4\n",
      "video ../../deepfake_data/fb_dfd_release_0.1_final/original_videos_crops/2076328_A_001.mp4\n",
      "Iteration number is 259002\n",
      "Running in Dynamic mode\n"
     ]
    },
    {
     "name": "stderr",
     "output_type": "stream",
     "text": [
      "\n",
      "2076328_A_:  36%|███▌      | 9/25 [00:00<00:00, 36.03it/s]\u001b[A\n",
      "2076328_A_:  56%|█████▌    | 14/25 [00:00<00:00, 38.20it/s]\u001b[A\n",
      "2076328_A_:  76%|███████▌  | 19/25 [00:00<00:00, 39.76it/s]\u001b[A\n",
      "2076328_A_: 100%|██████████| 25/25 [00:00<00:00, 39.43it/s]\u001b[A\n",
      " 11%|█         | 108/1008 [01:39<13:05,  1.15it/s]\n",
      "1782722_D_:   0%|          | 0/7 [00:00<?, ?it/s]\u001b[A\n",
      "1782722_D_:  43%|████▎     | 3/7 [00:00<00:00, 29.45it/s]\u001b[A"
     ]
    },
    {
     "name": "stdout",
     "output_type": "stream",
     "text": [
      "running motion mag for vid: 1782722_D_001.mp4\n",
      "video ../../deepfake_data/fb_dfd_release_0.1_final/original_videos_crops/1782722_D_001.mp4\n",
      "Iteration number is 259002\n",
      "Running in Dynamic mode\n"
     ]
    },
    {
     "name": "stderr",
     "output_type": "stream",
     "text": [
      "\n",
      "1782722_D_: 100%|██████████| 7/7 [00:00<00:00, 30.64it/s]\u001b[A\n",
      " 11%|█         | 109/1008 [01:39<11:05,  1.35it/s]\n",
      "1224068_F_:   0%|          | 0/25 [00:00<?, ?it/s]\u001b[A\n",
      "1224068_F_:  16%|█▌        | 4/25 [00:00<00:00, 39.99it/s]\u001b[A"
     ]
    },
    {
     "name": "stdout",
     "output_type": "stream",
     "text": [
      "running motion mag for vid: 1224068_F_002.mp4\n",
      "video ../../deepfake_data/fb_dfd_release_0.1_final/original_videos_crops/1224068_F_002.mp4\n",
      "Iteration number is 259002\n",
      "Running in Dynamic mode\n"
     ]
    },
    {
     "name": "stderr",
     "output_type": "stream",
     "text": [
      "\n",
      "1224068_F_:  32%|███▏      | 8/25 [00:00<00:00, 39.09it/s]\u001b[A\n",
      "1224068_F_:  48%|████▊     | 12/25 [00:00<00:00, 38.53it/s]\u001b[A\n",
      "1224068_F_:  68%|██████▊   | 17/25 [00:00<00:00, 39.10it/s]\u001b[A\n",
      "1224068_F_: 100%|██████████| 25/25 [00:00<00:00, 39.37it/s]\u001b[A\n",
      " 11%|█         | 110/1008 [01:40<11:31,  1.30it/s]\n",
      "804259_D_0:   0%|          | 0/25 [00:00<?, ?it/s]\u001b[A\n",
      "804259_D_0:  16%|█▌        | 4/25 [00:00<00:00, 34.41it/s]\u001b[A"
     ]
    },
    {
     "name": "stdout",
     "output_type": "stream",
     "text": [
      "running motion mag for vid: 804259_D_001.mp4\n",
      "video ../../deepfake_data/fb_dfd_release_0.1_final/original_videos_crops/804259_D_001.mp4\n",
      "Iteration number is 259002\n",
      "Running in Dynamic mode\n"
     ]
    },
    {
     "name": "stderr",
     "output_type": "stream",
     "text": [
      "\n",
      "804259_D_0:  32%|███▏      | 8/25 [00:00<00:00, 35.13it/s]\u001b[A\n",
      "804259_D_0:  48%|████▊     | 12/25 [00:00<00:00, 35.64it/s]\u001b[A\n",
      "804259_D_0:  64%|██████▍   | 16/25 [00:00<00:00, 36.62it/s]\u001b[A\n",
      "804259_D_0:  80%|████████  | 20/25 [00:00<00:00, 37.56it/s]\u001b[A\n",
      "804259_D_0: 100%|██████████| 25/25 [00:00<00:00, 37.37it/s]\u001b[A\n",
      " 11%|█         | 111/1008 [01:41<12:04,  1.24it/s]\n",
      "1941250_F_:   0%|          | 0/25 [00:00<?, ?it/s]\u001b[A\n",
      "1941250_F_:  12%|█▏        | 3/25 [00:00<00:00, 28.36it/s]\u001b[A"
     ]
    },
    {
     "name": "stdout",
     "output_type": "stream",
     "text": [
      "running motion mag for vid: 1941250_F_002.mp4\n",
      "video ../../deepfake_data/fb_dfd_release_0.1_final/original_videos_crops/1941250_F_002.mp4\n",
      "Iteration number is 259002\n",
      "Running in Dynamic mode\n"
     ]
    },
    {
     "name": "stderr",
     "output_type": "stream",
     "text": [
      "\n",
      "1941250_F_:  28%|██▊       | 7/25 [00:00<00:00, 30.15it/s]\u001b[A\n",
      "1941250_F_:  44%|████▍     | 11/25 [00:00<00:00, 31.80it/s]\u001b[A\n",
      "1941250_F_:  60%|██████    | 15/25 [00:00<00:00, 31.80it/s]\u001b[A\n",
      "1941250_F_:  72%|███████▏  | 18/25 [00:00<00:00, 30.58it/s]\u001b[A\n",
      "1941250_F_:  84%|████████▍ | 21/25 [00:00<00:00, 29.97it/s]\u001b[A\n",
      "1941250_F_: 100%|██████████| 25/25 [00:00<00:00, 30.71it/s]\u001b[A\n",
      " 11%|█         | 112/1008 [01:42<13:10,  1.13it/s]\n",
      "1262961_E_:   0%|          | 0/25 [00:00<?, ?it/s]\u001b[A\n",
      "1262961_E_:  16%|█▌        | 4/25 [00:00<00:00, 32.50it/s]\u001b[A"
     ]
    },
    {
     "name": "stdout",
     "output_type": "stream",
     "text": [
      "running motion mag for vid: 1262961_E_003.mp4\n",
      "video ../../deepfake_data/fb_dfd_release_0.1_final/original_videos_crops/1262961_E_003.mp4\n",
      "Iteration number is 259002\n",
      "Running in Dynamic mode\n"
     ]
    },
    {
     "name": "stderr",
     "output_type": "stream",
     "text": [
      "\n",
      "1262961_E_:  32%|███▏      | 8/25 [00:00<00:00, 33.65it/s]\u001b[A\n",
      "1262961_E_:  48%|████▊     | 12/25 [00:00<00:00, 34.48it/s]\u001b[A\n",
      "1262961_E_:  64%|██████▍   | 16/25 [00:00<00:00, 35.68it/s]\u001b[A\n",
      "1262961_E_:  80%|████████  | 20/25 [00:00<00:00, 36.01it/s]\u001b[A\n",
      "1262961_E_: 100%|██████████| 25/25 [00:00<00:00, 36.55it/s]\u001b[A\n",
      " 11%|█         | 113/1008 [01:43<13:16,  1.12it/s]\n",
      "2090100_C_: 100%|██████████| 1/1 [00:00<00:00, 28.78it/s]\n",
      " 11%|█▏        | 114/1008 [01:43<10:09,  1.47it/s]"
     ]
    },
    {
     "name": "stdout",
     "output_type": "stream",
     "text": [
      "running motion mag for vid: 2090100_C_001.mp4\n",
      "video ../../deepfake_data/fb_dfd_release_0.1_final/original_videos_crops/2090100_C_001.mp4\n",
      "Iteration number is 259002\n",
      "Running in Dynamic mode\n",
      "running motion mag for vid: 1569101_B_001.mp4\n",
      "video ../../deepfake_data/fb_dfd_release_0.1_final/original_videos_crops/1569101_B_001.mp4\n"
     ]
    },
    {
     "name": "stderr",
     "output_type": "stream",
     "text": [
      "\n",
      "1569101_B_:   0%|          | 0/25 [00:00<?, ?it/s]\u001b[A\n",
      "1569101_B_:  20%|██        | 5/25 [00:00<00:00, 41.04it/s]\u001b[A"
     ]
    },
    {
     "name": "stdout",
     "output_type": "stream",
     "text": [
      "Iteration number is 259002\n",
      "Running in Dynamic mode\n"
     ]
    },
    {
     "name": "stderr",
     "output_type": "stream",
     "text": [
      "\n",
      "1569101_B_:  36%|███▌      | 9/25 [00:00<00:00, 40.39it/s]\u001b[A\n",
      "1569101_B_:  56%|█████▌    | 14/25 [00:00<00:00, 40.95it/s]\u001b[A\n",
      "1569101_B_:  72%|███████▏  | 18/25 [00:00<00:00, 39.17it/s]\u001b[A\n",
      "1569101_B_:  84%|████████▍ | 21/25 [00:00<00:00, 35.72it/s]\u001b[A\n",
      "1569101_B_: 100%|██████████| 25/25 [00:00<00:00, 35.83it/s]\u001b[A\n",
      " 11%|█▏        | 115/1008 [01:44<11:19,  1.31it/s]\n",
      "1873849_B_:   0%|          | 0/25 [00:00<?, ?it/s]\u001b[A\n",
      "1873849_B_:  16%|█▌        | 4/25 [00:00<00:00, 35.28it/s]\u001b[A"
     ]
    },
    {
     "name": "stdout",
     "output_type": "stream",
     "text": [
      "running motion mag for vid: 1873849_B_003.mp4\n",
      "video ../../deepfake_data/fb_dfd_release_0.1_final/original_videos_crops/1873849_B_003.mp4\n",
      "Iteration number is 259002\n",
      "Running in Dynamic mode\n"
     ]
    },
    {
     "name": "stderr",
     "output_type": "stream",
     "text": [
      "\n",
      "1873849_B_:  32%|███▏      | 8/25 [00:00<00:00, 33.97it/s]\u001b[A\n",
      "1873849_B_:  48%|████▊     | 12/25 [00:00<00:00, 34.61it/s]\u001b[A\n",
      "1873849_B_:  64%|██████▍   | 16/25 [00:00<00:00, 34.72it/s]\u001b[A\n",
      "1873849_B_:  80%|████████  | 20/25 [00:00<00:00, 35.37it/s]\u001b[A\n",
      "1873849_B_: 100%|██████████| 25/25 [00:00<00:00, 35.95it/s]\u001b[A\n",
      " 12%|█▏        | 116/1008 [01:45<11:55,  1.25it/s]\n",
      "1999299_E_:   0%|          | 0/25 [00:00<?, ?it/s]\u001b[A\n",
      "1999299_E_:  16%|█▌        | 4/25 [00:00<00:00, 33.79it/s]\u001b[A"
     ]
    },
    {
     "name": "stdout",
     "output_type": "stream",
     "text": [
      "running motion mag for vid: 1999299_E_001.mp4\n",
      "video ../../deepfake_data/fb_dfd_release_0.1_final/original_videos_crops/1999299_E_001.mp4\n",
      "Iteration number is 259002\n",
      "Running in Dynamic mode\n"
     ]
    },
    {
     "name": "stderr",
     "output_type": "stream",
     "text": [
      "\n",
      "1999299_E_:  32%|███▏      | 8/25 [00:00<00:00, 34.71it/s]\u001b[A\n",
      "1999299_E_:  48%|████▊     | 12/25 [00:00<00:00, 33.90it/s]\u001b[A\n",
      "1999299_E_:  64%|██████▍   | 16/25 [00:00<00:00, 33.35it/s]\u001b[A\n",
      "1999299_E_:  80%|████████  | 20/25 [00:00<00:00, 34.92it/s]\u001b[A\n",
      "1999299_E_: 100%|██████████| 25/25 [00:00<00:00, 34.96it/s]\u001b[A\n",
      " 12%|█▏        | 117/1008 [01:46<12:20,  1.20it/s]\n",
      "1441897_B_:   0%|          | 0/25 [00:00<?, ?it/s]\u001b[A\n",
      "1441897_B_:  16%|█▌        | 4/25 [00:00<00:00, 36.27it/s]\u001b[A"
     ]
    },
    {
     "name": "stdout",
     "output_type": "stream",
     "text": [
      "running motion mag for vid: 1441897_B_002.mp4\n",
      "video ../../deepfake_data/fb_dfd_release_0.1_final/original_videos_crops/1441897_B_002.mp4\n",
      "Iteration number is 259002\n",
      "Running in Dynamic mode\n"
     ]
    },
    {
     "name": "stderr",
     "output_type": "stream",
     "text": [
      "\n",
      "1441897_B_:  36%|███▌      | 9/25 [00:00<00:00, 37.17it/s]\u001b[A\n",
      "1441897_B_:  52%|█████▏    | 13/25 [00:00<00:00, 37.32it/s]\u001b[A\n",
      "1441897_B_:  68%|██████▊   | 17/25 [00:00<00:00, 36.40it/s]\u001b[A\n",
      "1441897_B_: 100%|██████████| 25/25 [00:00<00:00, 37.83it/s]\u001b[A\n",
      " 12%|█▏        | 118/1008 [01:47<12:36,  1.18it/s]\n",
      "1999299_A_:   0%|          | 0/25 [00:00<?, ?it/s]\u001b[A\n",
      "1999299_A_:  16%|█▌        | 4/25 [00:00<00:00, 33.15it/s]\u001b[A"
     ]
    },
    {
     "name": "stdout",
     "output_type": "stream",
     "text": [
      "running motion mag for vid: 1999299_A_001.mp4\n",
      "video ../../deepfake_data/fb_dfd_release_0.1_final/original_videos_crops/1999299_A_001.mp4\n",
      "Iteration number is 259002\n",
      "Running in Dynamic mode\n"
     ]
    },
    {
     "name": "stderr",
     "output_type": "stream",
     "text": [
      "\n",
      "1999299_A_:  32%|███▏      | 8/25 [00:00<00:00, 34.39it/s]\u001b[A\n",
      "1999299_A_:  48%|████▊     | 12/25 [00:00<00:00, 34.00it/s]\u001b[A\n",
      "1999299_A_:  64%|██████▍   | 16/25 [00:00<00:00, 34.45it/s]\u001b[A\n",
      "1999299_A_:  80%|████████  | 20/25 [00:00<00:00, 35.79it/s]\u001b[A\n",
      "1999299_A_: 100%|██████████| 25/25 [00:00<00:00, 34.66it/s]\u001b[A\n",
      " 12%|█▏        | 119/1008 [01:48<12:50,  1.15it/s]\n",
      "1941250_B_:   0%|          | 0/25 [00:00<?, ?it/s]\u001b[A\n",
      "1941250_B_:  16%|█▌        | 4/25 [00:00<00:00, 32.24it/s]\u001b[A"
     ]
    },
    {
     "name": "stdout",
     "output_type": "stream",
     "text": [
      "running motion mag for vid: 1941250_B_002.mp4\n",
      "video ../../deepfake_data/fb_dfd_release_0.1_final/original_videos_crops/1941250_B_002.mp4\n",
      "Iteration number is 259002\n",
      "Running in Dynamic mode\n"
     ]
    },
    {
     "name": "stderr",
     "output_type": "stream",
     "text": [
      "\n",
      "1941250_B_:  32%|███▏      | 8/25 [00:00<00:00, 33.31it/s]\u001b[A\n",
      "1941250_B_:  48%|████▊     | 12/25 [00:00<00:00, 34.93it/s]\u001b[A\n",
      "1941250_B_:  64%|██████▍   | 16/25 [00:00<00:00, 35.96it/s]\u001b[A\n",
      "1941250_B_:  80%|████████  | 20/25 [00:00<00:00, 36.84it/s]\u001b[A\n",
      "1941250_B_: 100%|██████████| 25/25 [00:00<00:00, 35.43it/s]\u001b[A\n",
      " 12%|█▏        | 120/1008 [01:48<13:11,  1.12it/s]\n",
      "1569101_F_:   0%|          | 0/25 [00:00<?, ?it/s]\u001b[A\n",
      "1569101_F_:  16%|█▌        | 4/25 [00:00<00:00, 35.13it/s]\u001b[A"
     ]
    },
    {
     "name": "stdout",
     "output_type": "stream",
     "text": [
      "running motion mag for vid: 1569101_F_001.mp4\n",
      "video ../../deepfake_data/fb_dfd_release_0.1_final/original_videos_crops/1569101_F_001.mp4\n",
      "Iteration number is 259002\n",
      "Running in Dynamic mode\n"
     ]
    },
    {
     "name": "stderr",
     "output_type": "stream",
     "text": [
      "\n",
      "1569101_F_:  36%|███▌      | 9/25 [00:00<00:00, 37.25it/s]\u001b[A\n",
      "1569101_F_:  52%|█████▏    | 13/25 [00:00<00:00, 37.02it/s]\u001b[A\n",
      "1569101_F_:  68%|██████▊   | 17/25 [00:00<00:00, 37.41it/s]\u001b[A\n",
      "1569101_F_:  84%|████████▍ | 21/25 [00:00<00:00, 37.77it/s]\u001b[A\n",
      "1569101_F_: 100%|██████████| 25/25 [00:00<00:00, 36.80it/s]\u001b[A\n",
      " 12%|█▏        | 121/1008 [01:49<13:04,  1.13it/s]\n",
      "1262961_A_:   0%|          | 0/25 [00:00<?, ?it/s]\u001b[A\n",
      "1262961_A_:  20%|██        | 5/25 [00:00<00:00, 40.43it/s]\u001b[A"
     ]
    },
    {
     "name": "stdout",
     "output_type": "stream",
     "text": [
      "running motion mag for vid: 1262961_A_003.mp4\n",
      "video ../../deepfake_data/fb_dfd_release_0.1_final/original_videos_crops/1262961_A_003.mp4\n",
      "Iteration number is 259002\n",
      "Running in Dynamic mode\n"
     ]
    },
    {
     "name": "stderr",
     "output_type": "stream",
     "text": [
      "\n",
      "1262961_A_:  36%|███▌      | 9/25 [00:00<00:00, 37.88it/s]\u001b[A\n",
      "1262961_A_:  52%|█████▏    | 13/25 [00:00<00:00, 37.61it/s]\u001b[A\n",
      "1262961_A_:  68%|██████▊   | 17/25 [00:00<00:00, 35.90it/s]\u001b[A\n",
      "1262961_A_:  84%|████████▍ | 21/25 [00:00<00:00, 36.76it/s]\u001b[A\n",
      "1262961_A_: 100%|██████████| 25/25 [00:00<00:00, 35.39it/s]\u001b[A\n",
      " 12%|█▏        | 122/1008 [01:50<13:03,  1.13it/s]\n",
      "2063898_D_:   0%|          | 0/25 [00:00<?, ?it/s]\u001b[A\n",
      "2063898_D_:  16%|█▌        | 4/25 [00:00<00:00, 32.38it/s]\u001b[A"
     ]
    },
    {
     "name": "stdout",
     "output_type": "stream",
     "text": [
      "running motion mag for vid: 2063898_D_002.mp4\n",
      "video ../../deepfake_data/fb_dfd_release_0.1_final/original_videos_crops/2063898_D_002.mp4\n",
      "Iteration number is 259002\n",
      "Running in Dynamic mode\n"
     ]
    },
    {
     "name": "stderr",
     "output_type": "stream",
     "text": [
      "\n",
      "2063898_D_:  32%|███▏      | 8/25 [00:00<00:00, 33.54it/s]\u001b[A\n",
      "2063898_D_:  52%|█████▏    | 13/25 [00:00<00:00, 35.58it/s]\u001b[A\n",
      "2063898_D_:  68%|██████▊   | 17/25 [00:00<00:00, 36.19it/s]\u001b[A\n",
      "2063898_D_: 100%|██████████| 25/25 [00:00<00:00, 38.16it/s]\u001b[A\n",
      " 12%|█▏        | 123/1008 [01:51<12:59,  1.14it/s]\n",
      "1224068_C_:   0%|          | 0/25 [00:00<?, ?it/s]\u001b[A\n",
      "1224068_C_:  16%|█▌        | 4/25 [00:00<00:00, 36.98it/s]\u001b[A"
     ]
    },
    {
     "name": "stdout",
     "output_type": "stream",
     "text": [
      "running motion mag for vid: 1224068_C_003.mp4\n",
      "video ../../deepfake_data/fb_dfd_release_0.1_final/original_videos_crops/1224068_C_003.mp4\n",
      "Iteration number is 259002\n",
      "Running in Dynamic mode\n"
     ]
    },
    {
     "name": "stderr",
     "output_type": "stream",
     "text": [
      "\n",
      "1224068_C_:  32%|███▏      | 8/25 [00:00<00:00, 35.28it/s]\u001b[A\n",
      "1224068_C_:  48%|████▊     | 12/25 [00:00<00:00, 35.06it/s]\u001b[A\n",
      "1224068_C_:  64%|██████▍   | 16/25 [00:00<00:00, 35.73it/s]\u001b[A\n",
      "1224068_C_: 100%|██████████| 25/25 [00:00<00:00, 37.15it/s]\u001b[A\n",
      " 12%|█▏        | 124/1008 [01:52<12:49,  1.15it/s]\n",
      "2005778_L_:   0%|          | 0/25 [00:00<?, ?it/s]\u001b[A\n",
      "2005778_L_:  16%|█▌        | 4/25 [00:00<00:00, 37.11it/s]\u001b[A"
     ]
    },
    {
     "name": "stdout",
     "output_type": "stream",
     "text": [
      "running motion mag for vid: 2005778_L_001.mp4\n",
      "video ../../deepfake_data/fb_dfd_release_0.1_final/original_videos_crops/2005778_L_001.mp4\n",
      "Iteration number is 259002\n",
      "Running in Dynamic mode\n"
     ]
    },
    {
     "name": "stderr",
     "output_type": "stream",
     "text": [
      "\n",
      "2005778_L_:  36%|███▌      | 9/25 [00:00<00:00, 38.46it/s]\u001b[A\n",
      "2005778_L_:  52%|█████▏    | 13/25 [00:00<00:00, 38.85it/s]\u001b[A\n",
      "2005778_L_:  72%|███████▏  | 18/25 [00:00<00:00, 39.69it/s]\u001b[A\n",
      "2005778_L_: 100%|██████████| 25/25 [00:00<00:00, 40.28it/s]\u001b[A\n",
      " 12%|█▏        | 125/1008 [01:53<12:30,  1.18it/s]\n",
      "1922507_B_:   0%|          | 0/25 [00:00<?, ?it/s]\u001b[A\n",
      "1922507_B_:  16%|█▌        | 4/25 [00:00<00:00, 32.61it/s]\u001b[A"
     ]
    },
    {
     "name": "stdout",
     "output_type": "stream",
     "text": [
      "running motion mag for vid: 1922507_B_003.mp4\n",
      "video ../../deepfake_data/fb_dfd_release_0.1_final/original_videos_crops/1922507_B_003.mp4\n",
      "Iteration number is 259002\n",
      "Running in Dynamic mode\n"
     ]
    },
    {
     "name": "stderr",
     "output_type": "stream",
     "text": [
      "\n",
      "1922507_B_:  32%|███▏      | 8/25 [00:00<00:00, 33.93it/s]\u001b[A\n",
      "1922507_B_:  48%|████▊     | 12/25 [00:00<00:00, 35.52it/s]\u001b[A\n",
      "1922507_B_:  64%|██████▍   | 16/25 [00:00<00:00, 36.74it/s]\u001b[A\n",
      "1922507_B_:  80%|████████  | 20/25 [00:00<00:00, 37.43it/s]\u001b[A\n",
      "1922507_B_: 100%|██████████| 25/25 [00:00<00:00, 37.36it/s]\u001b[A\n",
      " 12%|█▎        | 126/1008 [01:54<12:24,  1.19it/s]\n",
      "1783597_B_:   0%|          | 0/25 [00:00<?, ?it/s]\u001b[A\n",
      "1783597_B_:  16%|█▌        | 4/25 [00:00<00:00, 34.58it/s]\u001b[A"
     ]
    },
    {
     "name": "stdout",
     "output_type": "stream",
     "text": [
      "running motion mag for vid: 1783597_B_002.mp4\n",
      "video ../../deepfake_data/fb_dfd_release_0.1_final/original_videos_crops/1783597_B_002.mp4\n",
      "Iteration number is 259002\n",
      "Running in Dynamic mode\n"
     ]
    },
    {
     "name": "stderr",
     "output_type": "stream",
     "text": [
      "\n",
      "1783597_B_:  36%|███▌      | 9/25 [00:00<00:00, 36.33it/s]\u001b[A\n",
      "1783597_B_:  52%|█████▏    | 13/25 [00:00<00:00, 34.85it/s]\u001b[A\n",
      "1783597_B_:  68%|██████▊   | 17/25 [00:00<00:00, 34.45it/s]\u001b[A\n",
      "1783597_B_:  84%|████████▍ | 21/25 [00:00<00:00, 35.31it/s]\u001b[A\n",
      "1783597_B_: 100%|██████████| 25/25 [00:00<00:00, 34.96it/s]\u001b[A\n",
      " 13%|█▎        | 127/1008 [01:55<12:48,  1.15it/s]\n",
      "773847_G_0:   0%|          | 0/25 [00:00<?, ?it/s]\u001b[A\n",
      "773847_G_0:  16%|█▌        | 4/25 [00:00<00:00, 32.01it/s]\u001b[A"
     ]
    },
    {
     "name": "stdout",
     "output_type": "stream",
     "text": [
      "running motion mag for vid: 773847_G_001.mp4\n",
      "video ../../deepfake_data/fb_dfd_release_0.1_final/original_videos_crops/773847_G_001.mp4\n",
      "Iteration number is 259002\n",
      "Running in Dynamic mode\n"
     ]
    },
    {
     "name": "stderr",
     "output_type": "stream",
     "text": [
      "\n",
      "773847_G_0:  32%|███▏      | 8/25 [00:00<00:00, 33.91it/s]\u001b[A\n",
      "773847_G_0:  52%|█████▏    | 13/25 [00:00<00:00, 36.37it/s]\u001b[A\n",
      "773847_G_0:  72%|███████▏  | 18/25 [00:00<00:00, 38.57it/s]\u001b[A\n",
      "773847_G_0: 100%|██████████| 25/25 [00:00<00:00, 41.11it/s]\u001b[A\n",
      " 13%|█▎        | 128/1008 [01:55<12:34,  1.17it/s]\n",
      "1783597_F_:   0%|          | 0/25 [00:00<?, ?it/s]\u001b[A\n",
      "1783597_F_:  16%|█▌        | 4/25 [00:00<00:00, 32.99it/s]\u001b[A"
     ]
    },
    {
     "name": "stdout",
     "output_type": "stream",
     "text": [
      "running motion mag for vid: 1255229_B_001.mp4\n",
      "video ../../deepfake_data/fb_dfd_release_0.1_final/original_videos_crops/1255229_B_001.mp4\n",
      "Exception found: 'NoneType' object has no attribute 'astype'\n",
      "running motion mag for vid: 1783597_F_002.mp4\n",
      "video ../../deepfake_data/fb_dfd_release_0.1_final/original_videos_crops/1783597_F_002.mp4\n",
      "Iteration number is 259002\n",
      "Running in Dynamic mode\n"
     ]
    },
    {
     "name": "stderr",
     "output_type": "stream",
     "text": [
      "\n",
      "1783597_F_:  32%|███▏      | 8/25 [00:00<00:00, 34.22it/s]\u001b[A\n",
      "1783597_F_:  52%|█████▏    | 13/25 [00:00<00:00, 36.04it/s]\u001b[A\n",
      "1783597_F_:  72%|███████▏  | 18/25 [00:00<00:00, 37.24it/s]\u001b[A\n",
      "1783597_F_: 100%|██████████| 25/25 [00:00<00:00, 38.60it/s]\u001b[A\n",
      " 13%|█▎        | 130/1008 [01:56<10:39,  1.37it/s]\n",
      "773847_C_0:   0%|          | 0/25 [00:00<?, ?it/s]\u001b[A\n",
      "773847_C_0:  16%|█▌        | 4/25 [00:00<00:00, 34.76it/s]\u001b[A"
     ]
    },
    {
     "name": "stdout",
     "output_type": "stream",
     "text": [
      "running motion mag for vid: 773847_C_001.mp4\n",
      "video ../../deepfake_data/fb_dfd_release_0.1_final/original_videos_crops/773847_C_001.mp4\n",
      "Iteration number is 259002\n",
      "Running in Dynamic mode\n"
     ]
    },
    {
     "name": "stderr",
     "output_type": "stream",
     "text": [
      "\n",
      "773847_C_0:  32%|███▏      | 8/25 [00:00<00:00, 35.68it/s]\u001b[A\n",
      "773847_C_0:  48%|████▊     | 12/25 [00:00<00:00, 36.28it/s]\u001b[A\n",
      "773847_C_0:  64%|██████▍   | 16/25 [00:00<00:00, 37.07it/s]\u001b[A\n",
      "773847_C_0:  80%|████████  | 20/25 [00:00<00:00, 37.33it/s]\u001b[A\n",
      "773847_C_0: 100%|██████████| 25/25 [00:00<00:00, 37.09it/s]\u001b[A\n",
      " 13%|█▎        | 131/1008 [01:57<11:30,  1.27it/s]\n",
      "2005778_H_:   0%|          | 0/25 [00:00<?, ?it/s]\u001b[A\n",
      "2005778_H_:  16%|█▌        | 4/25 [00:00<00:00, 31.26it/s]\u001b[A"
     ]
    },
    {
     "name": "stdout",
     "output_type": "stream",
     "text": [
      "running motion mag for vid: 2005778_H_001.mp4\n",
      "video ../../deepfake_data/fb_dfd_release_0.1_final/original_videos_crops/2005778_H_001.mp4\n",
      "Iteration number is 259002\n",
      "Running in Dynamic mode\n"
     ]
    },
    {
     "name": "stderr",
     "output_type": "stream",
     "text": [
      "\n",
      "2005778_H_:  32%|███▏      | 8/25 [00:00<00:00, 33.23it/s]\u001b[A\n",
      "2005778_H_:  48%|████▊     | 12/25 [00:00<00:00, 34.60it/s]\u001b[A\n",
      "2005778_H_:  64%|██████▍   | 16/25 [00:00<00:00, 35.51it/s]\u001b[A\n",
      "2005778_H_:  80%|████████  | 20/25 [00:00<00:00, 35.76it/s]\u001b[A\n",
      "2005778_H_: 100%|██████████| 25/25 [00:00<00:00, 36.43it/s]\u001b[A\n",
      " 13%|█▎        | 132/1008 [01:58<11:58,  1.22it/s]\n",
      "1869846_D_:   0%|          | 0/25 [00:00<?, ?it/s]\u001b[A\n",
      "1869846_D_:  16%|█▌        | 4/25 [00:00<00:00, 33.99it/s]\u001b[A"
     ]
    },
    {
     "name": "stdout",
     "output_type": "stream",
     "text": [
      "running motion mag for vid: 1869846_D_003.mp4\n",
      "video ../../deepfake_data/fb_dfd_release_0.1_final/original_videos_crops/1869846_D_003.mp4\n",
      "Iteration number is 259002\n",
      "Running in Dynamic mode\n"
     ]
    },
    {
     "name": "stderr",
     "output_type": "stream",
     "text": [
      "\n",
      "1869846_D_:  36%|███▌      | 9/25 [00:00<00:00, 35.74it/s]\u001b[A\n",
      "1869846_D_:  52%|█████▏    | 13/25 [00:00<00:00, 34.46it/s]\u001b[A\n",
      "1869846_D_:  68%|██████▊   | 17/25 [00:00<00:00, 35.05it/s]\u001b[A\n",
      "1869846_D_: 100%|██████████| 25/25 [00:00<00:00, 37.01it/s]\u001b[A\n",
      " 13%|█▎        | 133/1008 [01:59<12:12,  1.19it/s]\n",
      "1061402_C_:   0%|          | 0/25 [00:00<?, ?it/s]\u001b[A\n",
      "1061402_C_:  16%|█▌        | 4/25 [00:00<00:00, 37.70it/s]\u001b[A"
     ]
    },
    {
     "name": "stdout",
     "output_type": "stream",
     "text": [
      "running motion mag for vid: 1061402_C_002.mp4\n",
      "video ../../deepfake_data/fb_dfd_release_0.1_final/original_videos_crops/1061402_C_002.mp4\n",
      "Iteration number is 259002\n",
      "Running in Dynamic mode\n"
     ]
    },
    {
     "name": "stderr",
     "output_type": "stream",
     "text": [
      "\n",
      "1061402_C_:  32%|███▏      | 8/25 [00:00<00:00, 38.23it/s]\u001b[A\n",
      "1061402_C_:  52%|█████▏    | 13/25 [00:00<00:00, 39.39it/s]\u001b[A\n",
      "1061402_C_:  72%|███████▏  | 18/25 [00:00<00:00, 39.81it/s]\u001b[A\n",
      "1061402_C_: 100%|██████████| 25/25 [00:00<00:00, 40.62it/s]\u001b[A\n",
      " 13%|█▎        | 134/1008 [02:00<12:06,  1.20it/s]\n",
      "2059294_B_:   0%|          | 0/25 [00:00<?, ?it/s]\u001b[A\n",
      "2059294_B_:  16%|█▌        | 4/25 [00:00<00:00, 38.27it/s]\u001b[A"
     ]
    },
    {
     "name": "stdout",
     "output_type": "stream",
     "text": [
      "running motion mag for vid: 2059294_B_001.mp4\n",
      "video ../../deepfake_data/fb_dfd_release_0.1_final/original_videos_crops/2059294_B_001.mp4\n",
      "Iteration number is 259002\n",
      "Running in Dynamic mode\n"
     ]
    },
    {
     "name": "stderr",
     "output_type": "stream",
     "text": [
      "\n",
      "2059294_B_:  36%|███▌      | 9/25 [00:00<00:00, 39.26it/s]\u001b[A\n",
      "2059294_B_:  56%|█████▌    | 14/25 [00:00<00:00, 39.88it/s]\u001b[A\n",
      "2059294_B_:  76%|███████▌  | 19/25 [00:00<00:00, 40.27it/s]\u001b[A\n",
      "2059294_B_: 100%|██████████| 25/25 [00:00<00:00, 40.56it/s]\u001b[A\n",
      " 13%|█▎        | 135/1008 [02:01<12:06,  1.20it/s]\n",
      "1224068_G_:   0%|          | 0/25 [00:00<?, ?it/s]\u001b[A\n",
      "1224068_G_:  20%|██        | 5/25 [00:00<00:00, 44.06it/s]\u001b[A"
     ]
    },
    {
     "name": "stdout",
     "output_type": "stream",
     "text": [
      "running motion mag for vid: 1224068_G_003.mp4\n",
      "video ../../deepfake_data/fb_dfd_release_0.1_final/original_videos_crops/1224068_G_003.mp4\n",
      "Iteration number is 259002\n",
      "Running in Dynamic mode\n"
     ]
    },
    {
     "name": "stderr",
     "output_type": "stream",
     "text": [
      "\n",
      "1224068_G_:  36%|███▌      | 9/25 [00:00<00:00, 40.69it/s]\u001b[A\n",
      "1224068_G_:  56%|█████▌    | 14/25 [00:00<00:00, 40.93it/s]\u001b[A\n",
      "1224068_G_:  76%|███████▌  | 19/25 [00:00<00:00, 41.03it/s]\u001b[A\n",
      "1224068_G_: 100%|██████████| 25/25 [00:00<00:00, 40.29it/s]\u001b[A\n",
      " 13%|█▎        | 136/1008 [02:01<12:04,  1.20it/s]\n",
      "1941250_G_:   0%|          | 0/25 [00:00<?, ?it/s]\u001b[A\n",
      "1941250_G_:  16%|█▌        | 4/25 [00:00<00:00, 35.36it/s]\u001b[A"
     ]
    },
    {
     "name": "stdout",
     "output_type": "stream",
     "text": [
      "running motion mag for vid: 1941250_G_003.mp4\n",
      "video ../../deepfake_data/fb_dfd_release_0.1_final/original_videos_crops/1941250_G_003.mp4\n",
      "Iteration number is 259002\n",
      "Running in Dynamic mode\n"
     ]
    },
    {
     "name": "stderr",
     "output_type": "stream",
     "text": [
      "\n",
      "1941250_G_:  36%|███▌      | 9/25 [00:00<00:00, 36.94it/s]\u001b[A\n",
      "1941250_G_:  52%|█████▏    | 13/25 [00:00<00:00, 36.88it/s]\u001b[A\n",
      "1941250_G_:  68%|██████▊   | 17/25 [00:00<00:00, 37.02it/s]\u001b[A\n",
      "1941250_G_: 100%|██████████| 25/25 [00:00<00:00, 39.92it/s]\u001b[A\n",
      " 14%|█▎        | 137/1008 [02:02<12:03,  1.20it/s]\n",
      "1262961_D_:   0%|          | 0/25 [00:00<?, ?it/s]\u001b[A\n",
      "1262961_D_:  16%|█▌        | 4/25 [00:00<00:00, 34.42it/s]\u001b[A"
     ]
    },
    {
     "name": "stdout",
     "output_type": "stream",
     "text": [
      "running motion mag for vid: 1262961_D_002.mp4\n",
      "video ../../deepfake_data/fb_dfd_release_0.1_final/original_videos_crops/1262961_D_002.mp4\n",
      "Iteration number is 259002\n",
      "Running in Dynamic mode\n"
     ]
    },
    {
     "name": "stderr",
     "output_type": "stream",
     "text": [
      "\n",
      "1262961_D_:  36%|███▌      | 9/25 [00:00<00:00, 36.27it/s]\u001b[A\n",
      "1262961_D_:  56%|█████▌    | 14/25 [00:00<00:00, 37.58it/s]\u001b[A\n",
      "1262961_D_:  76%|███████▌  | 19/25 [00:00<00:00, 39.57it/s]\u001b[A\n",
      "1262961_D_: 100%|██████████| 25/25 [00:00<00:00, 41.39it/s]\u001b[A\n",
      " 14%|█▎        | 138/1008 [02:03<11:44,  1.24it/s]\n",
      "773847_K_0:   0%|          | 0/22 [00:00<?, ?it/s]\u001b[A\n",
      "773847_K_0:  18%|█▊        | 4/22 [00:00<00:00, 36.10it/s]\u001b[A"
     ]
    },
    {
     "name": "stdout",
     "output_type": "stream",
     "text": [
      "running motion mag for vid: 773847_K_001.mp4\n",
      "video ../../deepfake_data/fb_dfd_release_0.1_final/original_videos_crops/773847_K_001.mp4\n",
      "Iteration number is 259002\n",
      "Running in Dynamic mode\n"
     ]
    },
    {
     "name": "stderr",
     "output_type": "stream",
     "text": [
      "\n",
      "773847_K_0:  41%|████      | 9/22 [00:00<00:00, 38.26it/s]\u001b[A\n",
      "773847_K_0:  59%|█████▉    | 13/22 [00:00<00:00, 38.10it/s]\u001b[A\n",
      "773847_K_0:  77%|███████▋  | 17/22 [00:00<00:00, 38.55it/s]\u001b[A\n",
      "773847_K_0: 100%|██████████| 22/22 [00:00<00:00, 39.60it/s]\u001b[A\n",
      " 14%|█▍        | 139/1008 [02:04<11:37,  1.25it/s]\n",
      "2063898_A_:   0%|          | 0/25 [00:00<?, ?it/s]\u001b[A\n",
      "2063898_A_:  16%|█▌        | 4/25 [00:00<00:00, 38.29it/s]\u001b[A"
     ]
    },
    {
     "name": "stdout",
     "output_type": "stream",
     "text": [
      "running motion mag for vid: 2063898_A_003.mp4\n",
      "video ../../deepfake_data/fb_dfd_release_0.1_final/original_videos_crops/2063898_A_003.mp4\n",
      "Iteration number is 259002\n",
      "Running in Dynamic mode\n"
     ]
    },
    {
     "name": "stderr",
     "output_type": "stream",
     "text": [
      "\n",
      "2063898_A_:  32%|███▏      | 8/25 [00:00<00:00, 37.51it/s]\u001b[A\n",
      "2063898_A_:  48%|████▊     | 12/25 [00:00<00:00, 35.81it/s]\u001b[A\n",
      "2063898_A_:  64%|██████▍   | 16/25 [00:00<00:00, 36.35it/s]\u001b[A\n",
      "2063898_A_:  80%|████████  | 20/25 [00:00<00:00, 35.73it/s]\u001b[A\n",
      "2063898_A_: 100%|██████████| 25/25 [00:00<00:00, 36.23it/s]\u001b[A\n",
      " 14%|█▍        | 140/1008 [02:05<12:06,  1.20it/s]\n",
      "1822940_B_:   0%|          | 0/25 [00:00<?, ?it/s]\u001b[A\n",
      "1822940_B_:  16%|█▌        | 4/25 [00:00<00:00, 34.20it/s]\u001b[A"
     ]
    },
    {
     "name": "stdout",
     "output_type": "stream",
     "text": [
      "running motion mag for vid: 1822940_B_001.mp4\n",
      "video ../../deepfake_data/fb_dfd_release_0.1_final/original_videos_crops/1822940_B_001.mp4\n",
      "Iteration number is 259002\n",
      "Running in Dynamic mode\n"
     ]
    },
    {
     "name": "stderr",
     "output_type": "stream",
     "text": [
      "\n",
      "1822940_B_:  36%|███▌      | 9/25 [00:00<00:00, 35.93it/s]\u001b[A\n",
      "1822940_B_:  56%|█████▌    | 14/25 [00:00<00:00, 37.49it/s]\u001b[A\n",
      "1822940_B_:  76%|███████▌  | 19/25 [00:00<00:00, 38.56it/s]\u001b[A\n",
      "1822940_B_: 100%|██████████| 25/25 [00:00<00:00, 39.87it/s]\u001b[A\n",
      " 14%|█▍        | 141/1008 [02:06<12:00,  1.20it/s]\n",
      "1873849_C_:   0%|          | 0/25 [00:00<?, ?it/s]\u001b[A\n",
      "1873849_C_:  16%|█▌        | 4/25 [00:00<00:00, 38.91it/s]\u001b[A"
     ]
    },
    {
     "name": "stdout",
     "output_type": "stream",
     "text": [
      "running motion mag for vid: 1873849_C_002.mp4\n",
      "video ../../deepfake_data/fb_dfd_release_0.1_final/original_videos_crops/1873849_C_002.mp4\n",
      "Iteration number is 259002\n",
      "Running in Dynamic mode\n"
     ]
    },
    {
     "name": "stderr",
     "output_type": "stream",
     "text": [
      "\n",
      "1873849_C_:  36%|███▌      | 9/25 [00:00<00:00, 39.67it/s]\u001b[A\n",
      "1873849_C_:  56%|█████▌    | 14/25 [00:00<00:00, 39.95it/s]\u001b[A\n",
      "1873849_C_:  76%|███████▌  | 19/25 [00:00<00:00, 40.39it/s]\u001b[A\n",
      "1873849_C_: 100%|██████████| 25/25 [00:00<00:00, 40.68it/s]\u001b[A\n",
      " 14%|█▍        | 142/1008 [02:06<12:00,  1.20it/s]\n",
      "1441897_C_:   0%|          | 0/25 [00:00<?, ?it/s]\u001b[A\n",
      "1441897_C_:  16%|█▌        | 4/25 [00:00<00:00, 36.09it/s]\u001b[A"
     ]
    },
    {
     "name": "stdout",
     "output_type": "stream",
     "text": [
      "running motion mag for vid: 1441897_C_003.mp4\n",
      "video ../../deepfake_data/fb_dfd_release_0.1_final/original_videos_crops/1441897_C_003.mp4\n",
      "Iteration number is 259002\n",
      "Running in Dynamic mode\n"
     ]
    },
    {
     "name": "stderr",
     "output_type": "stream",
     "text": [
      "\n",
      "1441897_C_:  36%|███▌      | 9/25 [00:00<00:00, 38.52it/s]\u001b[A\n",
      "1441897_C_:  56%|█████▌    | 14/25 [00:00<00:00, 40.42it/s]\u001b[A\n",
      "1441897_C_:  76%|███████▌  | 19/25 [00:00<00:00, 41.83it/s]\u001b[A\n",
      "1441897_C_: 100%|██████████| 25/25 [00:00<00:00, 43.52it/s]\u001b[A\n",
      " 14%|█▍        | 143/1008 [02:07<11:49,  1.22it/s]\n",
      "1822940_F_:   0%|          | 0/25 [00:00<?, ?it/s]\u001b[A\n",
      "1822940_F_:  16%|█▌        | 4/25 [00:00<00:00, 39.15it/s]\u001b[A"
     ]
    },
    {
     "name": "stdout",
     "output_type": "stream",
     "text": [
      "running motion mag for vid: 1822940_F_001.mp4\n",
      "video ../../deepfake_data/fb_dfd_release_0.1_final/original_videos_crops/1822940_F_001.mp4\n",
      "Iteration number is 259002\n",
      "Running in Dynamic mode\n"
     ]
    },
    {
     "name": "stderr",
     "output_type": "stream",
     "text": [
      "\n",
      "1822940_F_:  36%|███▌      | 9/25 [00:00<00:00, 40.59it/s]\u001b[A\n",
      "1822940_F_:  56%|█████▌    | 14/25 [00:00<00:00, 42.07it/s]\u001b[A\n",
      "1822940_F_:  76%|███████▌  | 19/25 [00:00<00:00, 43.17it/s]\u001b[A\n",
      "1822940_F_: 100%|██████████| 25/25 [00:00<00:00, 43.98it/s]\u001b[A\n",
      " 14%|█▍        | 144/1008 [02:08<11:37,  1.24it/s]\n",
      "643049_C_0:   0%|          | 0/8 [00:00<?, ?it/s]\u001b[A\n",
      "643049_C_0:  62%|██████▎   | 5/8 [00:00<00:00, 41.19it/s]\u001b[A"
     ]
    },
    {
     "name": "stdout",
     "output_type": "stream",
     "text": [
      "running motion mag for vid: 643049_C_003.mp4\n",
      "video ../../deepfake_data/fb_dfd_release_0.1_final/original_videos_crops/643049_C_003.mp4\n",
      "Iteration number is 259002\n",
      "Running in Dynamic mode\n"
     ]
    },
    {
     "name": "stderr",
     "output_type": "stream",
     "text": [
      "643049_C_0: 100%|██████████| 8/8 [00:00<00:00, 41.40it/s]\n",
      " 14%|█▍        | 145/1008 [02:08<09:38,  1.49it/s]\n",
      "2044170_A_:   0%|          | 0/25 [00:00<?, ?it/s]\u001b[A\n",
      "2044170_A_:  16%|█▌        | 4/25 [00:00<00:00, 35.81it/s]\u001b[A"
     ]
    },
    {
     "name": "stdout",
     "output_type": "stream",
     "text": [
      "running motion mag for vid: 2044170_A_003.mp4\n",
      "video ../../deepfake_data/fb_dfd_release_0.1_final/original_videos_crops/2044170_A_003.mp4\n",
      "Iteration number is 259002\n",
      "Running in Dynamic mode\n"
     ]
    },
    {
     "name": "stderr",
     "output_type": "stream",
     "text": [
      "\n",
      "2044170_A_:  32%|███▏      | 8/25 [00:00<00:00, 35.42it/s]\u001b[A\n",
      "2044170_A_:  48%|████▊     | 12/25 [00:00<00:00, 35.27it/s]\u001b[A\n",
      "2044170_A_:  68%|██████▊   | 17/25 [00:00<00:00, 37.37it/s]\u001b[A\n",
      "2044170_A_: 100%|██████████| 25/25 [00:00<00:00, 38.70it/s]\u001b[A\n",
      " 14%|█▍        | 146/1008 [02:09<10:27,  1.37it/s]\n",
      "1941250_C_:   0%|          | 0/25 [00:00<?, ?it/s]\u001b[A\n",
      "1941250_C_:  12%|█▏        | 3/25 [00:00<00:00, 29.69it/s]\u001b[A"
     ]
    },
    {
     "name": "stdout",
     "output_type": "stream",
     "text": [
      "running motion mag for vid: 1941250_C_003.mp4\n",
      "video ../../deepfake_data/fb_dfd_release_0.1_final/original_videos_crops/1941250_C_003.mp4\n",
      "Iteration number is 259002\n",
      "Running in Dynamic mode\n"
     ]
    },
    {
     "name": "stderr",
     "output_type": "stream",
     "text": [
      "\n",
      "1941250_C_:  24%|██▍       | 6/25 [00:00<00:00, 29.75it/s]\u001b[A\n",
      "1941250_C_:  40%|████      | 10/25 [00:00<00:00, 30.71it/s]\u001b[A\n",
      "1941250_C_:  56%|█████▌    | 14/25 [00:00<00:00, 32.75it/s]\u001b[A\n",
      "1941250_C_:  72%|███████▏  | 18/25 [00:00<00:00, 32.81it/s]\u001b[A\n",
      "1941250_C_: 100%|██████████| 25/25 [00:00<00:00, 34.22it/s]\u001b[A\n",
      " 15%|█▍        | 147/1008 [02:10<11:28,  1.25it/s]\n",
      "2063898_E_:   0%|          | 0/25 [00:00<?, ?it/s]\u001b[A\n",
      "2063898_E_:  12%|█▏        | 3/25 [00:00<00:00, 27.90it/s]\u001b[A"
     ]
    },
    {
     "name": "stdout",
     "output_type": "stream",
     "text": [
      "running motion mag for vid: 2063898_E_003.mp4\n",
      "video ../../deepfake_data/fb_dfd_release_0.1_final/original_videos_crops/2063898_E_003.mp4\n",
      "Iteration number is 259002\n",
      "Running in Dynamic mode\n"
     ]
    },
    {
     "name": "stderr",
     "output_type": "stream",
     "text": [
      "\n",
      "2063898_E_:  24%|██▍       | 6/25 [00:00<00:00, 28.21it/s]\u001b[A\n",
      "2063898_E_:  40%|████      | 10/25 [00:00<00:00, 29.15it/s]\u001b[A\n",
      "2063898_E_:  56%|█████▌    | 14/25 [00:00<00:00, 30.91it/s]\u001b[A\n",
      "2063898_E_:  72%|███████▏  | 18/25 [00:00<00:00, 32.10it/s]\u001b[A\n",
      "2063898_E_:  88%|████████▊ | 22/25 [00:00<00:00, 32.32it/s]\u001b[A\n",
      "2063898_E_: 100%|██████████| 25/25 [00:00<00:00, 31.55it/s]\u001b[A\n",
      " 15%|█▍        | 148/1008 [02:11<12:28,  1.15it/s]\n",
      "2005778_D_:   0%|          | 0/25 [00:00<?, ?it/s]\u001b[A\n",
      "2005778_D_:  16%|█▌        | 4/25 [00:00<00:00, 33.51it/s]\u001b[A"
     ]
    },
    {
     "name": "stdout",
     "output_type": "stream",
     "text": [
      "running motion mag for vid: 2005778_D_001.mp4\n",
      "video ../../deepfake_data/fb_dfd_release_0.1_final/original_videos_crops/2005778_D_001.mp4\n",
      "Iteration number is 259002\n",
      "Running in Dynamic mode\n"
     ]
    },
    {
     "name": "stderr",
     "output_type": "stream",
     "text": [
      "\n",
      "2005778_D_:  32%|███▏      | 8/25 [00:00<00:00, 35.06it/s]\u001b[A\n",
      "2005778_D_:  52%|█████▏    | 13/25 [00:00<00:00, 36.53it/s]\u001b[A\n",
      "2005778_D_:  68%|██████▊   | 17/25 [00:00<00:00, 36.75it/s]\u001b[A\n",
      "2005778_D_:  84%|████████▍ | 21/25 [00:00<00:00, 35.86it/s]\u001b[A\n",
      "2005778_D_: 100%|██████████| 25/25 [00:00<00:00, 36.93it/s]\u001b[A\n",
      " 15%|█▍        | 149/1008 [02:12<12:33,  1.14it/s]\n",
      "1783597_J_:   0%|          | 0/25 [00:00<?, ?it/s]\u001b[A\n",
      "1783597_J_:  16%|█▌        | 4/25 [00:00<00:00, 36.73it/s]\u001b[A"
     ]
    },
    {
     "name": "stdout",
     "output_type": "stream",
     "text": [
      "running motion mag for vid: 1783597_J_002.mp4\n",
      "video ../../deepfake_data/fb_dfd_release_0.1_final/original_videos_crops/1783597_J_002.mp4\n",
      "Iteration number is 259002\n",
      "Running in Dynamic mode\n"
     ]
    },
    {
     "name": "stderr",
     "output_type": "stream",
     "text": [
      "\n",
      "1783597_J_:  32%|███▏      | 8/25 [00:00<00:00, 36.29it/s]\u001b[A\n",
      "1783597_J_:  48%|████▊     | 12/25 [00:00<00:00, 35.03it/s]\u001b[A\n",
      "1783597_J_:  64%|██████▍   | 16/25 [00:00<00:00, 34.29it/s]\u001b[A\n",
      "1783597_J_:  80%|████████  | 20/25 [00:00<00:00, 35.02it/s]\u001b[A\n",
      "1783597_J_: 100%|██████████| 25/25 [00:00<00:00, 35.54it/s]\u001b[A\n",
      " 15%|█▍        | 150/1008 [02:13<12:48,  1.12it/s]\n",
      "1677632_D_:   0%|          | 0/25 [00:00<?, ?it/s]\u001b[A\n",
      "1677632_D_:  16%|█▌        | 4/25 [00:00<00:00, 36.80it/s]\u001b[A"
     ]
    },
    {
     "name": "stdout",
     "output_type": "stream",
     "text": [
      "running motion mag for vid: 1677632_D_002.mp4\n",
      "video ../../deepfake_data/fb_dfd_release_0.1_final/original_videos_crops/1677632_D_002.mp4\n",
      "Iteration number is 259002\n",
      "Running in Dynamic mode\n"
     ]
    },
    {
     "name": "stderr",
     "output_type": "stream",
     "text": [
      "\n",
      "1677632_D_:  28%|██▊       | 7/25 [00:00<00:00, 33.25it/s]\u001b[A\n",
      "1677632_D_:  40%|████      | 10/25 [00:00<00:00, 30.74it/s]\u001b[A\n",
      "1677632_D_:  56%|█████▌    | 14/25 [00:00<00:00, 30.67it/s]\u001b[A\n",
      "1677632_D_:  68%|██████▊   | 17/25 [00:00<00:00, 29.65it/s]\u001b[A\n",
      "1677632_D_:  80%|████████  | 20/25 [00:00<00:00, 28.73it/s]\u001b[A\n",
      "1677632_D_: 100%|██████████| 25/25 [00:00<00:00, 28.40it/s]\u001b[A\n",
      " 15%|█▍        | 151/1008 [02:14<13:48,  1.03it/s]\n",
      "1853436_A_:   0%|          | 0/25 [00:00<?, ?it/s]\u001b[A\n",
      "1853436_A_:  12%|█▏        | 3/25 [00:00<00:00, 29.68it/s]\u001b[A"
     ]
    },
    {
     "name": "stdout",
     "output_type": "stream",
     "text": [
      "running motion mag for vid: 1853436_A_002.mp4\n",
      "video ../../deepfake_data/fb_dfd_release_0.1_final/original_videos_crops/1853436_A_002.mp4\n",
      "Iteration number is 259002\n",
      "Running in Dynamic mode\n"
     ]
    },
    {
     "name": "stderr",
     "output_type": "stream",
     "text": [
      "\n",
      "1853436_A_:  24%|██▍       | 6/25 [00:00<00:00, 29.74it/s]\u001b[A\n",
      "1853436_A_:  40%|████      | 10/25 [00:00<00:00, 31.61it/s]\u001b[A\n",
      "1853436_A_:  56%|█████▌    | 14/25 [00:00<00:00, 32.56it/s]\u001b[A\n",
      "1853436_A_:  72%|███████▏  | 18/25 [00:00<00:00, 33.51it/s]\u001b[A\n",
      "1853436_A_: 100%|██████████| 25/25 [00:00<00:00, 33.85it/s]\u001b[A\n",
      " 15%|█▌        | 152/1008 [02:15<13:37,  1.05it/s]\n",
      "1997643_A_:   0%|          | 0/25 [00:00<?, ?it/s]\u001b[A\n",
      "1997643_A_:  16%|█▌        | 4/25 [00:00<00:00, 34.48it/s]\u001b[A"
     ]
    },
    {
     "name": "stdout",
     "output_type": "stream",
     "text": [
      "running motion mag for vid: 1997643_A_003.mp4\n",
      "video ../../deepfake_data/fb_dfd_release_0.1_final/original_videos_crops/1997643_A_003.mp4\n",
      "Iteration number is 259002\n",
      "Running in Dynamic mode\n"
     ]
    },
    {
     "name": "stderr",
     "output_type": "stream",
     "text": [
      "\n",
      "1997643_A_:  32%|███▏      | 8/25 [00:00<00:00, 35.84it/s]\u001b[A\n",
      "1997643_A_:  48%|████▊     | 12/25 [00:00<00:00, 36.76it/s]\u001b[A\n",
      "1997643_A_:  64%|██████▍   | 16/25 [00:00<00:00, 35.32it/s]\u001b[A\n",
      "1997643_A_:  80%|████████  | 20/25 [00:00<00:00, 34.88it/s]\u001b[A\n",
      "1997643_A_: 100%|██████████| 25/25 [00:00<00:00, 35.10it/s]\u001b[A\n",
      " 15%|█▌        | 153/1008 [02:16<13:34,  1.05it/s]\n",
      "1604866_C_:   0%|          | 0/25 [00:00<?, ?it/s]\u001b[A\n",
      "1604866_C_:  12%|█▏        | 3/25 [00:00<00:00, 28.49it/s]\u001b[A"
     ]
    },
    {
     "name": "stdout",
     "output_type": "stream",
     "text": [
      "running motion mag for vid: 1604866_C_003.mp4\n",
      "video ../../deepfake_data/fb_dfd_release_0.1_final/original_videos_crops/1604866_C_003.mp4\n",
      "Iteration number is 259002\n",
      "Running in Dynamic mode\n"
     ]
    },
    {
     "name": "stderr",
     "output_type": "stream",
     "text": [
      "\n",
      "1604866_C_:  24%|██▍       | 6/25 [00:00<00:00, 28.18it/s]\u001b[A\n",
      "1604866_C_:  40%|████      | 10/25 [00:00<00:00, 29.42it/s]\u001b[A\n",
      "1604866_C_:  52%|█████▏    | 13/25 [00:00<00:00, 29.34it/s]\u001b[A\n",
      "1604866_C_:  68%|██████▊   | 17/25 [00:00<00:00, 30.28it/s]\u001b[A\n",
      "1604866_C_:  84%|████████▍ | 21/25 [00:00<00:00, 31.58it/s]\u001b[A\n",
      "1604866_C_: 100%|██████████| 25/25 [00:00<00:00, 31.57it/s]\u001b[A\n",
      " 15%|█▌        | 154/1008 [02:17<13:54,  1.02it/s]\n",
      "748594_G_0:   0%|          | 0/24 [00:00<?, ?it/s]\u001b[A\n",
      "748594_G_0:  12%|█▎        | 3/24 [00:00<00:00, 26.78it/s]\u001b[A"
     ]
    },
    {
     "name": "stdout",
     "output_type": "stream",
     "text": [
      "running motion mag for vid: 748594_G_001.mp4\n",
      "video ../../deepfake_data/fb_dfd_release_0.1_final/original_videos_crops/748594_G_001.mp4\n",
      "Iteration number is 259002\n",
      "Running in Dynamic mode\n"
     ]
    },
    {
     "name": "stderr",
     "output_type": "stream",
     "text": [
      "\n",
      "748594_G_0:  25%|██▌       | 6/24 [00:00<00:00, 26.47it/s]\u001b[A\n",
      "748594_G_0:  38%|███▊      | 9/24 [00:00<00:00, 26.76it/s]\u001b[A\n",
      "748594_G_0:  50%|█████     | 12/24 [00:00<00:00, 26.96it/s]\u001b[A\n",
      "748594_G_0:  62%|██████▎   | 15/24 [00:00<00:00, 27.75it/s]\u001b[A\n",
      "748594_G_0:  79%|███████▉  | 19/24 [00:00<00:00, 28.82it/s]\u001b[A\n",
      "748594_G_0: 100%|██████████| 24/24 [00:00<00:00, 28.29it/s]\u001b[A\n",
      " 15%|█▌        | 155/1008 [02:18<14:10,  1.00it/s]\n",
      "2059066_F_:   0%|          | 0/25 [00:00<?, ?it/s]\u001b[A\n",
      "2059066_F_:  16%|█▌        | 4/25 [00:00<00:00, 38.51it/s]\u001b[A"
     ]
    },
    {
     "name": "stdout",
     "output_type": "stream",
     "text": [
      "running motion mag for vid: 2059066_F_003.mp4\n",
      "video ../../deepfake_data/fb_dfd_release_0.1_final/original_videos_crops/2059066_F_003.mp4\n",
      "Iteration number is 259002\n",
      "Running in Dynamic mode\n"
     ]
    },
    {
     "name": "stderr",
     "output_type": "stream",
     "text": [
      "\n",
      "2059066_F_:  32%|███▏      | 8/25 [00:00<00:00, 38.83it/s]\u001b[A\n",
      "2059066_F_:  48%|████▊     | 12/25 [00:00<00:00, 38.62it/s]\u001b[A\n",
      "2059066_F_:  64%|██████▍   | 16/25 [00:00<00:00, 38.98it/s]\u001b[A\n",
      "2059066_F_:  80%|████████  | 20/25 [00:00<00:00, 39.17it/s]\u001b[A\n",
      "2059066_F_: 100%|██████████| 25/25 [00:00<00:00, 39.17it/s]\u001b[A\n",
      " 15%|█▌        | 156/1008 [02:19<13:29,  1.05it/s]\n",
      "1290777_B_:   0%|          | 0/25 [00:00<?, ?it/s]\u001b[A\n",
      "1290777_B_:  16%|█▌        | 4/25 [00:00<00:00, 33.29it/s]\u001b[A"
     ]
    },
    {
     "name": "stdout",
     "output_type": "stream",
     "text": [
      "running motion mag for vid: 1290777_B_001.mp4\n",
      "video ../../deepfake_data/fb_dfd_release_0.1_final/original_videos_crops/1290777_B_001.mp4\n",
      "Iteration number is 259002\n",
      "Running in Dynamic mode\n"
     ]
    },
    {
     "name": "stderr",
     "output_type": "stream",
     "text": [
      "\n",
      "1290777_B_:  32%|███▏      | 8/25 [00:00<00:00, 35.00it/s]\u001b[A\n",
      "1290777_B_:  52%|█████▏    | 13/25 [00:00<00:00, 36.60it/s]\u001b[A\n",
      "1290777_B_:  72%|███████▏  | 18/25 [00:00<00:00, 37.64it/s]\u001b[A\n",
      "1290777_B_: 100%|██████████| 25/25 [00:00<00:00, 37.41it/s]\u001b[A\n",
      " 16%|█▌        | 157/1008 [02:20<13:14,  1.07it/s]\n",
      "1294671_G_:   0%|          | 0/13 [00:00<?, ?it/s]\u001b[A\n",
      "1294671_G_:  31%|███       | 4/13 [00:00<00:00, 32.61it/s]\u001b[A"
     ]
    },
    {
     "name": "stdout",
     "output_type": "stream",
     "text": [
      "running motion mag for vid: 1294671_G_003.mp4\n",
      "video ../../deepfake_data/fb_dfd_release_0.1_final/original_videos_crops/1294671_G_003.mp4\n",
      "Iteration number is 259002\n",
      "Running in Dynamic mode\n"
     ]
    },
    {
     "name": "stderr",
     "output_type": "stream",
     "text": [
      "\n",
      "1294671_G_:  54%|█████▍    | 7/13 [00:00<00:00, 31.73it/s]\u001b[A\n",
      "1294671_G_: 100%|██████████| 13/13 [00:00<00:00, 30.60it/s]\u001b[A\n",
      " 16%|█▌        | 158/1008 [02:20<12:07,  1.17it/s]\n",
      "2113344_G_:   0%|          | 0/25 [00:00<?, ?it/s]\u001b[A\n",
      "2113344_G_:  16%|█▌        | 4/25 [00:00<00:00, 32.96it/s]\u001b[A"
     ]
    },
    {
     "name": "stdout",
     "output_type": "stream",
     "text": [
      "running motion mag for vid: 2113344_G_001.mp4\n",
      "video ../../deepfake_data/fb_dfd_release_0.1_final/original_videos_crops/2113344_G_001.mp4\n",
      "Iteration number is 259002\n",
      "Running in Dynamic mode\n"
     ]
    },
    {
     "name": "stderr",
     "output_type": "stream",
     "text": [
      "\n",
      "2113344_G_:  32%|███▏      | 8/25 [00:00<00:00, 34.03it/s]\u001b[A\n",
      "2113344_G_:  48%|████▊     | 12/25 [00:00<00:00, 33.84it/s]\u001b[A\n",
      "2113344_G_:  64%|██████▍   | 16/25 [00:00<00:00, 33.47it/s]\u001b[A\n",
      "2113344_G_:  80%|████████  | 20/25 [00:00<00:00, 34.34it/s]\u001b[A\n",
      "2113344_G_: 100%|██████████| 25/25 [00:00<00:00, 34.86it/s]\u001b[A\n",
      " 16%|█▌        | 159/1008 [02:21<12:24,  1.14it/s]\n",
      "2059066_B_:   0%|          | 0/25 [00:00<?, ?it/s]\u001b[A\n",
      "2059066_B_:  12%|█▏        | 3/25 [00:00<00:00, 29.77it/s]\u001b[A"
     ]
    },
    {
     "name": "stdout",
     "output_type": "stream",
     "text": [
      "running motion mag for vid: 2059066_B_003.mp4\n",
      "video ../../deepfake_data/fb_dfd_release_0.1_final/original_videos_crops/2059066_B_003.mp4\n",
      "Iteration number is 259002\n",
      "Running in Dynamic mode\n"
     ]
    },
    {
     "name": "stderr",
     "output_type": "stream",
     "text": [
      "\n",
      "2059066_B_:  28%|██▊       | 7/25 [00:00<00:00, 32.09it/s]\u001b[A\n",
      "2059066_B_:  44%|████▍     | 11/25 [00:00<00:00, 33.97it/s]\u001b[A\n",
      "2059066_B_:  60%|██████    | 15/25 [00:00<00:00, 35.20it/s]\u001b[A\n",
      "2059066_B_:  76%|███████▌  | 19/25 [00:00<00:00, 36.30it/s]\u001b[A\n",
      "2059066_B_: 100%|██████████| 25/25 [00:00<00:00, 36.69it/s]\u001b[A\n",
      " 16%|█▌        | 160/1008 [02:22<12:26,  1.14it/s]\n",
      "1974002_H_:   0%|          | 0/10 [00:00<?, ?it/s]\u001b[A\n",
      "1974002_H_:  40%|████      | 4/10 [00:00<00:00, 34.28it/s]\u001b[A"
     ]
    },
    {
     "name": "stdout",
     "output_type": "stream",
     "text": [
      "running motion mag for vid: 1974002_H_002.mp4\n",
      "video ../../deepfake_data/fb_dfd_release_0.1_final/original_videos_crops/1974002_H_002.mp4\n",
      "Iteration number is 259002\n",
      "Running in Dynamic mode\n"
     ]
    },
    {
     "name": "stderr",
     "output_type": "stream",
     "text": [
      "\n",
      "1974002_H_: 100%|██████████| 10/10 [00:00<00:00, 36.69it/s][A\n",
      " 16%|█▌        | 161/1008 [02:23<10:30,  1.34it/s]\n",
      "2113344_C_:   0%|          | 0/25 [00:00<?, ?it/s]\u001b[A\n",
      "2113344_C_:  16%|█▌        | 4/25 [00:00<00:00, 32.22it/s]\u001b[A"
     ]
    },
    {
     "name": "stdout",
     "output_type": "stream",
     "text": [
      "running motion mag for vid: 2113344_C_001.mp4\n",
      "video ../../deepfake_data/fb_dfd_release_0.1_final/original_videos_crops/2113344_C_001.mp4\n",
      "Iteration number is 259002\n",
      "Running in Dynamic mode\n"
     ]
    },
    {
     "name": "stderr",
     "output_type": "stream",
     "text": [
      "\n",
      "2113344_C_:  32%|███▏      | 8/25 [00:00<00:00, 34.02it/s]\u001b[A\n",
      "2113344_C_:  48%|████▊     | 12/25 [00:00<00:00, 33.28it/s]\u001b[A\n",
      "2113344_C_:  64%|██████▍   | 16/25 [00:00<00:00, 33.83it/s]\u001b[A\n",
      "2113344_C_:  84%|████████▍ | 21/25 [00:00<00:00, 35.57it/s]\u001b[A\n",
      "2113344_C_: 100%|██████████| 25/25 [00:00<00:00, 35.87it/s]\u001b[A\n",
      " 16%|█▌        | 162/1008 [02:24<11:16,  1.25it/s]\n",
      "1294671_C_:   0%|          | 0/25 [00:00<?, ?it/s]\u001b[A\n",
      "1294671_C_:  12%|█▏        | 3/25 [00:00<00:00, 29.30it/s]\u001b[A"
     ]
    },
    {
     "name": "stdout",
     "output_type": "stream",
     "text": [
      "running motion mag for vid: 1294671_C_003.mp4\n",
      "video ../../deepfake_data/fb_dfd_release_0.1_final/original_videos_crops/1294671_C_003.mp4\n",
      "Iteration number is 259002\n",
      "Running in Dynamic mode\n"
     ]
    },
    {
     "name": "stderr",
     "output_type": "stream",
     "text": [
      "\n",
      "1294671_C_:  28%|██▊       | 7/25 [00:00<00:00, 31.06it/s]\u001b[A\n",
      "1294671_C_:  48%|████▊     | 12/25 [00:00<00:00, 33.65it/s]\u001b[A\n",
      "1294671_C_:  68%|██████▊   | 17/25 [00:00<00:00, 35.90it/s]\u001b[A\n",
      "1294671_C_: 100%|██████████| 25/25 [00:00<00:00, 39.20it/s]\u001b[A\n",
      " 16%|█▌        | 163/1008 [02:24<11:14,  1.25it/s]\n",
      "1929178_K_:   0%|          | 0/25 [00:00<?, ?it/s]\u001b[A\n",
      "1929178_K_:  20%|██        | 5/25 [00:00<00:00, 43.92it/s]\u001b[A"
     ]
    },
    {
     "name": "stdout",
     "output_type": "stream",
     "text": [
      "running motion mag for vid: 1929178_K_003.mp4\n",
      "video ../../deepfake_data/fb_dfd_release_0.1_final/original_videos_crops/1929178_K_003.mp4\n",
      "Iteration number is 259002\n",
      "Running in Dynamic mode\n"
     ]
    },
    {
     "name": "stderr",
     "output_type": "stream",
     "text": [
      "\n",
      "1929178_K_:  40%|████      | 10/25 [00:00<00:00, 43.39it/s]\u001b[A\n",
      "1929178_K_:  60%|██████    | 15/25 [00:00<00:00, 43.13it/s]\u001b[A\n",
      "1929178_K_:  76%|███████▌  | 19/25 [00:00<00:00, 42.03it/s]\u001b[A\n",
      "1929178_K_: 100%|██████████| 25/25 [00:00<00:00, 41.58it/s]\u001b[A\n",
      " 16%|█▋        | 164/1008 [02:25<11:20,  1.24it/s]\n",
      "748594_C_0:   0%|          | 0/25 [00:00<?, ?it/s]\u001b[A\n",
      "748594_C_0:  20%|██        | 5/25 [00:00<00:00, 41.03it/s]\u001b[A"
     ]
    },
    {
     "name": "stdout",
     "output_type": "stream",
     "text": [
      "running motion mag for vid: 748594_C_001.mp4\n",
      "video ../../deepfake_data/fb_dfd_release_0.1_final/original_videos_crops/748594_C_001.mp4\n",
      "Iteration number is 259002\n",
      "Running in Dynamic mode\n"
     ]
    },
    {
     "name": "stderr",
     "output_type": "stream",
     "text": [
      "\n",
      "748594_C_0:  36%|███▌      | 9/25 [00:00<00:00, 39.07it/s]\u001b[A\n",
      "748594_C_0:  52%|█████▏    | 13/25 [00:00<00:00, 39.09it/s]\u001b[A\n",
      "748594_C_0:  72%|███████▏  | 18/25 [00:00<00:00, 39.87it/s]\u001b[A\n",
      "748594_C_0: 100%|██████████| 25/25 [00:00<00:00, 39.11it/s]\u001b[A\n",
      " 16%|█▋        | 165/1008 [02:26<11:34,  1.21it/s]\n",
      "1853436_E_:   0%|          | 0/25 [00:00<?, ?it/s]\u001b[A\n",
      "1853436_E_:  16%|█▌        | 4/25 [00:00<00:00, 37.56it/s]\u001b[A"
     ]
    },
    {
     "name": "stdout",
     "output_type": "stream",
     "text": [
      "running motion mag for vid: 1853436_E_002.mp4\n",
      "video ../../deepfake_data/fb_dfd_release_0.1_final/original_videos_crops/1853436_E_002.mp4\n",
      "Iteration number is 259002\n",
      "Running in Dynamic mode\n"
     ]
    },
    {
     "name": "stderr",
     "output_type": "stream",
     "text": [
      "\n",
      "1853436_E_:  32%|███▏      | 8/25 [00:00<00:00, 37.48it/s]\u001b[A\n",
      "1853436_E_:  48%|████▊     | 12/25 [00:00<00:00, 35.31it/s]\u001b[A\n",
      "1853436_E_:  64%|██████▍   | 16/25 [00:00<00:00, 36.40it/s]\u001b[A\n",
      "1853436_E_:  80%|████████  | 20/25 [00:00<00:00, 36.98it/s]\u001b[A\n",
      "1853436_E_: 100%|██████████| 25/25 [00:00<00:00, 34.83it/s]\u001b[A\n",
      " 16%|█▋        | 166/1008 [02:27<12:07,  1.16it/s]\n",
      "1997643_E_:   0%|          | 0/25 [00:00<?, ?it/s]\u001b[A\n",
      "1997643_E_:  16%|█▌        | 4/25 [00:00<00:00, 34.04it/s]\u001b[A"
     ]
    },
    {
     "name": "stdout",
     "output_type": "stream",
     "text": [
      "running motion mag for vid: 1997643_E_003.mp4\n",
      "video ../../deepfake_data/fb_dfd_release_0.1_final/original_videos_crops/1997643_E_003.mp4\n",
      "Iteration number is 259002\n",
      "Running in Dynamic mode\n"
     ]
    },
    {
     "name": "stderr",
     "output_type": "stream",
     "text": [
      "\n",
      "1997643_E_:  32%|███▏      | 8/25 [00:00<00:00, 33.94it/s]\u001b[A\n",
      "1997643_E_:  48%|████▊     | 12/25 [00:00<00:00, 34.36it/s]\u001b[A\n",
      "1997643_E_:  64%|██████▍   | 16/25 [00:00<00:00, 33.99it/s]\u001b[A\n",
      "1997643_E_:  80%|████████  | 20/25 [00:00<00:00, 35.39it/s]\u001b[A\n",
      "1997643_E_: 100%|██████████| 25/25 [00:00<00:00, 34.89it/s]\u001b[A\n",
      " 17%|█▋        | 167/1008 [02:28<12:28,  1.12it/s]\n",
      "1929178_C_:   0%|          | 0/25 [00:00<?, ?it/s]\u001b[A\n",
      "1929178_C_:  12%|█▏        | 3/25 [00:00<00:00, 29.02it/s]\u001b[A"
     ]
    },
    {
     "name": "stdout",
     "output_type": "stream",
     "text": [
      "running motion mag for vid: 1929178_C_003.mp4\n",
      "video ../../deepfake_data/fb_dfd_release_0.1_final/original_videos_crops/1929178_C_003.mp4\n",
      "Iteration number is 259002\n",
      "Running in Dynamic mode\n"
     ]
    },
    {
     "name": "stderr",
     "output_type": "stream",
     "text": [
      "\n",
      "1929178_C_:  32%|███▏      | 8/25 [00:00<00:00, 31.83it/s]\u001b[A\n",
      "1929178_C_:  48%|████▊     | 12/25 [00:00<00:00, 31.89it/s]\u001b[A\n",
      "1929178_C_:  64%|██████▍   | 16/25 [00:00<00:00, 33.39it/s]\u001b[A\n",
      "1929178_C_:  80%|████████  | 20/25 [00:00<00:00, 35.12it/s]\u001b[A\n",
      "1929178_C_: 100%|██████████| 25/25 [00:00<00:00, 35.68it/s]\u001b[A\n",
      " 17%|█▋        | 168/1008 [02:29<12:37,  1.11it/s]\n",
      "2057131_C_:   0%|          | 0/25 [00:00<?, ?it/s]\u001b[A\n",
      "2057131_C_:  16%|█▌        | 4/25 [00:00<00:00, 30.55it/s]\u001b[A"
     ]
    },
    {
     "name": "stdout",
     "output_type": "stream",
     "text": [
      "running motion mag for vid: 2057131_C_001.mp4\n",
      "video ../../deepfake_data/fb_dfd_release_0.1_final/original_videos_crops/2057131_C_001.mp4\n",
      "Iteration number is 259002\n",
      "Running in Dynamic mode\n"
     ]
    },
    {
     "name": "stderr",
     "output_type": "stream",
     "text": [
      "\n",
      "2057131_C_:  32%|███▏      | 8/25 [00:00<00:00, 31.32it/s]\u001b[A\n",
      "2057131_C_:  48%|████▊     | 12/25 [00:00<00:00, 32.83it/s]\u001b[A\n",
      "2057131_C_:  60%|██████    | 15/25 [00:00<00:00, 31.76it/s]\u001b[A\n",
      "2057131_C_:  76%|███████▌  | 19/25 [00:00<00:00, 32.18it/s]\u001b[A\n",
      "2057131_C_: 100%|██████████| 25/25 [00:00<00:00, 33.73it/s]\u001b[A\n",
      " 17%|█▋        | 169/1008 [02:30<12:50,  1.09it/s]\n",
      "1260311_C_:   0%|          | 0/25 [00:00<?, ?it/s]\u001b[A\n",
      "\n",
      "2084869_D_:   0%|          | 0/25 [00:00<?, ?it/s]\u001b[A"
     ]
    },
    {
     "name": "stdout",
     "output_type": "stream",
     "text": [
      "running motion mag for vid: 1260311_C_002.mp4\n",
      "video ../../deepfake_data/fb_dfd_release_0.1_final/original_videos_crops/1260311_C_002.mp4\n",
      "Iteration number is 259002\n",
      "Running in Dynamic mode\n",
      "Exception found: OpenCV(4.1.1) /io/opencv/modules/imgproc/src/color.cpp:182: error: (-215:Assertion failed) !_src.empty() in function 'cvtColor'\n",
      "\n",
      "running motion mag for vid: 2084869_D_003.mp4\n",
      "video ../../deepfake_data/fb_dfd_release_0.1_final/original_videos_crops/2084869_D_003.mp4\n",
      "Iteration number is 259002\n",
      "Running in Dynamic mode\n"
     ]
    },
    {
     "name": "stderr",
     "output_type": "stream",
     "text": [
      "\n",
      "2084869_D_:  16%|█▌        | 4/25 [00:00<00:00, 30.52it/s]\u001b[A\n",
      "2084869_D_:  32%|███▏      | 8/25 [00:00<00:00, 32.29it/s]\u001b[A\n",
      "2084869_D_:  48%|████▊     | 12/25 [00:00<00:00, 34.23it/s]\u001b[A\n",
      "2084869_D_:  68%|██████▊   | 17/25 [00:00<00:00, 36.25it/s]\u001b[A\n",
      "2084869_D_: 100%|██████████| 25/25 [00:00<00:00, 38.13it/s]\u001b[A\n",
      " 17%|█▋        | 171/1008 [02:31<10:49,  1.29it/s]\n",
      "2059066_J_:   0%|          | 0/25 [00:00<?, ?it/s]\u001b[A\n",
      "2059066_J_:  20%|██        | 5/25 [00:00<00:00, 41.03it/s]\u001b[A"
     ]
    },
    {
     "name": "stdout",
     "output_type": "stream",
     "text": [
      "running motion mag for vid: 2059066_J_003.mp4\n",
      "video ../../deepfake_data/fb_dfd_release_0.1_final/original_videos_crops/2059066_J_003.mp4\n",
      "Iteration number is 259002\n",
      "Running in Dynamic mode\n"
     ]
    },
    {
     "name": "stderr",
     "output_type": "stream",
     "text": [
      "\n",
      "2059066_J_:  40%|████      | 10/25 [00:00<00:00, 41.49it/s]\u001b[A\n",
      "2059066_J_:  60%|██████    | 15/25 [00:00<00:00, 42.08it/s]\u001b[A\n",
      "2059066_J_:  80%|████████  | 20/25 [00:00<00:00, 42.80it/s]\u001b[A\n",
      "2059066_J_: 100%|██████████| 25/25 [00:00<00:00, 41.87it/s]\u001b[A\n",
      " 17%|█▋        | 172/1008 [02:32<10:56,  1.27it/s]\n",
      "700790_F_0:   0%|          | 0/25 [00:00<?, ?it/s]\u001b[A\n",
      "700790_F_0:  16%|█▌        | 4/25 [00:00<00:00, 33.32it/s]\u001b[A"
     ]
    },
    {
     "name": "stdout",
     "output_type": "stream",
     "text": [
      "running motion mag for vid: 700790_F_002.mp4\n",
      "video ../../deepfake_data/fb_dfd_release_0.1_final/original_videos_crops/700790_F_002.mp4\n",
      "Iteration number is 259002\n",
      "Running in Dynamic mode\n"
     ]
    },
    {
     "name": "stderr",
     "output_type": "stream",
     "text": [
      "\n",
      "700790_F_0:  32%|███▏      | 8/25 [00:00<00:00, 32.85it/s]\u001b[A\n",
      "700790_F_0:  48%|████▊     | 12/25 [00:00<00:00, 32.09it/s]\u001b[A\n",
      "700790_F_0:  64%|██████▍   | 16/25 [00:00<00:00, 32.55it/s]\u001b[A\n",
      "700790_F_0:  80%|████████  | 20/25 [00:00<00:00, 32.11it/s]\u001b[A\n",
      "700790_F_0: 100%|██████████| 25/25 [00:00<00:00, 30.94it/s]\u001b[A\n",
      " 17%|█▋        | 173/1008 [02:33<12:04,  1.15it/s]\n",
      "1681757_E_:   0%|          | 0/25 [00:00<?, ?it/s]\u001b[A\n",
      "1681757_E_:  16%|█▌        | 4/25 [00:00<00:00, 31.28it/s]\u001b[A"
     ]
    },
    {
     "name": "stdout",
     "output_type": "stream",
     "text": [
      "running motion mag for vid: 1681757_E_003.mp4\n",
      "video ../../deepfake_data/fb_dfd_release_0.1_final/original_videos_crops/1681757_E_003.mp4\n",
      "Iteration number is 259002\n",
      "Running in Dynamic mode\n"
     ]
    },
    {
     "name": "stderr",
     "output_type": "stream",
     "text": [
      "\n",
      "1681757_E_:  28%|██▊       | 7/25 [00:00<00:00, 30.83it/s]\u001b[A\n",
      "1681757_E_:  44%|████▍     | 11/25 [00:00<00:00, 31.64it/s]\u001b[A\n",
      "1681757_E_:  60%|██████    | 15/25 [00:00<00:00, 32.42it/s]\u001b[A\n",
      "1681757_E_:  76%|███████▌  | 19/25 [00:00<00:00, 33.52it/s]\u001b[A\n",
      "1681757_E_: 100%|██████████| 25/25 [00:00<00:00, 34.51it/s]\u001b[A\n",
      " 17%|█▋        | 174/1008 [02:34<12:18,  1.13it/s]\n",
      "700790_B_0:   0%|          | 0/25 [00:00<?, ?it/s]\u001b[A\n",
      "700790_B_0:  16%|█▌        | 4/25 [00:00<00:00, 31.95it/s]\u001b[A"
     ]
    },
    {
     "name": "stdout",
     "output_type": "stream",
     "text": [
      "running motion mag for vid: 700790_B_002.mp4\n",
      "video ../../deepfake_data/fb_dfd_release_0.1_final/original_videos_crops/700790_B_002.mp4\n",
      "Iteration number is 259002\n",
      "Running in Dynamic mode\n"
     ]
    },
    {
     "name": "stderr",
     "output_type": "stream",
     "text": [
      "\n",
      "700790_B_0:  32%|███▏      | 8/25 [00:00<00:00, 33.45it/s]\u001b[A\n",
      "700790_B_0:  48%|████▊     | 12/25 [00:00<00:00, 34.78it/s]\u001b[A\n",
      "700790_B_0:  64%|██████▍   | 16/25 [00:00<00:00, 36.10it/s]\u001b[A\n",
      "700790_B_0:  84%|████████▍ | 21/25 [00:00<00:00, 37.29it/s]\u001b[A\n",
      "700790_B_0: 100%|██████████| 25/25 [00:00<00:00, 37.55it/s]\u001b[A\n",
      " 17%|█▋        | 175/1008 [02:34<12:11,  1.14it/s]\n",
      "1997643_I_:   0%|          | 0/25 [00:00<?, ?it/s]\u001b[A\n",
      "1997643_I_:  12%|█▏        | 3/25 [00:00<00:00, 28.99it/s]\u001b[A"
     ]
    },
    {
     "name": "stdout",
     "output_type": "stream",
     "text": [
      "running motion mag for vid: 1997643_I_003.mp4\n",
      "video ../../deepfake_data/fb_dfd_release_0.1_final/original_videos_crops/1997643_I_003.mp4\n",
      "Iteration number is 259002\n",
      "Running in Dynamic mode\n"
     ]
    },
    {
     "name": "stderr",
     "output_type": "stream",
     "text": [
      "\n",
      "1997643_I_:  24%|██▍       | 6/25 [00:00<00:00, 28.95it/s]\u001b[A\n",
      "1997643_I_:  40%|████      | 10/25 [00:00<00:00, 29.79it/s]\u001b[A\n",
      "1997643_I_:  56%|█████▌    | 14/25 [00:00<00:00, 30.11it/s]\u001b[A\n",
      "1997643_I_:  72%|███████▏  | 18/25 [00:00<00:00, 30.60it/s]\u001b[A\n",
      "1997643_I_: 100%|██████████| 25/25 [00:00<00:00, 32.60it/s]\u001b[A\n",
      " 17%|█▋        | 176/1008 [02:35<12:40,  1.09it/s]\n",
      "1681757_A_:   0%|          | 0/25 [00:00<?, ?it/s]\u001b[A\n",
      "1681757_A_:  16%|█▌        | 4/25 [00:00<00:00, 32.77it/s]\u001b[A"
     ]
    },
    {
     "name": "stdout",
     "output_type": "stream",
     "text": [
      "running motion mag for vid: 1681757_A_003.mp4\n",
      "video ../../deepfake_data/fb_dfd_release_0.1_final/original_videos_crops/1681757_A_003.mp4\n",
      "Iteration number is 259002\n",
      "Running in Dynamic mode\n"
     ]
    },
    {
     "name": "stderr",
     "output_type": "stream",
     "text": [
      "\n",
      "1681757_A_:  28%|██▊       | 7/25 [00:00<00:00, 31.35it/s]\u001b[A\n",
      "1681757_A_:  44%|████▍     | 11/25 [00:00<00:00, 32.53it/s]\u001b[A\n",
      "1681757_A_:  60%|██████    | 15/25 [00:00<00:00, 32.87it/s]\u001b[A\n",
      "1681757_A_:  76%|███████▌  | 19/25 [00:00<00:00, 33.32it/s]\u001b[A\n",
      "1681757_A_: 100%|██████████| 25/25 [00:00<00:00, 32.72it/s]\u001b[A\n",
      " 18%|█▊        | 177/1008 [02:36<12:58,  1.07it/s]\n",
      "1848521_D_:   0%|          | 0/25 [00:00<?, ?it/s]\u001b[A\n",
      "1848521_D_:  16%|█▌        | 4/25 [00:00<00:00, 37.68it/s]\u001b[A"
     ]
    },
    {
     "name": "stdout",
     "output_type": "stream",
     "text": [
      "running motion mag for vid: 1848521_D_001.mp4\n",
      "video ../../deepfake_data/fb_dfd_release_0.1_final/original_videos_crops/1848521_D_001.mp4\n",
      "Iteration number is 259002\n",
      "Running in Dynamic mode\n"
     ]
    },
    {
     "name": "stderr",
     "output_type": "stream",
     "text": [
      "\n",
      "1848521_D_:  32%|███▏      | 8/25 [00:00<00:00, 38.11it/s]\u001b[A\n",
      "1848521_D_:  48%|████▊     | 12/25 [00:00<00:00, 38.32it/s]\u001b[A\n",
      "1848521_D_:  64%|██████▍   | 16/25 [00:00<00:00, 38.60it/s]\u001b[A\n",
      "1848521_D_:  80%|████████  | 20/25 [00:00<00:00, 38.98it/s]\u001b[A\n",
      "1848521_D_: 100%|██████████| 25/25 [00:00<00:00, 39.10it/s]\u001b[A\n",
      " 18%|█▊        | 178/1008 [02:37<12:34,  1.10it/s]\n",
      "1929178_G_:   0%|          | 0/25 [00:00<?, ?it/s]\u001b[A\n",
      "1929178_G_:  16%|█▌        | 4/25 [00:00<00:00, 32.12it/s]\u001b[A"
     ]
    },
    {
     "name": "stdout",
     "output_type": "stream",
     "text": [
      "running motion mag for vid: 1929178_G_003.mp4\n",
      "video ../../deepfake_data/fb_dfd_release_0.1_final/original_videos_crops/1929178_G_003.mp4\n",
      "Iteration number is 259002\n",
      "Running in Dynamic mode\n"
     ]
    },
    {
     "name": "stderr",
     "output_type": "stream",
     "text": [
      "\n",
      "1929178_G_:  32%|███▏      | 8/25 [00:00<00:00, 33.89it/s]\u001b[A\n",
      "1929178_G_:  52%|█████▏    | 13/25 [00:00<00:00, 35.61it/s]\u001b[A\n",
      "1929178_G_:  68%|██████▊   | 17/25 [00:00<00:00, 34.26it/s]\u001b[A\n",
      "1929178_G_: 100%|██████████| 25/25 [00:00<00:00, 37.08it/s]\u001b[A\n",
      " 18%|█▊        | 179/1008 [02:38<12:32,  1.10it/s]\n",
      "1260311_G_:   0%|          | 0/25 [00:00<?, ?it/s]\u001b[A\n",
      "1260311_G_:  16%|█▌        | 4/25 [00:00<00:00, 34.44it/s]\u001b[A"
     ]
    },
    {
     "name": "stdout",
     "output_type": "stream",
     "text": [
      "running motion mag for vid: 1260311_G_002.mp4\n",
      "video ../../deepfake_data/fb_dfd_release_0.1_final/original_videos_crops/1260311_G_002.mp4\n",
      "Iteration number is 259002\n",
      "Running in Dynamic mode\n"
     ]
    },
    {
     "name": "stderr",
     "output_type": "stream",
     "text": [
      "\n",
      "1260311_G_:  28%|██▊       | 7/25 [00:00<00:00, 32.04it/s]\u001b[A\n",
      "1260311_G_:  44%|████▍     | 11/25 [00:00<00:00, 33.51it/s]\u001b[A\n",
      "1260311_G_:  60%|██████    | 15/25 [00:00<00:00, 34.36it/s]\u001b[A\n",
      "1260311_G_:  72%|███████▏  | 18/25 [00:00<00:00, 32.00it/s]\u001b[A\n",
      "1260311_G_:  88%|████████▊ | 22/25 [00:00<00:00, 32.81it/s]\u001b[A\n",
      "1260311_G_: 100%|██████████| 25/25 [00:00<00:00, 32.25it/s]\u001b[A\n",
      " 18%|█▊        | 180/1008 [02:39<12:55,  1.07it/s]\n",
      "1974002_D_:   0%|          | 0/24 [00:00<?, ?it/s]\u001b[A\n",
      "1974002_D_:  17%|█▋        | 4/24 [00:00<00:00, 30.48it/s]\u001b[A"
     ]
    },
    {
     "name": "stdout",
     "output_type": "stream",
     "text": [
      "running motion mag for vid: 1974002_D_002.mp4\n",
      "video ../../deepfake_data/fb_dfd_release_0.1_final/original_videos_crops/1974002_D_002.mp4\n",
      "Iteration number is 259002\n",
      "Running in Dynamic mode\n"
     ]
    },
    {
     "name": "stderr",
     "output_type": "stream",
     "text": [
      "\n",
      "1974002_D_:  33%|███▎      | 8/24 [00:00<00:00, 31.28it/s]\u001b[A\n",
      "1974002_D_:  50%|█████     | 12/24 [00:00<00:00, 32.63it/s]\u001b[A\n",
      "1974002_D_:  67%|██████▋   | 16/24 [00:00<00:00, 33.99it/s]\u001b[A\n",
      "1974002_D_:  83%|████████▎ | 20/24 [00:00<00:00, 35.50it/s]\u001b[A\n",
      "1974002_D_: 100%|██████████| 24/24 [00:00<00:00, 35.53it/s]\u001b[A\n",
      " 18%|█▊        | 181/1008 [02:40<12:44,  1.08it/s]\n",
      "2063898_B_:   0%|          | 0/25 [00:00<?, ?it/s]\u001b[A\n",
      "2063898_B_:  16%|█▌        | 4/25 [00:00<00:00, 33.49it/s]\u001b[A"
     ]
    },
    {
     "name": "stdout",
     "output_type": "stream",
     "text": [
      "running motion mag for vid: 2063898_B_001.mp4\n",
      "video ../../deepfake_data/fb_dfd_release_0.1_final/original_videos_crops/2063898_B_001.mp4\n",
      "Iteration number is 259002\n",
      "Running in Dynamic mode\n"
     ]
    },
    {
     "name": "stderr",
     "output_type": "stream",
     "text": [
      "\n",
      "2063898_B_:  32%|███▏      | 8/25 [00:00<00:00, 34.26it/s]\u001b[A\n",
      "2063898_B_:  48%|████▊     | 12/25 [00:00<00:00, 34.51it/s]\u001b[A\n",
      "2063898_B_:  64%|██████▍   | 16/25 [00:00<00:00, 35.79it/s]\u001b[A\n",
      "2063898_B_: 100%|██████████| 25/25 [00:00<00:00, 37.43it/s]\u001b[A\n",
      " 18%|█▊        | 182/1008 [02:41<12:24,  1.11it/s]\n",
      "2090100_A_:   0%|          | 0/25 [00:00<?, ?it/s]\u001b[A\n",
      "2090100_A_:  16%|█▌        | 4/25 [00:00<00:00, 39.59it/s]\u001b[A"
     ]
    },
    {
     "name": "stdout",
     "output_type": "stream",
     "text": [
      "running motion mag for vid: 2090100_A_002.mp4\n",
      "video ../../deepfake_data/fb_dfd_release_0.1_final/original_videos_crops/2090100_A_002.mp4\n",
      "Iteration number is 259002\n",
      "Running in Dynamic mode\n"
     ]
    },
    {
     "name": "stderr",
     "output_type": "stream",
     "text": [
      "\n",
      "2090100_A_:  36%|███▌      | 9/25 [00:00<00:00, 40.07it/s]\u001b[A\n",
      "2090100_A_:  56%|█████▌    | 14/25 [00:00<00:00, 39.96it/s]\u001b[A\n",
      "2090100_A_:  72%|███████▏  | 18/25 [00:00<00:00, 38.88it/s]\u001b[A\n",
      "2090100_A_: 100%|██████████| 25/25 [00:00<00:00, 39.53it/s]\u001b[A\n",
      " 18%|█▊        | 183/1008 [02:42<12:15,  1.12it/s]\n",
      "2005778_C_:   0%|          | 0/25 [00:00<?, ?it/s]\u001b[A\n",
      "2005778_C_:  16%|█▌        | 4/25 [00:00<00:00, 39.70it/s]\u001b[A"
     ]
    },
    {
     "name": "stdout",
     "output_type": "stream",
     "text": [
      "running motion mag for vid: 2005778_C_003.mp4\n",
      "video ../../deepfake_data/fb_dfd_release_0.1_final/original_videos_crops/2005778_C_003.mp4\n",
      "Iteration number is 259002\n",
      "Running in Dynamic mode\n"
     ]
    },
    {
     "name": "stderr",
     "output_type": "stream",
     "text": [
      "\n",
      "2005778_C_:  36%|███▌      | 9/25 [00:00<00:00, 40.02it/s]\u001b[A\n",
      "2005778_C_:  48%|████▊     | 12/25 [00:00<00:00, 35.69it/s]\u001b[A\n",
      "2005778_C_:  64%|██████▍   | 16/25 [00:00<00:00, 35.18it/s]\u001b[A\n",
      "2005778_C_:  80%|████████  | 20/25 [00:00<00:00, 35.28it/s]\u001b[A\n",
      "2005778_C_: 100%|██████████| 25/25 [00:00<00:00, 36.21it/s]\u001b[A\n",
      " 18%|█▊        | 184/1008 [02:43<12:01,  1.14it/s]\n",
      "773847_H_0:   0%|          | 0/25 [00:00<?, ?it/s]\u001b[A\n",
      "773847_H_0:  16%|█▌        | 4/25 [00:00<00:00, 33.01it/s]\u001b[A"
     ]
    },
    {
     "name": "stdout",
     "output_type": "stream",
     "text": [
      "running motion mag for vid: 773847_H_003.mp4\n",
      "video ../../deepfake_data/fb_dfd_release_0.1_final/original_videos_crops/773847_H_003.mp4\n",
      "Iteration number is 259002\n",
      "Running in Dynamic mode\n"
     ]
    },
    {
     "name": "stderr",
     "output_type": "stream",
     "text": [
      "\n",
      "773847_H_0:  32%|███▏      | 8/25 [00:00<00:00, 34.52it/s]\u001b[A\n",
      "773847_H_0:  52%|█████▏    | 13/25 [00:00<00:00, 35.33it/s]\u001b[A\n",
      "773847_H_0:  68%|██████▊   | 17/25 [00:00<00:00, 35.48it/s]\u001b[A\n",
      "773847_H_0:  84%|████████▍ | 21/25 [00:00<00:00, 36.69it/s]\u001b[A\n",
      "773847_H_0: 100%|██████████| 25/25 [00:00<00:00, 37.08it/s]\u001b[A\n",
      " 18%|█▊        | 185/1008 [02:43<11:52,  1.15it/s]\n",
      "804259_F_0:   0%|          | 0/25 [00:00<?, ?it/s]\u001b[A\n",
      "804259_F_0:  16%|█▌        | 4/25 [00:00<00:00, 35.12it/s]\u001b[A"
     ]
    },
    {
     "name": "stdout",
     "output_type": "stream",
     "text": [
      "running motion mag for vid: 804259_F_002.mp4\n",
      "video ../../deepfake_data/fb_dfd_release_0.1_final/original_videos_crops/804259_F_002.mp4\n",
      "Iteration number is 259002\n",
      "Running in Dynamic mode\n"
     ]
    },
    {
     "name": "stderr",
     "output_type": "stream",
     "text": [
      "\n",
      "804259_F_0:  32%|███▏      | 8/25 [00:00<00:00, 35.72it/s]\u001b[A\n",
      "804259_F_0:  48%|████▊     | 12/25 [00:00<00:00, 34.73it/s]\u001b[A\n",
      "804259_F_0:  68%|██████▊   | 17/25 [00:00<00:00, 36.84it/s]\u001b[A\n",
      "804259_F_0:  84%|████████▍ | 21/25 [00:00<00:00, 36.07it/s]\u001b[A\n",
      "804259_F_0: 100%|██████████| 25/25 [00:00<00:00, 36.28it/s]\u001b[A\n",
      " 18%|█▊        | 186/1008 [02:44<11:56,  1.15it/s]\n",
      "1941250_D_:   0%|          | 0/25 [00:00<?, ?it/s]\u001b[A\n",
      "1941250_D_:  16%|█▌        | 4/25 [00:00<00:00, 32.02it/s]\u001b[A"
     ]
    },
    {
     "name": "stdout",
     "output_type": "stream",
     "text": [
      "running motion mag for vid: 1941250_D_001.mp4\n",
      "video ../../deepfake_data/fb_dfd_release_0.1_final/original_videos_crops/1941250_D_001.mp4\n",
      "Iteration number is 259002\n",
      "Running in Dynamic mode\n"
     ]
    },
    {
     "name": "stderr",
     "output_type": "stream",
     "text": [
      "\n",
      "1941250_D_:  32%|███▏      | 8/25 [00:00<00:00, 33.55it/s]\u001b[A\n",
      "1941250_D_:  48%|████▊     | 12/25 [00:00<00:00, 34.66it/s]\u001b[A\n",
      "1941250_D_:  68%|██████▊   | 17/25 [00:00<00:00, 36.18it/s]\u001b[A\n",
      "1941250_D_:  84%|████████▍ | 21/25 [00:00<00:00, 34.58it/s]\u001b[A\n",
      "1941250_D_: 100%|██████████| 25/25 [00:00<00:00, 35.22it/s]\u001b[A\n",
      " 19%|█▊        | 187/1008 [02:45<12:14,  1.12it/s]\n",
      "643049_D_0:   0%|          | 0/25 [00:00<?, ?it/s]\u001b[A\n",
      "643049_D_0:  16%|█▌        | 4/25 [00:00<00:00, 34.57it/s]\u001b[A"
     ]
    },
    {
     "name": "stdout",
     "output_type": "stream",
     "text": [
      "running motion mag for vid: 643049_D_001.mp4\n",
      "video ../../deepfake_data/fb_dfd_release_0.1_final/original_videos_crops/643049_D_001.mp4\n",
      "Iteration number is 259002\n",
      "Running in Dynamic mode\n"
     ]
    },
    {
     "name": "stderr",
     "output_type": "stream",
     "text": [
      "\n",
      "643049_D_0:  32%|███▏      | 8/25 [00:00<00:00, 35.77it/s]\u001b[A\n",
      "643049_D_0:  52%|█████▏    | 13/25 [00:00<00:00, 37.43it/s]\u001b[A\n",
      "643049_D_0:  72%|███████▏  | 18/25 [00:00<00:00, 39.24it/s]\u001b[A\n",
      "643049_D_0: 100%|██████████| 25/25 [00:00<00:00, 40.92it/s]\u001b[A\n",
      " 19%|█▊        | 188/1008 [02:46<11:53,  1.15it/s]\n",
      "1371757_D_:   0%|          | 0/25 [00:00<?, ?it/s]\u001b[A\n",
      "1371757_D_:  16%|█▌        | 4/25 [00:00<00:00, 38.39it/s]\u001b[A"
     ]
    },
    {
     "name": "stdout",
     "output_type": "stream",
     "text": [
      "running motion mag for vid: 1371757_D_003.mp4\n",
      "video ../../deepfake_data/fb_dfd_release_0.1_final/original_videos_crops/1371757_D_003.mp4\n",
      "Iteration number is 259002\n",
      "Running in Dynamic mode\n"
     ]
    },
    {
     "name": "stderr",
     "output_type": "stream",
     "text": [
      "\n",
      "1371757_D_:  36%|███▌      | 9/25 [00:00<00:00, 39.01it/s]\u001b[A\n",
      "1371757_D_:  56%|█████▌    | 14/25 [00:00<00:00, 39.43it/s]\u001b[A\n",
      "1371757_D_:  76%|███████▌  | 19/25 [00:00<00:00, 39.72it/s]\u001b[A\n",
      "1371757_D_: 100%|██████████| 25/25 [00:00<00:00, 39.64it/s]\u001b[A\n",
      " 19%|█▉        | 189/1008 [02:47<11:44,  1.16it/s]\n",
      "1999299_G_:   0%|          | 0/25 [00:00<?, ?it/s]\u001b[A\n",
      "1999299_G_:  16%|█▌        | 4/25 [00:00<00:00, 33.53it/s]\u001b[A"
     ]
    },
    {
     "name": "stdout",
     "output_type": "stream",
     "text": [
      "running motion mag for vid: 1999299_G_002.mp4\n",
      "video ../../deepfake_data/fb_dfd_release_0.1_final/original_videos_crops/1999299_G_002.mp4\n",
      "Iteration number is 259002\n",
      "Running in Dynamic mode\n"
     ]
    },
    {
     "name": "stderr",
     "output_type": "stream",
     "text": [
      "\n",
      "1999299_G_:  32%|███▏      | 8/25 [00:00<00:00, 34.77it/s]\u001b[A\n",
      "1999299_G_:  52%|█████▏    | 13/25 [00:00<00:00, 36.29it/s]\u001b[A\n",
      "1999299_G_:  72%|███████▏  | 18/25 [00:00<00:00, 37.54it/s]\u001b[A\n",
      "1999299_G_: 100%|██████████| 25/25 [00:00<00:00, 38.71it/s]\u001b[A\n",
      " 19%|█▉        | 190/1008 [02:48<11:46,  1.16it/s]\n",
      "1441897_D_:   0%|          | 0/25 [00:00<?, ?it/s]\u001b[A\n",
      "1441897_D_:  16%|█▌        | 4/25 [00:00<00:00, 33.79it/s]\u001b[A"
     ]
    },
    {
     "name": "stdout",
     "output_type": "stream",
     "text": [
      "running motion mag for vid: 1441897_D_001.mp4\n",
      "video ../../deepfake_data/fb_dfd_release_0.1_final/original_videos_crops/1441897_D_001.mp4\n",
      "Iteration number is 259002\n",
      "Running in Dynamic mode\n"
     ]
    },
    {
     "name": "stderr",
     "output_type": "stream",
     "text": [
      "\n",
      "1441897_D_:  32%|███▏      | 8/25 [00:00<00:00, 34.68it/s]\u001b[A\n",
      "1441897_D_:  48%|████▊     | 12/25 [00:00<00:00, 35.77it/s]\u001b[A\n",
      "1441897_D_:  68%|██████▊   | 17/25 [00:00<00:00, 37.05it/s]\u001b[A\n",
      "1441897_D_: 100%|██████████| 25/25 [00:00<00:00, 38.23it/s]\u001b[A\n",
      " 19%|█▉        | 191/1008 [02:49<11:49,  1.15it/s]\n",
      "1822940_A_:   0%|          | 0/25 [00:00<?, ?it/s]\u001b[A\n",
      "1822940_A_:  16%|█▌        | 4/25 [00:00<00:00, 36.57it/s]\u001b[A"
     ]
    },
    {
     "name": "stdout",
     "output_type": "stream",
     "text": [
      "running motion mag for vid: 1822940_A_003.mp4\n",
      "video ../../deepfake_data/fb_dfd_release_0.1_final/original_videos_crops/1822940_A_003.mp4\n",
      "Iteration number is 259002\n",
      "Running in Dynamic mode\n"
     ]
    },
    {
     "name": "stderr",
     "output_type": "stream",
     "text": [
      "\n",
      "1822940_A_:  32%|███▏      | 8/25 [00:00<00:00, 37.37it/s]\u001b[A\n",
      "1822940_A_:  52%|█████▏    | 13/25 [00:00<00:00, 38.22it/s]\u001b[A\n",
      "1822940_A_:  68%|██████▊   | 17/25 [00:00<00:00, 38.61it/s]\u001b[A\n",
      "1822940_A_: 100%|██████████| 25/25 [00:00<00:00, 39.82it/s]\u001b[A\n",
      " 19%|█▉        | 192/1008 [02:50<11:31,  1.18it/s]\n",
      "2044170_B_:   0%|          | 0/25 [00:00<?, ?it/s]\u001b[A\n",
      "2044170_B_:  16%|█▌        | 4/25 [00:00<00:00, 32.80it/s]\u001b[A"
     ]
    },
    {
     "name": "stdout",
     "output_type": "stream",
     "text": [
      "running motion mag for vid: 2044170_B_001.mp4\n",
      "video ../../deepfake_data/fb_dfd_release_0.1_final/original_videos_crops/2044170_B_001.mp4\n",
      "Iteration number is 259002\n",
      "Running in Dynamic mode\n"
     ]
    },
    {
     "name": "stderr",
     "output_type": "stream",
     "text": [
      "\n",
      "2044170_B_:  32%|███▏      | 8/25 [00:00<00:00, 32.90it/s]\u001b[A\n",
      "2044170_B_:  44%|████▍     | 11/25 [00:00<00:00, 31.73it/s]\u001b[A\n",
      "2044170_B_:  60%|██████    | 15/25 [00:00<00:00, 32.56it/s]\u001b[A\n",
      "2044170_B_:  72%|███████▏  | 18/25 [00:00<00:00, 31.27it/s]\u001b[A\n",
      "2044170_B_: 100%|██████████| 25/25 [00:00<00:00, 32.78it/s]\u001b[A\n",
      " 19%|█▉        | 193/1008 [02:51<12:03,  1.13it/s]\n",
      "1999299_C_:   0%|          | 0/25 [00:00<?, ?it/s]\u001b[A\n",
      "1999299_C_:  16%|█▌        | 4/25 [00:00<00:00, 35.40it/s]\u001b[A"
     ]
    },
    {
     "name": "stdout",
     "output_type": "stream",
     "text": [
      "running motion mag for vid: 1999299_C_002.mp4\n",
      "video ../../deepfake_data/fb_dfd_release_0.1_final/original_videos_crops/1999299_C_002.mp4\n",
      "Iteration number is 259002\n",
      "Running in Dynamic mode\n"
     ]
    },
    {
     "name": "stderr",
     "output_type": "stream",
     "text": [
      "\n",
      "1999299_C_:  32%|███▏      | 8/25 [00:00<00:00, 36.20it/s]\u001b[A\n",
      "1999299_C_:  48%|████▊     | 12/25 [00:00<00:00, 35.09it/s]\u001b[A\n",
      "1999299_C_:  64%|██████▍   | 16/25 [00:00<00:00, 36.28it/s]\u001b[A\n",
      "1999299_C_:  80%|████████  | 20/25 [00:00<00:00, 37.20it/s]\u001b[A\n",
      "1999299_C_: 100%|██████████| 25/25 [00:00<00:00, 37.17it/s]\u001b[A\n",
      " 19%|█▉        | 194/1008 [02:51<12:08,  1.12it/s]\n",
      "1822940_E_:   0%|          | 0/25 [00:00<?, ?it/s]\u001b[A\n",
      "1822940_E_:  12%|█▏        | 3/25 [00:00<00:00, 28.83it/s]\u001b[A"
     ]
    },
    {
     "name": "stdout",
     "output_type": "stream",
     "text": [
      "running motion mag for vid: 1822940_E_003.mp4\n",
      "video ../../deepfake_data/fb_dfd_release_0.1_final/original_videos_crops/1822940_E_003.mp4\n",
      "Iteration number is 259002\n",
      "Running in Dynamic mode\n"
     ]
    },
    {
     "name": "stderr",
     "output_type": "stream",
     "text": [
      "\n",
      "1822940_E_:  28%|██▊       | 7/25 [00:00<00:00, 30.14it/s]\u001b[A\n",
      "1822940_E_:  44%|████▍     | 11/25 [00:00<00:00, 31.90it/s]\u001b[A\n",
      "1822940_E_:  60%|██████    | 15/25 [00:00<00:00, 33.23it/s]\u001b[A\n",
      "1822940_E_:  76%|███████▌  | 19/25 [00:00<00:00, 34.35it/s]\u001b[A\n",
      "1822940_E_: 100%|██████████| 25/25 [00:00<00:00, 34.64it/s]\u001b[A\n",
      " 19%|█▉        | 195/1008 [02:52<12:22,  1.09it/s]\n",
      "1224068_H_:   0%|          | 0/25 [00:00<?, ?it/s]\u001b[A\n",
      "1224068_H_:  16%|█▌        | 4/25 [00:00<00:00, 32.78it/s]\u001b[A"
     ]
    },
    {
     "name": "stdout",
     "output_type": "stream",
     "text": [
      "running motion mag for vid: 1224068_H_001.mp4\n",
      "video ../../deepfake_data/fb_dfd_release_0.1_final/original_videos_crops/1224068_H_001.mp4\n",
      "Iteration number is 259002\n",
      "Running in Dynamic mode\n"
     ]
    },
    {
     "name": "stderr",
     "output_type": "stream",
     "text": [
      "\n",
      "1224068_H_:  32%|███▏      | 8/25 [00:00<00:00, 33.96it/s]\u001b[A\n",
      "1224068_H_:  52%|█████▏    | 13/25 [00:00<00:00, 35.62it/s]\u001b[A\n",
      "1224068_H_:  68%|██████▊   | 17/25 [00:00<00:00, 36.51it/s]\u001b[A\n",
      "1224068_H_: 100%|██████████| 25/25 [00:00<00:00, 37.94it/s]\u001b[A\n",
      " 19%|█▉        | 196/1008 [02:53<12:05,  1.12it/s]\n",
      "773847_L_0:   0%|          | 0/24 [00:00<?, ?it/s]\u001b[A\n",
      "773847_L_0:  17%|█▋        | 4/24 [00:00<00:00, 32.88it/s]\u001b[A"
     ]
    },
    {
     "name": "stdout",
     "output_type": "stream",
     "text": [
      "running motion mag for vid: 773847_L_003.mp4\n",
      "video ../../deepfake_data/fb_dfd_release_0.1_final/original_videos_crops/773847_L_003.mp4\n",
      "Iteration number is 259002\n",
      "Running in Dynamic mode\n"
     ]
    },
    {
     "name": "stderr",
     "output_type": "stream",
     "text": [
      "\n",
      "773847_L_0:  33%|███▎      | 8/24 [00:00<00:00, 34.48it/s]\u001b[A\n",
      "773847_L_0:  50%|█████     | 12/24 [00:00<00:00, 35.51it/s]\u001b[A\n",
      "773847_L_0:  67%|██████▋   | 16/24 [00:00<00:00, 34.87it/s]\u001b[A\n",
      "773847_L_0:  83%|████████▎ | 20/24 [00:00<00:00, 35.87it/s]\u001b[A\n",
      "773847_L_0: 100%|██████████| 24/24 [00:00<00:00, 36.59it/s]\u001b[A\n",
      " 20%|█▉        | 197/1008 [02:54<12:01,  1.12it/s]\n",
      "1569101_D_:   0%|          | 0/25 [00:00<?, ?it/s]\u001b[A\n",
      "1569101_D_:  16%|█▌        | 4/25 [00:00<00:00, 38.35it/s]\u001b[A"
     ]
    },
    {
     "name": "stdout",
     "output_type": "stream",
     "text": [
      "running motion mag for vid: 1569101_D_002.mp4\n",
      "video ../../deepfake_data/fb_dfd_release_0.1_final/original_videos_crops/1569101_D_002.mp4\n",
      "Iteration number is 259002\n",
      "Running in Dynamic mode\n"
     ]
    },
    {
     "name": "stderr",
     "output_type": "stream",
     "text": [
      "\n",
      "1569101_D_:  32%|███▏      | 8/25 [00:00<00:00, 38.50it/s]\u001b[A\n",
      "1569101_D_:  52%|█████▏    | 13/25 [00:00<00:00, 39.07it/s]\u001b[A\n",
      "1569101_D_:  72%|███████▏  | 18/25 [00:00<00:00, 39.53it/s]\u001b[A\n",
      "1569101_D_: 100%|██████████| 25/25 [00:00<00:00, 39.72it/s]\u001b[A\n",
      " 20%|█▉        | 198/1008 [02:55<11:53,  1.13it/s]\n",
      "2005778_G_:   0%|          | 0/25 [00:00<?, ?it/s]\u001b[A\n",
      "2005778_G_:  16%|█▌        | 4/25 [00:00<00:00, 37.42it/s]\u001b[A"
     ]
    },
    {
     "name": "stdout",
     "output_type": "stream",
     "text": [
      "running motion mag for vid: 2005778_G_003.mp4\n",
      "video ../../deepfake_data/fb_dfd_release_0.1_final/original_videos_crops/2005778_G_003.mp4\n",
      "Iteration number is 259002\n",
      "Running in Dynamic mode\n"
     ]
    },
    {
     "name": "stderr",
     "output_type": "stream",
     "text": [
      "\n",
      "2005778_G_:  32%|███▏      | 8/25 [00:00<00:00, 38.00it/s]\u001b[A\n",
      "2005778_G_:  52%|█████▏    | 13/25 [00:00<00:00, 38.73it/s]\u001b[A\n",
      "2005778_G_:  72%|███████▏  | 18/25 [00:00<00:00, 39.21it/s]\u001b[A\n",
      "2005778_G_: 100%|██████████| 25/25 [00:00<00:00, 39.72it/s]\u001b[A\n",
      " 20%|█▉        | 199/1008 [02:56<11:38,  1.16it/s]\n",
      "804259_B_0:   0%|          | 0/25 [00:00<?, ?it/s]\u001b[A\n",
      "804259_B_0:  16%|█▌        | 4/25 [00:00<00:00, 39.44it/s]\u001b[A"
     ]
    },
    {
     "name": "stdout",
     "output_type": "stream",
     "text": [
      "running motion mag for vid: 804259_B_002.mp4\n",
      "video ../../deepfake_data/fb_dfd_release_0.1_final/original_videos_crops/804259_B_002.mp4\n",
      "Iteration number is 259002\n",
      "Running in Dynamic mode\n"
     ]
    },
    {
     "name": "stderr",
     "output_type": "stream",
     "text": [
      "\n",
      "804259_B_0:  36%|███▌      | 9/25 [00:00<00:00, 40.00it/s]\u001b[A\n",
      "804259_B_0:  52%|█████▏    | 13/25 [00:00<00:00, 39.63it/s]\u001b[A\n",
      "804259_B_0:  72%|███████▏  | 18/25 [00:00<00:00, 40.78it/s]\u001b[A\n",
      "804259_B_0: 100%|██████████| 25/25 [00:00<00:00, 39.67it/s]\u001b[A\n",
      " 20%|█▉        | 200/1008 [02:57<11:28,  1.17it/s]\n",
      "2040724_A_:   0%|          | 0/25 [00:00<?, ?it/s]\u001b[A\n",
      "2040724_A_:  16%|█▌        | 4/25 [00:00<00:00, 37.80it/s]\u001b[A"
     ]
    },
    {
     "name": "stdout",
     "output_type": "stream",
     "text": [
      "running motion mag for vid: 1782722_B_002.mp4\n",
      "video ../../deepfake_data/fb_dfd_release_0.1_final/original_videos_crops/1782722_B_002.mp4\n",
      "Exception found: 'NoneType' object has no attribute 'astype'\n",
      "running motion mag for vid: 2040724_A_003.mp4\n",
      "video ../../deepfake_data/fb_dfd_release_0.1_final/original_videos_crops/2040724_A_003.mp4\n",
      "Iteration number is 259002\n",
      "Running in Dynamic mode\n"
     ]
    },
    {
     "name": "stderr",
     "output_type": "stream",
     "text": [
      "\n",
      "2040724_A_:  36%|███▌      | 9/25 [00:00<00:00, 38.58it/s]\u001b[A\n",
      "2040724_A_:  52%|█████▏    | 13/25 [00:00<00:00, 38.38it/s]\u001b[A\n",
      "2040724_A_:  68%|██████▊   | 17/25 [00:00<00:00, 36.83it/s]\u001b[A\n",
      "2040724_A_: 100%|██████████| 25/25 [00:00<00:00, 39.13it/s]\u001b[A\n",
      " 20%|██        | 202/1008 [02:57<09:40,  1.39it/s]\n",
      "2076328_G_:   0%|          | 0/25 [00:00<?, ?it/s]\u001b[A\n",
      "2076328_G_:  20%|██        | 5/25 [00:00<00:00, 42.96it/s]\u001b[A"
     ]
    },
    {
     "name": "stdout",
     "output_type": "stream",
     "text": [
      "running motion mag for vid: 2076328_G_002.mp4\n",
      "video ../../deepfake_data/fb_dfd_release_0.1_final/original_videos_crops/2076328_G_002.mp4\n",
      "Iteration number is 259002\n",
      "Running in Dynamic mode\n"
     ]
    },
    {
     "name": "stderr",
     "output_type": "stream",
     "text": [
      "\n",
      "2076328_G_:  40%|████      | 10/25 [00:00<00:00, 43.47it/s]\u001b[A\n",
      "2076328_G_:  60%|██████    | 15/25 [00:00<00:00, 43.87it/s]\u001b[A"
     ]
    }
   ],
   "source": [
    "from tqdm import tqdm\n",
    "\n",
    "def run_motion_mag_all_folders(base_dirs, config_spec, config_file, mm_type='static'):\n",
    "    configspec = ConfigObj(config_spec, raise_errors=True)\n",
    "    config = ConfigObj(config_file,\n",
    "                       configspec=configspec,\n",
    "                       raise_errors=True,\n",
    "                       file_error=True)\n",
    "    \n",
    "    # Validate to get all the default values.\n",
    "    config.validate(Validator())\n",
    "    \n",
    "    network_type = 'ynet_3frames'\n",
    "    exp_name = '%s_%s' % (mm_type, os.path.basename(base_dirs[0]))\n",
    "    setproctitle.setproctitle(exp_name)\n",
    "    tfconfig = tf.ConfigProto(allow_soft_placement=True,\n",
    "                              log_device_placement=False)\n",
    "    tfconfig.gpu_options.allow_growth = True\n",
    "    \n",
    "    with tf.Session(config=tfconfig) as sess:\n",
    "        model = MagNet3Frames(sess, exp_name, config['architecture'])\n",
    "        checkpoint = '../deep_motion_mag/data/training/o3f_hmhm2_bg_qnoise_mix4_nl_n_t_ds3/checkpoint'\n",
    "        for bd in base_dirs:\n",
    "            print(\"Magnifying vids in\", bd)\n",
    "            for vid in tqdm(os.listdir(bd)):\n",
    "                if not os.path.isdir(os.path.join(bd,vid)):\n",
    "                    continue\n",
    "                print('running motion mag for vid:',vid)\n",
    "                input_folder = os.path.join(bd,vid)\n",
    "                output_folder = os.path.join(bd + '_mm' + mm_type, vid)\n",
    "                if os.path.isdir(output_folder):\n",
    "                    continue\n",
    "#                 os.makedirs(output_folder, exist_ok=True)\n",
    "                run_motion_mag_one_video(model, checkpoint, mm_type, input_folder, output_folder)\n",
    "            \n",
    "    \n",
    "def run_motion_mag_one_video(model, checkpoint, mm_type, video, output):\n",
    "    \n",
    "    print('video',video)\n",
    "    amplification_factor = 4\n",
    "    velocity_mag = True\n",
    "    fl = 0.5\n",
    "    fh = 1\n",
    "    fs = 30\n",
    "    n_filter_tap = 2 \n",
    "    filter_type = 'differenceOfIIR'\n",
    "    \n",
    "    try:\n",
    "        if mm_type == 'static':\n",
    "            model.run(checkpoint,\n",
    "                      video,\n",
    "                      'jpg',\n",
    "                      output,\n",
    "                      amplification_factor,\n",
    "                      velocity_mag)\n",
    "\n",
    "        elif mm_type == 'temporal':\n",
    "            model.run_temporal(checkpoint,\n",
    "                           video,\n",
    "                           'jpg',\n",
    "                           output,\n",
    "                           amplification_factor,\n",
    "                           fl,\n",
    "                           fh,\n",
    "                           fs,\n",
    "                           n_filter_tap,\n",
    "                           filter_type)\n",
    "    except Exception as err:\n",
    "        print(\"Exception found:\", err)\n",
    "        \n",
    "exp_name= 'o3f_hmhm2_bg_qnoise_mix4_nl_n_t_ds3'\n",
    "config_file = '../deep_motion_mag/configs/'+exp_name+'.conf'\n",
    "config_spec = '../deep_motion_mag/configs/configspec.conf'\n",
    "base_dirs = ['../../deepfake_data/fb_dfd_release_0.1_final/original_videos_crops']\n",
    "run_motion_mag_all_folders(base_dirs, config_spec, config_file, mm_type = 'static')"
   ]
  },
  {
   "cell_type": "markdown",
   "metadata": {},
   "source": [
    "# Face extraction"
   ]
  },
  {
   "cell_type": "code",
   "execution_count": null,
   "metadata": {},
   "outputs": [],
   "source": [
    "#----------------------------------------------\n",
    "#--- Author         : Ahmet Ozlu\n",
    "#--- Mail           : ahmetozlu93@gmail.com\n",
    "#--- Date           : 21st September 2017\n",
    "#----------------------------------------------\n",
    "\n",
    "import face_recognition\n",
    "import cv2\n",
    "import os\n",
    "import sys\n",
    "import matplotlib.pyplot as plt\n",
    "from multiprocessing import Pool\n",
    "import multiprocessing as mp\n",
    "import functools\n",
    "import ffmpeg\n",
    "\n",
    "sys.path.append(\"../face_recognition_crop/utils/\")\n",
    "# import create_csv\n",
    "\n",
    "\n",
    "def extract_face_from_vid(video, output_path='', m=0.3, show=False):\n",
    "\n",
    "    if not os.path.isdir(video):\n",
    "        # Open the input movie file\n",
    "        input_movie = cv2.VideoCapture(video)\n",
    "        length = int(input_movie.get(cv2.CAP_PROP_FRAME_COUNT))\n",
    "    else:\n",
    "        frame_list = [f for f in os.listdir(video) if f.endswith('.jpg')]\n",
    "\n",
    "    # Initialize some variables\n",
    "    frame_number = 0\n",
    "    current_path = os.getcwd()\n",
    "\n",
    "    while True:\n",
    "        # Grab next frame\n",
    "        if os.path.isdir(video):\n",
    "            if frame_number>=len(frame_list):\n",
    "                break\n",
    "            frame = cv2.imread(os.path.join(video, frame_list[frame_number]))\n",
    "        else:\n",
    "            # Grab a single frame of video\n",
    "            ret, frame = input_movie.read()\n",
    "\n",
    "            if not ret:\n",
    "                break\n",
    "                \n",
    "        frame_number += 1\n",
    "        \n",
    "        if not frame_number % 2: continue\n",
    "            \n",
    "        # Find all the faces and face encodings in the current frame of video\n",
    "        face_locations = face_recognition.face_locations(frame)\n",
    "        face_encodings = face_recognition.face_encodings(frame, face_locations)\n",
    "\n",
    "        # Label the results\n",
    "        for (top, right, bottom, left) in face_locations:\n",
    "\n",
    "            if m < 1:\n",
    "                margin = int((bottom-top)*m)\n",
    "            else:\n",
    "                margin = m\n",
    "            crop_img = frame[top-margin:bottom+margin, left-margin:right+margin]\n",
    "            os.makedirs(os.path.join(output_path, os.path.basename(video)), exist_ok=True)\n",
    "            cv2.imwrite(os.path.join(output_path, os.path.basename(video), '%05d.jpg' % (frame_number-1)), crop_img)\n",
    "\n",
    "        if show:\n",
    "            plt.imshow(crop_img[:,:,::-1])\n",
    "            plt.show()\n",
    "\n",
    "    # All done!\n",
    "    if not os.path.isdir(video): input_movie.release()\n",
    "#     create_csv.CreateCsv(current_path + \"/face_database/\")\n",
    "\n",
    "\n",
    "def extract_faces_parallel(video_root, output_path, num_threads=100):\n",
    "    \"\"\"Extracts faces from video in a parallel fashion.\"\"\"\n",
    "\n",
    "    videos = []\n",
    "    for r, d, f in os.walk(video_root):\n",
    "        for file in f:\n",
    "            if '.mp4' in file:\n",
    "                videos.append(os.path.join(r, file))\n",
    "#     print(videos)\n",
    "\n",
    "#     mp.set_start_method('spawn')\n",
    "    \n",
    "    func = functools.partial(extract_face_from_vid, output_path=output_path, m=0.3, show=False)\n",
    "    pool = Pool(num_threads)\n",
    "    pool.map(func, videos)\n",
    "    \n",
    "    \n",
    "def extract_faces(video_root, output_path):\n",
    "    videos = []\n",
    "    for r, d, f in os.walk(video_root):\n",
    "        for file in f:\n",
    "            if '.mp4' in file:\n",
    "                extract_face_from_vid(os.path.join(r, file), output_path=output_path)\n",
    "                \n",
    "extract_faces('../../deepfake_data/fb_dfd_release_0.1_final/method_A', \n",
    "                '../../deepfake_data/fb_dfd_release_0.1_final/method_A_crops')"
   ]
  },
  {
   "cell_type": "code",
   "execution_count": null,
   "metadata": {},
   "outputs": [],
   "source": [
    "from timeit import default_timer as timer\n",
    "\n",
    "start = timer()\n",
    "# extract_face_from_vid('../../deepfake_data/fb_dfd_release_0.1_final/method_A/1681757/1681757_D/2076328_1681757_D_001.mp4',\n",
    "#                      output_path='../../deepfake_data/fb_dfd_release_0.1_final/method_A_crops',show=True)\n",
    "\n",
    "extract_face_from_vid('../../deepfake_data/fb_dfd_release_0.1_final/method_A_frames/1974002_1061402_B_003.mp4',\n",
    "                     output_path='../../deepfake_data/fb_dfd_release_0.1_final/method_A_crops',show=False)\n",
    "\n",
    "end = timer()\n",
    "print(end-start)"
   ]
  },
  {
   "cell_type": "code",
   "execution_count": null,
   "metadata": {},
   "outputs": [],
   "source": [
    "from timeit import default_timer as timer\n",
    "\n",
    "start = timer()\n",
    "extract_face_from_vid('../../deepfake_data/fb_dfd_release_0.1_final/method_A/1061402/1061402_B/1974002_1061402_B_003.mp4',\n",
    "                     output_path='../../deepfake_data/fb_dfd_release_0.1_final/method_A_crops',show=False)\n",
    "end = timer()\n",
    "print(end-start)"
   ]
  },
  {
   "cell_type": "code",
   "execution_count": null,
   "metadata": {},
   "outputs": [],
   "source": [
    "import dlib.cuda as cuda\n",
    "print(cuda.get_num_devices())\n",
    "print(dlib.DLIB_USE_CUDA)"
   ]
  },
  {
   "cell_type": "code",
   "execution_count": null,
   "metadata": {},
   "outputs": [],
   "source": []
  }
 ],
 "metadata": {
  "kernelspec": {
   "display_name": "tf-python3",
   "language": "python",
   "name": "tf-python3"
  },
  "language_info": {
   "codemirror_mode": {
    "name": "ipython",
    "version": 3
   },
   "file_extension": ".py",
   "mimetype": "text/x-python",
   "name": "python",
   "nbconvert_exporter": "python",
   "pygments_lexer": "ipython3",
   "version": "3.5.2"
  }
 },
 "nbformat": 4,
 "nbformat_minor": 2
}
